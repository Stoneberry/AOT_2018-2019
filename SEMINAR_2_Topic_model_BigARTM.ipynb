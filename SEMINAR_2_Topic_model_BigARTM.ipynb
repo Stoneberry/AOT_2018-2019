{
  "nbformat": 4,
  "nbformat_minor": 0,
  "metadata": {
    "colab": {
      "name": "SEMINAR_2_Topic_model_BigARTM.ipynb",
      "version": "0.3.2",
      "provenance": []
    },
    "kernelspec": {
      "display_name": "Python 3",
      "language": "python",
      "name": "python3"
    }
  },
  "cells": [
    {
      "metadata": {
        "colab_type": "text",
        "id": "DGYYCeQh0YFl"
      },
      "cell_type": "markdown",
      "source": [
        "## Домашнее задание"
      ]
    },
    {
      "metadata": {
        "colab_type": "text",
        "id": "-Gg8h2Ek0YFl"
      },
      "cell_type": "markdown",
      "source": [
        "Основаная задача - **построить хорошую тематическую модель с интерпретируемыми топиками с помощью BigARTM**.\n",
        "\n",
        "1) сделайте нормализацию (если pymorphy2 работает долго используйте mystem или попробуйте установить быструю версию - `pip install pymorphy2[fast]`, можно использовать какой-то другой токенизатор) \n",
        "\n",
        "2) добавьте нграммы (в тетрадке есть закомменченая ячейка с Phrases, можно также попробовать другие способы построить нграммы); \n",
        "\n",
        "3) сохраните тексты .vw формате;\n",
        "\n",
        "4) сделайте хороший словарь (отфильтруйте слишком частотные и редкие слова, попробуйте удалить стоп-слова, сохраните словарь и посмотрите на него, вдруг что-то плохое сразу будет заметно - из словаря можно просто вручную или правилом удалять строки, при загрузке ничего не сломается); \n",
        "\n",
        "5) постройте несколько ARTM моделей (переберите количество тем, поменяйте значения tau у регуляризаторов), если получаются плохие темы, поработайте дополнительно над предобработкой и словарем; \n",
        "\n",
        "6) для самой хорошей модели в отдельной ячейке напечатайте 3 хороших (на ваш вкус) темы\n",
        "\n",
        "7) в другой ячейке нарисуйте график обучения этой модели \n",
        "\n",
        "8) в третьей ячейки опишите какие параметры (количество тем, регуляризаторы, их tau) вы использовали и как обучали (например, после скольки проходов добавили регуляризатор разрежнивания тем (Phi), добавляли ли разреженность документам (Theta) и когда, как повышали значения, сколько итерации модель продожала улучшаться (снижалась перплексия, росли другие метрики);\n",
        "\n",
        "Сохраните тетрадку с экспериментами и положите её на гитхаб, ссылку на неё укажите в форме.\n",
        "\n",
        "**Оцениваться будут главным образом пункты 6, 7 и 8. (3, 1, 4 баллов соответственно). Чтобы заработать остальные 2 балла, нужно хотя бы немного изменить мой код на промежуточных этапах (добавить что-то, указать другие параметры и т.д). **"
      ]
    },
    {
      "metadata": {
        "id": "XkznWKM52hz-",
        "colab_type": "code",
        "colab": {}
      },
      "cell_type": "code",
      "source": [
        ""
      ],
      "execution_count": 0,
      "outputs": []
    },
    {
      "metadata": {
        "id": "-Qh3rBBp2h0C",
        "colab_type": "text"
      },
      "cell_type": "markdown",
      "source": [
        "### Установка BigARTM\n",
        "Все точно как в инструкции на их сайте, только без установки питона и пипа."
      ]
    },
    {
      "metadata": {
        "colab_type": "code",
        "id": "onayCA5_0bOP",
        "outputId": "89749b2b-0ad5-4577-a2c0-18f853ece663",
        "colab": {
          "base_uri": "https://localhost:8080/",
          "height": 13229
        }
      },
      "cell_type": "code",
      "source": [
        "!apt-get --yes install git make cmake build-essential libboost-all-dev"
      ],
      "execution_count": 9,
      "outputs": [
        {
          "output_type": "stream",
          "text": [
            "Reading package lists... Done\n",
            "Building dependency tree       \n",
            "Reading state information... Done\n",
            "build-essential is already the newest version (12.4ubuntu1).\n",
            "make is already the newest version (4.1-9.1ubuntu1).\n",
            "make set to manually installed.\n",
            "git is already the newest version (1:2.17.1-1ubuntu0.3).\n",
            "The following additional packages will be installed:\n",
            "  autotools-dev cmake-data file ibverbs-providers libarchive13\n",
            "  libboost-atomic-dev libboost-atomic1.65-dev libboost-atomic1.65.1\n",
            "  libboost-chrono-dev libboost-chrono1.65-dev libboost-chrono1.65.1\n",
            "  libboost-container-dev libboost-container1.65-dev libboost-container1.65.1\n",
            "  libboost-context-dev libboost-context1.65-dev libboost-context1.65.1\n",
            "  libboost-coroutine-dev libboost-coroutine1.65-dev libboost-coroutine1.65.1\n",
            "  libboost-date-time-dev libboost-date-time1.65-dev libboost-date-time1.65.1\n",
            "  libboost-dev libboost-exception-dev libboost-exception1.65-dev\n",
            "  libboost-fiber-dev libboost-fiber1.65-dev libboost-fiber1.65.1\n",
            "  libboost-filesystem-dev libboost-filesystem1.65-dev\n",
            "  libboost-filesystem1.65.1 libboost-graph-dev libboost-graph-parallel-dev\n",
            "  libboost-graph-parallel1.65-dev libboost-graph-parallel1.65.1\n",
            "  libboost-graph1.65-dev libboost-graph1.65.1 libboost-iostreams-dev\n",
            "  libboost-iostreams1.65-dev libboost-iostreams1.65.1 libboost-locale-dev\n",
            "  libboost-locale1.65-dev libboost-locale1.65.1 libboost-log-dev\n",
            "  libboost-log1.65-dev libboost-log1.65.1 libboost-math-dev\n",
            "  libboost-math1.65-dev libboost-math1.65.1 libboost-mpi-dev\n",
            "  libboost-mpi-python-dev libboost-mpi-python1.65-dev\n",
            "  libboost-mpi-python1.65.1 libboost-mpi1.65-dev libboost-mpi1.65.1\n",
            "  libboost-numpy-dev libboost-numpy1.65-dev libboost-numpy1.65.1\n",
            "  libboost-program-options-dev libboost-program-options1.65-dev\n",
            "  libboost-program-options1.65.1 libboost-python-dev libboost-python1.65-dev\n",
            "  libboost-python1.65.1 libboost-random-dev libboost-random1.65-dev\n",
            "  libboost-random1.65.1 libboost-regex-dev libboost-regex1.65-dev\n",
            "  libboost-regex1.65.1 libboost-serialization-dev\n",
            "  libboost-serialization1.65-dev libboost-serialization1.65.1\n",
            "  libboost-signals-dev libboost-signals1.65-dev libboost-signals1.65.1\n",
            "  libboost-stacktrace-dev libboost-stacktrace1.65-dev\n",
            "  libboost-stacktrace1.65.1 libboost-system-dev libboost-system1.65-dev\n",
            "  libboost-system1.65.1 libboost-test-dev libboost-test1.65-dev\n",
            "  libboost-test1.65.1 libboost-thread-dev libboost-thread1.65-dev\n",
            "  libboost-thread1.65.1 libboost-timer-dev libboost-timer1.65-dev\n",
            "  libboost-timer1.65.1 libboost-tools-dev libboost-type-erasure-dev\n",
            "  libboost-type-erasure1.65-dev libboost-type-erasure1.65.1 libboost-wave-dev\n",
            "  libboost-wave1.65-dev libboost-wave1.65.1 libboost1.65-dev\n",
            "  libboost1.65-tools-dev libfabric1 libhwloc-dev libhwloc-plugins libhwloc5\n",
            "  libibverbs-dev libibverbs1 libjsoncpp1 libltdl-dev libltdl7 liblzo2-2\n",
            "  libmagic-mgc libmagic1 libnl-3-200 libnl-route-3-200 libnuma-dev libnuma1\n",
            "  libopenmpi-dev libopenmpi2 libpciaccess0 libpsm-infinipath1 librdmacm1\n",
            "  librhash0 libtool libuv1 mpi-default-bin mpi-default-dev ocl-icd-libopencl1\n",
            "  openmpi-bin openmpi-common\n",
            "Suggested packages:\n",
            "  cmake-doc ninja-build lrzip libboost-doc graphviz libboost1.65-doc gccxml\n",
            "  libmpfrc++-dev libntl-dev xsltproc doxygen docbook-xml docbook-xsl\n",
            "  default-jdk fop libhwloc-contrib-plugins libtool-doc openmpi-doc pciutils\n",
            "  autoconf automaken gcj-jdk\n",
            "The following NEW packages will be installed:\n",
            "  autotools-dev cmake cmake-data file ibverbs-providers libarchive13\n",
            "  libboost-all-dev libboost-atomic-dev libboost-atomic1.65-dev\n",
            "  libboost-atomic1.65.1 libboost-chrono-dev libboost-chrono1.65-dev\n",
            "  libboost-chrono1.65.1 libboost-container-dev libboost-container1.65-dev\n",
            "  libboost-container1.65.1 libboost-context-dev libboost-context1.65-dev\n",
            "  libboost-context1.65.1 libboost-coroutine-dev libboost-coroutine1.65-dev\n",
            "  libboost-coroutine1.65.1 libboost-date-time-dev libboost-date-time1.65-dev\n",
            "  libboost-date-time1.65.1 libboost-dev libboost-exception-dev\n",
            "  libboost-exception1.65-dev libboost-fiber-dev libboost-fiber1.65-dev\n",
            "  libboost-fiber1.65.1 libboost-filesystem-dev libboost-filesystem1.65-dev\n",
            "  libboost-filesystem1.65.1 libboost-graph-dev libboost-graph-parallel-dev\n",
            "  libboost-graph-parallel1.65-dev libboost-graph-parallel1.65.1\n",
            "  libboost-graph1.65-dev libboost-graph1.65.1 libboost-iostreams-dev\n",
            "  libboost-iostreams1.65-dev libboost-iostreams1.65.1 libboost-locale-dev\n",
            "  libboost-locale1.65-dev libboost-locale1.65.1 libboost-log-dev\n",
            "  libboost-log1.65-dev libboost-log1.65.1 libboost-math-dev\n",
            "  libboost-math1.65-dev libboost-math1.65.1 libboost-mpi-dev\n",
            "  libboost-mpi-python-dev libboost-mpi-python1.65-dev\n",
            "  libboost-mpi-python1.65.1 libboost-mpi1.65-dev libboost-mpi1.65.1\n",
            "  libboost-numpy-dev libboost-numpy1.65-dev libboost-numpy1.65.1\n",
            "  libboost-program-options-dev libboost-program-options1.65-dev\n",
            "  libboost-program-options1.65.1 libboost-python-dev libboost-python1.65-dev\n",
            "  libboost-python1.65.1 libboost-random-dev libboost-random1.65-dev\n",
            "  libboost-random1.65.1 libboost-regex-dev libboost-regex1.65-dev\n",
            "  libboost-regex1.65.1 libboost-serialization-dev\n",
            "  libboost-serialization1.65-dev libboost-serialization1.65.1\n",
            "  libboost-signals-dev libboost-signals1.65-dev libboost-signals1.65.1\n",
            "  libboost-stacktrace-dev libboost-stacktrace1.65-dev\n",
            "  libboost-stacktrace1.65.1 libboost-system-dev libboost-system1.65-dev\n",
            "  libboost-system1.65.1 libboost-test-dev libboost-test1.65-dev\n",
            "  libboost-test1.65.1 libboost-thread-dev libboost-thread1.65-dev\n",
            "  libboost-thread1.65.1 libboost-timer-dev libboost-timer1.65-dev\n",
            "  libboost-timer1.65.1 libboost-tools-dev libboost-type-erasure-dev\n",
            "  libboost-type-erasure1.65-dev libboost-type-erasure1.65.1 libboost-wave-dev\n",
            "  libboost-wave1.65-dev libboost-wave1.65.1 libboost1.65-dev\n",
            "  libboost1.65-tools-dev libfabric1 libhwloc-dev libhwloc-plugins libhwloc5\n",
            "  libibverbs-dev libibverbs1 libjsoncpp1 libltdl-dev libltdl7 liblzo2-2\n",
            "  libmagic-mgc libmagic1 libnl-3-200 libnl-route-3-200 libnuma-dev libnuma1\n",
            "  libopenmpi-dev libopenmpi2 libpciaccess0 libpsm-infinipath1 librdmacm1\n",
            "  librhash0 libtool libuv1 mpi-default-bin mpi-default-dev ocl-icd-libopencl1\n",
            "  openmpi-bin openmpi-common\n",
            "0 upgraded, 132 newly installed, 0 to remove and 5 not upgraded.\n",
            "Need to get 25.3 MB of archives.\n",
            "After this operation, 236 MB of additional disk space will be used.\n",
            "Get:1 http://archive.ubuntu.com/ubuntu bionic/main amd64 liblzo2-2 amd64 2.08-1.2 [48.7 kB]\n",
            "Get:2 http://archive.ubuntu.com/ubuntu bionic-updates/main amd64 libmagic-mgc amd64 1:5.32-2ubuntu0.1 [184 kB]\n",
            "Get:3 http://archive.ubuntu.com/ubuntu bionic-updates/main amd64 libmagic1 amd64 1:5.32-2ubuntu0.1 [68.4 kB]\n",
            "Get:4 http://archive.ubuntu.com/ubuntu bionic-updates/main amd64 file amd64 1:5.32-2ubuntu0.1 [22.1 kB]\n",
            "Get:5 http://archive.ubuntu.com/ubuntu bionic/main amd64 libnuma1 amd64 2.0.11-2.1 [21.6 kB]\n",
            "Get:6 http://archive.ubuntu.com/ubuntu bionic/main amd64 autotools-dev all 20180224.1 [39.6 kB]\n",
            "Get:7 http://archive.ubuntu.com/ubuntu bionic/main amd64 cmake-data all 3.10.2-1ubuntu2 [1,331 kB]\n",
            "Get:8 http://archive.ubuntu.com/ubuntu bionic-updates/main amd64 libarchive13 amd64 3.2.2-3.1ubuntu0.1 [289 kB]\n",
            "Get:9 http://archive.ubuntu.com/ubuntu bionic/main amd64 libjsoncpp1 amd64 1.7.4-3 [73.6 kB]\n",
            "Get:10 http://archive.ubuntu.com/ubuntu bionic/main amd64 librhash0 amd64 1.3.6-2 [78.1 kB]\n",
            "Get:11 http://archive.ubuntu.com/ubuntu bionic/main amd64 libuv1 amd64 1.18.0-3 [64.4 kB]\n",
            "Get:12 http://archive.ubuntu.com/ubuntu bionic/main amd64 cmake amd64 3.10.2-1ubuntu2 [3,138 kB]\n",
            "Get:13 http://archive.ubuntu.com/ubuntu bionic/main amd64 libnl-3-200 amd64 3.2.29-0ubuntu3 [52.8 kB]\n",
            "Get:14 http://archive.ubuntu.com/ubuntu bionic/main amd64 libnl-route-3-200 amd64 3.2.29-0ubuntu3 [146 kB]\n",
            "Get:15 http://archive.ubuntu.com/ubuntu bionic/main amd64 libibverbs1 amd64 17.1-1 [44.4 kB]\n",
            "Get:16 http://archive.ubuntu.com/ubuntu bionic/main amd64 ibverbs-providers amd64 17.1-1 [160 kB]\n",
            "Get:17 http://archive.ubuntu.com/ubuntu bionic/main amd64 libboost1.65-dev amd64 1.65.1+dfsg-0ubuntu5 [7,218 kB]\n",
            "Get:18 http://archive.ubuntu.com/ubuntu bionic/main amd64 libboost-dev amd64 1.65.1.0ubuntu1 [3,128 B]\n",
            "Get:19 http://archive.ubuntu.com/ubuntu bionic/main amd64 libboost1.65-tools-dev amd64 1.65.1+dfsg-0ubuntu5 [1,222 kB]\n",
            "Get:20 http://archive.ubuntu.com/ubuntu bionic/universe amd64 libboost-tools-dev amd64 1.65.1.0ubuntu1 [3,096 B]\n",
            "Get:21 http://archive.ubuntu.com/ubuntu bionic/main amd64 libboost-atomic1.65.1 amd64 1.65.1+dfsg-0ubuntu5 [7,268 B]\n",
            "Get:22 http://archive.ubuntu.com/ubuntu bionic/main amd64 libboost-atomic1.65-dev amd64 1.65.1+dfsg-0ubuntu5 [5,160 B]\n",
            "Get:23 http://archive.ubuntu.com/ubuntu bionic/universe amd64 libboost-atomic-dev amd64 1.65.1.0ubuntu1 [3,224 B]\n",
            "Get:24 http://archive.ubuntu.com/ubuntu bionic/main amd64 libboost-system1.65.1 amd64 1.65.1+dfsg-0ubuntu5 [10.5 kB]\n",
            "Get:25 http://archive.ubuntu.com/ubuntu bionic/main amd64 libboost-chrono1.65.1 amd64 1.65.1+dfsg-0ubuntu5 [10.2 kB]\n",
            "Get:26 http://archive.ubuntu.com/ubuntu bionic/main amd64 libboost-chrono1.65-dev amd64 1.65.1+dfsg-0ubuntu5 [9,804 B]\n",
            "Get:27 http://archive.ubuntu.com/ubuntu bionic/universe amd64 libboost-chrono-dev amd64 1.65.1.0ubuntu1 [3,544 B]\n",
            "Get:28 http://archive.ubuntu.com/ubuntu bionic/universe amd64 libboost-container1.65.1 amd64 1.65.1+dfsg-0ubuntu5 [43.4 kB]\n",
            "Get:29 http://archive.ubuntu.com/ubuntu bionic/universe amd64 libboost-container1.65-dev amd64 1.65.1+dfsg-0ubuntu5 [41.7 kB]\n",
            "Get:30 http://archive.ubuntu.com/ubuntu bionic/universe amd64 libboost-container-dev amd64 1.65.1.0ubuntu1 [3,400 B]\n",
            "Get:31 http://archive.ubuntu.com/ubuntu bionic/universe amd64 libboost-context1.65.1 amd64 1.65.1+dfsg-0ubuntu5 [8,336 B]\n",
            "Get:32 http://archive.ubuntu.com/ubuntu bionic/universe amd64 libboost-context1.65-dev amd64 1.65.1+dfsg-0ubuntu5 [6,364 B]\n",
            "Get:33 http://archive.ubuntu.com/ubuntu bionic/universe amd64 libboost-context-dev amd64 1.65.1.0ubuntu1 [3,120 B]\n",
            "Get:34 http://archive.ubuntu.com/ubuntu bionic/main amd64 libboost-thread1.65.1 amd64 1.65.1+dfsg-0ubuntu5 [43.2 kB]\n",
            "Get:35 http://archive.ubuntu.com/ubuntu bionic/universe amd64 libboost-coroutine1.65.1 amd64 1.65.1+dfsg-0ubuntu5 [22.6 kB]\n",
            "Get:36 http://archive.ubuntu.com/ubuntu bionic/universe amd64 libboost-coroutine1.65-dev amd64 1.65.1+dfsg-0ubuntu5 [24.2 kB]\n",
            "Get:37 http://archive.ubuntu.com/ubuntu bionic/universe amd64 libboost-coroutine-dev amd64 1.65.1.0ubuntu1 [3,196 B]\n",
            "Get:38 http://archive.ubuntu.com/ubuntu bionic/main amd64 libboost-date-time1.65.1 amd64 1.65.1+dfsg-0ubuntu5 [20.5 kB]\n",
            "Get:39 http://archive.ubuntu.com/ubuntu bionic/main amd64 libboost-serialization1.65.1 amd64 1.65.1+dfsg-0ubuntu5 [99.3 kB]\n",
            "Get:40 http://archive.ubuntu.com/ubuntu bionic/main amd64 libboost-serialization1.65-dev amd64 1.65.1+dfsg-0ubuntu5 [137 kB]\n",
            "Get:41 http://archive.ubuntu.com/ubuntu bionic/main amd64 libboost-date-time1.65-dev amd64 1.65.1+dfsg-0ubuntu5 [26.7 kB]\n",
            "Get:42 http://archive.ubuntu.com/ubuntu bionic/universe amd64 libboost-date-time-dev amd64 1.65.1.0ubuntu1 [2,924 B]\n",
            "Get:43 http://archive.ubuntu.com/ubuntu bionic/universe amd64 libboost-exception1.65-dev amd64 1.65.1+dfsg-0ubuntu5 [4,580 B]\n",
            "Get:44 http://archive.ubuntu.com/ubuntu bionic/universe amd64 libboost-exception-dev amd64 1.65.1.0ubuntu1 [2,916 B]\n",
            "Get:45 http://archive.ubuntu.com/ubuntu bionic/main amd64 libboost-filesystem1.65.1 amd64 1.65.1+dfsg-0ubuntu5 [40.3 kB]\n",
            "Get:46 http://archive.ubuntu.com/ubuntu bionic/universe amd64 libboost-fiber1.65.1 amd64 1.65.1+dfsg-0ubuntu5 [108 kB]\n",
            "Get:47 http://archive.ubuntu.com/ubuntu bionic/universe amd64 libboost-fiber1.65-dev amd64 1.65.1+dfsg-0ubuntu5 [121 kB]\n",
            "Get:48 http://archive.ubuntu.com/ubuntu bionic/universe amd64 libboost-fiber-dev amd64 1.65.1.0ubuntu1 [3,348 B]\n",
            "Get:49 http://archive.ubuntu.com/ubuntu bionic/main amd64 libboost-system1.65-dev amd64 1.65.1+dfsg-0ubuntu5 [11.8 kB]\n",
            "Get:50 http://archive.ubuntu.com/ubuntu bionic/main amd64 libboost-filesystem1.65-dev amd64 1.65.1+dfsg-0ubuntu5 [52.1 kB]\n",
            "Get:51 http://archive.ubuntu.com/ubuntu bionic/main amd64 libboost-filesystem-dev amd64 1.65.1.0ubuntu1 [2,960 B]\n",
            "Get:52 http://archive.ubuntu.com/ubuntu bionic/universe amd64 libboost-regex1.65.1 amd64 1.65.1+dfsg-0ubuntu5 [259 kB]\n",
            "Get:53 http://archive.ubuntu.com/ubuntu bionic/universe amd64 libboost-graph1.65.1 amd64 1.65.1+dfsg-0ubuntu5 [93.4 kB]\n",
            "Get:54 http://archive.ubuntu.com/ubuntu bionic/universe amd64 libboost-test1.65.1 amd64 1.65.1+dfsg-0ubuntu5 [240 kB]\n",
            "Get:55 http://archive.ubuntu.com/ubuntu bionic/universe amd64 libboost-test1.65-dev amd64 1.65.1+dfsg-0ubuntu5 [289 kB]\n",
            "Get:56 http://archive.ubuntu.com/ubuntu bionic/universe amd64 libboost-graph1.65-dev amd64 1.65.1+dfsg-0ubuntu5 [102 kB]\n",
            "Get:57 http://archive.ubuntu.com/ubuntu bionic/universe amd64 libboost-graph-dev amd64 1.65.1.0ubuntu1 [3,024 B]\n",
            "Get:58 http://archive.ubuntu.com/ubuntu bionic/universe amd64 libpsm-infinipath1 amd64 3.3+20.604758e7-5 [174 kB]\n",
            "Get:59 http://archive.ubuntu.com/ubuntu bionic/main amd64 librdmacm1 amd64 17.1-1 [56.1 kB]\n",
            "Get:60 http://archive.ubuntu.com/ubuntu bionic/universe amd64 libfabric1 amd64 1.5.3-1 [302 kB]\n",
            "Get:61 http://archive.ubuntu.com/ubuntu bionic/main amd64 libltdl7 amd64 2.4.6-2 [38.8 kB]\n",
            "Get:62 http://archive.ubuntu.com/ubuntu bionic/universe amd64 libhwloc5 amd64 1.11.9-1 [105 kB]\n",
            "Get:63 http://archive.ubuntu.com/ubuntu bionic/main amd64 libpciaccess0 amd64 0.14-1 [17.9 kB]\n",
            "Get:64 http://archive.ubuntu.com/ubuntu bionic/main amd64 ocl-icd-libopencl1 amd64 2.2.11-1ubuntu1 [30.3 kB]\n",
            "Get:65 http://archive.ubuntu.com/ubuntu bionic/universe amd64 libhwloc-plugins amd64 1.11.9-1 [12.5 kB]\n",
            "Get:66 http://archive.ubuntu.com/ubuntu bionic/universe amd64 libopenmpi2 amd64 2.1.1-8 [2,056 kB]\n",
            "Get:67 http://archive.ubuntu.com/ubuntu bionic/universe amd64 libboost-mpi1.65.1 amd64 1.65.1+dfsg-0ubuntu5 [47.0 kB]\n",
            "Get:68 http://archive.ubuntu.com/ubuntu bionic/universe amd64 libboost-graph-parallel1.65.1 amd64 1.65.1+dfsg-0ubuntu5 [62.3 kB]\n",
            "Get:69 http://archive.ubuntu.com/ubuntu bionic/universe amd64 libboost-graph-parallel1.65-dev amd64 1.65.1+dfsg-0ubuntu5 [64.5 kB]\n",
            "Get:70 http://archive.ubuntu.com/ubuntu bionic/universe amd64 libboost-graph-parallel-dev amd64 1.65.1.0ubuntu1 [3,056 B]\n",
            "Get:71 http://archive.ubuntu.com/ubuntu bionic/universe amd64 libboost-regex1.65-dev amd64 1.65.1+dfsg-0ubuntu5 [312 kB]\n",
            "Get:72 http://archive.ubuntu.com/ubuntu bionic/main amd64 libboost-iostreams1.65.1 amd64 1.65.1+dfsg-0ubuntu5 [29.2 kB]\n",
            "Get:73 http://archive.ubuntu.com/ubuntu bionic/universe amd64 libboost-iostreams1.65-dev amd64 1.65.1+dfsg-0ubuntu5 [37.0 kB]\n",
            "Get:74 http://archive.ubuntu.com/ubuntu bionic/universe amd64 libboost-iostreams-dev amd64 1.65.1.0ubuntu1 [2,916 B]\n",
            "Get:75 http://archive.ubuntu.com/ubuntu bionic/main amd64 libboost-locale1.65.1 amd64 1.65.1+dfsg-0ubuntu5 [241 kB]\n",
            "Get:76 http://archive.ubuntu.com/ubuntu bionic/universe amd64 libboost-locale1.65-dev amd64 1.65.1+dfsg-0ubuntu5 [329 kB]\n",
            "Get:77 http://archive.ubuntu.com/ubuntu bionic/universe amd64 libboost-locale-dev amd64 1.65.1.0ubuntu1 [3,248 B]\n",
            "Get:78 http://archive.ubuntu.com/ubuntu bionic/universe amd64 libboost-log1.65.1 amd64 1.65.1+dfsg-0ubuntu5 [384 kB]\n",
            "Get:79 http://archive.ubuntu.com/ubuntu bionic/main amd64 libboost-thread1.65-dev amd64 1.65.1+dfsg-0ubuntu5 [49.0 kB]\n",
            "Get:80 http://archive.ubuntu.com/ubuntu bionic/universe amd64 libboost-log1.65-dev amd64 1.65.1+dfsg-0ubuntu5 [553 kB]\n",
            "Get:81 http://archive.ubuntu.com/ubuntu bionic/universe amd64 libboost-log-dev amd64 1.65.1.0ubuntu1 [3,124 B]\n",
            "Get:82 http://archive.ubuntu.com/ubuntu bionic/universe amd64 libboost-math1.65.1 amd64 1.65.1+dfsg-0ubuntu5 [311 kB]\n",
            "Get:83 http://archive.ubuntu.com/ubuntu bionic/universe amd64 libboost-math1.65-dev amd64 1.65.1+dfsg-0ubuntu5 [560 kB]\n",
            "Get:84 http://archive.ubuntu.com/ubuntu bionic/universe amd64 libboost-math-dev amd64 1.65.1.0ubuntu1 [3,112 B]\n",
            "Get:85 http://archive.ubuntu.com/ubuntu bionic/universe amd64 openmpi-common all 2.1.1-8 [140 kB]\n",
            "Get:86 http://archive.ubuntu.com/ubuntu bionic/main amd64 libibverbs-dev amd64 17.1-1 [103 kB]\n",
            "Get:87 http://archive.ubuntu.com/ubuntu bionic/main amd64 libnuma-dev amd64 2.0.11-2.1 [32.2 kB]\n",
            "Get:88 http://archive.ubuntu.com/ubuntu bionic/main amd64 libltdl-dev amd64 2.4.6-2 [162 kB]\n",
            "Get:89 http://archive.ubuntu.com/ubuntu bionic/universe amd64 libhwloc-dev amd64 1.11.9-1 [167 kB]\n",
            "Get:90 http://archive.ubuntu.com/ubuntu bionic/universe amd64 libopenmpi-dev amd64 2.1.1-8 [925 kB]\n",
            "Get:91 http://archive.ubuntu.com/ubuntu bionic/universe amd64 mpi-default-dev amd64 1.10 [3,888 B]\n",
            "Get:92 http://archive.ubuntu.com/ubuntu bionic/universe amd64 libboost-mpi1.65-dev amd64 1.65.1+dfsg-0ubuntu5 [137 kB]\n",
            "Get:93 http://archive.ubuntu.com/ubuntu bionic/universe amd64 libboost-mpi-dev amd64 1.65.1.0ubuntu1 [3,004 B]\n",
            "Get:94 http://archive.ubuntu.com/ubuntu bionic/universe amd64 libboost-python1.65.1 amd64 1.65.1+dfsg-0ubuntu5 [101 kB]\n",
            "Get:95 http://archive.ubuntu.com/ubuntu bionic/universe amd64 openmpi-bin amd64 2.1.1-8 [88.2 kB]\n",
            "Get:96 http://archive.ubuntu.com/ubuntu bionic/universe amd64 mpi-default-bin amd64 1.10 [3,108 B]\n",
            "Get:97 http://archive.ubuntu.com/ubuntu bionic/universe amd64 libboost-mpi-python1.65.1 amd64 1.65.1+dfsg-0ubuntu5 [214 kB]\n",
            "Get:98 http://archive.ubuntu.com/ubuntu bionic/universe amd64 libboost-mpi-python1.65-dev amd64 1.65.1+dfsg-0ubuntu5 [24.7 kB]\n",
            "Get:99 http://archive.ubuntu.com/ubuntu bionic/universe amd64 libboost-mpi-python-dev amd64 1.65.1.0ubuntu1 [3,040 B]\n",
            "Get:100 http://archive.ubuntu.com/ubuntu bionic/universe amd64 libboost-numpy1.65.1 amd64 1.65.1+dfsg-0ubuntu5 [17.4 kB]\n",
            "Get:101 http://archive.ubuntu.com/ubuntu bionic/universe amd64 libboost-numpy1.65-dev amd64 1.65.1+dfsg-0ubuntu5 [17.4 kB]\n",
            "Get:102 http://archive.ubuntu.com/ubuntu bionic/universe amd64 libboost-numpy-dev amd64 1.65.1.0ubuntu1 [2,960 B]\n",
            "Get:103 http://archive.ubuntu.com/ubuntu bionic/main amd64 libboost-program-options1.65.1 amd64 1.65.1+dfsg-0ubuntu5 [137 kB]\n",
            "Get:104 http://archive.ubuntu.com/ubuntu bionic/main amd64 libboost-program-options1.65-dev amd64 1.65.1+dfsg-0ubuntu5 [163 kB]\n",
            "Get:105 http://archive.ubuntu.com/ubuntu bionic/main amd64 libboost-program-options-dev amd64 1.65.1.0ubuntu1 [2,940 B]\n",
            "Get:106 http://archive.ubuntu.com/ubuntu bionic/universe amd64 libboost-python1.65-dev amd64 1.65.1+dfsg-0ubuntu5 [103 kB]\n",
            "Get:107 http://archive.ubuntu.com/ubuntu bionic/universe amd64 libboost-python-dev amd64 1.65.1.0ubuntu1 [3,216 B]\n",
            "Get:108 http://archive.ubuntu.com/ubuntu bionic/universe amd64 libboost-random1.65.1 amd64 1.65.1+dfsg-0ubuntu5 [12.8 kB]\n",
            "Get:109 http://archive.ubuntu.com/ubuntu bionic/universe amd64 libboost-random1.65-dev amd64 1.65.1+dfsg-0ubuntu5 [12.4 kB]\n",
            "Get:110 http://archive.ubuntu.com/ubuntu bionic/universe amd64 libboost-random-dev amd64 1.65.1.0ubuntu1 [2,924 B]\n",
            "Get:111 http://archive.ubuntu.com/ubuntu bionic/universe amd64 libboost-regex-dev amd64 1.65.1.0ubuntu1 [3,184 B]\n",
            "Get:112 http://archive.ubuntu.com/ubuntu bionic/universe amd64 libboost-serialization-dev amd64 1.65.1.0ubuntu1 [3,144 B]\n",
            "Get:113 http://archive.ubuntu.com/ubuntu bionic/universe amd64 libboost-signals1.65.1 amd64 1.65.1+dfsg-0ubuntu5 [30.6 kB]\n",
            "Get:114 http://archive.ubuntu.com/ubuntu bionic/universe amd64 libboost-signals1.65-dev amd64 1.65.1+dfsg-0ubuntu5 [33.1 kB]\n",
            "Get:115 http://archive.ubuntu.com/ubuntu bionic/universe amd64 libboost-signals-dev amd64 1.65.1.0ubuntu1 [2,996 B]\n",
            "Get:116 http://archive.ubuntu.com/ubuntu bionic/universe amd64 libboost-stacktrace1.65.1 amd64 1.65.1+dfsg-0ubuntu5 [49.1 kB]\n",
            "Get:117 http://archive.ubuntu.com/ubuntu bionic/universe amd64 libboost-stacktrace1.65-dev amd64 1.65.1+dfsg-0ubuntu5 [25.9 kB]\n",
            "Get:118 http://archive.ubuntu.com/ubuntu bionic/universe amd64 libboost-stacktrace-dev amd64 1.65.1.0ubuntu1 [2,924 B]\n",
            "Get:119 http://archive.ubuntu.com/ubuntu bionic/main amd64 libboost-system-dev amd64 1.65.1.0ubuntu1 [3,060 B]\n",
            "Get:120 http://archive.ubuntu.com/ubuntu bionic/universe amd64 libboost-test-dev amd64 1.65.1.0ubuntu1 [2,960 B]\n",
            "Get:121 http://archive.ubuntu.com/ubuntu bionic/main amd64 libboost-thread-dev amd64 1.65.1.0ubuntu1 [2,948 B]\n",
            "Get:122 http://archive.ubuntu.com/ubuntu bionic/universe amd64 libboost-timer1.65.1 amd64 1.65.1+dfsg-0ubuntu5 [11.9 kB]\n",
            "Get:123 http://archive.ubuntu.com/ubuntu bionic/universe amd64 libboost-timer1.65-dev amd64 1.65.1+dfsg-0ubuntu5 [11.8 kB]\n",
            "Get:124 http://archive.ubuntu.com/ubuntu bionic/universe amd64 libboost-timer-dev amd64 1.65.1.0ubuntu1 [3,044 B]\n",
            "Get:125 http://archive.ubuntu.com/ubuntu bionic/universe amd64 libboost-type-erasure1.65.1 amd64 1.65.1+dfsg-0ubuntu5 [20.7 kB]\n",
            "Get:126 http://archive.ubuntu.com/ubuntu bionic/universe amd64 libboost-type-erasure1.65-dev amd64 1.65.1+dfsg-0ubuntu5 [20.1 kB]\n",
            "Get:127 http://archive.ubuntu.com/ubuntu bionic/universe amd64 libboost-type-erasure-dev amd64 1.65.1.0ubuntu1 [3,024 B]\n",
            "Get:128 http://archive.ubuntu.com/ubuntu bionic/universe amd64 libboost-wave1.65.1 amd64 1.65.1+dfsg-0ubuntu5 [178 kB]\n",
            "Get:129 http://archive.ubuntu.com/ubuntu bionic/universe amd64 libboost-wave1.65-dev amd64 1.65.1+dfsg-0ubuntu5 [234 kB]\n",
            "Get:130 http://archive.ubuntu.com/ubuntu bionic/universe amd64 libboost-wave-dev amd64 1.65.1.0ubuntu1 [2,952 B]\n",
            "Get:131 http://archive.ubuntu.com/ubuntu bionic/universe amd64 libboost-all-dev amd64 1.65.1.0ubuntu1 [2,340 B]\n",
            "Get:132 http://archive.ubuntu.com/ubuntu bionic/main amd64 libtool all 2.4.6-2 [194 kB]\n",
            "Fetched 25.3 MB in 3s (7,438 kB/s)\n",
            "Extracting templates from packages: 100%\n",
            "Selecting previously unselected package liblzo2-2:amd64.\n",
            "(Reading database ... 22298 files and directories currently installed.)\n",
            "Preparing to unpack .../000-liblzo2-2_2.08-1.2_amd64.deb ...\n",
            "Unpacking liblzo2-2:amd64 (2.08-1.2) ...\n",
            "Selecting previously unselected package libmagic-mgc.\n",
            "Preparing to unpack .../001-libmagic-mgc_1%3a5.32-2ubuntu0.1_amd64.deb ...\n",
            "Unpacking libmagic-mgc (1:5.32-2ubuntu0.1) ...\n",
            "Selecting previously unselected package libmagic1:amd64.\n",
            "Preparing to unpack .../002-libmagic1_1%3a5.32-2ubuntu0.1_amd64.deb ...\n",
            "Unpacking libmagic1:amd64 (1:5.32-2ubuntu0.1) ...\n",
            "Selecting previously unselected package file.\n",
            "Preparing to unpack .../003-file_1%3a5.32-2ubuntu0.1_amd64.deb ...\n",
            "Unpacking file (1:5.32-2ubuntu0.1) ...\n",
            "Selecting previously unselected package libnuma1:amd64.\n",
            "Preparing to unpack .../004-libnuma1_2.0.11-2.1_amd64.deb ...\n",
            "Unpacking libnuma1:amd64 (2.0.11-2.1) ...\n",
            "Selecting previously unselected package autotools-dev.\n",
            "Preparing to unpack .../005-autotools-dev_20180224.1_all.deb ...\n",
            "Unpacking autotools-dev (20180224.1) ...\n",
            "Selecting previously unselected package cmake-data.\n",
            "Preparing to unpack .../006-cmake-data_3.10.2-1ubuntu2_all.deb ...\n",
            "Unpacking cmake-data (3.10.2-1ubuntu2) ...\n",
            "Selecting previously unselected package libarchive13:amd64.\n",
            "Preparing to unpack .../007-libarchive13_3.2.2-3.1ubuntu0.1_amd64.deb ...\n",
            "Unpacking libarchive13:amd64 (3.2.2-3.1ubuntu0.1) ...\n",
            "Selecting previously unselected package libjsoncpp1:amd64.\n",
            "Preparing to unpack .../008-libjsoncpp1_1.7.4-3_amd64.deb ...\n",
            "Unpacking libjsoncpp1:amd64 (1.7.4-3) ...\n",
            "Selecting previously unselected package librhash0:amd64.\n",
            "Preparing to unpack .../009-librhash0_1.3.6-2_amd64.deb ...\n",
            "Unpacking librhash0:amd64 (1.3.6-2) ...\n",
            "Selecting previously unselected package libuv1:amd64.\n",
            "Preparing to unpack .../010-libuv1_1.18.0-3_amd64.deb ...\n",
            "Unpacking libuv1:amd64 (1.18.0-3) ...\n",
            "Selecting previously unselected package cmake.\n",
            "Preparing to unpack .../011-cmake_3.10.2-1ubuntu2_amd64.deb ...\n",
            "Unpacking cmake (3.10.2-1ubuntu2) ...\n",
            "Selecting previously unselected package libnl-3-200:amd64.\n",
            "Preparing to unpack .../012-libnl-3-200_3.2.29-0ubuntu3_amd64.deb ...\n",
            "Unpacking libnl-3-200:amd64 (3.2.29-0ubuntu3) ...\n",
            "Selecting previously unselected package libnl-route-3-200:amd64.\n",
            "Preparing to unpack .../013-libnl-route-3-200_3.2.29-0ubuntu3_amd64.deb ...\n",
            "Unpacking libnl-route-3-200:amd64 (3.2.29-0ubuntu3) ...\n",
            "Selecting previously unselected package libibverbs1:amd64.\n",
            "Preparing to unpack .../014-libibverbs1_17.1-1_amd64.deb ...\n",
            "Unpacking libibverbs1:amd64 (17.1-1) ...\n",
            "Selecting previously unselected package ibverbs-providers:amd64.\n",
            "Preparing to unpack .../015-ibverbs-providers_17.1-1_amd64.deb ...\n",
            "Unpacking ibverbs-providers:amd64 (17.1-1) ...\n",
            "Selecting previously unselected package libboost1.65-dev:amd64.\n",
            "Preparing to unpack .../016-libboost1.65-dev_1.65.1+dfsg-0ubuntu5_amd64.deb ...\n",
            "Unpacking libboost1.65-dev:amd64 (1.65.1+dfsg-0ubuntu5) ...\n",
            "Selecting previously unselected package libboost-dev:amd64.\n",
            "Preparing to unpack .../017-libboost-dev_1.65.1.0ubuntu1_amd64.deb ...\n",
            "Unpacking libboost-dev:amd64 (1.65.1.0ubuntu1) ...\n",
            "Selecting previously unselected package libboost1.65-tools-dev.\n",
            "Preparing to unpack .../018-libboost1.65-tools-dev_1.65.1+dfsg-0ubuntu5_amd64.deb ...\n",
            "Unpacking libboost1.65-tools-dev (1.65.1+dfsg-0ubuntu5) ...\n",
            "Selecting previously unselected package libboost-tools-dev.\n",
            "Preparing to unpack .../019-libboost-tools-dev_1.65.1.0ubuntu1_amd64.deb ...\n",
            "Unpacking libboost-tools-dev (1.65.1.0ubuntu1) ...\n",
            "Selecting previously unselected package libboost-atomic1.65.1:amd64.\n",
            "Preparing to unpack .../020-libboost-atomic1.65.1_1.65.1+dfsg-0ubuntu5_amd64.deb ...\n",
            "Unpacking libboost-atomic1.65.1:amd64 (1.65.1+dfsg-0ubuntu5) ...\n",
            "Selecting previously unselected package libboost-atomic1.65-dev:amd64.\n",
            "Preparing to unpack .../021-libboost-atomic1.65-dev_1.65.1+dfsg-0ubuntu5_amd64.deb ...\n",
            "Unpacking libboost-atomic1.65-dev:amd64 (1.65.1+dfsg-0ubuntu5) ...\n",
            "Selecting previously unselected package libboost-atomic-dev:amd64.\n",
            "Preparing to unpack .../022-libboost-atomic-dev_1.65.1.0ubuntu1_amd64.deb ...\n",
            "Unpacking libboost-atomic-dev:amd64 (1.65.1.0ubuntu1) ...\n",
            "Selecting previously unselected package libboost-system1.65.1:amd64.\n",
            "Preparing to unpack .../023-libboost-system1.65.1_1.65.1+dfsg-0ubuntu5_amd64.deb ...\n",
            "Unpacking libboost-system1.65.1:amd64 (1.65.1+dfsg-0ubuntu5) ...\n",
            "Selecting previously unselected package libboost-chrono1.65.1:amd64.\n",
            "Preparing to unpack .../024-libboost-chrono1.65.1_1.65.1+dfsg-0ubuntu5_amd64.deb ...\n",
            "Unpacking libboost-chrono1.65.1:amd64 (1.65.1+dfsg-0ubuntu5) ...\n",
            "Selecting previously unselected package libboost-chrono1.65-dev:amd64.\n",
            "Preparing to unpack .../025-libboost-chrono1.65-dev_1.65.1+dfsg-0ubuntu5_amd64.deb ...\n",
            "Unpacking libboost-chrono1.65-dev:amd64 (1.65.1+dfsg-0ubuntu5) ...\n",
            "Selecting previously unselected package libboost-chrono-dev:amd64.\n",
            "Preparing to unpack .../026-libboost-chrono-dev_1.65.1.0ubuntu1_amd64.deb ...\n",
            "Unpacking libboost-chrono-dev:amd64 (1.65.1.0ubuntu1) ...\n",
            "Selecting previously unselected package libboost-container1.65.1:amd64.\n",
            "Preparing to unpack .../027-libboost-container1.65.1_1.65.1+dfsg-0ubuntu5_amd64.deb ...\n",
            "Unpacking libboost-container1.65.1:amd64 (1.65.1+dfsg-0ubuntu5) ...\n",
            "Selecting previously unselected package libboost-container1.65-dev:amd64.\n",
            "Preparing to unpack .../028-libboost-container1.65-dev_1.65.1+dfsg-0ubuntu5_amd64.deb ...\n",
            "Unpacking libboost-container1.65-dev:amd64 (1.65.1+dfsg-0ubuntu5) ...\n",
            "Selecting previously unselected package libboost-container-dev:amd64.\n",
            "Preparing to unpack .../029-libboost-container-dev_1.65.1.0ubuntu1_amd64.deb ...\n",
            "Unpacking libboost-container-dev:amd64 (1.65.1.0ubuntu1) ...\n",
            "Selecting previously unselected package libboost-context1.65.1:amd64.\n",
            "Preparing to unpack .../030-libboost-context1.65.1_1.65.1+dfsg-0ubuntu5_amd64.deb ...\n",
            "Unpacking libboost-context1.65.1:amd64 (1.65.1+dfsg-0ubuntu5) ...\n",
            "Selecting previously unselected package libboost-context1.65-dev:amd64.\n",
            "Preparing to unpack .../031-libboost-context1.65-dev_1.65.1+dfsg-0ubuntu5_amd64.deb ...\n",
            "Unpacking libboost-context1.65-dev:amd64 (1.65.1+dfsg-0ubuntu5) ...\n",
            "Selecting previously unselected package libboost-context-dev:amd64.\n",
            "Preparing to unpack .../032-libboost-context-dev_1.65.1.0ubuntu1_amd64.deb ...\n",
            "Unpacking libboost-context-dev:amd64 (1.65.1.0ubuntu1) ...\n",
            "Selecting previously unselected package libboost-thread1.65.1:amd64.\n",
            "Preparing to unpack .../033-libboost-thread1.65.1_1.65.1+dfsg-0ubuntu5_amd64.deb ...\n",
            "Unpacking libboost-thread1.65.1:amd64 (1.65.1+dfsg-0ubuntu5) ...\n",
            "Selecting previously unselected package libboost-coroutine1.65.1:amd64.\n",
            "Preparing to unpack .../034-libboost-coroutine1.65.1_1.65.1+dfsg-0ubuntu5_amd64.deb ...\n",
            "Unpacking libboost-coroutine1.65.1:amd64 (1.65.1+dfsg-0ubuntu5) ...\n",
            "Selecting previously unselected package libboost-coroutine1.65-dev:amd64.\n",
            "Preparing to unpack .../035-libboost-coroutine1.65-dev_1.65.1+dfsg-0ubuntu5_amd64.deb ...\n",
            "Unpacking libboost-coroutine1.65-dev:amd64 (1.65.1+dfsg-0ubuntu5) ...\n",
            "Selecting previously unselected package libboost-coroutine-dev:amd64.\n",
            "Preparing to unpack .../036-libboost-coroutine-dev_1.65.1.0ubuntu1_amd64.deb ...\n",
            "Unpacking libboost-coroutine-dev:amd64 (1.65.1.0ubuntu1) ...\n",
            "Selecting previously unselected package libboost-date-time1.65.1:amd64.\n",
            "Preparing to unpack .../037-libboost-date-time1.65.1_1.65.1+dfsg-0ubuntu5_amd64.deb ...\n",
            "Unpacking libboost-date-time1.65.1:amd64 (1.65.1+dfsg-0ubuntu5) ...\n",
            "Selecting previously unselected package libboost-serialization1.65.1:amd64.\n",
            "Preparing to unpack .../038-libboost-serialization1.65.1_1.65.1+dfsg-0ubuntu5_amd64.deb ...\n",
            "Unpacking libboost-serialization1.65.1:amd64 (1.65.1+dfsg-0ubuntu5) ...\n",
            "Selecting previously unselected package libboost-serialization1.65-dev:amd64.\n",
            "Preparing to unpack .../039-libboost-serialization1.65-dev_1.65.1+dfsg-0ubuntu5_amd64.deb ...\n",
            "Unpacking libboost-serialization1.65-dev:amd64 (1.65.1+dfsg-0ubuntu5) ...\n",
            "Selecting previously unselected package libboost-date-time1.65-dev:amd64.\n",
            "Preparing to unpack .../040-libboost-date-time1.65-dev_1.65.1+dfsg-0ubuntu5_amd64.deb ...\n",
            "Unpacking libboost-date-time1.65-dev:amd64 (1.65.1+dfsg-0ubuntu5) ...\n",
            "Selecting previously unselected package libboost-date-time-dev:amd64.\n",
            "Preparing to unpack .../041-libboost-date-time-dev_1.65.1.0ubuntu1_amd64.deb ...\n",
            "Unpacking libboost-date-time-dev:amd64 (1.65.1.0ubuntu1) ...\n",
            "Selecting previously unselected package libboost-exception1.65-dev:amd64.\n",
            "Preparing to unpack .../042-libboost-exception1.65-dev_1.65.1+dfsg-0ubuntu5_amd64.deb ...\n",
            "Unpacking libboost-exception1.65-dev:amd64 (1.65.1+dfsg-0ubuntu5) ...\n",
            "Selecting previously unselected package libboost-exception-dev:amd64.\n",
            "Preparing to unpack .../043-libboost-exception-dev_1.65.1.0ubuntu1_amd64.deb ...\n",
            "Unpacking libboost-exception-dev:amd64 (1.65.1.0ubuntu1) ...\n",
            "Selecting previously unselected package libboost-filesystem1.65.1:amd64.\n",
            "Preparing to unpack .../044-libboost-filesystem1.65.1_1.65.1+dfsg-0ubuntu5_amd64.deb ...\n",
            "Unpacking libboost-filesystem1.65.1:amd64 (1.65.1+dfsg-0ubuntu5) ...\n",
            "Selecting previously unselected package libboost-fiber1.65.1:amd64.\n",
            "Preparing to unpack .../045-libboost-fiber1.65.1_1.65.1+dfsg-0ubuntu5_amd64.deb ...\n",
            "Unpacking libboost-fiber1.65.1:amd64 (1.65.1+dfsg-0ubuntu5) ...\n",
            "Selecting previously unselected package libboost-fiber1.65-dev:amd64.\n",
            "Preparing to unpack .../046-libboost-fiber1.65-dev_1.65.1+dfsg-0ubuntu5_amd64.deb ...\n",
            "Unpacking libboost-fiber1.65-dev:amd64 (1.65.1+dfsg-0ubuntu5) ...\n",
            "Selecting previously unselected package libboost-fiber-dev:amd64.\n",
            "Preparing to unpack .../047-libboost-fiber-dev_1.65.1.0ubuntu1_amd64.deb ...\n",
            "Unpacking libboost-fiber-dev:amd64 (1.65.1.0ubuntu1) ...\n",
            "Selecting previously unselected package libboost-system1.65-dev:amd64.\n",
            "Preparing to unpack .../048-libboost-system1.65-dev_1.65.1+dfsg-0ubuntu5_amd64.deb ...\n",
            "Unpacking libboost-system1.65-dev:amd64 (1.65.1+dfsg-0ubuntu5) ...\n",
            "Selecting previously unselected package libboost-filesystem1.65-dev:amd64.\n",
            "Preparing to unpack .../049-libboost-filesystem1.65-dev_1.65.1+dfsg-0ubuntu5_amd64.deb ...\n",
            "Unpacking libboost-filesystem1.65-dev:amd64 (1.65.1+dfsg-0ubuntu5) ...\n",
            "Selecting previously unselected package libboost-filesystem-dev:amd64.\n",
            "Preparing to unpack .../050-libboost-filesystem-dev_1.65.1.0ubuntu1_amd64.deb ...\n",
            "Unpacking libboost-filesystem-dev:amd64 (1.65.1.0ubuntu1) ...\n",
            "Selecting previously unselected package libboost-regex1.65.1:amd64.\n",
            "Preparing to unpack .../051-libboost-regex1.65.1_1.65.1+dfsg-0ubuntu5_amd64.deb ...\n",
            "Unpacking libboost-regex1.65.1:amd64 (1.65.1+dfsg-0ubuntu5) ...\n",
            "Selecting previously unselected package libboost-graph1.65.1:amd64.\n",
            "Preparing to unpack .../052-libboost-graph1.65.1_1.65.1+dfsg-0ubuntu5_amd64.deb ...\n",
            "Unpacking libboost-graph1.65.1:amd64 (1.65.1+dfsg-0ubuntu5) ...\n",
            "Selecting previously unselected package libboost-test1.65.1:amd64.\n",
            "Preparing to unpack .../053-libboost-test1.65.1_1.65.1+dfsg-0ubuntu5_amd64.deb ...\n",
            "Unpacking libboost-test1.65.1:amd64 (1.65.1+dfsg-0ubuntu5) ...\n",
            "Selecting previously unselected package libboost-test1.65-dev:amd64.\n",
            "Preparing to unpack .../054-libboost-test1.65-dev_1.65.1+dfsg-0ubuntu5_amd64.deb ...\n",
            "Unpacking libboost-test1.65-dev:amd64 (1.65.1+dfsg-0ubuntu5) ...\n",
            "Selecting previously unselected package libboost-graph1.65-dev:amd64.\n",
            "Preparing to unpack .../055-libboost-graph1.65-dev_1.65.1+dfsg-0ubuntu5_amd64.deb ...\n",
            "Unpacking libboost-graph1.65-dev:amd64 (1.65.1+dfsg-0ubuntu5) ...\n",
            "Selecting previously unselected package libboost-graph-dev:amd64.\n",
            "Preparing to unpack .../056-libboost-graph-dev_1.65.1.0ubuntu1_amd64.deb ...\n",
            "Unpacking libboost-graph-dev:amd64 (1.65.1.0ubuntu1) ...\n",
            "Selecting previously unselected package libpsm-infinipath1.\n",
            "Preparing to unpack .../057-libpsm-infinipath1_3.3+20.604758e7-5_amd64.deb ...\n",
            "Unpacking libpsm-infinipath1 (3.3+20.604758e7-5) ...\n",
            "Selecting previously unselected package librdmacm1:amd64.\n",
            "Preparing to unpack .../058-librdmacm1_17.1-1_amd64.deb ...\n",
            "Unpacking librdmacm1:amd64 (17.1-1) ...\n",
            "Selecting previously unselected package libfabric1.\n",
            "Preparing to unpack .../059-libfabric1_1.5.3-1_amd64.deb ...\n",
            "Unpacking libfabric1 (1.5.3-1) ...\n",
            "Selecting previously unselected package libltdl7:amd64.\n",
            "Preparing to unpack .../060-libltdl7_2.4.6-2_amd64.deb ...\n",
            "Unpacking libltdl7:amd64 (2.4.6-2) ...\n",
            "Selecting previously unselected package libhwloc5:amd64.\n",
            "Preparing to unpack .../061-libhwloc5_1.11.9-1_amd64.deb ...\n",
            "Unpacking libhwloc5:amd64 (1.11.9-1) ...\n",
            "Selecting previously unselected package libpciaccess0:amd64.\n",
            "Preparing to unpack .../062-libpciaccess0_0.14-1_amd64.deb ...\n",
            "Unpacking libpciaccess0:amd64 (0.14-1) ...\n",
            "Selecting previously unselected package ocl-icd-libopencl1:amd64.\n",
            "Preparing to unpack .../063-ocl-icd-libopencl1_2.2.11-1ubuntu1_amd64.deb ...\n",
            "Unpacking ocl-icd-libopencl1:amd64 (2.2.11-1ubuntu1) ...\n",
            "Selecting previously unselected package libhwloc-plugins.\n",
            "Preparing to unpack .../064-libhwloc-plugins_1.11.9-1_amd64.deb ...\n",
            "Unpacking libhwloc-plugins (1.11.9-1) ...\n",
            "Selecting previously unselected package libopenmpi2:amd64.\n",
            "Preparing to unpack .../065-libopenmpi2_2.1.1-8_amd64.deb ...\n",
            "Unpacking libopenmpi2:amd64 (2.1.1-8) ...\n",
            "Selecting previously unselected package libboost-mpi1.65.1.\n",
            "Preparing to unpack .../066-libboost-mpi1.65.1_1.65.1+dfsg-0ubuntu5_amd64.deb ...\n",
            "Unpacking libboost-mpi1.65.1 (1.65.1+dfsg-0ubuntu5) ...\n",
            "Selecting previously unselected package libboost-graph-parallel1.65.1.\n",
            "Preparing to unpack .../067-libboost-graph-parallel1.65.1_1.65.1+dfsg-0ubuntu5_amd64.deb ...\n",
            "Unpacking libboost-graph-parallel1.65.1 (1.65.1+dfsg-0ubuntu5) ...\n",
            "Selecting previously unselected package libboost-graph-parallel1.65-dev.\n",
            "Preparing to unpack .../068-libboost-graph-parallel1.65-dev_1.65.1+dfsg-0ubuntu5_amd64.deb ...\n",
            "Unpacking libboost-graph-parallel1.65-dev (1.65.1+dfsg-0ubuntu5) ...\n",
            "Selecting previously unselected package libboost-graph-parallel-dev.\n",
            "Preparing to unpack .../069-libboost-graph-parallel-dev_1.65.1.0ubuntu1_amd64.deb ...\n",
            "Unpacking libboost-graph-parallel-dev (1.65.1.0ubuntu1) ...\n",
            "Selecting previously unselected package libboost-regex1.65-dev:amd64.\n",
            "Preparing to unpack .../070-libboost-regex1.65-dev_1.65.1+dfsg-0ubuntu5_amd64.deb ...\n",
            "Unpacking libboost-regex1.65-dev:amd64 (1.65.1+dfsg-0ubuntu5) ...\n",
            "Selecting previously unselected package libboost-iostreams1.65.1:amd64.\n",
            "Preparing to unpack .../071-libboost-iostreams1.65.1_1.65.1+dfsg-0ubuntu5_amd64.deb ...\n",
            "Unpacking libboost-iostreams1.65.1:amd64 (1.65.1+dfsg-0ubuntu5) ...\n",
            "Selecting previously unselected package libboost-iostreams1.65-dev:amd64.\n",
            "Preparing to unpack .../072-libboost-iostreams1.65-dev_1.65.1+dfsg-0ubuntu5_amd64.deb ...\n",
            "Unpacking libboost-iostreams1.65-dev:amd64 (1.65.1+dfsg-0ubuntu5) ...\n",
            "Selecting previously unselected package libboost-iostreams-dev:amd64.\n",
            "Preparing to unpack .../073-libboost-iostreams-dev_1.65.1.0ubuntu1_amd64.deb ...\n",
            "Unpacking libboost-iostreams-dev:amd64 (1.65.1.0ubuntu1) ...\n",
            "Selecting previously unselected package libboost-locale1.65.1:amd64.\n",
            "Preparing to unpack .../074-libboost-locale1.65.1_1.65.1+dfsg-0ubuntu5_amd64.deb ...\n",
            "Unpacking libboost-locale1.65.1:amd64 (1.65.1+dfsg-0ubuntu5) ...\n",
            "Selecting previously unselected package libboost-locale1.65-dev:amd64.\n",
            "Preparing to unpack .../075-libboost-locale1.65-dev_1.65.1+dfsg-0ubuntu5_amd64.deb ...\n",
            "Unpacking libboost-locale1.65-dev:amd64 (1.65.1+dfsg-0ubuntu5) ...\n",
            "Selecting previously unselected package libboost-locale-dev:amd64.\n",
            "Preparing to unpack .../076-libboost-locale-dev_1.65.1.0ubuntu1_amd64.deb ...\n",
            "Unpacking libboost-locale-dev:amd64 (1.65.1.0ubuntu1) ...\n",
            "Selecting previously unselected package libboost-log1.65.1.\n",
            "Preparing to unpack .../077-libboost-log1.65.1_1.65.1+dfsg-0ubuntu5_amd64.deb ...\n",
            "Unpacking libboost-log1.65.1 (1.65.1+dfsg-0ubuntu5) ...\n",
            "Selecting previously unselected package libboost-thread1.65-dev:amd64.\n",
            "Preparing to unpack .../078-libboost-thread1.65-dev_1.65.1+dfsg-0ubuntu5_amd64.deb ...\n",
            "Unpacking libboost-thread1.65-dev:amd64 (1.65.1+dfsg-0ubuntu5) ...\n",
            "Selecting previously unselected package libboost-log1.65-dev.\n",
            "Preparing to unpack .../079-libboost-log1.65-dev_1.65.1+dfsg-0ubuntu5_amd64.deb ...\n",
            "Unpacking libboost-log1.65-dev (1.65.1+dfsg-0ubuntu5) ...\n",
            "Selecting previously unselected package libboost-log-dev.\n",
            "Preparing to unpack .../080-libboost-log-dev_1.65.1.0ubuntu1_amd64.deb ...\n",
            "Unpacking libboost-log-dev (1.65.1.0ubuntu1) ...\n",
            "Selecting previously unselected package libboost-math1.65.1:amd64.\n",
            "Preparing to unpack .../081-libboost-math1.65.1_1.65.1+dfsg-0ubuntu5_amd64.deb ...\n",
            "Unpacking libboost-math1.65.1:amd64 (1.65.1+dfsg-0ubuntu5) ...\n",
            "Selecting previously unselected package libboost-math1.65-dev:amd64.\n",
            "Preparing to unpack .../082-libboost-math1.65-dev_1.65.1+dfsg-0ubuntu5_amd64.deb ...\n",
            "Unpacking libboost-math1.65-dev:amd64 (1.65.1+dfsg-0ubuntu5) ...\n",
            "Selecting previously unselected package libboost-math-dev:amd64.\n",
            "Preparing to unpack .../083-libboost-math-dev_1.65.1.0ubuntu1_amd64.deb ...\n",
            "Unpacking libboost-math-dev:amd64 (1.65.1.0ubuntu1) ...\n",
            "Selecting previously unselected package openmpi-common.\n",
            "Preparing to unpack .../084-openmpi-common_2.1.1-8_all.deb ...\n",
            "Unpacking openmpi-common (2.1.1-8) ...\n",
            "Selecting previously unselected package libibverbs-dev:amd64.\n",
            "Preparing to unpack .../085-libibverbs-dev_17.1-1_amd64.deb ...\n",
            "Unpacking libibverbs-dev:amd64 (17.1-1) ...\n",
            "Selecting previously unselected package libnuma-dev:amd64.\n",
            "Preparing to unpack .../086-libnuma-dev_2.0.11-2.1_amd64.deb ...\n",
            "Unpacking libnuma-dev:amd64 (2.0.11-2.1) ...\n",
            "Selecting previously unselected package libltdl-dev:amd64.\n",
            "Preparing to unpack .../087-libltdl-dev_2.4.6-2_amd64.deb ...\n",
            "Unpacking libltdl-dev:amd64 (2.4.6-2) ...\n",
            "Selecting previously unselected package libhwloc-dev:amd64.\n",
            "Preparing to unpack .../088-libhwloc-dev_1.11.9-1_amd64.deb ...\n",
            "Unpacking libhwloc-dev:amd64 (1.11.9-1) ...\n",
            "Selecting previously unselected package libopenmpi-dev.\n",
            "Preparing to unpack .../089-libopenmpi-dev_2.1.1-8_amd64.deb ...\n",
            "Unpacking libopenmpi-dev (2.1.1-8) ...\n",
            "Selecting previously unselected package mpi-default-dev.\n",
            "Preparing to unpack .../090-mpi-default-dev_1.10_amd64.deb ...\n",
            "Unpacking mpi-default-dev (1.10) ...\n",
            "Selecting previously unselected package libboost-mpi1.65-dev.\n",
            "Preparing to unpack .../091-libboost-mpi1.65-dev_1.65.1+dfsg-0ubuntu5_amd64.deb ...\n",
            "Unpacking libboost-mpi1.65-dev (1.65.1+dfsg-0ubuntu5) ...\n",
            "Selecting previously unselected package libboost-mpi-dev.\n",
            "Preparing to unpack .../092-libboost-mpi-dev_1.65.1.0ubuntu1_amd64.deb ...\n",
            "Unpacking libboost-mpi-dev (1.65.1.0ubuntu1) ...\n",
            "Selecting previously unselected package libboost-python1.65.1.\n",
            "Preparing to unpack .../093-libboost-python1.65.1_1.65.1+dfsg-0ubuntu5_amd64.deb ...\n",
            "Unpacking libboost-python1.65.1 (1.65.1+dfsg-0ubuntu5) ...\n",
            "Selecting previously unselected package openmpi-bin.\n",
            "Preparing to unpack .../094-openmpi-bin_2.1.1-8_amd64.deb ...\n",
            "Unpacking openmpi-bin (2.1.1-8) ...\n",
            "Selecting previously unselected package mpi-default-bin.\n",
            "Preparing to unpack .../095-mpi-default-bin_1.10_amd64.deb ...\n",
            "Unpacking mpi-default-bin (1.10) ...\n",
            "Selecting previously unselected package libboost-mpi-python1.65.1.\n",
            "Preparing to unpack .../096-libboost-mpi-python1.65.1_1.65.1+dfsg-0ubuntu5_amd64.deb ...\n",
            "Unpacking libboost-mpi-python1.65.1 (1.65.1+dfsg-0ubuntu5) ...\n",
            "Selecting previously unselected package libboost-mpi-python1.65-dev.\n",
            "Preparing to unpack .../097-libboost-mpi-python1.65-dev_1.65.1+dfsg-0ubuntu5_amd64.deb ...\n",
            "Unpacking libboost-mpi-python1.65-dev (1.65.1+dfsg-0ubuntu5) ...\n",
            "Selecting previously unselected package libboost-mpi-python-dev.\n",
            "Preparing to unpack .../098-libboost-mpi-python-dev_1.65.1.0ubuntu1_amd64.deb ...\n",
            "Unpacking libboost-mpi-python-dev (1.65.1.0ubuntu1) ...\n",
            "Selecting previously unselected package libboost-numpy1.65.1.\n",
            "Preparing to unpack .../099-libboost-numpy1.65.1_1.65.1+dfsg-0ubuntu5_amd64.deb ...\n",
            "Unpacking libboost-numpy1.65.1 (1.65.1+dfsg-0ubuntu5) ...\n",
            "Selecting previously unselected package libboost-numpy1.65-dev.\n",
            "Preparing to unpack .../100-libboost-numpy1.65-dev_1.65.1+dfsg-0ubuntu5_amd64.deb ...\n",
            "Unpacking libboost-numpy1.65-dev (1.65.1+dfsg-0ubuntu5) ...\n",
            "Selecting previously unselected package libboost-numpy-dev.\n",
            "Preparing to unpack .../101-libboost-numpy-dev_1.65.1.0ubuntu1_amd64.deb ...\n",
            "Unpacking libboost-numpy-dev (1.65.1.0ubuntu1) ...\n",
            "Selecting previously unselected package libboost-program-options1.65.1:amd64.\n",
            "Preparing to unpack .../102-libboost-program-options1.65.1_1.65.1+dfsg-0ubuntu5_amd64.deb ...\n",
            "Unpacking libboost-program-options1.65.1:amd64 (1.65.1+dfsg-0ubuntu5) ...\n",
            "Selecting previously unselected package libboost-program-options1.65-dev:amd64.\n",
            "Preparing to unpack .../103-libboost-program-options1.65-dev_1.65.1+dfsg-0ubuntu5_amd64.deb ...\n",
            "Unpacking libboost-program-options1.65-dev:amd64 (1.65.1+dfsg-0ubuntu5) ...\n",
            "Selecting previously unselected package libboost-program-options-dev:amd64.\n",
            "Preparing to unpack .../104-libboost-program-options-dev_1.65.1.0ubuntu1_amd64.deb ...\n",
            "Unpacking libboost-program-options-dev:amd64 (1.65.1.0ubuntu1) ...\n",
            "Selecting previously unselected package libboost-python1.65-dev.\n",
            "Preparing to unpack .../105-libboost-python1.65-dev_1.65.1+dfsg-0ubuntu5_amd64.deb ...\n",
            "Unpacking libboost-python1.65-dev (1.65.1+dfsg-0ubuntu5) ...\n",
            "Selecting previously unselected package libboost-python-dev.\n",
            "Preparing to unpack .../106-libboost-python-dev_1.65.1.0ubuntu1_amd64.deb ...\n",
            "Unpacking libboost-python-dev (1.65.1.0ubuntu1) ...\n",
            "Selecting previously unselected package libboost-random1.65.1:amd64.\n",
            "Preparing to unpack .../107-libboost-random1.65.1_1.65.1+dfsg-0ubuntu5_amd64.deb ...\n",
            "Unpacking libboost-random1.65.1:amd64 (1.65.1+dfsg-0ubuntu5) ...\n",
            "Selecting previously unselected package libboost-random1.65-dev:amd64.\n",
            "Preparing to unpack .../108-libboost-random1.65-dev_1.65.1+dfsg-0ubuntu5_amd64.deb ...\n",
            "Unpacking libboost-random1.65-dev:amd64 (1.65.1+dfsg-0ubuntu5) ...\n",
            "Selecting previously unselected package libboost-random-dev:amd64.\n",
            "Preparing to unpack .../109-libboost-random-dev_1.65.1.0ubuntu1_amd64.deb ...\n",
            "Unpacking libboost-random-dev:amd64 (1.65.1.0ubuntu1) ...\n",
            "Selecting previously unselected package libboost-regex-dev:amd64.\n",
            "Preparing to unpack .../110-libboost-regex-dev_1.65.1.0ubuntu1_amd64.deb ...\n",
            "Unpacking libboost-regex-dev:amd64 (1.65.1.0ubuntu1) ...\n",
            "Selecting previously unselected package libboost-serialization-dev:amd64.\n",
            "Preparing to unpack .../111-libboost-serialization-dev_1.65.1.0ubuntu1_amd64.deb ...\n",
            "Unpacking libboost-serialization-dev:amd64 (1.65.1.0ubuntu1) ...\n",
            "Selecting previously unselected package libboost-signals1.65.1:amd64.\n",
            "Preparing to unpack .../112-libboost-signals1.65.1_1.65.1+dfsg-0ubuntu5_amd64.deb ...\n",
            "Unpacking libboost-signals1.65.1:amd64 (1.65.1+dfsg-0ubuntu5) ...\n",
            "Selecting previously unselected package libboost-signals1.65-dev:amd64.\n",
            "Preparing to unpack .../113-libboost-signals1.65-dev_1.65.1+dfsg-0ubuntu5_amd64.deb ...\n",
            "Unpacking libboost-signals1.65-dev:amd64 (1.65.1+dfsg-0ubuntu5) ...\n",
            "Selecting previously unselected package libboost-signals-dev:amd64.\n",
            "Preparing to unpack .../114-libboost-signals-dev_1.65.1.0ubuntu1_amd64.deb ...\n",
            "Unpacking libboost-signals-dev:amd64 (1.65.1.0ubuntu1) ...\n",
            "Selecting previously unselected package libboost-stacktrace1.65.1:amd64.\n",
            "Preparing to unpack .../115-libboost-stacktrace1.65.1_1.65.1+dfsg-0ubuntu5_amd64.deb ...\n",
            "Unpacking libboost-stacktrace1.65.1:amd64 (1.65.1+dfsg-0ubuntu5) ...\n",
            "Selecting previously unselected package libboost-stacktrace1.65-dev:amd64.\n",
            "Preparing to unpack .../116-libboost-stacktrace1.65-dev_1.65.1+dfsg-0ubuntu5_amd64.deb ...\n",
            "Unpacking libboost-stacktrace1.65-dev:amd64 (1.65.1+dfsg-0ubuntu5) ...\n",
            "Selecting previously unselected package libboost-stacktrace-dev:amd64.\n",
            "Preparing to unpack .../117-libboost-stacktrace-dev_1.65.1.0ubuntu1_amd64.deb ...\n",
            "Unpacking libboost-stacktrace-dev:amd64 (1.65.1.0ubuntu1) ...\n",
            "Selecting previously unselected package libboost-system-dev:amd64.\n",
            "Preparing to unpack .../118-libboost-system-dev_1.65.1.0ubuntu1_amd64.deb ...\n",
            "Unpacking libboost-system-dev:amd64 (1.65.1.0ubuntu1) ...\n",
            "Selecting previously unselected package libboost-test-dev:amd64.\n",
            "Preparing to unpack .../119-libboost-test-dev_1.65.1.0ubuntu1_amd64.deb ...\n",
            "Unpacking libboost-test-dev:amd64 (1.65.1.0ubuntu1) ...\n",
            "Selecting previously unselected package libboost-thread-dev:amd64.\n",
            "Preparing to unpack .../120-libboost-thread-dev_1.65.1.0ubuntu1_amd64.deb ...\n",
            "Unpacking libboost-thread-dev:amd64 (1.65.1.0ubuntu1) ...\n",
            "Selecting previously unselected package libboost-timer1.65.1:amd64.\n",
            "Preparing to unpack .../121-libboost-timer1.65.1_1.65.1+dfsg-0ubuntu5_amd64.deb ...\n",
            "Unpacking libboost-timer1.65.1:amd64 (1.65.1+dfsg-0ubuntu5) ...\n",
            "Selecting previously unselected package libboost-timer1.65-dev:amd64.\n",
            "Preparing to unpack .../122-libboost-timer1.65-dev_1.65.1+dfsg-0ubuntu5_amd64.deb ...\n",
            "Unpacking libboost-timer1.65-dev:amd64 (1.65.1+dfsg-0ubuntu5) ...\n",
            "Selecting previously unselected package libboost-timer-dev:amd64.\n",
            "Preparing to unpack .../123-libboost-timer-dev_1.65.1.0ubuntu1_amd64.deb ...\n",
            "Unpacking libboost-timer-dev:amd64 (1.65.1.0ubuntu1) ...\n",
            "Selecting previously unselected package libboost-type-erasure1.65.1:amd64.\n",
            "Preparing to unpack .../124-libboost-type-erasure1.65.1_1.65.1+dfsg-0ubuntu5_amd64.deb ...\n",
            "Unpacking libboost-type-erasure1.65.1:amd64 (1.65.1+dfsg-0ubuntu5) ...\n",
            "Selecting previously unselected package libboost-type-erasure1.65-dev:amd64.\n",
            "Preparing to unpack .../125-libboost-type-erasure1.65-dev_1.65.1+dfsg-0ubuntu5_amd64.deb ...\n",
            "Unpacking libboost-type-erasure1.65-dev:amd64 (1.65.1+dfsg-0ubuntu5) ...\n",
            "Selecting previously unselected package libboost-type-erasure-dev:amd64.\n",
            "Preparing to unpack .../126-libboost-type-erasure-dev_1.65.1.0ubuntu1_amd64.deb ...\n",
            "Unpacking libboost-type-erasure-dev:amd64 (1.65.1.0ubuntu1) ...\n",
            "Selecting previously unselected package libboost-wave1.65.1:amd64.\n",
            "Preparing to unpack .../127-libboost-wave1.65.1_1.65.1+dfsg-0ubuntu5_amd64.deb ...\n",
            "Unpacking libboost-wave1.65.1:amd64 (1.65.1+dfsg-0ubuntu5) ...\n",
            "Selecting previously unselected package libboost-wave1.65-dev:amd64.\n",
            "Preparing to unpack .../128-libboost-wave1.65-dev_1.65.1+dfsg-0ubuntu5_amd64.deb ...\n",
            "Unpacking libboost-wave1.65-dev:amd64 (1.65.1+dfsg-0ubuntu5) ...\n",
            "Selecting previously unselected package libboost-wave-dev:amd64.\n",
            "Preparing to unpack .../129-libboost-wave-dev_1.65.1.0ubuntu1_amd64.deb ...\n",
            "Unpacking libboost-wave-dev:amd64 (1.65.1.0ubuntu1) ...\n",
            "Selecting previously unselected package libboost-all-dev.\n",
            "Preparing to unpack .../130-libboost-all-dev_1.65.1.0ubuntu1_amd64.deb ...\n",
            "Unpacking libboost-all-dev (1.65.1.0ubuntu1) ...\n",
            "Selecting previously unselected package libtool.\n",
            "Preparing to unpack .../131-libtool_2.4.6-2_all.deb ...\n",
            "Unpacking libtool (2.4.6-2) ...\n",
            "Setting up libboost-container1.65.1:amd64 (1.65.1+dfsg-0ubuntu5) ...\n",
            "Setting up libboost-date-time1.65.1:amd64 (1.65.1+dfsg-0ubuntu5) ...\n",
            "Setting up libboost-iostreams1.65.1:amd64 (1.65.1+dfsg-0ubuntu5) ...\n",
            "Setting up libboost-stacktrace1.65.1:amd64 (1.65.1+dfsg-0ubuntu5) ...\n",
            "Setting up libboost-python1.65.1 (1.65.1+dfsg-0ubuntu5) ...\n",
            "Setting up libuv1:amd64 (1.18.0-3) ...\n",
            "Setting up libnuma1:amd64 (2.0.11-2.1) ...\n",
            "Setting up libboost-atomic1.65.1:amd64 (1.65.1+dfsg-0ubuntu5) ...\n",
            "Setting up cmake-data (3.10.2-1ubuntu2) ...\n",
            "Setting up libboost-signals1.65.1:amd64 (1.65.1+dfsg-0ubuntu5) ...\n",
            "Setting up libboost-serialization1.65.1:amd64 (1.65.1+dfsg-0ubuntu5) ...\n",
            "Setting up libmagic-mgc (1:5.32-2ubuntu0.1) ...\n",
            "Setting up libmagic1:amd64 (1:5.32-2ubuntu0.1) ...\n",
            "Setting up librhash0:amd64 (1.3.6-2) ...\n",
            "Setting up libpsm-infinipath1 (3.3+20.604758e7-5) ...\n",
            "update-alternatives: using /usr/lib/libpsm1/libpsm_infinipath.so.1.16 to provide /usr/lib/x86_64-linux-gnu/libpsm_infinipath.so.1 (libpsm_infinipath.so.1) in auto mode\n",
            "Setting up libboost-system1.65.1:amd64 (1.65.1+dfsg-0ubuntu5) ...\n",
            "Setting up libboost-context1.65.1:amd64 (1.65.1+dfsg-0ubuntu5) ...\n",
            "Setting up openmpi-common (2.1.1-8) ...\n",
            "Processing triggers for libc-bin (2.27-3ubuntu1) ...\n",
            "Setting up autotools-dev (20180224.1) ...\n",
            "Setting up libboost-thread1.65.1:amd64 (1.65.1+dfsg-0ubuntu5) ...\n",
            "Setting up libltdl7:amd64 (2.4.6-2) ...\n",
            "Setting up libpciaccess0:amd64 (0.14-1) ...\n",
            "Setting up libboost-chrono1.65.1:amd64 (1.65.1+dfsg-0ubuntu5) ...\n",
            "Setting up libnuma-dev:amd64 (2.0.11-2.1) ...\n",
            "Setting up ocl-icd-libopencl1:amd64 (2.2.11-1ubuntu1) ...\n",
            "Setting up libboost-program-options1.65.1:amd64 (1.65.1+dfsg-0ubuntu5) ...\n",
            "Setting up libboost-numpy1.65.1 (1.65.1+dfsg-0ubuntu5) ...\n",
            "Setting up libnl-3-200:amd64 (3.2.29-0ubuntu3) ...\n",
            "Setting up libboost-test1.65.1:amd64 (1.65.1+dfsg-0ubuntu5) ...\n",
            "Setting up libboost1.65-dev:amd64 (1.65.1+dfsg-0ubuntu5) ...\n",
            "Setting up libboost-locale1.65.1:amd64 (1.65.1+dfsg-0ubuntu5) ...\n",
            "Setting up libboost-random1.65.1:amd64 (1.65.1+dfsg-0ubuntu5) ...\n",
            "Setting up libboost1.65-tools-dev (1.65.1+dfsg-0ubuntu5) ...\n",
            "Setting up libboost-signals1.65-dev:amd64 (1.65.1+dfsg-0ubuntu5) ...\n",
            "Setting up liblzo2-2:amd64 (2.08-1.2) ...\n",
            "Setting up libboost-math1.65.1:amd64 (1.65.1+dfsg-0ubuntu5) ...\n",
            "Setting up libboost-regex1.65.1:amd64 (1.65.1+dfsg-0ubuntu5) ...\n",
            "Setting up libboost-signals-dev:amd64 (1.65.1.0ubuntu1) ...\n",
            "Setting up libboost-locale1.65-dev:amd64 (1.65.1+dfsg-0ubuntu5) ...\n",
            "Setting up libjsoncpp1:amd64 (1.7.4-3) ...\n",
            "Setting up libboost-locale-dev:amd64 (1.65.1.0ubuntu1) ...\n",
            "Setting up libboost-tools-dev (1.65.1.0ubuntu1) ...\n",
            "Setting up libboost-program-options1.65-dev:amd64 (1.65.1+dfsg-0ubuntu5) ...\n",
            "Setting up libboost-stacktrace1.65-dev:amd64 (1.65.1+dfsg-0ubuntu5) ...\n",
            "Setting up libboost-atomic1.65-dev:amd64 (1.65.1+dfsg-0ubuntu5) ...\n",
            "Setting up libltdl-dev:amd64 (2.4.6-2) ...\n",
            "Setting up libboost-atomic-dev:amd64 (1.65.1.0ubuntu1) ...\n",
            "Setting up libboost-test1.65-dev:amd64 (1.65.1+dfsg-0ubuntu5) ...\n",
            "Setting up libarchive13:amd64 (3.2.2-3.1ubuntu0.1) ...\n",
            "Setting up libboost-numpy1.65-dev (1.65.1+dfsg-0ubuntu5) ...\n",
            "Setting up libboost-filesystem1.65.1:amd64 (1.65.1+dfsg-0ubuntu5) ...\n",
            "Setting up libboost-stacktrace-dev:amd64 (1.65.1.0ubuntu1) ...\n",
            "Setting up libnl-route-3-200:amd64 (3.2.29-0ubuntu3) ...\n",
            "Setting up libboost-type-erasure1.65.1:amd64 (1.65.1+dfsg-0ubuntu5) ...\n",
            "Setting up libboost-serialization1.65-dev:amd64 (1.65.1+dfsg-0ubuntu5) ...\n",
            "Setting up libboost-chrono1.65-dev:amd64 (1.65.1+dfsg-0ubuntu5) ...\n",
            "Setting up libboost-graph1.65.1:amd64 (1.65.1+dfsg-0ubuntu5) ...\n",
            "Setting up file (1:5.32-2ubuntu0.1) ...\n",
            "Setting up libboost-exception1.65-dev:amd64 (1.65.1+dfsg-0ubuntu5) ...\n",
            "Setting up libhwloc5:amd64 (1.11.9-1) ...\n",
            "Setting up libboost-log1.65.1 (1.65.1+dfsg-0ubuntu5) ...\n",
            "Setting up libboost-coroutine1.65.1:amd64 (1.65.1+dfsg-0ubuntu5) ...\n",
            "Setting up libhwloc-plugins (1.11.9-1) ...\n",
            "Setting up libboost-exception-dev:amd64 (1.65.1.0ubuntu1) ...\n",
            "Setting up libboost-random1.65-dev:amd64 (1.65.1+dfsg-0ubuntu5) ...\n",
            "Setting up libboost-python1.65-dev (1.65.1+dfsg-0ubuntu5) ...\n",
            "Setting up libboost-wave1.65.1:amd64 (1.65.1+dfsg-0ubuntu5) ...\n",
            "Setting up libboost-context1.65-dev:amd64 (1.65.1+dfsg-0ubuntu5) ...\n",
            "Setting up libboost-timer1.65.1:amd64 (1.65.1+dfsg-0ubuntu5) ...\n",
            "Setting up libboost-context-dev:amd64 (1.65.1.0ubuntu1) ...\n",
            "Setting up libboost-test-dev:amd64 (1.65.1.0ubuntu1) ...\n",
            "Setting up libboost-system1.65-dev:amd64 (1.65.1+dfsg-0ubuntu5) ...\n",
            "Setting up libboost-regex1.65-dev:amd64 (1.65.1+dfsg-0ubuntu5) ...\n",
            "Setting up libboost-dev:amd64 (1.65.1.0ubuntu1) ...\n",
            "Setting up libboost-container1.65-dev:amd64 (1.65.1+dfsg-0ubuntu5) ...\n",
            "Setting up libboost-math1.65-dev:amd64 (1.65.1+dfsg-0ubuntu5) ...\n",
            "Setting up cmake (3.10.2-1ubuntu2) ...\n",
            "Setting up libboost-math-dev:amd64 (1.65.1.0ubuntu1) ...\n",
            "Setting up libboost-numpy-dev (1.65.1.0ubuntu1) ...\n",
            "Setting up libboost-type-erasure1.65-dev:amd64 (1.65.1+dfsg-0ubuntu5) ...\n",
            "Setting up libboost-program-options-dev:amd64 (1.65.1.0ubuntu1) ...\n",
            "Setting up libboost-python-dev (1.65.1.0ubuntu1) ...\n",
            "Setting up libtool (2.4.6-2) ...\n",
            "Setting up libibverbs1:amd64 (17.1-1) ...\n",
            "Setting up libboost-fiber1.65.1:amd64 (1.65.1+dfsg-0ubuntu5) ...\n",
            "Setting up libboost-serialization-dev:amd64 (1.65.1.0ubuntu1) ...\n",
            "Setting up libboost-fiber1.65-dev:amd64 (1.65.1+dfsg-0ubuntu5) ...\n",
            "Setting up libboost-coroutine1.65-dev:amd64 (1.65.1+dfsg-0ubuntu5) ...\n",
            "Setting up libboost-graph1.65-dev:amd64 (1.65.1+dfsg-0ubuntu5) ...\n",
            "Setting up libhwloc-dev:amd64 (1.11.9-1) ...\n",
            "Setting up libboost-date-time1.65-dev:amd64 (1.65.1+dfsg-0ubuntu5) ...\n",
            "Setting up libboost-chrono-dev:amd64 (1.65.1.0ubuntu1) ...\n",
            "Setting up libboost-system-dev:amd64 (1.65.1.0ubuntu1) ...\n",
            "Setting up libboost-graph-dev:amd64 (1.65.1.0ubuntu1) ...\n",
            "Setting up libboost-type-erasure-dev:amd64 (1.65.1.0ubuntu1) ...\n",
            "Setting up libboost-fiber-dev:amd64 (1.65.1.0ubuntu1) ...\n",
            "Setting up librdmacm1:amd64 (17.1-1) ...\n",
            "Setting up libboost-iostreams1.65-dev:amd64 (1.65.1+dfsg-0ubuntu5) ...\n",
            "Setting up libboost-date-time-dev:amd64 (1.65.1.0ubuntu1) ...\n",
            "Setting up libboost-filesystem1.65-dev:amd64 (1.65.1+dfsg-0ubuntu5) ...\n",
            "Setting up libboost-container-dev:amd64 (1.65.1.0ubuntu1) ...\n",
            "Setting up libboost-random-dev:amd64 (1.65.1.0ubuntu1) ...\n",
            "Setting up libboost-thread1.65-dev:amd64 (1.65.1+dfsg-0ubuntu5) ...\n",
            "Setting up libboost-timer1.65-dev:amd64 (1.65.1+dfsg-0ubuntu5) ...\n",
            "Setting up libboost-iostreams-dev:amd64 (1.65.1.0ubuntu1) ...\n",
            "Setting up ibverbs-providers:amd64 (17.1-1) ...\n",
            "Setting up libboost-regex-dev:amd64 (1.65.1.0ubuntu1) ...\n",
            "Setting up libboost-coroutine-dev:amd64 (1.65.1.0ubuntu1) ...\n",
            "Setting up libibverbs-dev:amd64 (17.1-1) ...\n",
            "Setting up libboost-thread-dev:amd64 (1.65.1.0ubuntu1) ...\n",
            "Setting up libfabric1 (1.5.3-1) ...\n",
            "Setting up libboost-wave1.65-dev:amd64 (1.65.1+dfsg-0ubuntu5) ...\n",
            "Setting up libboost-timer-dev:amd64 (1.65.1.0ubuntu1) ...\n",
            "Setting up libboost-filesystem-dev:amd64 (1.65.1.0ubuntu1) ...\n",
            "Setting up libboost-log1.65-dev (1.65.1+dfsg-0ubuntu5) ...\n",
            "Setting up libboost-wave-dev:amd64 (1.65.1.0ubuntu1) ...\n",
            "Setting up libopenmpi2:amd64 (2.1.1-8) ...\n",
            "Setting up libboost-mpi1.65.1 (1.65.1+dfsg-0ubuntu5) ...\n",
            "Setting up libopenmpi-dev (2.1.1-8) ...\n",
            "update-alternatives: using /usr/lib/x86_64-linux-gnu/openmpi/include to provide /usr/include/mpi (mpi) in auto mode\n",
            "update-alternatives: warning: skip creation of /usr/share/man/man1/mpicc.1.gz because associated file /usr/share/man/man1/mpicc.openmpi.1.gz (of link group mpi) doesn't exist\n",
            "update-alternatives: warning: skip creation of /usr/share/man/man1/mpic++.1.gz because associated file /usr/share/man/man1/mpic++.openmpi.1.gz (of link group mpi) doesn't exist\n",
            "update-alternatives: warning: skip creation of /usr/share/man/man1/mpicxx.1.gz because associated file /usr/share/man/man1/mpicxx.openmpi.1.gz (of link group mpi) doesn't exist\n",
            "update-alternatives: warning: skip creation of /usr/share/man/man1/mpiCC.1.gz because associated file /usr/share/man/man1/mpiCC.openmpi.1.gz (of link group mpi) doesn't exist\n",
            "update-alternatives: warning: skip creation of /usr/share/man/man1/mpif77.1.gz because associated file /usr/share/man/man1/mpif77.openmpi.1.gz (of link group mpi) doesn't exist\n",
            "update-alternatives: warning: skip creation of /usr/share/man/man1/mpif90.1.gz because associated file /usr/share/man/man1/mpif90.openmpi.1.gz (of link group mpi) doesn't exist\n",
            "update-alternatives: warning: skip creation of /usr/share/man/man1/mpifort.1.gz because associated file /usr/share/man/man1/mpifort.openmpi.1.gz (of link group mpi) doesn't exist\n",
            "Setting up openmpi-bin (2.1.1-8) ...\n",
            "update-alternatives: using /usr/bin/mpirun.openmpi to provide /usr/bin/mpirun (mpirun) in auto mode\n",
            "update-alternatives: warning: skip creation of /usr/share/man/man1/mpirun.1.gz because associated file /usr/share/man/man1/mpirun.openmpi.1.gz (of link group mpirun) doesn't exist\n",
            "update-alternatives: warning: skip creation of /usr/share/man/man1/mpiexec.1.gz because associated file /usr/share/man/man1/mpiexec.openmpi.1.gz (of link group mpirun) doesn't exist\n",
            "Setting up mpi-default-dev (1.10) ...\n",
            "Setting up libboost-log-dev (1.65.1.0ubuntu1) ...\n",
            "Setting up libboost-mpi1.65-dev (1.65.1+dfsg-0ubuntu5) ...\n",
            "Setting up mpi-default-bin (1.10) ...\n",
            "Setting up libboost-graph-parallel1.65.1 (1.65.1+dfsg-0ubuntu5) ...\n",
            "Setting up libboost-graph-parallel1.65-dev (1.65.1+dfsg-0ubuntu5) ...\n",
            "Setting up libboost-graph-parallel-dev (1.65.1.0ubuntu1) ...\n",
            "Setting up libboost-mpi-dev (1.65.1.0ubuntu1) ...\n",
            "Setting up libboost-mpi-python1.65.1 (1.65.1+dfsg-0ubuntu5) ...\n",
            "Setting up libboost-mpi-python1.65-dev (1.65.1+dfsg-0ubuntu5) ...\n",
            "Setting up libboost-mpi-python-dev (1.65.1.0ubuntu1) ...\n",
            "Setting up libboost-all-dev (1.65.1.0ubuntu1) ...\n",
            "Processing triggers for libc-bin (2.27-3ubuntu1) ...\n"
          ],
          "name": "stdout"
        }
      ]
    },
    {
      "metadata": {
        "colab_type": "code",
        "id": "RUiaLQ520oZH",
        "outputId": "01bddb0f-a63f-4169-bd3e-d2fb24c3d161",
        "colab": {
          "base_uri": "https://localhost:8080/",
          "height": 102
        }
      },
      "cell_type": "code",
      "source": [
        "!pip install protobuf tqdm wheel"
      ],
      "execution_count": 6,
      "outputs": [
        {
          "output_type": "stream",
          "text": [
            "Requirement already satisfied: protobuf in /usr/local/lib/python3.6/dist-packages (3.6.1)\n",
            "Requirement already satisfied: tqdm in /usr/local/lib/python3.6/dist-packages (4.28.1)\n",
            "Requirement already satisfied: wheel in /usr/local/lib/python3.6/dist-packages (0.32.3)\n",
            "Requirement already satisfied: setuptools in /usr/local/lib/python3.6/dist-packages (from protobuf) (40.6.2)\n",
            "Requirement already satisfied: six>=1.9 in /usr/local/lib/python3.6/dist-packages (from protobuf) (1.11.0)\n"
          ],
          "name": "stdout"
        }
      ]
    },
    {
      "metadata": {
        "colab_type": "code",
        "id": "XUB9Dk0-05fi",
        "outputId": "3a853b44-3bc2-4265-b2b8-25a44315be23",
        "colab": {
          "base_uri": "https://localhost:8080/",
          "height": 136
        }
      },
      "cell_type": "code",
      "source": [
        "!git clone --branch=stable https://github.com/bigartm/bigartm.git"
      ],
      "execution_count": 1,
      "outputs": [
        {
          "output_type": "stream",
          "text": [
            "Cloning into 'bigartm'...\n",
            "remote: Enumerating objects: 45, done.\u001b[K\n",
            "remote: Counting objects: 100% (45/45), done.\u001b[K\n",
            "remote: Compressing objects: 100% (42/42), done.\u001b[K\n",
            "remote: Total 15998 (delta 14), reused 9 (delta 3), pack-reused 15953\u001b[K\n",
            "Receiving objects: 100% (15998/15998), 16.99 MiB | 21.20 MiB/s, done.\n",
            "Resolving deltas: 100% (11148/11148), done.\n"
          ],
          "name": "stdout"
        }
      ]
    },
    {
      "metadata": {
        "colab_type": "code",
        "id": "C7ARp6n4081Q",
        "outputId": "8d8986f8-f490-4e0c-e850-97d86c55115d",
        "colab": {
          "base_uri": "https://localhost:8080/",
          "height": 51
        }
      },
      "cell_type": "code",
      "source": [
        "cd bigartm"
      ],
      "execution_count": 10,
      "outputs": [
        {
          "output_type": "stream",
          "text": [
            "[Errno 2] No such file or directory: 'bigartm'\n",
            "/content/bigartm/build\n"
          ],
          "name": "stdout"
        }
      ]
    },
    {
      "metadata": {
        "colab_type": "code",
        "id": "Gy3B--b40_X0",
        "colab": {}
      },
      "cell_type": "code",
      "source": [
        "mkdir build"
      ],
      "execution_count": 0,
      "outputs": []
    },
    {
      "metadata": {
        "colab_type": "code",
        "id": "FNqpGY4_1C4n",
        "outputId": "01e5475e-c993-4ca1-8f77-4c5ccabbf72b",
        "colab": {
          "base_uri": "https://localhost:8080/",
          "height": 34
        }
      },
      "cell_type": "code",
      "source": [
        "cd build"
      ],
      "execution_count": 4,
      "outputs": [
        {
          "output_type": "stream",
          "text": [
            "/content/bigartm/build\n"
          ],
          "name": "stdout"
        }
      ]
    },
    {
      "metadata": {
        "colab_type": "code",
        "id": "ol4bRDUD1EDN",
        "outputId": "ef9257ea-8231-4f9e-d866-de6a6e31c1ea",
        "colab": {
          "base_uri": "https://localhost:8080/",
          "height": 2635
        }
      },
      "cell_type": "code",
      "source": [
        "!cmake .."
      ],
      "execution_count": 12,
      "outputs": [
        {
          "output_type": "stream",
          "text": [
            "-- The C compiler identification is GNU 7.3.0\n",
            "-- The CXX compiler identification is GNU 7.3.0\n",
            "-- Check for working C compiler: /usr/bin/cc\n",
            "-- Check for working C compiler: /usr/bin/cc -- works\n",
            "-- Detecting C compiler ABI info\n",
            "-- Detecting C compiler ABI info - done\n",
            "-- Detecting C compile features\n",
            "-- Detecting C compile features - done\n",
            "-- Check for working CXX compiler: /usr/bin/c++\n",
            "-- Check for working CXX compiler: /usr/bin/c++ -- works\n",
            "-- Detecting CXX compiler ABI info\n",
            "-- Detecting CXX compiler ABI info - done\n",
            "-- Detecting CXX compile features\n",
            "-- Detecting CXX compile features - done\n",
            "-- Build type: Release\n",
            "-- Looking for include file unistd.h\n",
            "-- Looking for include file unistd.h - found\n",
            "-- Boost version: 1.65.1\n",
            "-- Looking for pthread.h\n",
            "-- Looking for pthread.h - found\n",
            "-- Looking for pthread_create\n",
            "-- Looking for pthread_create - not found\n",
            "-- Looking for pthread_create in pthreads\n",
            "-- Looking for pthread_create in pthreads - not found\n",
            "-- Looking for pthread_create in pthread\n",
            "-- Looking for pthread_create in pthread - found\n",
            "-- Found Threads: TRUE  \n",
            "-- Boost version: 1.65.1\n",
            "-- Found the following Boost libraries:\n",
            "--   thread\n",
            "--   program_options\n",
            "--   date_time\n",
            "--   filesystem\n",
            "--   iostreams\n",
            "--   system\n",
            "--   chrono\n",
            "--   timer\n",
            "--   atomic\n",
            "--   regex\n",
            "-- Looking for C++ include stdint.h\n",
            "-- Looking for C++ include stdint.h - found\n",
            "-- Looking for C++ include inttypes.h\n",
            "-- Looking for C++ include inttypes.h - found\n",
            "-- Looking for C++ include sys/types.h\n",
            "-- Looking for C++ include sys/types.h - found\n",
            "-- Looking for C++ include sys/stat.h\n",
            "-- Looking for C++ include sys/stat.h - found\n",
            "-- Looking for C++ include fnmatch.h\n",
            "-- Looking for C++ include fnmatch.h - found\n",
            "-- Looking for strtoll\n",
            "-- Looking for strtoll - found\n",
            "CMake Warning (dev) at 3rdparty/gflags/cmake/CheckCXXLibraryExists.cmake:43 (if):\n",
            "  Policy CMP0054 is not set: Only interpret if() arguments as variables or\n",
            "  keywords when unquoted.  Run \"cmake --help-policy CMP0054\" for policy\n",
            "  details.  Use the cmake_policy command to set the policy and suppress this\n",
            "  warning.\n",
            "\n",
            "  Quoted variables like \"CMAKE_HAVE_PTHREADS_CREATE\" will no longer be\n",
            "  dereferenced when the policy is set to NEW.  Since the policy is not set\n",
            "  the OLD behavior will be used.\n",
            "Call Stack (most recent call first):\n",
            "  3rdparty/gflags/cmake/FindThreadsCXX.cmake:71 (CHECK_CXX_LIBRARY_EXISTS)\n",
            "  3rdparty/gflags/CMakeLists.txt:121 (find_package)\n",
            "This warning is for project developers.  Use -Wno-dev to suppress it.\n",
            "\n",
            "-- Looking for C++ include stddef.h\n",
            "-- Looking for C++ include stddef.h - found\n",
            "-- Check size of pthread_rwlock_t\n",
            "-- Check size of pthread_rwlock_t - done\n",
            "-- running mz compiler detection tools\n",
            "-- GCC compatible compiler found\n",
            "-- compiler version 7\n",
            "-- C++11 support detected\n",
            "-- 64bit platform\n",
            "-- Today is: Mon, 26 Nov 2018 16:30:54 +0000\n",
            "\n",
            "-- forcing C++11 support on this platform\n",
            "-- configuring for build type: Release\n",
            "-- Looking for include file dlfcn.h\n",
            "-- Looking for include file dlfcn.h - found\n",
            "-- Looking for include file execinfo.h\n",
            "-- Looking for include file execinfo.h - found\n",
            "-- Looking for include file glob.h\n",
            "-- Looking for include file glob.h - found\n",
            "-- Looking for include file pthread.h\n",
            "-- Looking for include file pthread.h - found\n",
            "-- Looking for include file gflags/gflags.h\n",
            "-- Looking for include file gflags/gflags.h - not found\n",
            "-- Looking for include file memory.h\n",
            "-- Looking for include file memory.h - found\n",
            "-- Looking for include file pthread.h\n",
            "-- Looking for include file pthread.h - found\n",
            "-- Looking for include file pwd.h\n",
            "-- Looking for include file pwd.h - found\n",
            "-- Looking for include file stdlib.h\n",
            "-- Looking for include file stdlib.h - found\n",
            "-- Looking for include file strings.h\n",
            "-- Looking for include file strings.h - found\n",
            "-- Looking for include file syscall.h\n",
            "-- Looking for include file syscall.h - found\n",
            "-- Looking for include file syslog.h\n",
            "-- Looking for include file syslog.h - found\n",
            "-- Looking for include file sys/call.h\n",
            "-- Looking for include file sys/call.h - not found\n",
            "-- Looking for include file sys/time.h\n",
            "-- Looking for include file sys/time.h - found\n",
            "-- Looking for include file sys/syscall.h\n",
            "-- Looking for include file sys/syscall.h - found\n",
            "-- Looking for include file sys/ucontext.h\n",
            "-- Looking for include file sys/ucontext.h - found\n",
            "-- Looking for include file sys/utsname.h\n",
            "-- Looking for include file sys/utsname.h - found\n",
            "-- Looking for include file ucontext.h\n",
            "-- Looking for include file ucontext.h - found\n",
            "-- Looking for include file unwind.h\n",
            "-- Looking for include file unwind.h - found\n",
            "-- Looking for fcntl\n",
            "-- Looking for fcntl - found\n",
            "-- Looking for sigaltstack\n",
            "-- Looking for sigaltstack - found\n",
            "-- Looking for __builtin_expect\n",
            "-- Looking for __builtin_expect - not found\n",
            "-- Looking for __sync_val_compare_and_swap\n",
            "-- Looking for __sync_val_compare_and_swap - not found\n",
            "CMake Warning (dev) at 3rdparty/protobuf-3.0.0/cmake/install.cmake:41 (message):\n",
            "  The file\n",
            "  \"/content/bigartm/3rdparty/protobuf-3.0.0/src/google/protobuf/repeated_field_reflection.h\"\n",
            "  is listed in\n",
            "  \"/content/bigartm/3rdparty/protobuf-3.0.0/cmake/cmake/extract_includes.bat.in\"\n",
            "  but there not exists.  The file will not be installed.\n",
            "Call Stack (most recent call first):\n",
            "  3rdparty/protobuf-3.0.0/cmake/CMakeLists.txt:159 (include)\n",
            "This warning is for project developers.  Use -Wno-dev to suppress it.\n",
            "\n",
            "-- Performing Test COMPILER_SUPPORTS_CXX11\n",
            "-- Performing Test COMPILER_SUPPORTS_CXX11 - Success\n",
            "-- Performing Test COMPILER_SUPPORTS_CXX0X\n",
            "-- Performing Test COMPILER_SUPPORTS_CXX0X - Success\n",
            "-- Found GLOG: /content/bigartm/3rdparty/glog/src  \n",
            "-- Boost version: 1.65.1\n",
            "-- Found the following Boost libraries:\n",
            "--   thread\n",
            "--   program_options\n",
            "--   date_time\n",
            "--   filesystem\n",
            "--   iostreams\n",
            "--   system\n",
            "--   chrono\n",
            "--   timer\n",
            "--   atomic\n",
            "--   regex\n",
            "-- Configuring done\n",
            "-- Generating done\n",
            "-- Build files have been written to: /content/bigartm/build\n"
          ],
          "name": "stdout"
        }
      ]
    },
    {
      "metadata": {
        "colab_type": "code",
        "id": "AcxbRUrQ1IKk",
        "outputId": "302b2ccb-b7fb-4600-ff6a-5e42b1a0474f",
        "colab": {
          "base_uri": "https://localhost:8080/",
          "height": 9540
        }
      },
      "cell_type": "code",
      "source": [
        "!make"
      ],
      "execution_count": 14,
      "outputs": [
        {
          "output_type": "stream",
          "text": [
            "\u001b[35m\u001b[1mScanning dependencies of target gflags-static\u001b[0m\n",
            "[  1%] \u001b[32mBuilding CXX object 3rdparty/gflags/CMakeFiles/gflags-static.dir/src/gflags.cc.o\u001b[0m\n",
            "[  1%] \u001b[32mBuilding CXX object 3rdparty/gflags/CMakeFiles/gflags-static.dir/src/gflags_reporting.cc.o\u001b[0m\n",
            "[  1%] \u001b[32mBuilding CXX object 3rdparty/gflags/CMakeFiles/gflags-static.dir/src/gflags_completions.cc.o\u001b[0m\n",
            "[  2%] \u001b[32m\u001b[1mLinking CXX static library ../../lib/libgflags.a\u001b[0m\n",
            "[  2%] Built target gflags-static\n",
            "\u001b[35m\u001b[1mScanning dependencies of target google-glog\u001b[0m\n",
            "[  2%] \u001b[32mBuilding CXX object 3rdparty/glog/CMakeFiles/google-glog.dir/src/logging.cc.o\u001b[0m\n",
            "[  2%] \u001b[32mBuilding CXX object 3rdparty/glog/CMakeFiles/google-glog.dir/src/raw_logging.cc.o\u001b[0m\n",
            "[  3%] \u001b[32mBuilding CXX object 3rdparty/glog/CMakeFiles/google-glog.dir/src/vlog_is_on.cc.o\u001b[0m\n",
            "[  3%] \u001b[32mBuilding CXX object 3rdparty/glog/CMakeFiles/google-glog.dir/src/utilities.cc.o\u001b[0m\n",
            "[  3%] \u001b[32mBuilding CXX object 3rdparty/glog/CMakeFiles/google-glog.dir/src/demangle.cc.o\u001b[0m\n",
            "[  4%] \u001b[32mBuilding CXX object 3rdparty/glog/CMakeFiles/google-glog.dir/src/symbolize.cc.o\u001b[0m\n",
            "[  4%] \u001b[32mBuilding CXX object 3rdparty/glog/CMakeFiles/google-glog.dir/src/signalhandler.cc.o\u001b[0m\n",
            "[  4%] \u001b[32m\u001b[1mLinking CXX static library ../../lib/libgoogle-glog.a\u001b[0m\n",
            "[  4%] Built target google-glog\n",
            "\u001b[35m\u001b[1mScanning dependencies of target libprotobuf\u001b[0m\n",
            "[  5%] \u001b[32mBuilding CXX object 3rdparty/protobuf-3.0.0/cmake/CMakeFiles/libprotobuf.dir/__/src/google/protobuf/arena.cc.o\u001b[0m\n",
            "[  5%] \u001b[32mBuilding CXX object 3rdparty/protobuf-3.0.0/cmake/CMakeFiles/libprotobuf.dir/__/src/google/protobuf/arenastring.cc.o\u001b[0m\n",
            "[  5%] \u001b[32mBuilding CXX object 3rdparty/protobuf-3.0.0/cmake/CMakeFiles/libprotobuf.dir/__/src/google/protobuf/extension_set.cc.o\u001b[0m\n",
            "[  6%] \u001b[32mBuilding CXX object 3rdparty/protobuf-3.0.0/cmake/CMakeFiles/libprotobuf.dir/__/src/google/protobuf/generated_message_util.cc.o\u001b[0m\n",
            "[  6%] \u001b[32mBuilding CXX object 3rdparty/protobuf-3.0.0/cmake/CMakeFiles/libprotobuf.dir/__/src/google/protobuf/io/coded_stream.cc.o\u001b[0m\n",
            "[  6%] \u001b[32mBuilding CXX object 3rdparty/protobuf-3.0.0/cmake/CMakeFiles/libprotobuf.dir/__/src/google/protobuf/io/zero_copy_stream.cc.o\u001b[0m\n",
            "[  7%] \u001b[32mBuilding CXX object 3rdparty/protobuf-3.0.0/cmake/CMakeFiles/libprotobuf.dir/__/src/google/protobuf/io/zero_copy_stream_impl_lite.cc.o\u001b[0m\n",
            "[  7%] \u001b[32mBuilding CXX object 3rdparty/protobuf-3.0.0/cmake/CMakeFiles/libprotobuf.dir/__/src/google/protobuf/message_lite.cc.o\u001b[0m\n",
            "[  8%] \u001b[32mBuilding CXX object 3rdparty/protobuf-3.0.0/cmake/CMakeFiles/libprotobuf.dir/__/src/google/protobuf/repeated_field.cc.o\u001b[0m\n",
            "[  8%] \u001b[32mBuilding CXX object 3rdparty/protobuf-3.0.0/cmake/CMakeFiles/libprotobuf.dir/__/src/google/protobuf/stubs/atomicops_internals_x86_gcc.cc.o\u001b[0m\n",
            "[  8%] \u001b[32mBuilding CXX object 3rdparty/protobuf-3.0.0/cmake/CMakeFiles/libprotobuf.dir/__/src/google/protobuf/stubs/atomicops_internals_x86_msvc.cc.o\u001b[0m\n",
            "[  9%] \u001b[32mBuilding CXX object 3rdparty/protobuf-3.0.0/cmake/CMakeFiles/libprotobuf.dir/__/src/google/protobuf/stubs/bytestream.cc.o\u001b[0m\n",
            "[  9%] \u001b[32mBuilding CXX object 3rdparty/protobuf-3.0.0/cmake/CMakeFiles/libprotobuf.dir/__/src/google/protobuf/stubs/common.cc.o\u001b[0m\n",
            "[  9%] \u001b[32mBuilding CXX object 3rdparty/protobuf-3.0.0/cmake/CMakeFiles/libprotobuf.dir/__/src/google/protobuf/stubs/int128.cc.o\u001b[0m\n",
            "[ 10%] \u001b[32mBuilding CXX object 3rdparty/protobuf-3.0.0/cmake/CMakeFiles/libprotobuf.dir/__/src/google/protobuf/stubs/once.cc.o\u001b[0m\n",
            "[ 10%] \u001b[32mBuilding CXX object 3rdparty/protobuf-3.0.0/cmake/CMakeFiles/libprotobuf.dir/__/src/google/protobuf/stubs/status.cc.o\u001b[0m\n",
            "[ 10%] \u001b[32mBuilding CXX object 3rdparty/protobuf-3.0.0/cmake/CMakeFiles/libprotobuf.dir/__/src/google/protobuf/stubs/statusor.cc.o\u001b[0m\n",
            "[ 11%] \u001b[32mBuilding CXX object 3rdparty/protobuf-3.0.0/cmake/CMakeFiles/libprotobuf.dir/__/src/google/protobuf/stubs/stringpiece.cc.o\u001b[0m\n",
            "[ 11%] \u001b[32mBuilding CXX object 3rdparty/protobuf-3.0.0/cmake/CMakeFiles/libprotobuf.dir/__/src/google/protobuf/stubs/stringprintf.cc.o\u001b[0m\n",
            "[ 11%] \u001b[32mBuilding CXX object 3rdparty/protobuf-3.0.0/cmake/CMakeFiles/libprotobuf.dir/__/src/google/protobuf/stubs/structurally_valid.cc.o\u001b[0m\n",
            "[ 12%] \u001b[32mBuilding CXX object 3rdparty/protobuf-3.0.0/cmake/CMakeFiles/libprotobuf.dir/__/src/google/protobuf/stubs/strutil.cc.o\u001b[0m\n",
            "[ 12%] \u001b[32mBuilding CXX object 3rdparty/protobuf-3.0.0/cmake/CMakeFiles/libprotobuf.dir/__/src/google/protobuf/stubs/time.cc.o\u001b[0m\n",
            "[ 12%] \u001b[32mBuilding CXX object 3rdparty/protobuf-3.0.0/cmake/CMakeFiles/libprotobuf.dir/__/src/google/protobuf/wire_format_lite.cc.o\u001b[0m\n",
            "[ 13%] \u001b[32mBuilding CXX object 3rdparty/protobuf-3.0.0/cmake/CMakeFiles/libprotobuf.dir/__/src/google/protobuf/any.cc.o\u001b[0m\n",
            "[ 13%] \u001b[32mBuilding CXX object 3rdparty/protobuf-3.0.0/cmake/CMakeFiles/libprotobuf.dir/__/src/google/protobuf/any.pb.cc.o\u001b[0m\n",
            "[ 13%] \u001b[32mBuilding CXX object 3rdparty/protobuf-3.0.0/cmake/CMakeFiles/libprotobuf.dir/__/src/google/protobuf/api.pb.cc.o\u001b[0m\n",
            "[ 14%] \u001b[32mBuilding CXX object 3rdparty/protobuf-3.0.0/cmake/CMakeFiles/libprotobuf.dir/__/src/google/protobuf/compiler/importer.cc.o\u001b[0m\n",
            "[ 14%] \u001b[32mBuilding CXX object 3rdparty/protobuf-3.0.0/cmake/CMakeFiles/libprotobuf.dir/__/src/google/protobuf/compiler/parser.cc.o\u001b[0m\n",
            "[ 14%] \u001b[32mBuilding CXX object 3rdparty/protobuf-3.0.0/cmake/CMakeFiles/libprotobuf.dir/__/src/google/protobuf/descriptor.cc.o\u001b[0m\n",
            "[ 15%] \u001b[32mBuilding CXX object 3rdparty/protobuf-3.0.0/cmake/CMakeFiles/libprotobuf.dir/__/src/google/protobuf/descriptor.pb.cc.o\u001b[0m\n",
            "[ 15%] \u001b[32mBuilding CXX object 3rdparty/protobuf-3.0.0/cmake/CMakeFiles/libprotobuf.dir/__/src/google/protobuf/descriptor_database.cc.o\u001b[0m\n",
            "[ 15%] \u001b[32mBuilding CXX object 3rdparty/protobuf-3.0.0/cmake/CMakeFiles/libprotobuf.dir/__/src/google/protobuf/duration.pb.cc.o\u001b[0m\n",
            "[ 16%] \u001b[32mBuilding CXX object 3rdparty/protobuf-3.0.0/cmake/CMakeFiles/libprotobuf.dir/__/src/google/protobuf/dynamic_message.cc.o\u001b[0m\n",
            "[ 16%] \u001b[32mBuilding CXX object 3rdparty/protobuf-3.0.0/cmake/CMakeFiles/libprotobuf.dir/__/src/google/protobuf/empty.pb.cc.o\u001b[0m\n",
            "[ 16%] \u001b[32mBuilding CXX object 3rdparty/protobuf-3.0.0/cmake/CMakeFiles/libprotobuf.dir/__/src/google/protobuf/extension_set_heavy.cc.o\u001b[0m\n",
            "[ 17%] \u001b[32mBuilding CXX object 3rdparty/protobuf-3.0.0/cmake/CMakeFiles/libprotobuf.dir/__/src/google/protobuf/field_mask.pb.cc.o\u001b[0m\n",
            "[ 17%] \u001b[32mBuilding CXX object 3rdparty/protobuf-3.0.0/cmake/CMakeFiles/libprotobuf.dir/__/src/google/protobuf/generated_message_reflection.cc.o\u001b[0m\n",
            "[ 17%] \u001b[32mBuilding CXX object 3rdparty/protobuf-3.0.0/cmake/CMakeFiles/libprotobuf.dir/__/src/google/protobuf/io/gzip_stream.cc.o\u001b[0m\n",
            "[ 18%] \u001b[32mBuilding CXX object 3rdparty/protobuf-3.0.0/cmake/CMakeFiles/libprotobuf.dir/__/src/google/protobuf/io/printer.cc.o\u001b[0m\n",
            "[ 18%] \u001b[32mBuilding CXX object 3rdparty/protobuf-3.0.0/cmake/CMakeFiles/libprotobuf.dir/__/src/google/protobuf/io/strtod.cc.o\u001b[0m\n",
            "[ 19%] \u001b[32mBuilding CXX object 3rdparty/protobuf-3.0.0/cmake/CMakeFiles/libprotobuf.dir/__/src/google/protobuf/io/tokenizer.cc.o\u001b[0m\n",
            "[ 19%] \u001b[32mBuilding CXX object 3rdparty/protobuf-3.0.0/cmake/CMakeFiles/libprotobuf.dir/__/src/google/protobuf/io/zero_copy_stream_impl.cc.o\u001b[0m\n",
            "[ 19%] \u001b[32mBuilding CXX object 3rdparty/protobuf-3.0.0/cmake/CMakeFiles/libprotobuf.dir/__/src/google/protobuf/map_field.cc.o\u001b[0m\n",
            "[ 20%] \u001b[32mBuilding CXX object 3rdparty/protobuf-3.0.0/cmake/CMakeFiles/libprotobuf.dir/__/src/google/protobuf/message.cc.o\u001b[0m\n",
            "[ 20%] \u001b[32mBuilding CXX object 3rdparty/protobuf-3.0.0/cmake/CMakeFiles/libprotobuf.dir/__/src/google/protobuf/reflection_ops.cc.o\u001b[0m\n",
            "[ 20%] \u001b[32mBuilding CXX object 3rdparty/protobuf-3.0.0/cmake/CMakeFiles/libprotobuf.dir/__/src/google/protobuf/service.cc.o\u001b[0m\n",
            "[ 21%] \u001b[32mBuilding CXX object 3rdparty/protobuf-3.0.0/cmake/CMakeFiles/libprotobuf.dir/__/src/google/protobuf/source_context.pb.cc.o\u001b[0m\n",
            "[ 21%] \u001b[32mBuilding CXX object 3rdparty/protobuf-3.0.0/cmake/CMakeFiles/libprotobuf.dir/__/src/google/protobuf/struct.pb.cc.o\u001b[0m\n",
            "[ 21%] \u001b[32mBuilding CXX object 3rdparty/protobuf-3.0.0/cmake/CMakeFiles/libprotobuf.dir/__/src/google/protobuf/stubs/mathlimits.cc.o\u001b[0m\n",
            "[ 22%] \u001b[32mBuilding CXX object 3rdparty/protobuf-3.0.0/cmake/CMakeFiles/libprotobuf.dir/__/src/google/protobuf/stubs/substitute.cc.o\u001b[0m\n",
            "[ 22%] \u001b[32mBuilding CXX object 3rdparty/protobuf-3.0.0/cmake/CMakeFiles/libprotobuf.dir/__/src/google/protobuf/text_format.cc.o\u001b[0m\n",
            "[ 22%] \u001b[32mBuilding CXX object 3rdparty/protobuf-3.0.0/cmake/CMakeFiles/libprotobuf.dir/__/src/google/protobuf/timestamp.pb.cc.o\u001b[0m\n",
            "[ 23%] \u001b[32mBuilding CXX object 3rdparty/protobuf-3.0.0/cmake/CMakeFiles/libprotobuf.dir/__/src/google/protobuf/type.pb.cc.o\u001b[0m\n",
            "[ 23%] \u001b[32mBuilding CXX object 3rdparty/protobuf-3.0.0/cmake/CMakeFiles/libprotobuf.dir/__/src/google/protobuf/unknown_field_set.cc.o\u001b[0m\n",
            "[ 23%] \u001b[32mBuilding CXX object 3rdparty/protobuf-3.0.0/cmake/CMakeFiles/libprotobuf.dir/__/src/google/protobuf/util/field_comparator.cc.o\u001b[0m\n",
            "[ 24%] \u001b[32mBuilding CXX object 3rdparty/protobuf-3.0.0/cmake/CMakeFiles/libprotobuf.dir/__/src/google/protobuf/util/field_mask_util.cc.o\u001b[0m\n",
            "[ 24%] \u001b[32mBuilding CXX object 3rdparty/protobuf-3.0.0/cmake/CMakeFiles/libprotobuf.dir/__/src/google/protobuf/util/internal/datapiece.cc.o\u001b[0m\n",
            "[ 24%] \u001b[32mBuilding CXX object 3rdparty/protobuf-3.0.0/cmake/CMakeFiles/libprotobuf.dir/__/src/google/protobuf/util/internal/default_value_objectwriter.cc.o\u001b[0m\n",
            "[ 25%] \u001b[32mBuilding CXX object 3rdparty/protobuf-3.0.0/cmake/CMakeFiles/libprotobuf.dir/__/src/google/protobuf/util/internal/error_listener.cc.o\u001b[0m\n",
            "[ 25%] \u001b[32mBuilding CXX object 3rdparty/protobuf-3.0.0/cmake/CMakeFiles/libprotobuf.dir/__/src/google/protobuf/util/internal/field_mask_utility.cc.o\u001b[0m\n",
            "[ 25%] \u001b[32mBuilding CXX object 3rdparty/protobuf-3.0.0/cmake/CMakeFiles/libprotobuf.dir/__/src/google/protobuf/util/internal/json_escaping.cc.o\u001b[0m\n",
            "[ 26%] \u001b[32mBuilding CXX object 3rdparty/protobuf-3.0.0/cmake/CMakeFiles/libprotobuf.dir/__/src/google/protobuf/util/internal/json_objectwriter.cc.o\u001b[0m\n",
            "[ 26%] \u001b[32mBuilding CXX object 3rdparty/protobuf-3.0.0/cmake/CMakeFiles/libprotobuf.dir/__/src/google/protobuf/util/internal/json_stream_parser.cc.o\u001b[0m\n",
            "[ 26%] \u001b[32mBuilding CXX object 3rdparty/protobuf-3.0.0/cmake/CMakeFiles/libprotobuf.dir/__/src/google/protobuf/util/internal/object_writer.cc.o\u001b[0m\n",
            "[ 27%] \u001b[32mBuilding CXX object 3rdparty/protobuf-3.0.0/cmake/CMakeFiles/libprotobuf.dir/__/src/google/protobuf/util/internal/proto_writer.cc.o\u001b[0m\n",
            "[ 27%] \u001b[32mBuilding CXX object 3rdparty/protobuf-3.0.0/cmake/CMakeFiles/libprotobuf.dir/__/src/google/protobuf/util/internal/protostream_objectsource.cc.o\u001b[0m\n",
            "[ 27%] \u001b[32mBuilding CXX object 3rdparty/protobuf-3.0.0/cmake/CMakeFiles/libprotobuf.dir/__/src/google/protobuf/util/internal/protostream_objectwriter.cc.o\u001b[0m\n",
            "[ 28%] \u001b[32mBuilding CXX object 3rdparty/protobuf-3.0.0/cmake/CMakeFiles/libprotobuf.dir/__/src/google/protobuf/util/internal/type_info.cc.o\u001b[0m\n",
            "[ 28%] \u001b[32mBuilding CXX object 3rdparty/protobuf-3.0.0/cmake/CMakeFiles/libprotobuf.dir/__/src/google/protobuf/util/internal/type_info_test_helper.cc.o\u001b[0m\n",
            "[ 28%] \u001b[32mBuilding CXX object 3rdparty/protobuf-3.0.0/cmake/CMakeFiles/libprotobuf.dir/__/src/google/protobuf/util/internal/utility.cc.o\u001b[0m\n",
            "[ 29%] \u001b[32mBuilding CXX object 3rdparty/protobuf-3.0.0/cmake/CMakeFiles/libprotobuf.dir/__/src/google/protobuf/util/json_util.cc.o\u001b[0m\n",
            "[ 29%] \u001b[32mBuilding CXX object 3rdparty/protobuf-3.0.0/cmake/CMakeFiles/libprotobuf.dir/__/src/google/protobuf/util/message_differencer.cc.o\u001b[0m\n",
            "[ 30%] \u001b[32mBuilding CXX object 3rdparty/protobuf-3.0.0/cmake/CMakeFiles/libprotobuf.dir/__/src/google/protobuf/util/time_util.cc.o\u001b[0m\n",
            "[ 30%] \u001b[32mBuilding CXX object 3rdparty/protobuf-3.0.0/cmake/CMakeFiles/libprotobuf.dir/__/src/google/protobuf/util/type_resolver_util.cc.o\u001b[0m\n",
            "[ 30%] \u001b[32mBuilding CXX object 3rdparty/protobuf-3.0.0/cmake/CMakeFiles/libprotobuf.dir/__/src/google/protobuf/wire_format.cc.o\u001b[0m\n",
            "[ 31%] \u001b[32mBuilding CXX object 3rdparty/protobuf-3.0.0/cmake/CMakeFiles/libprotobuf.dir/__/src/google/protobuf/wrappers.pb.cc.o\u001b[0m\n",
            "[ 31%] \u001b[32m\u001b[1mLinking CXX static library ../../../lib/libprotobuf.a\u001b[0m\n",
            "[ 31%] Built target libprotobuf\n",
            "\u001b[35m\u001b[1mScanning dependencies of target libprotoc\u001b[0m\n",
            "[ 31%] \u001b[32mBuilding CXX object 3rdparty/protobuf-3.0.0/cmake/CMakeFiles/libprotoc.dir/__/src/google/protobuf/compiler/code_generator.cc.o\u001b[0m\n",
            "[ 32%] \u001b[32mBuilding CXX object 3rdparty/protobuf-3.0.0/cmake/CMakeFiles/libprotoc.dir/__/src/google/protobuf/compiler/command_line_interface.cc.o\u001b[0m\n",
            "[ 32%] \u001b[32mBuilding CXX object 3rdparty/protobuf-3.0.0/cmake/CMakeFiles/libprotoc.dir/__/src/google/protobuf/compiler/cpp/cpp_enum.cc.o\u001b[0m\n",
            "[ 33%] \u001b[32mBuilding CXX object 3rdparty/protobuf-3.0.0/cmake/CMakeFiles/libprotoc.dir/__/src/google/protobuf/compiler/cpp/cpp_enum_field.cc.o\u001b[0m\n",
            "[ 33%] \u001b[32mBuilding CXX object 3rdparty/protobuf-3.0.0/cmake/CMakeFiles/libprotoc.dir/__/src/google/protobuf/compiler/cpp/cpp_extension.cc.o\u001b[0m\n",
            "[ 33%] \u001b[32mBuilding CXX object 3rdparty/protobuf-3.0.0/cmake/CMakeFiles/libprotoc.dir/__/src/google/protobuf/compiler/cpp/cpp_field.cc.o\u001b[0m\n",
            "[ 34%] \u001b[32mBuilding CXX object 3rdparty/protobuf-3.0.0/cmake/CMakeFiles/libprotoc.dir/__/src/google/protobuf/compiler/cpp/cpp_file.cc.o\u001b[0m\n",
            "[ 34%] \u001b[32mBuilding CXX object 3rdparty/protobuf-3.0.0/cmake/CMakeFiles/libprotoc.dir/__/src/google/protobuf/compiler/cpp/cpp_generator.cc.o\u001b[0m\n",
            "[ 34%] \u001b[32mBuilding CXX object 3rdparty/protobuf-3.0.0/cmake/CMakeFiles/libprotoc.dir/__/src/google/protobuf/compiler/cpp/cpp_helpers.cc.o\u001b[0m\n",
            "[ 35%] \u001b[32mBuilding CXX object 3rdparty/protobuf-3.0.0/cmake/CMakeFiles/libprotoc.dir/__/src/google/protobuf/compiler/cpp/cpp_map_field.cc.o\u001b[0m\n",
            "[ 35%] \u001b[32mBuilding CXX object 3rdparty/protobuf-3.0.0/cmake/CMakeFiles/libprotoc.dir/__/src/google/protobuf/compiler/cpp/cpp_message.cc.o\u001b[0m\n",
            "[ 35%] \u001b[32mBuilding CXX object 3rdparty/protobuf-3.0.0/cmake/CMakeFiles/libprotoc.dir/__/src/google/protobuf/compiler/cpp/cpp_message_field.cc.o\u001b[0m\n",
            "[ 36%] \u001b[32mBuilding CXX object 3rdparty/protobuf-3.0.0/cmake/CMakeFiles/libprotoc.dir/__/src/google/protobuf/compiler/cpp/cpp_primitive_field.cc.o\u001b[0m\n",
            "[ 36%] \u001b[32mBuilding CXX object 3rdparty/protobuf-3.0.0/cmake/CMakeFiles/libprotoc.dir/__/src/google/protobuf/compiler/cpp/cpp_service.cc.o\u001b[0m\n",
            "[ 36%] \u001b[32mBuilding CXX object 3rdparty/protobuf-3.0.0/cmake/CMakeFiles/libprotoc.dir/__/src/google/protobuf/compiler/cpp/cpp_string_field.cc.o\u001b[0m\n",
            "[ 37%] \u001b[32mBuilding CXX object 3rdparty/protobuf-3.0.0/cmake/CMakeFiles/libprotoc.dir/__/src/google/protobuf/compiler/csharp/csharp_doc_comment.cc.o\u001b[0m\n",
            "[ 37%] \u001b[32mBuilding CXX object 3rdparty/protobuf-3.0.0/cmake/CMakeFiles/libprotoc.dir/__/src/google/protobuf/compiler/csharp/csharp_enum.cc.o\u001b[0m\n",
            "[ 37%] \u001b[32mBuilding CXX object 3rdparty/protobuf-3.0.0/cmake/CMakeFiles/libprotoc.dir/__/src/google/protobuf/compiler/csharp/csharp_enum_field.cc.o\u001b[0m\n",
            "[ 38%] \u001b[32mBuilding CXX object 3rdparty/protobuf-3.0.0/cmake/CMakeFiles/libprotoc.dir/__/src/google/protobuf/compiler/csharp/csharp_field_base.cc.o\u001b[0m\n",
            "[ 38%] \u001b[32mBuilding CXX object 3rdparty/protobuf-3.0.0/cmake/CMakeFiles/libprotoc.dir/__/src/google/protobuf/compiler/csharp/csharp_generator.cc.o\u001b[0m\n",
            "[ 38%] \u001b[32mBuilding CXX object 3rdparty/protobuf-3.0.0/cmake/CMakeFiles/libprotoc.dir/__/src/google/protobuf/compiler/csharp/csharp_helpers.cc.o\u001b[0m\n",
            "[ 39%] \u001b[32mBuilding CXX object 3rdparty/protobuf-3.0.0/cmake/CMakeFiles/libprotoc.dir/__/src/google/protobuf/compiler/csharp/csharp_map_field.cc.o\u001b[0m\n",
            "[ 39%] \u001b[32mBuilding CXX object 3rdparty/protobuf-3.0.0/cmake/CMakeFiles/libprotoc.dir/__/src/google/protobuf/compiler/csharp/csharp_message.cc.o\u001b[0m\n",
            "[ 39%] \u001b[32mBuilding CXX object 3rdparty/protobuf-3.0.0/cmake/CMakeFiles/libprotoc.dir/__/src/google/protobuf/compiler/csharp/csharp_message_field.cc.o\u001b[0m\n",
            "[ 40%] \u001b[32mBuilding CXX object 3rdparty/protobuf-3.0.0/cmake/CMakeFiles/libprotoc.dir/__/src/google/protobuf/compiler/csharp/csharp_primitive_field.cc.o\u001b[0m\n",
            "[ 40%] \u001b[32mBuilding CXX object 3rdparty/protobuf-3.0.0/cmake/CMakeFiles/libprotoc.dir/__/src/google/protobuf/compiler/csharp/csharp_reflection_class.cc.o\u001b[0m\n",
            "[ 40%] \u001b[32mBuilding CXX object 3rdparty/protobuf-3.0.0/cmake/CMakeFiles/libprotoc.dir/__/src/google/protobuf/compiler/csharp/csharp_repeated_enum_field.cc.o\u001b[0m\n",
            "[ 41%] \u001b[32mBuilding CXX object 3rdparty/protobuf-3.0.0/cmake/CMakeFiles/libprotoc.dir/__/src/google/protobuf/compiler/csharp/csharp_repeated_message_field.cc.o\u001b[0m\n",
            "[ 41%] \u001b[32mBuilding CXX object 3rdparty/protobuf-3.0.0/cmake/CMakeFiles/libprotoc.dir/__/src/google/protobuf/compiler/csharp/csharp_repeated_primitive_field.cc.o\u001b[0m\n",
            "[ 41%] \u001b[32mBuilding CXX object 3rdparty/protobuf-3.0.0/cmake/CMakeFiles/libprotoc.dir/__/src/google/protobuf/compiler/csharp/csharp_source_generator_base.cc.o\u001b[0m\n",
            "[ 42%] \u001b[32mBuilding CXX object 3rdparty/protobuf-3.0.0/cmake/CMakeFiles/libprotoc.dir/__/src/google/protobuf/compiler/csharp/csharp_wrapper_field.cc.o\u001b[0m\n",
            "[ 42%] \u001b[32mBuilding CXX object 3rdparty/protobuf-3.0.0/cmake/CMakeFiles/libprotoc.dir/__/src/google/protobuf/compiler/java/java_context.cc.o\u001b[0m\n",
            "[ 42%] \u001b[32mBuilding CXX object 3rdparty/protobuf-3.0.0/cmake/CMakeFiles/libprotoc.dir/__/src/google/protobuf/compiler/java/java_doc_comment.cc.o\u001b[0m\n",
            "[ 43%] \u001b[32mBuilding CXX object 3rdparty/protobuf-3.0.0/cmake/CMakeFiles/libprotoc.dir/__/src/google/protobuf/compiler/java/java_enum.cc.o\u001b[0m\n",
            "[ 43%] \u001b[32mBuilding CXX object 3rdparty/protobuf-3.0.0/cmake/CMakeFiles/libprotoc.dir/__/src/google/protobuf/compiler/java/java_enum_field.cc.o\u001b[0m\n",
            "[ 44%] \u001b[32mBuilding CXX object 3rdparty/protobuf-3.0.0/cmake/CMakeFiles/libprotoc.dir/__/src/google/protobuf/compiler/java/java_enum_field_lite.cc.o\u001b[0m\n",
            "[ 44%] \u001b[32mBuilding CXX object 3rdparty/protobuf-3.0.0/cmake/CMakeFiles/libprotoc.dir/__/src/google/protobuf/compiler/java/java_enum_lite.cc.o\u001b[0m\n",
            "[ 44%] \u001b[32mBuilding CXX object 3rdparty/protobuf-3.0.0/cmake/CMakeFiles/libprotoc.dir/__/src/google/protobuf/compiler/java/java_extension.cc.o\u001b[0m\n",
            "[ 45%] \u001b[32mBuilding CXX object 3rdparty/protobuf-3.0.0/cmake/CMakeFiles/libprotoc.dir/__/src/google/protobuf/compiler/java/java_extension_lite.cc.o\u001b[0m\n",
            "[ 45%] \u001b[32mBuilding CXX object 3rdparty/protobuf-3.0.0/cmake/CMakeFiles/libprotoc.dir/__/src/google/protobuf/compiler/java/java_field.cc.o\u001b[0m\n",
            "[ 45%] \u001b[32mBuilding CXX object 3rdparty/protobuf-3.0.0/cmake/CMakeFiles/libprotoc.dir/__/src/google/protobuf/compiler/java/java_file.cc.o\u001b[0m\n",
            "[ 46%] \u001b[32mBuilding CXX object 3rdparty/protobuf-3.0.0/cmake/CMakeFiles/libprotoc.dir/__/src/google/protobuf/compiler/java/java_generator.cc.o\u001b[0m\n",
            "[ 46%] \u001b[32mBuilding CXX object 3rdparty/protobuf-3.0.0/cmake/CMakeFiles/libprotoc.dir/__/src/google/protobuf/compiler/java/java_generator_factory.cc.o\u001b[0m\n",
            "[ 46%] \u001b[32mBuilding CXX object 3rdparty/protobuf-3.0.0/cmake/CMakeFiles/libprotoc.dir/__/src/google/protobuf/compiler/java/java_helpers.cc.o\u001b[0m\n",
            "[ 47%] \u001b[32mBuilding CXX object 3rdparty/protobuf-3.0.0/cmake/CMakeFiles/libprotoc.dir/__/src/google/protobuf/compiler/java/java_lazy_message_field.cc.o\u001b[0m\n",
            "[ 47%] \u001b[32mBuilding CXX object 3rdparty/protobuf-3.0.0/cmake/CMakeFiles/libprotoc.dir/__/src/google/protobuf/compiler/java/java_lazy_message_field_lite.cc.o\u001b[0m\n",
            "[ 47%] \u001b[32mBuilding CXX object 3rdparty/protobuf-3.0.0/cmake/CMakeFiles/libprotoc.dir/__/src/google/protobuf/compiler/java/java_map_field.cc.o\u001b[0m\n",
            "[ 48%] \u001b[32mBuilding CXX object 3rdparty/protobuf-3.0.0/cmake/CMakeFiles/libprotoc.dir/__/src/google/protobuf/compiler/java/java_map_field_lite.cc.o\u001b[0m\n",
            "[ 48%] \u001b[32mBuilding CXX object 3rdparty/protobuf-3.0.0/cmake/CMakeFiles/libprotoc.dir/__/src/google/protobuf/compiler/java/java_message.cc.o\u001b[0m\n",
            "[ 48%] \u001b[32mBuilding CXX object 3rdparty/protobuf-3.0.0/cmake/CMakeFiles/libprotoc.dir/__/src/google/protobuf/compiler/java/java_message_builder.cc.o\u001b[0m\n",
            "[ 49%] \u001b[32mBuilding CXX object 3rdparty/protobuf-3.0.0/cmake/CMakeFiles/libprotoc.dir/__/src/google/protobuf/compiler/java/java_message_builder_lite.cc.o\u001b[0m\n",
            "[ 49%] \u001b[32mBuilding CXX object 3rdparty/protobuf-3.0.0/cmake/CMakeFiles/libprotoc.dir/__/src/google/protobuf/compiler/java/java_message_field.cc.o\u001b[0m\n",
            "[ 49%] \u001b[32mBuilding CXX object 3rdparty/protobuf-3.0.0/cmake/CMakeFiles/libprotoc.dir/__/src/google/protobuf/compiler/java/java_message_field_lite.cc.o\u001b[0m\n",
            "[ 50%] \u001b[32mBuilding CXX object 3rdparty/protobuf-3.0.0/cmake/CMakeFiles/libprotoc.dir/__/src/google/protobuf/compiler/java/java_message_lite.cc.o\u001b[0m\n",
            "[ 50%] \u001b[32mBuilding CXX object 3rdparty/protobuf-3.0.0/cmake/CMakeFiles/libprotoc.dir/__/src/google/protobuf/compiler/java/java_name_resolver.cc.o\u001b[0m\n",
            "[ 50%] \u001b[32mBuilding CXX object 3rdparty/protobuf-3.0.0/cmake/CMakeFiles/libprotoc.dir/__/src/google/protobuf/compiler/java/java_primitive_field.cc.o\u001b[0m\n",
            "[ 51%] \u001b[32mBuilding CXX object 3rdparty/protobuf-3.0.0/cmake/CMakeFiles/libprotoc.dir/__/src/google/protobuf/compiler/java/java_primitive_field_lite.cc.o\u001b[0m\n",
            "[ 51%] \u001b[32mBuilding CXX object 3rdparty/protobuf-3.0.0/cmake/CMakeFiles/libprotoc.dir/__/src/google/protobuf/compiler/java/java_service.cc.o\u001b[0m\n",
            "[ 51%] \u001b[32mBuilding CXX object 3rdparty/protobuf-3.0.0/cmake/CMakeFiles/libprotoc.dir/__/src/google/protobuf/compiler/java/java_shared_code_generator.cc.o\u001b[0m\n",
            "[ 52%] \u001b[32mBuilding CXX object 3rdparty/protobuf-3.0.0/cmake/CMakeFiles/libprotoc.dir/__/src/google/protobuf/compiler/java/java_string_field.cc.o\u001b[0m\n",
            "[ 52%] \u001b[32mBuilding CXX object 3rdparty/protobuf-3.0.0/cmake/CMakeFiles/libprotoc.dir/__/src/google/protobuf/compiler/java/java_string_field_lite.cc.o\u001b[0m\n",
            "[ 52%] \u001b[32mBuilding CXX object 3rdparty/protobuf-3.0.0/cmake/CMakeFiles/libprotoc.dir/__/src/google/protobuf/compiler/javanano/javanano_enum.cc.o\u001b[0m\n",
            "[ 53%] \u001b[32mBuilding CXX object 3rdparty/protobuf-3.0.0/cmake/CMakeFiles/libprotoc.dir/__/src/google/protobuf/compiler/javanano/javanano_enum_field.cc.o\u001b[0m\n",
            "[ 53%] \u001b[32mBuilding CXX object 3rdparty/protobuf-3.0.0/cmake/CMakeFiles/libprotoc.dir/__/src/google/protobuf/compiler/javanano/javanano_extension.cc.o\u001b[0m\n",
            "[ 53%] \u001b[32mBuilding CXX object 3rdparty/protobuf-3.0.0/cmake/CMakeFiles/libprotoc.dir/__/src/google/protobuf/compiler/javanano/javanano_field.cc.o\u001b[0m\n",
            "[ 54%] \u001b[32mBuilding CXX object 3rdparty/protobuf-3.0.0/cmake/CMakeFiles/libprotoc.dir/__/src/google/protobuf/compiler/javanano/javanano_file.cc.o\u001b[0m\n",
            "[ 54%] \u001b[32mBuilding CXX object 3rdparty/protobuf-3.0.0/cmake/CMakeFiles/libprotoc.dir/__/src/google/protobuf/compiler/javanano/javanano_generator.cc.o\u001b[0m\n",
            "[ 55%] \u001b[32mBuilding CXX object 3rdparty/protobuf-3.0.0/cmake/CMakeFiles/libprotoc.dir/__/src/google/protobuf/compiler/javanano/javanano_helpers.cc.o\u001b[0m\n",
            "[ 55%] \u001b[32mBuilding CXX object 3rdparty/protobuf-3.0.0/cmake/CMakeFiles/libprotoc.dir/__/src/google/protobuf/compiler/javanano/javanano_map_field.cc.o\u001b[0m\n",
            "[ 55%] \u001b[32mBuilding CXX object 3rdparty/protobuf-3.0.0/cmake/CMakeFiles/libprotoc.dir/__/src/google/protobuf/compiler/javanano/javanano_message.cc.o\u001b[0m\n",
            "[ 56%] \u001b[32mBuilding CXX object 3rdparty/protobuf-3.0.0/cmake/CMakeFiles/libprotoc.dir/__/src/google/protobuf/compiler/javanano/javanano_message_field.cc.o\u001b[0m\n",
            "[ 56%] \u001b[32mBuilding CXX object 3rdparty/protobuf-3.0.0/cmake/CMakeFiles/libprotoc.dir/__/src/google/protobuf/compiler/javanano/javanano_primitive_field.cc.o\u001b[0m\n",
            "[ 56%] \u001b[32mBuilding CXX object 3rdparty/protobuf-3.0.0/cmake/CMakeFiles/libprotoc.dir/__/src/google/protobuf/compiler/js/js_generator.cc.o\u001b[0m\n",
            "[ 57%] \u001b[32mBuilding CXX object 3rdparty/protobuf-3.0.0/cmake/CMakeFiles/libprotoc.dir/__/src/google/protobuf/compiler/objectivec/objectivec_enum.cc.o\u001b[0m\n",
            "[ 57%] \u001b[32mBuilding CXX object 3rdparty/protobuf-3.0.0/cmake/CMakeFiles/libprotoc.dir/__/src/google/protobuf/compiler/objectivec/objectivec_enum_field.cc.o\u001b[0m\n",
            "[ 57%] \u001b[32mBuilding CXX object 3rdparty/protobuf-3.0.0/cmake/CMakeFiles/libprotoc.dir/__/src/google/protobuf/compiler/objectivec/objectivec_extension.cc.o\u001b[0m\n",
            "[ 58%] \u001b[32mBuilding CXX object 3rdparty/protobuf-3.0.0/cmake/CMakeFiles/libprotoc.dir/__/src/google/protobuf/compiler/objectivec/objectivec_field.cc.o\u001b[0m\n",
            "[ 58%] \u001b[32mBuilding CXX object 3rdparty/protobuf-3.0.0/cmake/CMakeFiles/libprotoc.dir/__/src/google/protobuf/compiler/objectivec/objectivec_file.cc.o\u001b[0m\n",
            "[ 58%] \u001b[32mBuilding CXX object 3rdparty/protobuf-3.0.0/cmake/CMakeFiles/libprotoc.dir/__/src/google/protobuf/compiler/objectivec/objectivec_generator.cc.o\u001b[0m\n",
            "[ 59%] \u001b[32mBuilding CXX object 3rdparty/protobuf-3.0.0/cmake/CMakeFiles/libprotoc.dir/__/src/google/protobuf/compiler/objectivec/objectivec_helpers.cc.o\u001b[0m\n",
            "[ 59%] \u001b[32mBuilding CXX object 3rdparty/protobuf-3.0.0/cmake/CMakeFiles/libprotoc.dir/__/src/google/protobuf/compiler/objectivec/objectivec_map_field.cc.o\u001b[0m\n",
            "[ 59%] \u001b[32mBuilding CXX object 3rdparty/protobuf-3.0.0/cmake/CMakeFiles/libprotoc.dir/__/src/google/protobuf/compiler/objectivec/objectivec_message.cc.o\u001b[0m\n",
            "[ 60%] \u001b[32mBuilding CXX object 3rdparty/protobuf-3.0.0/cmake/CMakeFiles/libprotoc.dir/__/src/google/protobuf/compiler/objectivec/objectivec_message_field.cc.o\u001b[0m\n",
            "[ 60%] \u001b[32mBuilding CXX object 3rdparty/protobuf-3.0.0/cmake/CMakeFiles/libprotoc.dir/__/src/google/protobuf/compiler/objectivec/objectivec_oneof.cc.o\u001b[0m\n",
            "[ 60%] \u001b[32mBuilding CXX object 3rdparty/protobuf-3.0.0/cmake/CMakeFiles/libprotoc.dir/__/src/google/protobuf/compiler/objectivec/objectivec_primitive_field.cc.o\u001b[0m\n",
            "[ 61%] \u001b[32mBuilding CXX object 3rdparty/protobuf-3.0.0/cmake/CMakeFiles/libprotoc.dir/__/src/google/protobuf/compiler/plugin.cc.o\u001b[0m\n",
            "[ 61%] \u001b[32mBuilding CXX object 3rdparty/protobuf-3.0.0/cmake/CMakeFiles/libprotoc.dir/__/src/google/protobuf/compiler/plugin.pb.cc.o\u001b[0m\n",
            "[ 61%] \u001b[32mBuilding CXX object 3rdparty/protobuf-3.0.0/cmake/CMakeFiles/libprotoc.dir/__/src/google/protobuf/compiler/python/python_generator.cc.o\u001b[0m\n",
            "[ 62%] \u001b[32mBuilding CXX object 3rdparty/protobuf-3.0.0/cmake/CMakeFiles/libprotoc.dir/__/src/google/protobuf/compiler/ruby/ruby_generator.cc.o\u001b[0m\n",
            "[ 62%] \u001b[32mBuilding CXX object 3rdparty/protobuf-3.0.0/cmake/CMakeFiles/libprotoc.dir/__/src/google/protobuf/compiler/subprocess.cc.o\u001b[0m\n",
            "[ 62%] \u001b[32mBuilding CXX object 3rdparty/protobuf-3.0.0/cmake/CMakeFiles/libprotoc.dir/__/src/google/protobuf/compiler/zip_writer.cc.o\u001b[0m\n",
            "[ 63%] \u001b[32m\u001b[1mLinking CXX static library ../../../lib/libprotoc.a\u001b[0m\n",
            "[ 63%] Built target libprotoc\n",
            "\u001b[35m\u001b[1mScanning dependencies of target protoc\u001b[0m\n",
            "[ 63%] \u001b[32mBuilding CXX object 3rdparty/protobuf-3.0.0/cmake/CMakeFiles/protoc.dir/__/src/google/protobuf/compiler/main.cc.o\u001b[0m\n",
            "[ 64%] \u001b[32m\u001b[1mLinking CXX executable ../../../bin/protoc\u001b[0m\n",
            "[ 64%] Built target protoc\n",
            "\u001b[35m\u001b[1mScanning dependencies of target libprotobuf-lite\u001b[0m\n",
            "[ 64%] \u001b[32mBuilding CXX object 3rdparty/protobuf-3.0.0/cmake/CMakeFiles/libprotobuf-lite.dir/__/src/google/protobuf/arena.cc.o\u001b[0m\n",
            "[ 65%] \u001b[32mBuilding CXX object 3rdparty/protobuf-3.0.0/cmake/CMakeFiles/libprotobuf-lite.dir/__/src/google/protobuf/arenastring.cc.o\u001b[0m\n",
            "[ 65%] \u001b[32mBuilding CXX object 3rdparty/protobuf-3.0.0/cmake/CMakeFiles/libprotobuf-lite.dir/__/src/google/protobuf/extension_set.cc.o\u001b[0m\n",
            "[ 65%] \u001b[32mBuilding CXX object 3rdparty/protobuf-3.0.0/cmake/CMakeFiles/libprotobuf-lite.dir/__/src/google/protobuf/generated_message_util.cc.o\u001b[0m\n",
            "[ 66%] \u001b[32mBuilding CXX object 3rdparty/protobuf-3.0.0/cmake/CMakeFiles/libprotobuf-lite.dir/__/src/google/protobuf/io/coded_stream.cc.o\u001b[0m\n",
            "[ 66%] \u001b[32mBuilding CXX object 3rdparty/protobuf-3.0.0/cmake/CMakeFiles/libprotobuf-lite.dir/__/src/google/protobuf/io/zero_copy_stream.cc.o\u001b[0m\n",
            "[ 66%] \u001b[32mBuilding CXX object 3rdparty/protobuf-3.0.0/cmake/CMakeFiles/libprotobuf-lite.dir/__/src/google/protobuf/io/zero_copy_stream_impl_lite.cc.o\u001b[0m\n",
            "[ 67%] \u001b[32mBuilding CXX object 3rdparty/protobuf-3.0.0/cmake/CMakeFiles/libprotobuf-lite.dir/__/src/google/protobuf/message_lite.cc.o\u001b[0m\n",
            "[ 67%] \u001b[32mBuilding CXX object 3rdparty/protobuf-3.0.0/cmake/CMakeFiles/libprotobuf-lite.dir/__/src/google/protobuf/repeated_field.cc.o\u001b[0m\n",
            "[ 67%] \u001b[32mBuilding CXX object 3rdparty/protobuf-3.0.0/cmake/CMakeFiles/libprotobuf-lite.dir/__/src/google/protobuf/stubs/atomicops_internals_x86_gcc.cc.o\u001b[0m\n",
            "[ 68%] \u001b[32mBuilding CXX object 3rdparty/protobuf-3.0.0/cmake/CMakeFiles/libprotobuf-lite.dir/__/src/google/protobuf/stubs/atomicops_internals_x86_msvc.cc.o\u001b[0m\n",
            "[ 68%] \u001b[32mBuilding CXX object 3rdparty/protobuf-3.0.0/cmake/CMakeFiles/libprotobuf-lite.dir/__/src/google/protobuf/stubs/bytestream.cc.o\u001b[0m\n",
            "[ 68%] \u001b[32mBuilding CXX object 3rdparty/protobuf-3.0.0/cmake/CMakeFiles/libprotobuf-lite.dir/__/src/google/protobuf/stubs/common.cc.o\u001b[0m\n",
            "[ 69%] \u001b[32mBuilding CXX object 3rdparty/protobuf-3.0.0/cmake/CMakeFiles/libprotobuf-lite.dir/__/src/google/protobuf/stubs/int128.cc.o\u001b[0m\n",
            "[ 69%] \u001b[32mBuilding CXX object 3rdparty/protobuf-3.0.0/cmake/CMakeFiles/libprotobuf-lite.dir/__/src/google/protobuf/stubs/once.cc.o\u001b[0m\n",
            "[ 69%] \u001b[32mBuilding CXX object 3rdparty/protobuf-3.0.0/cmake/CMakeFiles/libprotobuf-lite.dir/__/src/google/protobuf/stubs/status.cc.o\u001b[0m\n",
            "[ 70%] \u001b[32mBuilding CXX object 3rdparty/protobuf-3.0.0/cmake/CMakeFiles/libprotobuf-lite.dir/__/src/google/protobuf/stubs/statusor.cc.o\u001b[0m\n",
            "[ 70%] \u001b[32mBuilding CXX object 3rdparty/protobuf-3.0.0/cmake/CMakeFiles/libprotobuf-lite.dir/__/src/google/protobuf/stubs/stringpiece.cc.o\u001b[0m\n",
            "[ 70%] \u001b[32mBuilding CXX object 3rdparty/protobuf-3.0.0/cmake/CMakeFiles/libprotobuf-lite.dir/__/src/google/protobuf/stubs/stringprintf.cc.o\u001b[0m\n",
            "[ 71%] \u001b[32mBuilding CXX object 3rdparty/protobuf-3.0.0/cmake/CMakeFiles/libprotobuf-lite.dir/__/src/google/protobuf/stubs/structurally_valid.cc.o\u001b[0m\n",
            "[ 71%] \u001b[32mBuilding CXX object 3rdparty/protobuf-3.0.0/cmake/CMakeFiles/libprotobuf-lite.dir/__/src/google/protobuf/stubs/strutil.cc.o\u001b[0m\n",
            "[ 71%] \u001b[32mBuilding CXX object 3rdparty/protobuf-3.0.0/cmake/CMakeFiles/libprotobuf-lite.dir/__/src/google/protobuf/stubs/time.cc.o\u001b[0m\n",
            "[ 72%] \u001b[32mBuilding CXX object 3rdparty/protobuf-3.0.0/cmake/CMakeFiles/libprotobuf-lite.dir/__/src/google/protobuf/wire_format_lite.cc.o\u001b[0m\n",
            "[ 72%] \u001b[32m\u001b[1mLinking CXX static library ../../../lib/libprotobuf-lite.a\u001b[0m\n",
            "[ 72%] Built target libprotobuf-lite\n",
            "\u001b[35m\u001b[1mScanning dependencies of target proto_generation\u001b[0m\n",
            "[ 72%] \u001b[34m\u001b[1mGenerating headers and sources from *.proto files\u001b[0m\n",
            "[ 72%] Built target proto_generation\n",
            "\u001b[35m\u001b[1mScanning dependencies of target internals_proto\u001b[0m\n",
            "[ 72%] \u001b[32mBuilding CXX object src/artm/CMakeFiles/internals_proto.dir/core/internals.pb.cc.o\u001b[0m\n",
            "[ 72%] \u001b[32m\u001b[1mLinking CXX static library ../../lib/libinternals_proto.a\u001b[0m\n",
            "[ 73%] Built target internals_proto\n",
            "\u001b[35m\u001b[1mScanning dependencies of target messages_proto\u001b[0m\n",
            "[ 73%] \u001b[32mBuilding CXX object src/artm/CMakeFiles/messages_proto.dir/messages.pb.cc.o\u001b[0m\n",
            "[ 74%] \u001b[32m\u001b[1mLinking CXX static library ../../lib/libmessages_proto.a\u001b[0m\n",
            "[ 74%] Built target messages_proto\n",
            "\u001b[35m\u001b[1mScanning dependencies of target artm-static\u001b[0m\n",
            "[ 75%] \u001b[32mBuilding CXX object src/artm/CMakeFiles/artm-static.dir/c_interface.cc.o\u001b[0m\n",
            "[ 75%] \u001b[32mBuilding CXX object src/artm/CMakeFiles/artm-static.dir/regularizer_interface.cc.o\u001b[0m\n",
            "[ 75%] \u001b[32mBuilding CXX object src/artm/CMakeFiles/artm-static.dir/score_calculator_interface.cc.o\u001b[0m\n",
            "[ 76%] \u001b[32mBuilding CXX object src/artm/CMakeFiles/artm-static.dir/core/batch_manager.cc.o\u001b[0m\n",
            "[ 76%] \u001b[32mBuilding CXX object src/artm/CMakeFiles/artm-static.dir/core/cache_manager.cc.o\u001b[0m\n",
            "[ 76%] \u001b[32mBuilding CXX object src/artm/CMakeFiles/artm-static.dir/core/collection_parser.cc.o\u001b[0m\n",
            "[ 77%] \u001b[32mBuilding CXX object src/artm/CMakeFiles/artm-static.dir/core/cuckoo_watch.cc.o\u001b[0m\n",
            "[ 77%] \u001b[32mBuilding CXX object src/artm/CMakeFiles/artm-static.dir/core/dense_phi_matrix.cc.o\u001b[0m\n",
            "\u001b[01m\u001b[K/content/bigartm/src/artm/core/dense_phi_matrix.cc:\u001b[m\u001b[K In constructor ‘\u001b[01m\u001b[Kartm::core::AttachedPhiMatrix::AttachedPhiMatrix(int, float*, artm::core::PhiMatrixFrame*)\u001b[m\u001b[K’:\n",
            "\u001b[01m\u001b[K/content/bigartm/src/artm/core/dense_phi_matrix.cc:406:57:\u001b[m\u001b[K \u001b[01;35m\u001b[Kwarning: \u001b[m\u001b[Kcomparison between signed and unsigned integer expressions [\u001b[01;35m\u001b[K-Wsign-compare\u001b[m\u001b[K]\n",
            "   if (\u001b[01;35m\u001b[K(int64_t) topic_size * token_size * sizeof(float) != address_length\u001b[m\u001b[K) {\n",
            "       \u001b[01;35m\u001b[K~~~~~~~~~~~~~~~~~~~~~~~~~~~~~~~~~~~~~~~~~~~~~~~~~~^~~~~~~~~~~~~~~~~\u001b[m\u001b[K\n",
            "[ 77%] \u001b[32mBuilding CXX object src/artm/CMakeFiles/artm-static.dir/core/dictionary.cc.o\u001b[0m\n",
            "[ 78%] \u001b[32mBuilding CXX object src/artm/CMakeFiles/artm-static.dir/core/dictionary_operations.cc.o\u001b[0m\n",
            "\u001b[01m\u001b[K/content/bigartm/src/artm/core/dictionary_operations.cc:\u001b[m\u001b[K In static member function ‘\u001b[01m\u001b[Kstatic std::shared_ptr<artm::core::Dictionary> artm::core::DictionaryOperations::Filter(const artm::FilterDictionaryArgs&, const artm::core::Dictionary&)\u001b[m\u001b[K’:\n",
            "\u001b[01m\u001b[K/content/bigartm/src/artm/core/dictionary_operations.cc:507:49:\u001b[m\u001b[K \u001b[01;35m\u001b[Kwarning: \u001b[m\u001b[Kcomparison between signed and unsigned integer expressions [\u001b[01;35m\u001b[K-Wsign-compare\u001b[m\u001b[K]\n",
            "           (\u001b[01;35m\u001b[K(int64_t) args.max_dictionary_size() < df_values.size()\u001b[m\u001b[K)) {\n",
            "            \u001b[01;35m\u001b[K~~~~~~~~~~~~~~~~~~~~~~~~~~~~~~~~~~~~~^~~~~~~~~~~~~~~~~~\u001b[m\u001b[K\n",
            "[ 78%] \u001b[32mBuilding CXX object src/artm/CMakeFiles/artm-static.dir/core/helpers.cc.o\u001b[0m\n",
            "[ 78%] \u001b[32mBuilding CXX object src/artm/CMakeFiles/artm-static.dir/core/instance.cc.o\u001b[0m\n",
            "[ 79%] \u001b[32mBuilding CXX object src/artm/CMakeFiles/artm-static.dir/core/master_component.cc.o\u001b[0m\n",
            "\u001b[01m\u001b[K/content/bigartm/src/artm/core/master_component.cc:\u001b[m\u001b[K In member function ‘\u001b[01m\u001b[Kvoid artm::core::MasterComponent::RequestProcessBatchesImpl(const artm::ProcessBatchesArgs&, artm::core::BatchManager*, bool, artm::core::ScoreManager*, artm::ThetaMatrix*)\u001b[m\u001b[K’:\n",
            "\u001b[01m\u001b[K/content/bigartm/src/artm/core/master_component.cc:808:10:\u001b[m\u001b[K \u001b[01;35m\u001b[Kwarning: \u001b[m\u001b[Kenumeration value ‘\u001b[01m\u001b[KThetaMatrixType_None\u001b[m\u001b[K’ not handled in switch [\u001b[01;35m\u001b[K-Wswitch\u001b[m\u001b[K]\n",
            "   switch \u001b[01;35m\u001b[K(\u001b[m\u001b[Kargs.theta_matrix_type()) {\n",
            "          \u001b[01;35m\u001b[K^\u001b[m\u001b[K\n",
            "\u001b[01m\u001b[K/content/bigartm/src/artm/core/master_component.cc:825:34:\u001b[m\u001b[K \u001b[01;35m\u001b[Kwarning: \u001b[m\u001b[Kcomparison between signed and unsigned integer expressions [\u001b[01;35m\u001b[K-Wsign-compare\u001b[m\u001b[K]\n",
            "   if (\u001b[01;35m\u001b[Kargs.batch_filename_size() < instance_->processor_size()\u001b[m\u001b[K) {\n",
            "       \u001b[01;35m\u001b[K~~~~~~~~~~~~~~~~~~~~~~~~~~~^~~~~~~~~~~~~~~~~~~~~~~~~~~~~\u001b[m\u001b[K\n",
            "\u001b[01m\u001b[K/content/bigartm/src/artm/core/master_component.cc:881:10:\u001b[m\u001b[K \u001b[01;35m\u001b[Kwarning: \u001b[m\u001b[Kenumeration value ‘\u001b[01m\u001b[KThetaMatrixType_None\u001b[m\u001b[K’ not handled in switch [\u001b[01;35m\u001b[K-Wswitch\u001b[m\u001b[K]\n",
            "   switch \u001b[01;35m\u001b[K(\u001b[m\u001b[Kargs.theta_matrix_type()) {\n",
            "          \u001b[01;35m\u001b[K^\u001b[m\u001b[K\n",
            "\u001b[01m\u001b[K/content/bigartm/src/artm/core/master_component.cc:881:10:\u001b[m\u001b[K \u001b[01;35m\u001b[Kwarning: \u001b[m\u001b[Kenumeration value ‘\u001b[01m\u001b[KThetaMatrixType_Cache\u001b[m\u001b[K’ not handled in switch [\u001b[01;35m\u001b[K-Wswitch\u001b[m\u001b[K]\n",
            "\u001b[01m\u001b[K/content/bigartm/src/artm/core/master_component.cc:803:8:\u001b[m\u001b[K \u001b[01;35m\u001b[Kwarning: \u001b[m\u001b[Kvariable ‘\u001b[01m\u001b[Kreturn_theta\u001b[m\u001b[K’ set but not used [\u001b[01;35m\u001b[K-Wunused-but-set-variable\u001b[m\u001b[K]\n",
            "   bool \u001b[01;35m\u001b[Kreturn_theta\u001b[m\u001b[K = false;\n",
            "        \u001b[01;35m\u001b[K^~~~~~~~~~~~\u001b[m\u001b[K\n",
            "\u001b[01m\u001b[K/content/bigartm/src/artm/core/master_component.cc:804:8:\u001b[m\u001b[K \u001b[01;35m\u001b[Kwarning: \u001b[m\u001b[Kvariable ‘\u001b[01m\u001b[Kreturn_ptdw\u001b[m\u001b[K’ set but not used [\u001b[01;35m\u001b[K-Wunused-but-set-variable\u001b[m\u001b[K]\n",
            "   bool \u001b[01;35m\u001b[Kreturn_ptdw\u001b[m\u001b[K = false;\n",
            "        \u001b[01;35m\u001b[K^~~~~~~~~~~\u001b[m\u001b[K\n",
            "\u001b[01m\u001b[K/content/bigartm/src/artm/core/master_component.cc:\u001b[m\u001b[K In member function ‘\u001b[01m\u001b[Kbool artm::core::OnlineBatchesIterator::more() const\u001b[m\u001b[K’:\n",
            "\u001b[01m\u001b[K/content/bigartm/src/artm/core/master_component.cc:1195:39:\u001b[m\u001b[K \u001b[01;35m\u001b[Kwarning: \u001b[m\u001b[Kcomparison between signed and unsigned integer expressions [\u001b[01;35m\u001b[K-Wsign-compare\u001b[m\u001b[K]\n",
            "   bool more() const { return \u001b[01;35m\u001b[Kcurrent_ < static_cast<int>(update_after_.size())\u001b[m\u001b[K; }\n",
            "                              \u001b[01;35m\u001b[K~~~~~~~~~^~~~~~~~~~~~~~~~~~~~~~~~~~~~~~~~~~~~~~~~\u001b[m\u001b[K\n",
            "[ 79%] \u001b[32mBuilding CXX object src/artm/CMakeFiles/artm-static.dir/core/processor.cc.o\u001b[0m\n",
            "[ 79%] \u001b[32mBuilding CXX object src/artm/CMakeFiles/artm-static.dir/core/processor_input.cc.o\u001b[0m\n",
            "[ 80%] \u001b[32mBuilding CXX object src/artm/CMakeFiles/artm-static.dir/core/protobuf_serialization.cc.o\u001b[0m\n",
            "[ 80%] \u001b[32mBuilding CXX object src/artm/CMakeFiles/artm-static.dir/core/phi_matrix_operations.cc.o\u001b[0m\n",
            "\u001b[01m\u001b[K/content/bigartm/src/artm/core/phi_matrix_operations.cc:\u001b[m\u001b[K In static member function ‘\u001b[01m\u001b[Kstatic void artm::core::PhiMatrixOperations::ApplyTopicModelOperation(const artm::TopicModel&, float, bool, artm::core::PhiMatrix*)\u001b[m\u001b[K’:\n",
            "\u001b[01m\u001b[K/content/bigartm/src/artm/core/phi_matrix_operations.cc:158:60:\u001b[m\u001b[K \u001b[01;35m\u001b[Kwarning: \u001b[m\u001b[Kcomparison between signed and unsigned integer expressions [\u001b[01;35m\u001b[K-Wsign-compare\u001b[m\u001b[K]\n",
            "   if ((apply_weight == 1.0f) && (\u001b[01;35m\u001b[Ktarget_topic_index.size() == this_topic_size\u001b[m\u001b[K)) {\n",
            "                                  \u001b[01;35m\u001b[K~~~~~~~~~~~~~~~~~~~~~~~~~~^~~~~~~~~~~~~~~~~~\u001b[m\u001b[K\n",
            "\u001b[01m\u001b[K/content/bigartm/src/artm/core/phi_matrix_operations.cc:161:43:\u001b[m\u001b[K \u001b[01;35m\u001b[Kwarning: \u001b[m\u001b[Kcomparison between signed and unsigned integer expressions [\u001b[01;35m\u001b[K-Wsign-compare\u001b[m\u001b[K]\n",
            "       if (target_topic_index[topic_index] != topic_index) {\n",
            "[ 80%] \u001b[32mBuilding CXX object src/artm/CMakeFiles/artm-static.dir/core/score_manager.cc.o\u001b[0m\n",
            "[ 81%] \u001b[32mBuilding CXX object src/artm/CMakeFiles/artm-static.dir/core/token.cc.o\u001b[0m\n",
            "[ 81%] \u001b[32mBuilding CXX object src/artm/CMakeFiles/artm-static.dir/core/transform_function.cc.o\u001b[0m\n",
            "[ 81%] \u001b[32mBuilding CXX object src/artm/CMakeFiles/artm-static.dir/regularizer/decorrelator_phi.cc.o\u001b[0m\n",
            "[ 82%] \u001b[32mBuilding CXX object src/artm/CMakeFiles/artm-static.dir/regularizer/multilanguage_phi.cc.o\u001b[0m\n",
            "[ 82%] \u001b[32mBuilding CXX object src/artm/CMakeFiles/artm-static.dir/regularizer/smooth_sparse_phi.cc.o\u001b[0m\n",
            "[ 82%] \u001b[32mBuilding CXX object src/artm/CMakeFiles/artm-static.dir/regularizer/label_regularization_phi.cc.o\u001b[0m\n",
            "[ 83%] \u001b[32mBuilding CXX object src/artm/CMakeFiles/artm-static.dir/regularizer/smooth_sparse_theta.cc.o\u001b[0m\n",
            "\u001b[01m\u001b[K/content/bigartm/src/artm/regularizer/smooth_sparse_theta.cc:\u001b[m\u001b[K In member function ‘\u001b[01m\u001b[Kvirtual void artm::regularizer::SmoothSparseThetaAgent::Apply(int, int, int, const float*, float*) const\u001b[m\u001b[K’:\n",
            "\u001b[01m\u001b[K/content/bigartm/src/artm/regularizer/smooth_sparse_theta.cc:22:19:\u001b[m\u001b[K \u001b[01;35m\u001b[Kwarning: \u001b[m\u001b[Kcomparison between signed and unsigned integer expressions [\u001b[01;35m\u001b[K-Wsign-compare\u001b[m\u001b[K]\n",
            "   if (\u001b[01;35m\u001b[Ktopics_size != topic_weight.size()\u001b[m\u001b[K || inner_iter >= alpha_weight.size()) {\n",
            "       \u001b[01;35m\u001b[K~~~~~~~~~~~~^~~~~~~~~~~~~~~~~~~~~~\u001b[m\u001b[K\n",
            "\u001b[01m\u001b[K/content/bigartm/src/artm/regularizer/smooth_sparse_theta.cc:22:56:\u001b[m\u001b[K \u001b[01;35m\u001b[Kwarning: \u001b[m\u001b[Kcomparison between signed and unsigned integer expressions [\u001b[01;35m\u001b[K-Wsign-compare\u001b[m\u001b[K]\n",
            "   if (topics_size != topic_weight.size() || \u001b[01;35m\u001b[Kinner_iter >= alpha_weight.size()\u001b[m\u001b[K) {\n",
            "                                             \u001b[01;35m\u001b[K~~~~~~~~~~~^~~~~~~~~~~~~~~~~~~~~~\u001b[m\u001b[K\n",
            "\u001b[01m\u001b[K/content/bigartm/src/artm/regularizer/smooth_sparse_theta.cc:34:71:\u001b[m\u001b[K \u001b[01;35m\u001b[Kwarning: \u001b[m\u001b[Kcomparison between signed and unsigned integer expressions [\u001b[01;35m\u001b[K-Wsign-compare\u001b[m\u001b[K]\n",
            "   if (use_universal_multiplier && \u001b[01;35m\u001b[Kuniversal_topic_multiplier_->size() != topics_size\u001b[m\u001b[K) {\n",
            "                                   \u001b[01;35m\u001b[K~~~~~~~~~~~~~~~~~~~~~~~~~~~~~~~~~~~~^~~~~~~~~~~~~~\u001b[m\u001b[K\n",
            "\u001b[01m\u001b[K/content/bigartm/src/artm/regularizer/smooth_sparse_theta.cc:46:56:\u001b[m\u001b[K \u001b[01;35m\u001b[Kwarning: \u001b[m\u001b[Kcomparison between signed and unsigned integer expressions [\u001b[01;35m\u001b[K-Wsign-compare\u001b[m\u001b[K]\n",
            "     if (use_specific_multiplier && \u001b[01;35m\u001b[Kiter->second.size() != topics_size\u001b[m\u001b[K) {\n",
            "                                    \u001b[01;35m\u001b[K~~~~~~~~~~~~~~~~~~~~^~~~~~~~~~~~~~\u001b[m\u001b[K\n",
            "[ 83%] \u001b[32mBuilding CXX object src/artm/CMakeFiles/artm-static.dir/regularizer/smooth_ptdw.cc.o\u001b[0m\n",
            "[ 83%] \u001b[32mBuilding CXX object src/artm/CMakeFiles/artm-static.dir/regularizer/specified_sparse_phi.cc.o\u001b[0m\n",
            "\u001b[01m\u001b[K/content/bigartm/src/artm/regularizer/specified_sparse_phi.cc:\u001b[m\u001b[K In member function ‘\u001b[01m\u001b[Kvirtual bool artm::regularizer::SpecifiedSparsePhi::RegularizePhi(const artm::core::PhiMatrix&, const artm::core::PhiMatrix&, artm::core::PhiMatrix*)\u001b[m\u001b[K’:\n",
            "\u001b[01m\u001b[K/content/bigartm/src/artm/regularizer/specified_sparse_phi.cc:75:28:\u001b[m\u001b[K \u001b[01;35m\u001b[Kwarning: \u001b[m\u001b[Kcomparison between signed and unsigned integer expressions [\u001b[01;35m\u001b[K-Wsign-compare\u001b[m\u001b[K]\n",
            "       if (\u001b[01;35m\u001b[Kmax_queue.size() < config_.max_elements_count()\u001b[m\u001b[K) {\n",
            "           \u001b[01;35m\u001b[K~~~~~~~~~~~~~~~~~^~~~~~~~~~~~~~~~~~~~~~~~~~~~~~\u001b[m\u001b[K\n",
            "[ 84%] \u001b[32mBuilding CXX object src/artm/CMakeFiles/artm-static.dir/regularizer/improve_coherence_phi.cc.o\u001b[0m\n",
            "[ 84%] \u001b[32mBuilding CXX object src/artm/CMakeFiles/artm-static.dir/regularizer/topic_selection_theta.cc.o\u001b[0m\n",
            "\u001b[01m\u001b[K/content/bigartm/src/artm/regularizer/topic_selection_theta.cc:\u001b[m\u001b[K In member function ‘\u001b[01m\u001b[Kvirtual void artm::regularizer::TopicSelectionThetaAgent::Apply(int, int, int, const float*, float*) const\u001b[m\u001b[K’:\n",
            "\u001b[01m\u001b[K/content/bigartm/src/artm/regularizer/topic_selection_theta.cc:26:19:\u001b[m\u001b[K \u001b[01;35m\u001b[Kwarning: \u001b[m\u001b[Kcomparison between signed and unsigned integer expressions [\u001b[01;35m\u001b[K-Wsign-compare\u001b[m\u001b[K]\n",
            "   if (\u001b[01;35m\u001b[Ktopics_size != topic_weight.size()\u001b[m\u001b[K || inner_iter >= alpha_weight.size()) {\n",
            "       \u001b[01;35m\u001b[K~~~~~~~~~~~~^~~~~~~~~~~~~~~~~~~~~~\u001b[m\u001b[K\n",
            "\u001b[01m\u001b[K/content/bigartm/src/artm/regularizer/topic_selection_theta.cc:26:56:\u001b[m\u001b[K \u001b[01;35m\u001b[Kwarning: \u001b[m\u001b[Kcomparison between signed and unsigned integer expressions [\u001b[01;35m\u001b[K-Wsign-compare\u001b[m\u001b[K]\n",
            "   if (topics_size != topic_weight.size() || \u001b[01;35m\u001b[Kinner_iter >= alpha_weight.size()\u001b[m\u001b[K) {\n",
            "                                             \u001b[01;35m\u001b[K~~~~~~~~~~~^~~~~~~~~~~~~~~~~~~~~~\u001b[m\u001b[K\n",
            "\u001b[01m\u001b[K/content/bigartm/src/artm/regularizer/topic_selection_theta.cc:\u001b[m\u001b[K In member function ‘\u001b[01m\u001b[Kvirtual void artm::regularizer::TopicSelectionThetaAgent::Apply(int, const artm::utility::LocalThetaMatrix<float>&, artm::utility::LocalThetaMatrix<float>*) const\u001b[m\u001b[K’:\n",
            "\u001b[01m\u001b[K/content/bigartm/src/artm/regularizer/topic_selection_theta.cc:46:18:\u001b[m\u001b[K \u001b[01;35m\u001b[Kwarning: \u001b[m\u001b[Kcomparison between signed and unsigned integer expressions [\u001b[01;35m\u001b[K-Wsign-compare\u001b[m\u001b[K]\n",
            "   if (\u001b[01;35m\u001b[Ktopic_size != topic_weight.size()\u001b[m\u001b[K || inner_iter >= alpha_weight.size()) {\n",
            "       \u001b[01;35m\u001b[K~~~~~~~~~~~^~~~~~~~~~~~~~~~~~~~~~\u001b[m\u001b[K\n",
            "\u001b[01m\u001b[K/content/bigartm/src/artm/regularizer/topic_selection_theta.cc:46:55:\u001b[m\u001b[K \u001b[01;35m\u001b[Kwarning: \u001b[m\u001b[Kcomparison between signed and unsigned integer expressions [\u001b[01;35m\u001b[K-Wsign-compare\u001b[m\u001b[K]\n",
            "   if (topic_size != topic_weight.size() || \u001b[01;35m\u001b[Kinner_iter >= alpha_weight.size()\u001b[m\u001b[K) {\n",
            "                                            \u001b[01;35m\u001b[K~~~~~~~~~~~^~~~~~~~~~~~~~~~~~~~~~\u001b[m\u001b[K\n",
            "[ 84%] \u001b[32mBuilding CXX object src/artm/CMakeFiles/artm-static.dir/regularizer/biterms_phi.cc.o\u001b[0m\n",
            "[ 85%] \u001b[32mBuilding CXX object src/artm/CMakeFiles/artm-static.dir/regularizer/hierarchy_sparsing_theta.cc.o\u001b[0m\n",
            "\u001b[01m\u001b[K/content/bigartm/src/artm/regularizer/hierarchy_sparsing_theta.cc:\u001b[m\u001b[K In member function ‘\u001b[01m\u001b[Kvirtual void artm::regularizer::HierarchySparsingThetaAgent::Apply(int, const artm::utility::LocalThetaMatrix<float>&, artm::utility::LocalThetaMatrix<float>*) const\u001b[m\u001b[K’:\n",
            "\u001b[01m\u001b[K/content/bigartm/src/artm/regularizer/hierarchy_sparsing_theta.cc:54:18:\u001b[m\u001b[K \u001b[01;35m\u001b[Kwarning: \u001b[m\u001b[Kcomparison between signed and unsigned integer expressions [\u001b[01;35m\u001b[K-Wsign-compare\u001b[m\u001b[K]\n",
            "   if (\u001b[01;35m\u001b[Ktopic_size != topic_weight.size()\u001b[m\u001b[K || inner_iter >= alpha_weight.size()) {\n",
            "       \u001b[01;35m\u001b[K~~~~~~~~~~~^~~~~~~~~~~~~~~~~~~~~~\u001b[m\u001b[K\n",
            "\u001b[01m\u001b[K/content/bigartm/src/artm/regularizer/hierarchy_sparsing_theta.cc:54:55:\u001b[m\u001b[K \u001b[01;35m\u001b[Kwarning: \u001b[m\u001b[Kcomparison between signed and unsigned integer expressions [\u001b[01;35m\u001b[K-Wsign-compare\u001b[m\u001b[K]\n",
            "   if (topic_size != topic_weight.size() || \u001b[01;35m\u001b[Kinner_iter >= alpha_weight.size()\u001b[m\u001b[K) {\n",
            "                                            \u001b[01;35m\u001b[K~~~~~~~~~~~^~~~~~~~~~~~~~~~~~~~~~\u001b[m\u001b[K\n",
            "[ 85%] \u001b[32mBuilding CXX object src/artm/CMakeFiles/artm-static.dir/regularizer/topic_segmentation_ptdw.cc.o\u001b[0m\n",
            "[ 86%] \u001b[32mBuilding CXX object src/artm/CMakeFiles/artm-static.dir/regularizer/smooth_time_in_topics_phi.cc.o\u001b[0m\n",
            "[ 86%] \u001b[32mBuilding CXX object src/artm/CMakeFiles/artm-static.dir/regularizer/net_plsa_phi.cc.o\u001b[0m\n",
            "\u001b[01m\u001b[K/content/bigartm/src/artm/regularizer/net_plsa_phi.cc:\u001b[m\u001b[K In member function ‘\u001b[01m\u001b[Kvirtual bool artm::regularizer::NetPlsaPhi::RegularizePhi(const artm::core::PhiMatrix&, const artm::core::PhiMatrix&, artm::core::PhiMatrix*)\u001b[m\u001b[K’:\n",
            "\u001b[01m\u001b[K/content/bigartm/src/artm/regularizer/net_plsa_phi.cc:39:42:\u001b[m\u001b[K \u001b[01;35m\u001b[Kwarning: \u001b[m\u001b[Kcomparison between signed and unsigned integer expressions [\u001b[01;35m\u001b[K-Wsign-compare\u001b[m\u001b[K]\n",
            "   if (has_weights && \u001b[01;35m\u001b[Kvertex_name_.size() != config_.vertex_weight_size()\u001b[m\u001b[K) {\n",
            "                      \u001b[01;35m\u001b[K~~~~~~~~~~~~~~~~~~~~^~~~~~~~~~~~~~~~~~~~~~~~~~~~~~~\u001b[m\u001b[K\n",
            "\u001b[01m\u001b[K/content/bigartm/src/artm/regularizer/net_plsa_phi.cc:53:37:\u001b[m\u001b[K \u001b[01;35m\u001b[Kwarning: \u001b[m\u001b[Kcomparison between signed and unsigned integer expressions [\u001b[01;35m\u001b[K-Wsign-compare\u001b[m\u001b[K]\n",
            "   for (int vertex_id = 0; \u001b[01;35m\u001b[Kvertex_id < vertex_name_.size()\u001b[m\u001b[K; ++vertex_id) {\n",
            "                           \u001b[01;35m\u001b[K~~~~~~~~~~^~~~~~~~~~~~~~~~~~~~~\u001b[m\u001b[K\n",
            "\u001b[01m\u001b[K/content/bigartm/src/artm/regularizer/net_plsa_phi.cc:74:27:\u001b[m\u001b[K \u001b[01;35m\u001b[Kwarning: \u001b[m\u001b[Kcomparison between signed and unsigned integer expressions [\u001b[01;35m\u001b[K-Wsign-compare\u001b[m\u001b[K]\n",
            "         if (\u001b[01;35m\u001b[Kpair_id.first >= vertex_name_.size()\u001b[m\u001b[K || pair_id.first < 0) {\n",
            "             \u001b[01;35m\u001b[K~~~~~~~~~~~~~~^~~~~~~~~~~~~~~~~~~~~~\u001b[m\u001b[K\n",
            "[ 86%] \u001b[32mBuilding CXX object src/artm/CMakeFiles/artm-static.dir/score/class_precision.cc.o\u001b[0m\n",
            "[ 87%] \u001b[32mBuilding CXX object src/artm/CMakeFiles/artm-static.dir/score/items_processed.cc.o\u001b[0m\n",
            "[ 87%] \u001b[32mBuilding CXX object src/artm/CMakeFiles/artm-static.dir/score/peak_memory.cc.o\u001b[0m\n",
            "[ 87%] \u001b[32mBuilding CXX object src/artm/CMakeFiles/artm-static.dir/score/perplexity.cc.o\u001b[0m\n",
            "\u001b[01m\u001b[K/content/bigartm/src/artm/score/perplexity.cc:\u001b[m\u001b[K In member function ‘\u001b[01m\u001b[Kvirtual void artm::score::Perplexity::AppendScore(const Score&, artm::Score*)\u001b[m\u001b[K’:\n",
            "\u001b[01m\u001b[K/content/bigartm/src/artm/score/perplexity.cc:221:26:\u001b[m\u001b[K \u001b[01;35m\u001b[Kwarning: \u001b[m\u001b[Kcomparison between signed and unsigned integer expressions [\u001b[01;35m\u001b[K-Wsign-compare\u001b[m\u001b[K]\n",
            "     for (size_t i = 0; \u001b[01;35m\u001b[Ki < perplexity_score->class_id_info_size()\u001b[m\u001b[K; ++i) {\n",
            "                        \u001b[01;35m\u001b[K~~^~~~~~~~~~~~~~~~~~~~~~~~~~~~~~~~~~~~~~~~\u001b[m\u001b[K\n",
            "\u001b[01m\u001b[K/content/bigartm/src/artm/score/perplexity.cc:225:28:\u001b[m\u001b[K \u001b[01;35m\u001b[Kwarning: \u001b[m\u001b[Kcomparison between signed and unsigned integer expressions [\u001b[01;35m\u001b[K-Wsign-compare\u001b[m\u001b[K]\n",
            "       for (size_t j = 0; \u001b[01;35m\u001b[Kj < perplexity_target->class_id_info_size()\u001b[m\u001b[K; ++j) {\n",
            "                          \u001b[01;35m\u001b[K~~^~~~~~~~~~~~~~~~~~~~~~~~~~~~~~~~~~~~~~~~~\u001b[m\u001b[K\n",
            "\u001b[01m\u001b[K/content/bigartm/src/artm/score/perplexity.cc:248:26:\u001b[m\u001b[K \u001b[01;35m\u001b[Kwarning: \u001b[m\u001b[Kcomparison between signed and unsigned integer expressions [\u001b[01;35m\u001b[K-Wsign-compare\u001b[m\u001b[K]\n",
            "     for (size_t j = 0; \u001b[01;35m\u001b[Kj < perplexity_target->class_id_info_size()\u001b[m\u001b[K; ++j) {\n",
            "                        \u001b[01;35m\u001b[K~~^~~~~~~~~~~~~~~~~~~~~~~~~~~~~~~~~~~~~~~~~\u001b[m\u001b[K\n",
            "[ 88%] \u001b[32mBuilding CXX object src/artm/CMakeFiles/artm-static.dir/score/sparsity_phi.cc.o\u001b[0m\n",
            "[ 88%] \u001b[32mBuilding CXX object src/artm/CMakeFiles/artm-static.dir/score/sparsity_theta.cc.o\u001b[0m\n",
            "[ 88%] \u001b[32mBuilding CXX object src/artm/CMakeFiles/artm-static.dir/score/theta_snippet.cc.o\u001b[0m\n",
            "[ 89%] \u001b[32mBuilding CXX object src/artm/CMakeFiles/artm-static.dir/score/top_tokens.cc.o\u001b[0m\n",
            "[ 89%] \u001b[32mBuilding CXX object src/artm/CMakeFiles/artm-static.dir/score/topic_kernel.cc.o\u001b[0m\n",
            "[ 89%] \u001b[32mBuilding CXX object src/artm/CMakeFiles/artm-static.dir/score/topic_mass_phi.cc.o\u001b[0m\n",
            "[ 90%] \u001b[32mBuilding CXX object src/artm/CMakeFiles/artm-static.dir/score/background_tokens_ratio.cc.o\u001b[0m\n",
            "[ 90%] \u001b[32mBuilding CXX object src/artm/CMakeFiles/artm-static.dir/utility/blas.cc.o\u001b[0m\n",
            "[ 90%] \u001b[32mBuilding CXX object src/artm/CMakeFiles/artm-static.dir/utility/progress_printer.cc.o\u001b[0m\n",
            "[ 91%] \u001b[32m\u001b[1mLinking CXX static library ../../lib/libartm-static.a\u001b[0m\n",
            "[ 91%] Built target artm-static\n",
            "\u001b[35m\u001b[1mScanning dependencies of target artm\u001b[0m\n",
            "[ 91%] \u001b[32mBuilding CXX object src/artm/CMakeFiles/artm.dir/c_interface.cc.o\u001b[0m\n",
            "[ 91%] \u001b[32m\u001b[1mLinking CXX shared library ../../lib/libartm.so\u001b[0m\n",
            "[ 91%] Built target artm\n",
            "\u001b[35m\u001b[1mScanning dependencies of target artm_tests\u001b[0m\n",
            "[ 91%] \u001b[32mBuilding CXX object src/artm_tests/CMakeFiles/artm_tests.dir/api.cc.o\u001b[0m\n",
            "[ 91%] \u001b[32mBuilding CXX object src/artm_tests/CMakeFiles/artm_tests.dir/batch_manager_test.cc.o\u001b[0m\n",
            "[ 92%] \u001b[32mBuilding CXX object src/artm_tests/CMakeFiles/artm_tests.dir/blas_test.cc.o\u001b[0m\n",
            "[ 92%] \u001b[32mBuilding CXX object src/artm_tests/CMakeFiles/artm_tests.dir/boost_thread_test.cc.o\u001b[0m\n",
            "[ 92%] \u001b[32mBuilding CXX object src/artm_tests/CMakeFiles/artm_tests.dir/cache_manager_test.cc.o\u001b[0m\n",
            "In file included from \u001b[01m\u001b[K/content/bigartm/src/artm_tests/cache_manager_test.cc:5:0\u001b[m\u001b[K:\n",
            "/content/bigartm/3rdparty/gtest/fused-src/gtest/gtest.h: In instantiation of ‘\u001b[01m\u001b[Ktesting::AssertionResult testing::internal::CmpHelperEQ(const char*, const char*, const T1&, const T2&) [with T1 = long unsigned int; T2 = int]\u001b[m\u001b[K’:\n",
            "\u001b[01m\u001b[K/content/bigartm/3rdparty/gtest/fused-src/gtest/gtest.h:18897:23:\u001b[m\u001b[K   required from ‘\u001b[01m\u001b[Kstatic testing::AssertionResult testing::internal::EqHelper<lhs_is_null_literal>::Compare(const char*, const char*, const T1&, const T2&) [with T1 = long unsigned int; T2 = int; bool lhs_is_null_literal = false]\u001b[m\u001b[K’\n",
            "\u001b[01m\u001b[K/content/bigartm/src/artm_tests/cache_manager_test.cc:27:3:\u001b[m\u001b[K   required from here\n",
            "\u001b[01m\u001b[K/content/bigartm/3rdparty/gtest/fused-src/gtest/gtest.h:18861:16:\u001b[m\u001b[K \u001b[01;35m\u001b[Kwarning: \u001b[m\u001b[Kcomparison between signed and unsigned integer expressions [\u001b[01;35m\u001b[K-Wsign-compare\u001b[m\u001b[K]\n",
            "   if (\u001b[01;35m\u001b[Kexpected == actual\u001b[m\u001b[K) {\n",
            "       \u001b[01;35m\u001b[K~~~~~~~~~^~~~~~~~~\u001b[m\u001b[K\n",
            "[ 93%] \u001b[32mBuilding CXX object src/artm_tests/CMakeFiles/artm_tests.dir/collection_parser_test.cc.o\u001b[0m\n",
            "[ 93%] \u001b[32mBuilding CXX object src/artm_tests/CMakeFiles/artm_tests.dir/cpp_interface_test.cc.o\u001b[0m\n",
            "\u001b[01m\u001b[K/content/bigartm/src/artm_tests/cpp_interface_test.cc:\u001b[m\u001b[K In member function ‘\u001b[01m\u001b[Kvirtual void CppInterface_AsyncProcessBatches_Test::TestBody()\u001b[m\u001b[K’:\n",
            "\u001b[01m\u001b[K/content/bigartm/src/artm_tests/cpp_interface_test.cc:579:26:\u001b[m\u001b[K \u001b[01;35m\u001b[Kwarning: \u001b[m\u001b[Kcomparison between signed and unsigned integer expressions [\u001b[01;35m\u001b[K-Wsign-compare\u001b[m\u001b[K]\n",
            "   for (unsigned i = 0; \u001b[01;35m\u001b[Ki < offlineArgs.batch_filename_size()\u001b[m\u001b[K; ++i) {\n",
            "                        \u001b[01;35m\u001b[K~~^~~~~~~~~~~~~~~~~~~~~~~~~~~~~~~~~~~\u001b[m\u001b[K\n",
            "In file included from \u001b[01m\u001b[K/content/bigartm/src/artm_tests/cpp_interface_test.cc:4:0\u001b[m\u001b[K:\n",
            "/content/bigartm/3rdparty/gtest/fused-src/gtest/gtest.h: In instantiation of ‘\u001b[01m\u001b[Ktesting::AssertionResult testing::internal::CmpHelperGT(const char*, const char*, const T1&, const T2&) [with T1 = long unsigned int; T2 = int]\u001b[m\u001b[K’:\n",
            "\u001b[01m\u001b[K/content/bigartm/src/artm_tests/cpp_interface_test.cc:30:3:\u001b[m\u001b[K   required from here\n",
            "\u001b[01m\u001b[K/content/bigartm/3rdparty/gtest/fused-src/gtest/gtest.h:18998:28:\u001b[m\u001b[K \u001b[01;35m\u001b[Kwarning: \u001b[m\u001b[Kcomparison between signed and unsigned integer expressions [\u001b[01;35m\u001b[K-Wsign-compare\u001b[m\u001b[K]\n",
            "\u001b[01m\u001b[K/content/bigartm/3rdparty/gtest/fused-src/gtest/gtest.h:18975:7:\u001b[m\u001b[K\n",
            "   if (\u001b[01;35m\u001b[Kval1 op v\u001b[m\u001b[Kal2) {\\\n",
            "       \u001b[01;35m\u001b[K~~~~~~~~~\u001b[m\u001b[K             \n",
            "\u001b[01m\u001b[K/content/bigartm/3rdparty/gtest/fused-src/gtest/gtest.h:18998:28:\u001b[m\u001b[K\n",
            " GTEST_IMPL_CMP_HELPER_(GT, >);\n",
            "\u001b[01m\u001b[K/content/bigartm/3rdparty/gtest/fused-src/gtest/gtest.h:18975:12:\u001b[m\u001b[K \u001b[01;36m\u001b[Knote: \u001b[m\u001b[Kin definition of macro ‘\u001b[01m\u001b[KGTEST_IMPL_CMP_HELPER_\u001b[m\u001b[K’\n",
            "   if (val1 \u001b[01;36m\u001b[Kop\u001b[m\u001b[K val2) {\\\n",
            "            \u001b[01;36m\u001b[K^~\u001b[m\u001b[K\n",
            "/content/bigartm/3rdparty/gtest/fused-src/gtest/gtest.h: In instantiation of ‘\u001b[01m\u001b[Ktesting::AssertionResult testing::internal::CmpHelperEQ(const char*, const char*, const T1&, const T2&) [with T1 = long unsigned int; T2 = int]\u001b[m\u001b[K’:\n",
            "\u001b[01m\u001b[K/content/bigartm/3rdparty/gtest/fused-src/gtest/gtest.h:18897:23:\u001b[m\u001b[K   required from ‘\u001b[01m\u001b[Kstatic testing::AssertionResult testing::internal::EqHelper<lhs_is_null_literal>::Compare(const char*, const char*, const T1&, const T2&) [with T1 = long unsigned int; T2 = int; bool lhs_is_null_literal = false]\u001b[m\u001b[K’\n",
            "\u001b[01m\u001b[K/content/bigartm/src/artm_tests/cpp_interface_test.cc:305:3:\u001b[m\u001b[K   required from here\n",
            "\u001b[01m\u001b[K/content/bigartm/3rdparty/gtest/fused-src/gtest/gtest.h:18861:16:\u001b[m\u001b[K \u001b[01;35m\u001b[Kwarning: \u001b[m\u001b[Kcomparison between signed and unsigned integer expressions [\u001b[01;35m\u001b[K-Wsign-compare\u001b[m\u001b[K]\n",
            "   if (\u001b[01;35m\u001b[Kexpected == actual\u001b[m\u001b[K) {\n",
            "       \u001b[01;35m\u001b[K~~~~~~~~~^~~~~~~~~\u001b[m\u001b[K\n",
            "[ 93%] \u001b[32mBuilding CXX object src/artm_tests/CMakeFiles/artm_tests.dir/master_model_test.cc.o\u001b[0m\n",
            "In file included from \u001b[01m\u001b[K/content/bigartm/src/artm_tests/master_model_test.cc:7:0\u001b[m\u001b[K:\n",
            "/content/bigartm/3rdparty/gtest/fused-src/gtest/gtest.h: In instantiation of ‘\u001b[01m\u001b[Ktesting::AssertionResult testing::internal::CmpHelperEQ(const char*, const char*, const T1&, const T2&) [with T1 = long unsigned int; T2 = int]\u001b[m\u001b[K’:\n",
            "\u001b[01m\u001b[K/content/bigartm/3rdparty/gtest/fused-src/gtest/gtest.h:18897:23:\u001b[m\u001b[K   required from ‘\u001b[01m\u001b[Kstatic testing::AssertionResult testing::internal::EqHelper<lhs_is_null_literal>::Compare(const char*, const char*, const T1&, const T2&) [with T1 = long unsigned int; T2 = int; bool lhs_is_null_literal = false]\u001b[m\u001b[K’\n",
            "\u001b[01m\u001b[K/content/bigartm/src/artm_tests/master_model_test.cc:110:5:\u001b[m\u001b[K   required from here\n",
            "\u001b[01m\u001b[K/content/bigartm/3rdparty/gtest/fused-src/gtest/gtest.h:18861:16:\u001b[m\u001b[K \u001b[01;35m\u001b[Kwarning: \u001b[m\u001b[Kcomparison between signed and unsigned integer expressions [\u001b[01;35m\u001b[K-Wsign-compare\u001b[m\u001b[K]\n",
            "   if (\u001b[01;35m\u001b[Kexpected == actual\u001b[m\u001b[K) {\n",
            "       \u001b[01;35m\u001b[K~~~~~~~~~^~~~~~~~~\u001b[m\u001b[K\n",
            "[ 94%] \u001b[32mBuilding CXX object src/artm_tests/CMakeFiles/artm_tests.dir/multiple_classes_test.cc.o\u001b[0m\n",
            "[ 94%] \u001b[32mBuilding CXX object src/artm_tests/CMakeFiles/artm_tests.dir/regularizers_test.cc.o\u001b[0m\n",
            "[ 94%] \u001b[32mBuilding CXX object src/artm_tests/CMakeFiles/artm_tests.dir/scores_test.cc.o\u001b[0m\n",
            "\u001b[01m\u001b[K/content/bigartm/src/artm_tests/scores_test.cc:\u001b[m\u001b[K In member function ‘\u001b[01m\u001b[Kvirtual void Scores_ScoreTrackerExportImport_Test::TestBody()\u001b[m\u001b[K’:\n",
            "\u001b[01m\u001b[K/content/bigartm/src/artm_tests/scores_test.cc:165:24:\u001b[m\u001b[K \u001b[01;35m\u001b[Kwarning: \u001b[m\u001b[Kcomparison between signed and unsigned integer expressions [\u001b[01;35m\u001b[K-Wsign-compare\u001b[m\u001b[K]\n",
            "   for (size_t i = 0; \u001b[01;35m\u001b[Ki < nPasses\u001b[m\u001b[K; ++i) {\n",
            "                      \u001b[01;35m\u001b[K~~^~~~~~~~~\u001b[m\u001b[K\n",
            "\u001b[01m\u001b[K/content/bigartm/src/artm_tests/scores_test.cc:172:24:\u001b[m\u001b[K \u001b[01;35m\u001b[Kwarning: \u001b[m\u001b[Kcomparison between signed and unsigned integer expressions [\u001b[01;35m\u001b[K-Wsign-compare\u001b[m\u001b[K]\n",
            "   for (size_t i = 0; \u001b[01;35m\u001b[Ki < nPasses\u001b[m\u001b[K; ++i) {\n",
            "                      \u001b[01;35m\u001b[K~~^~~~~~~~~\u001b[m\u001b[K\n",
            "[ 95%] \u001b[32mBuilding CXX object src/artm_tests/CMakeFiles/artm_tests.dir/repeatable_result_test.cc.o\u001b[0m\n",
            "In file included from \u001b[01m\u001b[K/content/bigartm/src/artm_tests/repeatable_result_test.cc:4:0\u001b[m\u001b[K:\n",
            "/content/bigartm/3rdparty/gtest/fused-src/gtest/gtest.h: In instantiation of ‘\u001b[01m\u001b[Ktesting::AssertionResult testing::internal::CmpHelperEQ(const char*, const char*, const T1&, const T2&) [with T1 = long unsigned int; T2 = int]\u001b[m\u001b[K’:\n",
            "\u001b[01m\u001b[K/content/bigartm/3rdparty/gtest/fused-src/gtest/gtest.h:18897:23:\u001b[m\u001b[K   required from ‘\u001b[01m\u001b[Kstatic testing::AssertionResult testing::internal::EqHelper<lhs_is_null_literal>::Compare(const char*, const char*, const T1&, const T2&) [with T1 = long unsigned int; T2 = int; bool lhs_is_null_literal = false]\u001b[m\u001b[K’\n",
            "\u001b[01m\u001b[K/content/bigartm/src/artm_tests/repeatable_result_test.cc:72:3:\u001b[m\u001b[K   required from here\n",
            "\u001b[01m\u001b[K/content/bigartm/3rdparty/gtest/fused-src/gtest/gtest.h:18861:16:\u001b[m\u001b[K \u001b[01;35m\u001b[Kwarning: \u001b[m\u001b[Kcomparison between signed and unsigned integer expressions [\u001b[01;35m\u001b[K-Wsign-compare\u001b[m\u001b[K]\n",
            "   if (\u001b[01;35m\u001b[Kexpected == actual\u001b[m\u001b[K) {\n",
            "       \u001b[01;35m\u001b[K~~~~~~~~~^~~~~~~~~\u001b[m\u001b[K\n",
            "[ 95%] \u001b[32mBuilding CXX object src/artm_tests/CMakeFiles/artm_tests.dir/supcry_test.cc.o\u001b[0m\n",
            "[ 95%] \u001b[32mBuilding CXX object src/artm_tests/CMakeFiles/artm_tests.dir/template_manager_test.cc.o\u001b[0m\n",
            "[ 96%] \u001b[32mBuilding CXX object src/artm_tests/CMakeFiles/artm_tests.dir/test_mother.cc.o\u001b[0m\n",
            "[ 96%] \u001b[32mBuilding CXX object src/artm_tests/CMakeFiles/artm_tests.dir/thread_safe_holder_test.cc.o\u001b[0m\n",
            "[ 97%] \u001b[32mBuilding CXX object src/artm_tests/CMakeFiles/artm_tests.dir/topic_seg_test.cc.o\u001b[0m\n",
            "[ 97%] \u001b[32mBuilding CXX object src/artm_tests/CMakeFiles/artm_tests.dir/__/__/3rdparty/gtest/fused-src/gtest/gtest_main.cc.o\u001b[0m\n",
            "[ 97%] \u001b[32mBuilding CXX object src/artm_tests/CMakeFiles/artm_tests.dir/__/__/3rdparty/gtest/fused-src/gtest/gtest-all.cc.o\u001b[0m\n",
            "[ 98%] \u001b[32mBuilding CXX object src/artm_tests/CMakeFiles/artm_tests.dir/__/artm/cpp_interface.cc.o\u001b[0m\n",
            "[ 98%] \u001b[32m\u001b[1mLinking CXX executable ../../bin/artm_tests\u001b[0m\n",
            "[ 98%] Built target artm_tests\n",
            "\u001b[35m\u001b[1mScanning dependencies of target bigartm\u001b[0m\n",
            "[ 98%] \u001b[32mBuilding CXX object src/bigartm/CMakeFiles/bigartm.dir/srcmain.cc.o\u001b[0m\n",
            "[ 99%] \u001b[32mBuilding CXX object src/bigartm/CMakeFiles/bigartm.dir/cooccurrence_dictionary.cc.o\u001b[0m\n",
            "\u001b[01m\u001b[K/content/bigartm/src/bigartm/cooccurrence_dictionary.cc:\u001b[m\u001b[K In member function ‘\u001b[01m\u001b[Kint CooccurrenceDictionary::SetItemsPerBatch()\u001b[m\u001b[K’:\n",
            "\u001b[01m\u001b[K/content/bigartm/src/bigartm/cooccurrence_dictionary.cc:335:13:\u001b[m\u001b[K \u001b[01;35m\u001b[Kwarning: \u001b[m\u001b[Kunused variable ‘\u001b[01m\u001b[Kdefault_value\u001b[m\u001b[K’ [\u001b[01;35m\u001b[K-Wunused-variable\u001b[m\u001b[K]\n",
            "   const int \u001b[01;35m\u001b[Kdefault_value\u001b[m\u001b[K = 10000;\n",
            "             \u001b[01;35m\u001b[K^~~~~~~~~~~~~\u001b[m\u001b[K\n",
            "[ 99%] \u001b[32mBuilding CXX object src/bigartm/CMakeFiles/bigartm.dir/__/artm/cpp_interface.cc.o\u001b[0m\n",
            "[ 99%] \u001b[32m\u001b[1mLinking CXX executable ../../bin/bigartm\u001b[0m\n",
            "[ 99%] Built target bigartm\n",
            "\u001b[35m\u001b[1mScanning dependencies of target python_bigartm_build\u001b[0m\n",
            "[ 99%] \u001b[34m\u001b[1mBuilding python package bigartm\u001b[0m\n",
            "running build\n",
            "Generating ./artm/wrapper/messages_pb2.py...\n",
            "Executing ['/content/bigartm/build/bin/protoc', '-I../src', '--python_out=./tmpwi_gn98f', '../src/./artm/messages.proto']...\n",
            "running build_py\n",
            "creating build\n",
            "creating build/lib\n",
            "creating build/lib/artm\n",
            "copying artm/hierarchy_utils.py -> build/lib/artm\n",
            "copying artm/batches_utils.py -> build/lib/artm\n",
            "copying artm/dictionary.py -> build/lib/artm\n",
            "copying artm/master_component.py -> build/lib/artm\n",
            "copying artm/__init__.py -> build/lib/artm\n",
            "copying artm/score_tracker.py -> build/lib/artm\n",
            "copying artm/artm_model.py -> build/lib/artm\n",
            "copying artm/regularizers.py -> build/lib/artm\n",
            "copying artm/lda_model.py -> build/lib/artm\n",
            "copying artm/scores.py -> build/lib/artm\n",
            "creating build/lib/artm/wrapper\n",
            "copying artm/wrapper/api.py -> build/lib/artm/wrapper\n",
            "copying artm/wrapper/exceptions.py -> build/lib/artm/wrapper\n",
            "copying artm/wrapper/messages_pb2.py -> build/lib/artm/wrapper\n",
            "copying artm/wrapper/__init__.py -> build/lib/artm/wrapper\n",
            "copying artm/wrapper/utils.py -> build/lib/artm/wrapper\n",
            "copying artm/wrapper/constants.py -> build/lib/artm/wrapper\n",
            "copying artm/wrapper/spec.py -> build/lib/artm/wrapper\n",
            "[ 99%] Built target python_bigartm_build\n",
            "\u001b[35m\u001b[1mScanning dependencies of target python_bigartm_wheel\u001b[0m\n",
            "[100%] \u001b[34m\u001b[1mBuilding wheel bigartm\u001b[0m\n",
            "running bdist_wheel\n",
            "running build\n",
            "running build_py\n",
            "running build_ext\n",
            "installing to build/bdist.linux-x86_64/wheel\n",
            "running install\n",
            "running install_lib\n",
            "creating build/bdist.linux-x86_64\n",
            "creating build/bdist.linux-x86_64/wheel\n",
            "creating build/bdist.linux-x86_64/wheel/bigartm-0.9.0.data\n",
            "creating build/bdist.linux-x86_64/wheel/bigartm-0.9.0.data/purelib\n",
            "creating build/bdist.linux-x86_64/wheel/bigartm-0.9.0.data/purelib/artm\n",
            "copying build/lib/artm/hierarchy_utils.py -> build/bdist.linux-x86_64/wheel/bigartm-0.9.0.data/purelib/artm\n",
            "copying build/lib/artm/libartm.so -> build/bdist.linux-x86_64/wheel/bigartm-0.9.0.data/purelib/artm\n",
            "copying build/lib/artm/batches_utils.py -> build/bdist.linux-x86_64/wheel/bigartm-0.9.0.data/purelib/artm\n",
            "copying build/lib/artm/dictionary.py -> build/bdist.linux-x86_64/wheel/bigartm-0.9.0.data/purelib/artm\n",
            "copying build/lib/artm/master_component.py -> build/bdist.linux-x86_64/wheel/bigartm-0.9.0.data/purelib/artm\n",
            "copying build/lib/artm/__init__.py -> build/bdist.linux-x86_64/wheel/bigartm-0.9.0.data/purelib/artm\n",
            "copying build/lib/artm/score_tracker.py -> build/bdist.linux-x86_64/wheel/bigartm-0.9.0.data/purelib/artm\n",
            "copying build/lib/artm/artm_model.py -> build/bdist.linux-x86_64/wheel/bigartm-0.9.0.data/purelib/artm\n",
            "copying build/lib/artm/regularizers.py -> build/bdist.linux-x86_64/wheel/bigartm-0.9.0.data/purelib/artm\n",
            "copying build/lib/artm/lda_model.py -> build/bdist.linux-x86_64/wheel/bigartm-0.9.0.data/purelib/artm\n",
            "creating build/bdist.linux-x86_64/wheel/bigartm-0.9.0.data/purelib/artm/wrapper\n",
            "copying build/lib/artm/wrapper/api.py -> build/bdist.linux-x86_64/wheel/bigartm-0.9.0.data/purelib/artm/wrapper\n",
            "copying build/lib/artm/wrapper/exceptions.py -> build/bdist.linux-x86_64/wheel/bigartm-0.9.0.data/purelib/artm/wrapper\n",
            "copying build/lib/artm/wrapper/messages_pb2.py -> build/bdist.linux-x86_64/wheel/bigartm-0.9.0.data/purelib/artm/wrapper\n",
            "copying build/lib/artm/wrapper/__init__.py -> build/bdist.linux-x86_64/wheel/bigartm-0.9.0.data/purelib/artm/wrapper\n",
            "copying build/lib/artm/wrapper/utils.py -> build/bdist.linux-x86_64/wheel/bigartm-0.9.0.data/purelib/artm/wrapper\n",
            "copying build/lib/artm/wrapper/constants.py -> build/bdist.linux-x86_64/wheel/bigartm-0.9.0.data/purelib/artm/wrapper\n",
            "copying build/lib/artm/wrapper/spec.py -> build/bdist.linux-x86_64/wheel/bigartm-0.9.0.data/purelib/artm/wrapper\n",
            "copying build/lib/artm/scores.py -> build/bdist.linux-x86_64/wheel/bigartm-0.9.0.data/purelib/artm\n",
            "running install_egg_info\n",
            "running egg_info\n",
            "creating bigartm.egg-info\n",
            "writing bigartm.egg-info/PKG-INFO\n",
            "writing dependency_links to bigartm.egg-info/dependency_links.txt\n",
            "writing requirements to bigartm.egg-info/requires.txt\n",
            "writing top-level names to bigartm.egg-info/top_level.txt\n",
            "writing manifest file 'bigartm.egg-info/SOURCES.txt'\n",
            "reading manifest file 'bigartm.egg-info/SOURCES.txt'\n",
            "writing manifest file 'bigartm.egg-info/SOURCES.txt'\n",
            "Copying bigartm.egg-info to build/bdist.linux-x86_64/wheel/bigartm-0.9.0.data/purelib/bigartm-0.9.0-py3.6.egg-info\n",
            "running install_scripts\n",
            "creating build/bdist.linux-x86_64/wheel/bigartm-0.9.0.dist-info/WHEEL\n",
            "creating '/content/bigartm/build/python/bigartm-0.9.0-cp36-cp36m-linux_x86_64.whl' and adding 'build/bdist.linux-x86_64/wheel' to it\n",
            "adding 'bigartm-0.9.0.data/purelib/artm/__init__.py'\n",
            "adding 'bigartm-0.9.0.data/purelib/artm/artm_model.py'\n",
            "adding 'bigartm-0.9.0.data/purelib/artm/batches_utils.py'\n",
            "adding 'bigartm-0.9.0.data/purelib/artm/dictionary.py'\n",
            "adding 'bigartm-0.9.0.data/purelib/artm/hierarchy_utils.py'\n",
            "adding 'bigartm-0.9.0.data/purelib/artm/lda_model.py'\n",
            "adding 'bigartm-0.9.0.data/purelib/artm/libartm.so'\n",
            "adding 'bigartm-0.9.0.data/purelib/artm/master_component.py'\n",
            "adding 'bigartm-0.9.0.data/purelib/artm/regularizers.py'\n",
            "adding 'bigartm-0.9.0.data/purelib/artm/score_tracker.py'\n",
            "adding 'bigartm-0.9.0.data/purelib/artm/scores.py'\n",
            "adding 'bigartm-0.9.0.data/purelib/artm/wrapper/__init__.py'\n",
            "adding 'bigartm-0.9.0.data/purelib/artm/wrapper/api.py'\n",
            "adding 'bigartm-0.9.0.data/purelib/artm/wrapper/constants.py'\n",
            "adding 'bigartm-0.9.0.data/purelib/artm/wrapper/exceptions.py'\n",
            "adding 'bigartm-0.9.0.data/purelib/artm/wrapper/messages_pb2.py'\n",
            "adding 'bigartm-0.9.0.data/purelib/artm/wrapper/spec.py'\n",
            "adding 'bigartm-0.9.0.data/purelib/artm/wrapper/utils.py'\n",
            "adding 'bigartm-0.9.0.dist-info/METADATA'\n",
            "adding 'bigartm-0.9.0.dist-info/WHEEL'\n",
            "adding 'bigartm-0.9.0.dist-info/top_level.txt'\n",
            "adding 'bigartm-0.9.0.dist-info/RECORD'\n",
            "removing build/bdist.linux-x86_64/wheel\n",
            "[100%] Built target python_bigartm_wheel\n"
          ],
          "name": "stdout"
        }
      ]
    },
    {
      "metadata": {
        "colab_type": "code",
        "id": "lMaKS0DQ4zSE",
        "outputId": "81a43b1f-ac3e-4bb7-ed48-dde4687dc7f4",
        "colab": {
          "base_uri": "https://localhost:8080/",
          "height": 173
        }
      },
      "cell_type": "code",
      "source": [
        "!pip install python/bigartm*.whl -U"
      ],
      "execution_count": 15,
      "outputs": [
        {
          "output_type": "stream",
          "text": [
            "Processing ./python/bigartm-0.9.0-cp36-cp36m-linux_x86_64.whl\n",
            "Requirement already satisfied, skipping upgrade: pandas in /usr/local/lib/python3.6/dist-packages (from bigartm==0.9.0) (0.22.0)\n",
            "Requirement already satisfied, skipping upgrade: numpy in /usr/local/lib/python3.6/dist-packages (from bigartm==0.9.0) (1.14.6)\n",
            "Requirement already satisfied, skipping upgrade: python-dateutil>=2 in /usr/local/lib/python3.6/dist-packages (from pandas->bigartm==0.9.0) (2.5.3)\n",
            "Requirement already satisfied, skipping upgrade: pytz>=2011k in /usr/local/lib/python3.6/dist-packages (from pandas->bigartm==0.9.0) (2018.7)\n",
            "Requirement already satisfied, skipping upgrade: six>=1.5 in /usr/local/lib/python3.6/dist-packages (from python-dateutil>=2->pandas->bigartm==0.9.0) (1.11.0)\n",
            "Installing collected packages: bigartm\n",
            "Successfully installed bigartm-0.9.0\n"
          ],
          "name": "stdout"
        }
      ]
    },
    {
      "metadata": {
        "id": "cWr3sGrR2h0i",
        "colab_type": "text"
      },
      "cell_type": "markdown",
      "source": [
        "Вернемся в изначальную папку."
      ]
    },
    {
      "metadata": {
        "id": "SrEdMAmV2h0j",
        "colab_type": "code",
        "colab": {
          "base_uri": "https://localhost:8080/",
          "height": 34
        },
        "outputId": "8e627f6b-c7fd-4c74-c6ce-b7da76addad8"
      },
      "cell_type": "code",
      "source": [
        "cd ../.. "
      ],
      "execution_count": 16,
      "outputs": [
        {
          "output_type": "stream",
          "text": [
            "/content\n"
          ],
          "name": "stdout"
        }
      ]
    },
    {
      "metadata": {
        "colab_type": "code",
        "id": "P6Ay2Ayx3v3W",
        "outputId": "560c50f9-ab46-4f5d-bd85-0aa8633c3fd3",
        "colab": {
          "base_uri": "https://localhost:8080/",
          "height": 1040
        }
      },
      "cell_type": "code",
      "source": [
        "!pip install pymorphy2[fast] nltk gensim"
      ],
      "execution_count": 17,
      "outputs": [
        {
          "output_type": "stream",
          "text": [
            "Collecting pymorphy2[fast]\n",
            "\u001b[?25l  Downloading https://files.pythonhosted.org/packages/a3/33/fff9675c68b5f6c63ec8c6e6ff57827dda28a1fa5b2c2d727dffff92dd47/pymorphy2-0.8-py2.py3-none-any.whl (46kB)\n",
            "\u001b[K    100% |████████████████████████████████| 51kB 1.7MB/s \n",
            "\u001b[?25hRequirement already satisfied: nltk in /usr/local/lib/python3.6/dist-packages (3.2.5)\n",
            "Collecting gensim\n",
            "\u001b[?25l  Downloading https://files.pythonhosted.org/packages/27/a4/d10c0acc8528d838cda5eede0ee9c784caa598dbf40bd0911ff8d067a7eb/gensim-3.6.0-cp36-cp36m-manylinux1_x86_64.whl (23.6MB)\n",
            "\u001b[K    100% |████████████████████████████████| 23.6MB 1.4MB/s \n",
            "\u001b[?25hCollecting docopt>=0.6 (from pymorphy2[fast])\n",
            "  Downloading https://files.pythonhosted.org/packages/a2/55/8f8cab2afd404cf578136ef2cc5dfb50baa1761b68c9da1fb1e4eed343c9/docopt-0.6.2.tar.gz\n",
            "Collecting dawg-python>=0.7 (from pymorphy2[fast])\n",
            "  Downloading https://files.pythonhosted.org/packages/6a/84/ff1ce2071d4c650ec85745766c0047ccc3b5036f1d03559fd46bb38b5eeb/DAWG_Python-0.7.2-py2.py3-none-any.whl\n",
            "Collecting pymorphy2-dicts<3.0,>=2.4 (from pymorphy2[fast])\n",
            "\u001b[?25l  Downloading https://files.pythonhosted.org/packages/02/51/2465fd4f72328ab50877b54777764d928da8cb15b74e2680fc1bd8cb3173/pymorphy2_dicts-2.4.393442.3710985-py2.py3-none-any.whl (7.1MB)\n",
            "\u001b[K    100% |████████████████████████████████| 7.1MB 1.1MB/s \n",
            "\u001b[?25hCollecting DAWG>=0.7.3; extra == \"fast\" (from pymorphy2[fast])\n",
            "\u001b[?25l  Downloading https://files.pythonhosted.org/packages/29/c0/d8d967bcaa0b572f9dc1d878bbf5a7bfd5afa2102a5ae426731f6ce3bc26/DAWG-0.7.8.tar.gz (255kB)\n",
            "\u001b[K    100% |████████████████████████████████| 256kB 27.3MB/s \n",
            "\u001b[?25hRequirement already satisfied: six in /usr/local/lib/python3.6/dist-packages (from nltk) (1.11.0)\n",
            "Requirement already satisfied: scipy>=0.18.1 in /usr/local/lib/python3.6/dist-packages (from gensim) (1.1.0)\n",
            "Requirement already satisfied: numpy>=1.11.3 in /usr/local/lib/python3.6/dist-packages (from gensim) (1.14.6)\n",
            "Collecting smart-open>=1.2.1 (from gensim)\n",
            "  Downloading https://files.pythonhosted.org/packages/4b/1f/6f27e3682124de63ac97a0a5876da6186de6c19410feab66c1543afab055/smart_open-1.7.1.tar.gz\n",
            "Collecting boto>=2.32 (from smart-open>=1.2.1->gensim)\n",
            "\u001b[?25l  Downloading https://files.pythonhosted.org/packages/23/10/c0b78c27298029e4454a472a1919bde20cb182dab1662cec7f2ca1dcc523/boto-2.49.0-py2.py3-none-any.whl (1.4MB)\n",
            "\u001b[K    100% |████████████████████████████████| 1.4MB 13.7MB/s \n",
            "\u001b[?25hCollecting bz2file (from smart-open>=1.2.1->gensim)\n",
            "  Downloading https://files.pythonhosted.org/packages/61/39/122222b5e85cd41c391b68a99ee296584b2a2d1d233e7ee32b4532384f2d/bz2file-0.98.tar.gz\n",
            "Requirement already satisfied: requests in /usr/local/lib/python3.6/dist-packages (from smart-open>=1.2.1->gensim) (2.18.4)\n",
            "Collecting boto3 (from smart-open>=1.2.1->gensim)\n",
            "\u001b[?25l  Downloading https://files.pythonhosted.org/packages/4e/cb/1bbd133fcdf24849fd7a1e5e1492e029a45d59cff75ad2b53d456724940b/boto3-1.9.51-py2.py3-none-any.whl (128kB)\n",
            "\u001b[K    100% |████████████████████████████████| 133kB 27.3MB/s \n",
            "\u001b[?25hRequirement already satisfied: certifi>=2017.4.17 in /usr/local/lib/python3.6/dist-packages (from requests->smart-open>=1.2.1->gensim) (2018.10.15)\n",
            "Requirement already satisfied: urllib3<1.23,>=1.21.1 in /usr/local/lib/python3.6/dist-packages (from requests->smart-open>=1.2.1->gensim) (1.22)\n",
            "Requirement already satisfied: chardet<3.1.0,>=3.0.2 in /usr/local/lib/python3.6/dist-packages (from requests->smart-open>=1.2.1->gensim) (3.0.4)\n",
            "Requirement already satisfied: idna<2.7,>=2.5 in /usr/local/lib/python3.6/dist-packages (from requests->smart-open>=1.2.1->gensim) (2.6)\n",
            "Collecting s3transfer<0.2.0,>=0.1.10 (from boto3->smart-open>=1.2.1->gensim)\n",
            "\u001b[?25l  Downloading https://files.pythonhosted.org/packages/d7/14/2a0004d487464d120c9fb85313a75cd3d71a7506955be458eebfe19a6b1d/s3transfer-0.1.13-py2.py3-none-any.whl (59kB)\n",
            "\u001b[K    100% |████████████████████████████████| 61kB 21.6MB/s \n",
            "\u001b[?25hCollecting botocore<1.13.0,>=1.12.51 (from boto3->smart-open>=1.2.1->gensim)\n",
            "\u001b[?25l  Downloading https://files.pythonhosted.org/packages/87/11/238a4cbdcd85d00c3abe2f2122ea30d303ec4ea14c833ccfbebb68760908/botocore-1.12.51-py2.py3-none-any.whl (4.9MB)\n",
            "\u001b[K    100% |████████████████████████████████| 4.9MB 1.1MB/s \n",
            "\u001b[?25hCollecting jmespath<1.0.0,>=0.7.1 (from boto3->smart-open>=1.2.1->gensim)\n",
            "  Downloading https://files.pythonhosted.org/packages/b7/31/05c8d001f7f87f0f07289a5fc0fc3832e9a57f2dbd4d3b0fee70e0d51365/jmespath-0.9.3-py2.py3-none-any.whl\n",
            "Collecting docutils>=0.10 (from botocore<1.13.0,>=1.12.51->boto3->smart-open>=1.2.1->gensim)\n",
            "\u001b[?25l  Downloading https://files.pythonhosted.org/packages/36/fa/08e9e6e0e3cbd1d362c3bbee8d01d0aedb2155c4ac112b19ef3cae8eed8d/docutils-0.14-py3-none-any.whl (543kB)\n",
            "\u001b[K    100% |████████████████████████████████| 552kB 22.1MB/s \n",
            "\u001b[?25hRequirement already satisfied: python-dateutil<3.0.0,>=2.1; python_version >= \"2.7\" in /usr/local/lib/python3.6/dist-packages (from botocore<1.13.0,>=1.12.51->boto3->smart-open>=1.2.1->gensim) (2.5.3)\n",
            "Building wheels for collected packages: docopt, DAWG, smart-open, bz2file\n",
            "  Running setup.py bdist_wheel for docopt ... \u001b[?25l-\b \bdone\n",
            "\u001b[?25h  Stored in directory: /root/.cache/pip/wheels/9b/04/dd/7daf4150b6d9b12949298737de9431a324d4b797ffd63f526e\n",
            "  Running setup.py bdist_wheel for DAWG ... \u001b[?25l-\b \b\\\b \b|\b \b/\b \b-\b \b\\\b \b|\b \b/\b \b-\b \b\\\b \b|\b \b/\b \b-\b \b\\\b \b|\b \b/\b \b-\b \b\\\b \b|\b \b/\b \b-\b \bdone\n",
            "\u001b[?25h  Stored in directory: /root/.cache/pip/wheels/d4/88/d0/4e4abc83eb8f59a71e8dbd8ba99fd5615a3af1fac1ef7f8825\n",
            "  Running setup.py bdist_wheel for smart-open ... \u001b[?25l-\b \bdone\n",
            "\u001b[?25h  Stored in directory: /root/.cache/pip/wheels/23/00/44/e5b939f7a80c04e32297dbd6d96fa3065af89ecf57e2b5f89f\n",
            "  Running setup.py bdist_wheel for bz2file ... \u001b[?25l-\b \bdone\n",
            "\u001b[?25h  Stored in directory: /root/.cache/pip/wheels/81/75/d6/e1317bf09bf1af5a30befc2a007869fa6e1f516b8f7c591cb9\n",
            "Successfully built docopt DAWG smart-open bz2file\n",
            "Installing collected packages: docopt, dawg-python, pymorphy2-dicts, DAWG, pymorphy2, boto, bz2file, docutils, jmespath, botocore, s3transfer, boto3, smart-open, gensim\n",
            "Successfully installed DAWG-0.7.8 boto-2.49.0 boto3-1.9.51 botocore-1.12.51 bz2file-0.98 dawg-python-0.7.2 docopt-0.6.2 docutils-0.14 gensim-3.6.0 jmespath-0.9.3 pymorphy2-0.8 pymorphy2-dicts-2.4.393442.3710985 s3transfer-0.1.13 smart-open-1.7.1\n"
          ],
          "name": "stdout"
        }
      ]
    },
    {
      "metadata": {
        "colab_type": "code",
        "id": "syGkglti0YFf",
        "colab": {
          "base_uri": "https://localhost:8080/",
          "height": 68
        },
        "outputId": "128796c8-0b99-4a22-f855-f44998ae7117"
      },
      "cell_type": "code",
      "source": [
        "import artm\n",
        "%matplotlib inline\n",
        "import glob\n",
        "import os, re\n",
        "import matplotlib.pyplot as plt\n",
        "from collections import defaultdict, Counter\n",
        "from nltk.corpus import stopwords\n",
        "import numpy as np\n",
        "from pymorphy2 import MorphAnalyzer\n",
        "import gensim, nltk\n",
        "morph = MorphAnalyzer()\n",
        "from nltk.tokenize import word_tokenize"
      ],
      "execution_count": 5,
      "outputs": [
        {
          "output_type": "stream",
          "text": [
            "/usr/local/lib/python3.6/dist-packages/scipy/sparse/sparsetools.py:21: DeprecationWarning: `scipy.sparse.sparsetools` is deprecated!\n",
            "scipy.sparse.sparsetools is a private module for scipy.sparse, and should not be used.\n",
            "  _deprecated()\n"
          ],
          "name": "stderr"
        }
      ]
    },
    {
      "metadata": {
        "colab_type": "code",
        "id": "DzdHfztLA1L8",
        "colab": {
          "base_uri": "https://localhost:8080/",
          "height": 68
        },
        "outputId": "c79af5ac-22d5-4241-d27e-a74ed20e6a25"
      },
      "cell_type": "code",
      "source": [
        "nltk.download('punkt')"
      ],
      "execution_count": 19,
      "outputs": [
        {
          "output_type": "stream",
          "text": [
            "[nltk_data] Downloading package punkt to /root/nltk_data...\n",
            "[nltk_data]   Unzipping tokenizers/punkt.zip.\n"
          ],
          "name": "stdout"
        },
        {
          "output_type": "execute_result",
          "data": {
            "text/plain": [
              "True"
            ]
          },
          "metadata": {
            "tags": []
          },
          "execution_count": 19
        }
      ]
    },
    {
      "metadata": {
        "id": "ywNr7AaF-Q3Z",
        "colab_type": "text"
      },
      "cell_type": "markdown",
      "source": [
        "**1) сделайте нормализацию (если pymorphy2 работает долго используйте mystem или попробуйте установить быструю версию - pip install pymorphy2[fast], можно использовать какой-то другой токенизатор)**"
      ]
    },
    {
      "metadata": {
        "colab_type": "code",
        "id": "1hLw-SVu0YFm",
        "colab": {}
      },
      "cell_type": "code",
      "source": [
        "def remove_tags(text):\n",
        "    text = re.sub('&gt;', '', text)\n",
        "    text = re.sub('&lt;', '', text)\n",
        "    text = re.sub('\\\\t', '', text)\n",
        "    return re.sub(r'<[^>]+>', '', text)\n",
        "\n",
        "def clean(words):\n",
        " \n",
        "    norm_uniq = []\n",
        "    for word in words:\n",
        "       if word.isalnum():\n",
        "          mp = morph.parse(word)[0]\n",
        "          if 'NUMB' not in mp.tag:\n",
        "            norm_uniq.append(mp.normal_form)\n",
        "\n",
        "    return norm_uniq"
      ],
      "execution_count": 0,
      "outputs": []
    },
    {
      "metadata": {
        "id": "HHGDG1Qm6SpM",
        "colab_type": "code",
        "colab": {}
      },
      "cell_type": "code",
      "source": [
        "#nltk.download('stopwords')\n",
        "stops = set(stopwords.words('russian'))\n",
        "stops |= set(stopwords.words('english'))"
      ],
      "execution_count": 0,
      "outputs": []
    },
    {
      "metadata": {
        "colab_type": "text",
        "id": "vlgqYxw90YFp"
      },
      "cell_type": "markdown",
      "source": [
        "## Возьмем теже данные"
      ]
    },
    {
      "metadata": {
        "colab_type": "code",
        "id": "mp_zp-zR5PJq",
        "outputId": "1c4d20c7-46be-4afe-e40e-280d8095f131",
        "colab": {
          "base_uri": "https://localhost:8080/",
          "height": 289
        }
      },
      "cell_type": "code",
      "source": [
        "!wget https://github.com/mannefedov/compling_nlp_hse_course/raw/master/data/habr_texts.txt.zip"
      ],
      "execution_count": 24,
      "outputs": [
        {
          "output_type": "stream",
          "text": [
            "--2018-11-26 16:45:59--  https://github.com/mannefedov/compling_nlp_hse_course/raw/master/data/habr_texts.txt.zip\n",
            "Resolving github.com (github.com)... 192.30.253.113, 192.30.253.112\n",
            "Connecting to github.com (github.com)|192.30.253.113|:443... connected.\n",
            "HTTP request sent, awaiting response... 302 Found\n",
            "Location: https://raw.githubusercontent.com/mannefedov/compling_nlp_hse_course/master/data/habr_texts.txt.zip [following]\n",
            "--2018-11-26 16:45:59--  https://raw.githubusercontent.com/mannefedov/compling_nlp_hse_course/master/data/habr_texts.txt.zip\n",
            "Resolving raw.githubusercontent.com (raw.githubusercontent.com)... 151.101.0.133, 151.101.64.133, 151.101.128.133, ...\n",
            "Connecting to raw.githubusercontent.com (raw.githubusercontent.com)|151.101.0.133|:443... connected.\n",
            "HTTP request sent, awaiting response... 200 OK\n",
            "Length: 18645068 (18M) [application/zip]\n",
            "Saving to: ‘habr_texts.txt.zip’\n",
            "\n",
            "habr_texts.txt.zip  100%[===================>]  17.78M  28.1MB/s    in 0.6s    \n",
            "\n",
            "2018-11-26 16:46:00 (28.1 MB/s) - ‘habr_texts.txt.zip’ saved [18645068/18645068]\n",
            "\n"
          ],
          "name": "stdout"
        }
      ]
    },
    {
      "metadata": {
        "colab_type": "code",
        "id": "COMPndhTAX1M",
        "outputId": "a6647acf-c8ea-4e29-ce1c-c15af2af9d72",
        "colab": {
          "base_uri": "https://localhost:8080/",
          "height": 51
        }
      },
      "cell_type": "code",
      "source": [
        "!unzip habr_texts.txt.zip"
      ],
      "execution_count": 25,
      "outputs": [
        {
          "output_type": "stream",
          "text": [
            "Archive:  habr_texts.txt.zip\n",
            "  inflating: habr_texts.txt          \n"
          ],
          "name": "stdout"
        }
      ]
    },
    {
      "metadata": {
        "colab_type": "code",
        "id": "NDHkAaPb0YFp",
        "colab": {}
      },
      "cell_type": "code",
      "source": [
        "habr_texts = [clean(word_tokenize(remove_tags(text.lower()))) for text in open('habr_texts.txt')]"
      ],
      "execution_count": 0,
      "outputs": []
    },
    {
      "metadata": {
        "id": "9kTIN0Jh_1rd",
        "colab_type": "text"
      },
      "cell_type": "markdown",
      "source": [
        "**2) добавьте нграммы (в тетрадке есть закомменченая ячейка с Phrases, можно также попробовать другие способы построить нграммы)**"
      ]
    },
    {
      "metadata": {
        "colab_type": "code",
        "id": "o_yHUX490YFr",
        "colab": {}
      },
      "cell_type": "code",
      "source": [
        "# вернемся сюда через какое-то время\n",
        "ph = gensim.models.Phrases(habr_texts, scoring='npmi', threshold=0.3, \n",
        "                            common_terms=stops) # можно указать слова, которые \n",
        "                                                                          # не будут учитываться\n",
        "p = gensim.models.phrases.Phraser(ph)\n",
        "habr_texts = p[habr_texts]"
      ],
      "execution_count": 0,
      "outputs": []
    },
    {
      "metadata": {
        "colab_type": "code",
        "id": "5q3JXJV40YFt",
        "colab": {}
      },
      "cell_type": "code",
      "source": [
        "# p[habr_texts[1]]"
      ],
      "execution_count": 0,
      "outputs": []
    },
    {
      "metadata": {
        "id": "7Ge1t7MqAAhc",
        "colab_type": "text"
      },
      "cell_type": "markdown",
      "source": [
        "**3) сохраните тексты .vw формате;**"
      ]
    },
    {
      "metadata": {
        "colab_type": "text",
        "id": "vOiEF_5H0YFv"
      },
      "cell_type": "markdown",
      "source": [
        "Для BigARTM требуется специальный формат данных. Их несколько, но мы возьмем vowpal wabbit.  \n",
        "На каждой строчке файла находится одельный текст, записывается такст вот таким образом:  \n",
        "```doc_name |@class_id word_1:1 word_2:3```  \n",
        "\n",
        "|@class_id - задает модальность, но когда она одна её можно не указывать.\n",
        "\n",
        "word_2:3 - слово и его частота (обратите внимание, что : - специальный символ и в словах его быть не может"
      ]
    },
    {
      "metadata": {
        "colab_type": "code",
        "id": "SZD1bmhR0YFw",
        "colab": {}
      },
      "cell_type": "code",
      "source": [
        "f = open('habr_texts.vw', 'w')\n",
        "\n",
        "for i, text in enumerate(habr_texts):\n",
        "    c = Counter(text)\n",
        "    doc = 'doc_'+ str(i) + ' '\n",
        "    vw_text = ' '.join([x+':'+str(c[x]) for x in c])\n",
        "    \n",
        "    f.write(doc + vw_text  + '\\n')\n",
        "f.close()\n",
        "\n"
      ],
      "execution_count": 0,
      "outputs": []
    },
    {
      "metadata": {
        "colab_type": "text",
        "id": "VO4xO6zT0YFy"
      },
      "cell_type": "markdown",
      "source": [
        "Для оценки будем использовать такую функцию (из туториалов от создателей библиотеки)"
      ]
    },
    {
      "metadata": {
        "colab_type": "code",
        "id": "xchX4sBs0YFz",
        "colab": {}
      },
      "cell_type": "code",
      "source": [
        "def print_measures(model_artm):\n",
        "    print('Sparsity Phi: {0:.3f} ARTM)'.format(\n",
        "        model_artm.score_tracker['SparsityPhiScore'].last_value)\n",
        ")\n",
        "    print('Sparsity Theta: {0:.3f} (ARTM)'.format(\n",
        "        model_artm.score_tracker['SparsityThetaScore'].last_value))\n",
        "\n",
        "    print('Kernel contrast: {0:.3f} (ARTM)'.format(\n",
        "        model_artm.score_tracker['TopicKernelScore'].last_average_contrast))\n",
        "\n",
        "    print('Kernel purity: {0:.3f} (ARTM)'.format(\n",
        "        model_artm.score_tracker['TopicKernelScore'].last_average_purity))\n",
        "\n",
        "    print('Perplexity: {0:.3f} (ARTM)'.format(\n",
        "        model_artm.score_tracker['PerplexityScore'].last_value)\n",
        ")\n",
        "    plt.plot(range(model_artm.num_phi_updates), model_artm.score_tracker['PerplexityScore'].value, 'r--', linewidth=2)\n",
        "    plt.xlabel('Iterations count')\n",
        "    plt.ylabel(' ARTM perp. (red)')\n",
        "    plt.grid(True)\n",
        "    plt.show()\n",
        "    "
      ],
      "execution_count": 0,
      "outputs": []
    },
    {
      "metadata": {
        "colab_type": "text",
        "id": "GHFVe6gK0YF2"
      },
      "cell_type": "markdown",
      "source": [
        "BigARTM работает не с целым файлом, а с кусочками. Поэтому разбиваем наш .vw файл специальным классом в artm."
      ]
    },
    {
      "metadata": {
        "colab_type": "code",
        "id": "NhIADC8O0YF2",
        "colab": {}
      },
      "cell_type": "code",
      "source": [
        "batch_vectorizer = artm.BatchVectorizer(data_path='habr_texts.vw',  # название файла\n",
        "                                        data_format='vowpal_wabbit', # формат файла, у нас vw\n",
        "                                        target_folder='batches', # название папки в которую положаться батчи\n",
        "                                       batch_size=1000) # размер батча, подбирайте под свою память"
      ],
      "execution_count": 0,
      "outputs": []
    },
    {
      "metadata": {
        "colab_type": "text",
        "id": "ZjXpddzi0YF6"
      },
      "cell_type": "markdown",
      "source": [
        "Уже созданные батчи можно заново загружать"
      ]
    },
    {
      "metadata": {
        "colab_type": "code",
        "id": "AG7xR0gu0YF6",
        "colab": {}
      },
      "cell_type": "code",
      "source": [
        "batch_vectorizer = artm.BatchVectorizer(data_path='batches', # название папки с батчами\n",
        "                                        data_format='batches') # указываем формат - батчи"
      ],
      "execution_count": 0,
      "outputs": []
    },
    {
      "metadata": {
        "id": "0bQmnvhWBkx_",
        "colab_type": "text"
      },
      "cell_type": "markdown",
      "source": [
        "**4) сделайте хороший словарь (отфильтруйте слишком частотные и редкие слова, попробуйте удалить стоп-слова, сохраните словарь и посмотрите на него, вдруг что-то плохое сразу будет заметно - из словаря можно просто вручную или правилом удалять строки, при загрузке ничего не сломается);**"
      ]
    },
    {
      "metadata": {
        "colab_type": "code",
        "id": "Qe0-ERcn0YF8",
        "colab": {}
      },
      "cell_type": "code",
      "source": [
        "# инициализируем словарь, чтобы сделать модель\n",
        "dictionary = artm.Dictionary()"
      ],
      "execution_count": 0,
      "outputs": []
    },
    {
      "metadata": {
        "colab_type": "text",
        "id": "sNAKhYQZ0YF-"
      },
      "cell_type": "markdown",
      "source": [
        "Собираем словарь по батчам"
      ]
    },
    {
      "metadata": {
        "colab_type": "code",
        "id": "S6nXvdOq0YGA",
        "outputId": "da8b3080-1f81-430b-c415-06cdcaa3db70",
        "colab": {
          "base_uri": "https://localhost:8080/",
          "height": 54
        }
      },
      "cell_type": "code",
      "source": [
        "dictionary.gather(data_path='batches')\n",
        "dictionary.filter(class_id='@default_class',\n",
        "                  min_df=10, max_df=2000)"
      ],
      "execution_count": 15,
      "outputs": [
        {
          "output_type": "execute_result",
          "data": {
            "text/plain": [
              "artm.Dictionary(name=bfed809a-ae9a-4b89-bd64-718f1bab246c, num_entries=18229)"
            ]
          },
          "metadata": {
            "tags": []
          },
          "execution_count": 15
        }
      ]
    },
    {
      "metadata": {
        "colab_type": "text",
        "id": "HEuyJjlB0YGB"
      },
      "cell_type": "markdown",
      "source": [
        "Его можно сохранить, чтобы не создавать снова или чтобы посмотреть и подредактировать."
      ]
    },
    {
      "metadata": {
        "colab_type": "code",
        "id": "I273a14r0YGC",
        "colab": {}
      },
      "cell_type": "code",
      "source": [
        "dictionary.save_text('dict.txt')\n"
      ],
      "execution_count": 0,
      "outputs": []
    },
    {
      "metadata": {
        "id": "Bk4E-2V-BkLB",
        "colab_type": "code",
        "colab": {}
      },
      "cell_type": "code",
      "source": [
        "# dictionary = artm.Dictionary()\n",
        "# dictionary.load_text('dict.txt')"
      ],
      "execution_count": 0,
      "outputs": []
    },
    {
      "metadata": {
        "colab_type": "text",
        "id": "bdMCSZiB0YGE"
      },
      "cell_type": "markdown",
      "source": [
        "Создаем модель и сразу включаем два регуляризатора (Декореляции и Сглаживания)"
      ]
    },
    {
      "metadata": {
        "colab_type": "text",
        "id": "LXN_YR1m0YGF"
      },
      "cell_type": "markdown",
      "source": [
        "`artm.DecorrelatorPhiRegularizer` - регуляризатор декорреляции тем, делает темы менее похожими друг на друга (рекомендуется включать его сразу на всех темах с положительным значением tau и не менять его в процессе обучения)  \n",
        "\n",
        "`artm.SmoothSparsePhiRegularizer` - регуляризатор сглаживания/разреженивания Phi (тем) - сглаживает или расреживает распределение слов в темах (отрицательный tau - разреживает, положительный - сглаживает), рекомендуется сразу включать сглаживание на всех темах и не менять его в процессе обучения;\n",
        "\n",
        "Количество тем нужно подбирать, но 200 часто работает хорошо. Снижение количества тем и уменьшения словаря ведут к уменьшению времени обучения модели (а увеличение, наоборот). "
      ]
    },
    {
      "metadata": {
        "id": "eddDetFhHpJm",
        "colab_type": "text"
      },
      "cell_type": "markdown",
      "source": [
        "**5) постройте несколько ARTM моделей (переберите количество тем, поменяйте значения tau у регуляризаторов), если получаются плохие темы, поработайте дополнительно над предобработкой и словарем;**"
      ]
    },
    {
      "metadata": {
        "colab_type": "code",
        "id": "7gTUMUh90YGG",
        "colab": {}
      },
      "cell_type": "code",
      "source": [
        "def my_artm(n, tau1, tau2, batch_vectorizer):\n",
        "  \n",
        "  model_artm = artm.ARTM(topic_names=['topic_{}'.format(i) for i in range(200)],\n",
        "                       \n",
        "                       regularizers=[\n",
        "                           artm.DecorrelatorPhiRegularizer(\n",
        "                                            name='Decorr', tau=tau1, \n",
        "                                            class_ids=['@default_class'],\n",
        "                                            topic_names=['topic_{}'.format(i) for i in range(0, n)]),\n",
        "                           \n",
        "                           artm.SmoothSparsePhiRegularizer(\n",
        "                                            name='SmoothPhi_1', \n",
        "                                            class_ids=['@default_class'],\n",
        "                                            tau=tau2, \n",
        "                                            topic_names=['topic_{}'.format(i) for i in range(0, n)])\n",
        "                                    ]\n",
        "                        )\n",
        "  model_artm.initialize(dictionary=dictionary, )\n",
        "  \n",
        "  # добавляем метрики\n",
        "  model_artm.scores.add(artm.PerplexityScore(name='PerplexityScore',\n",
        "                                                    dictionary=dictionary))\n",
        "  model_artm.scores.add(artm.SparsityPhiScore(name='SparsityPhiScore')) # разреженность слов в темах\n",
        "  model_artm.scores.add(artm.SparsityThetaScore(name='SparsityThetaScore')) # разреженность тем в доках\n",
        "  model_artm.scores.add(artm.TopicKernelScore(name='TopicKernelScore', probability_mass_threshold=0.1)) # когерентность по семантичесим ядрам\n",
        "  model_artm.scores.add(artm.TopTokensScore(class_id='@default_class', name='TopTokensScore_1', num_tokens=10)) # топ-n-слов для каждой темы \n",
        "\n",
        "  model_artm.num_document_passes = 2\n",
        "  model_artm.fit_offline(batch_vectorizer=batch_vectorizer, num_collection_passes=3)\n",
        "  \n",
        "  print(n, tau1, tau2)\n",
        "  print(print_measures(model_artm))\n",
        "  return model_artm\n",
        "# не забывайте менять количество топиков в регуляризаторах, они применяются только на тех темах, что заданы"
      ],
      "execution_count": 0,
      "outputs": []
    },
    {
      "metadata": {
        "id": "amCOwfSLMr1c",
        "colab_type": "code",
        "colab": {}
      },
      "cell_type": "code",
      "source": [
        "model_artm = artm.ARTM(topic_names=['topic_{}'.format(i) for i in range(200)],\n",
        "                       \n",
        "                       regularizers=[\n",
        "                           artm.DecorrelatorPhiRegularizer(\n",
        "                                            name='Decorr', tau=0.25, \n",
        "                                            class_ids=['@default_class'],\n",
        "                                            topic_names=['topic_{}'.format(i) for i in range(0, 200)]),\n",
        "                           \n",
        "                           artm.SmoothSparsePhiRegularizer(\n",
        "                                            name='SmoothPhi_1', \n",
        "                                            class_ids=['@default_class'],\n",
        "                                            tau=0.15, \n",
        "                                            topic_names=['topic_{}'.format(i) for i in range(0, 200)])\n",
        "                                    ]\n",
        "                        )"
      ],
      "execution_count": 0,
      "outputs": []
    },
    {
      "metadata": {
        "colab_type": "code",
        "id": "ZXwur8c80YGI",
        "colab": {}
      },
      "cell_type": "code",
      "source": [
        "# инициализурем модель словарем\n",
        "model_artm.initialize(dictionary=dictionary, )"
      ],
      "execution_count": 0,
      "outputs": []
    },
    {
      "metadata": {
        "colab_type": "code",
        "id": "M7ofKFaN0YGK",
        "colab": {}
      },
      "cell_type": "code",
      "source": [
        "# добавляем метрики\n",
        "model_artm.scores.add(artm.PerplexityScore(name='PerplexityScore',\n",
        "                                                    dictionary=dictionary))\n",
        "model_artm.scores.add(artm.SparsityPhiScore(name='SparsityPhiScore')) # разреженность слов в темах\n",
        "model_artm.scores.add(artm.SparsityThetaScore(name='SparsityThetaScore')) # разреженность тем в доках\n",
        "model_artm.scores.add(artm.TopicKernelScore(name='TopicKernelScore', probability_mass_threshold=0.1)) # когерентность по семантичесим ядрам\n",
        "model_artm.scores.add(artm.TopTokensScore(class_id='@default_class', name='TopTokensScore_1', num_tokens=10)) # топ-n-слов для каждой темы "
      ],
      "execution_count": 0,
      "outputs": []
    },
    {
      "metadata": {
        "colab_type": "text",
        "id": "A7ih3cp10YGM"
      },
      "cell_type": "markdown",
      "source": [
        "### Тренируем модель"
      ]
    },
    {
      "metadata": {
        "colab_type": "text",
        "id": "vkujg5tp0YGN"
      },
      "cell_type": "markdown",
      "source": [
        "Пройдемся несколько раз по коллекции, чтобы модель немного сошлась (если доков сильно больше то может быть достаточно и 1 прохода). Для сильно больших коллекций есть fit_online, который обновляется в процессе прохода по коллекции, про него можно почитать в документации."
      ]
    },
    {
      "metadata": {
        "colab_type": "code",
        "id": "d3UPM4bd0YGO",
        "colab": {}
      },
      "cell_type": "code",
      "source": [
        "model_artm.num_document_passes = 2\n",
        "model_artm.fit_offline(batch_vectorizer=batch_vectorizer, num_collection_passes=3)"
      ],
      "execution_count": 0,
      "outputs": []
    },
    {
      "metadata": {
        "colab_type": "code",
        "id": "sJNAHoO30YGR",
        "outputId": "8714c8f2-57ed-46cd-a82e-b0f4ea03be9f",
        "colab": {
          "base_uri": "https://localhost:8080/",
          "height": 364
        }
      },
      "cell_type": "code",
      "source": [
        "# посмотрим, что стало с моделью\n",
        "# если график сильно падал на последних итерациях, то можно прогнать обучение ещё несколько раз \n",
        "# (не добавляя другие регуляризаторы)\n",
        "print_measures(model_artm)"
      ],
      "execution_count": 58,
      "outputs": [
        {
          "output_type": "stream",
          "text": [
            "Sparsity Phi: 0.000 ARTM)\n",
            "Sparsity Theta: 0.000 (ARTM)\n",
            "Kernel contrast: 0.001 (ARTM)\n",
            "Kernel purity: 0.000 (ARTM)\n",
            "Perplexity: 5260.334 (ARTM)\n"
          ],
          "name": "stdout"
        },
        {
          "output_type": "display_data",
          "data": {
            "image/png": "[encoded data removed]",
            "text/plain": [
              "<matplotlib.figure.Figure at 0x7f877b0b1828>"
            ]
          },
          "metadata": {
            "tags": []
          }
        }
      ]
    },
    {
      "metadata": {
        "colab_type": "text",
        "id": "ESVQUJm90YGU"
      },
      "cell_type": "markdown",
      "source": [
        "Добавим регуляризаторы разреженности тем и документов.\n",
        "\n",
        "Их рекомендуется добавлять после того, как модель уже как-то сошлась. После добавления их рекомендуется постепенно уменьшать, чтобы усиливать разреживание. Их можно применять не ко всем темам, чтобы в каких-то темах собрались все стоп-слова.\n",
        "\n",
        "Можно добавлять их вместе или по отдельности."
      ]
    },
    {
      "metadata": {
        "id": "gfzKKW61VDQj",
        "colab_type": "code",
        "colab": {}
      },
      "cell_type": "code",
      "source": [
        "def next_artm(model_artm, tau, n, batch_vectorizer, num_collection_passes):\n",
        "  model_artm.regularizers.add(artm.SmoothSparsePhiRegularizer(name='SparsePhi', tau=-tau, \n",
        "                                                            topic_names=['topic_{}'.format(i) for i in range(1, n)],\n",
        "                                                            ))\n",
        "  model_artm.regularizers.add(artm.SmoothSparseThetaRegularizer(name='SparseTheta', tau=-tau, \n",
        "                                                              topic_names=['topic_{}'.format(i) for i in range(1, n)]))\n",
        "  model_artm.fit_offline(batch_vectorizer=batch_vectorizer,num_collection_passes=1)\n",
        "  \n",
        "  phi_tau = model_artm.regularizers['SparsePhi'].tau\n",
        "  theta_tau = model_artm.regularizers['SparseTheta'].tau\n",
        "\n",
        "  for i in range(10):\n",
        "      model_artm.regularizers['SparsePhi'].tau = (phi_tau + (phi_tau*0.5))\n",
        "      model_artm.regularizers['SparseTheta'].tau = (theta_tau + (theta_tau*0.1))\n",
        "    \n",
        "      model_artm.fit_offline(batch_vectorizer=batch_vectorizer,num_collection_passes=num_collection_passes)\n",
        "\n",
        "  print_measures(model_artm)\n",
        "  return model_artm"
      ],
      "execution_count": 0,
      "outputs": []
    },
    {
      "metadata": {
        "colab_type": "code",
        "id": "zx8f5J140YGU",
        "colab": {}
      },
      "cell_type": "code",
      "source": [
        "model_artm.regularizers.add(artm.SmoothSparsePhiRegularizer(name='SparsePhi', tau=-0.15, \n",
        "                                                            topic_names=['topic_{}'.format(i) for i in range(1, 200)],\n",
        "                                                            ))\n",
        "model_artm.regularizers.add(artm.SmoothSparseThetaRegularizer(name='SparseTheta', tau=-0.15, \n",
        "                                                              topic_names=['topic_{}'.format(i) for i in range(1, 200)]))"
      ],
      "execution_count": 0,
      "outputs": []
    },
    {
      "metadata": {
        "colab_type": "code",
        "id": "d-XyXPrF0YGX",
        "colab": {}
      },
      "cell_type": "code",
      "source": [
        "model_artm.fit_offline(batch_vectorizer=batch_vectorizer,num_collection_passes=1)"
      ],
      "execution_count": 0,
      "outputs": []
    },
    {
      "metadata": {
        "colab_type": "code",
        "id": "CWrgduzK0YGY",
        "colab": {}
      },
      "cell_type": "code",
      "source": [
        "# будем постепенно увеличивать значения этих регуляризаторов\n",
        "phi_tau = model_artm.regularizers['SparsePhi'].tau\n",
        "theta_tau = model_artm.regularizers['SparseTheta'].tau\n",
        "\n",
        "for i in range(10):\n",
        "    model_artm.regularizers['SparsePhi'].tau = (phi_tau + (phi_tau*0.5))\n",
        "    model_artm.regularizers['SparseTheta'].tau = (theta_tau + (theta_tau*0.1))\n",
        "    \n",
        "    model_artm.fit_offline(batch_vectorizer=batch_vectorizer,num_collection_passes=2)\n",
        "    "
      ],
      "execution_count": 0,
      "outputs": []
    },
    {
      "metadata": {
        "colab_type": "code",
        "id": "Nz2ZycN80YGb",
        "colab": {
          "base_uri": "https://localhost:8080/",
          "height": 364
        },
        "outputId": "e0ad5d5d-268d-42b6-b088-c38fb2562c49"
      },
      "cell_type": "code",
      "source": [
        "# посмотрим на качество\n",
        "print_measures(model_artm)"
      ],
      "execution_count": 64,
      "outputs": [
        {
          "output_type": "stream",
          "text": [
            "Sparsity Phi: 0.959 ARTM)\n",
            "Sparsity Theta: 0.246 (ARTM)\n",
            "Kernel contrast: 0.398 (ARTM)\n",
            "Kernel purity: 0.597 (ARTM)\n",
            "Perplexity: 2105.772 (ARTM)\n"
          ],
          "name": "stdout"
        },
        {
          "output_type": "display_data",
          "data": {
            "image/png": "[encoded data removed]",
            "text/plain": [
              "<matplotlib.figure.Figure at 0x7f874d78c198>"
            ]
          },
          "metadata": {
            "tags": []
          }
        }
      ]
    },
    {
      "metadata": {
        "colab_type": "text",
        "id": "r0pGwdLb0YGg"
      },
      "cell_type": "markdown",
      "source": [
        "Перплексия должна снижаться. Если график выровнился и больше не меняется - модель сошлась. Обычно перплексия хорошей модели около 200-1000. На таком небольшом количестве данных возможно такого значения достичь не получится."
      ]
    },
    {
      "metadata": {
        "colab_type": "code",
        "id": "tDeYG2kt0YGg",
        "colab": {}
      },
      "cell_type": "code",
      "source": [
        "# посмотрим на темы\n",
        "import pandas as pd\n",
        "\n",
        "def topics(model_artm):\n",
        "  \n",
        "  d = {}\n",
        "  \n",
        "  for topic_name in model_artm.topic_names[:10]:\n",
        "      try:\n",
        "          a = []\n",
        "          for x in model_artm.score_tracker['TopTokensScore_1'].last_tokens[topic_name]:\n",
        "             a.append(x)\n",
        "          d[topic_name] = a\n",
        "    \n",
        "      except KeyError: # можно перекрутить параметры и некоторые темы окажутся пустыми\n",
        "          continue\n",
        "  return pd.DataFrame(d)"
      ],
      "execution_count": 0,
      "outputs": []
    },
    {
      "metadata": {
        "id": "xPfSl6nJQi4y",
        "colab_type": "code",
        "colab": {}
      },
      "cell_type": "code",
      "source": [
        ""
      ],
      "execution_count": 0,
      "outputs": []
    },
    {
      "metadata": {
        "colab_type": "code",
        "id": "NAUy5VNu0YGi",
        "colab": {
          "base_uri": "https://localhost:8080/",
          "height": 1541
        },
        "outputId": "28f462bf-f504-4ae1-cfda-1ead4aff5f1d"
      },
      "cell_type": "code",
      "source": [
        "models = []\n",
        "params = [50, 100, 200, 300]\n",
        "for i in params:\n",
        "  model = my_artm(i, 0.25, 0.15, batch_vectorizer)\n",
        "  models.append(model)"
      ],
      "execution_count": 20,
      "outputs": [
        {
          "output_type": "stream",
          "text": [
            "50 0.25 0.15\n",
            "Sparsity Phi: 0.000 ARTM)\n",
            "Sparsity Theta: 0.000 (ARTM)\n",
            "Kernel contrast: 0.002 (ARTM)\n",
            "Kernel purity: 0.000 (ARTM)\n",
            "Perplexity: 5051.572 (ARTM)\n"
          ],
          "name": "stdout"
        },
        {
          "output_type": "display_data",
          "data": {
            "image/png": "[encoded data removed]",
            "text/plain": [
              "<matplotlib.figure.Figure at 0x7fa1c3df2898>"
            ]
          },
          "metadata": {
            "tags": []
          }
        },
        {
          "output_type": "stream",
          "text": [
            "None\n",
            "100 0.25 0.15\n",
            "Sparsity Phi: 0.000 ARTM)\n",
            "Sparsity Theta: 0.000 (ARTM)\n",
            "Kernel contrast: 0.001 (ARTM)\n",
            "Kernel purity: 0.000 (ARTM)\n",
            "Perplexity: 5090.751 (ARTM)\n"
          ],
          "name": "stdout"
        },
        {
          "output_type": "display_data",
          "data": {
            "image/png": "[encoded data removed]",
            "text/plain": [
              "<matplotlib.figure.Figure at 0x7fa1c3e02c50>"
            ]
          },
          "metadata": {
            "tags": []
          }
        },
        {
          "output_type": "stream",
          "text": [
            "None\n",
            "200 0.25 0.15\n",
            "Sparsity Phi: 0.000 ARTM)\n",
            "Sparsity Theta: 0.000 (ARTM)\n",
            "Kernel contrast: 0.001 (ARTM)\n",
            "Kernel purity: 0.000 (ARTM)\n",
            "Perplexity: 5260.334 (ARTM)\n"
          ],
          "name": "stdout"
        },
        {
          "output_type": "display_data",
          "data": {
            "image/png": "[encoded data removed]",
            "text/plain": [
              "<matplotlib.figure.Figure at 0x7fa1c0d90278>"
            ]
          },
          "metadata": {
            "tags": []
          }
        },
        {
          "output_type": "stream",
          "text": [
            "None\n",
            "300 0.25 0.15\n",
            "Sparsity Phi: 0.000 ARTM)\n",
            "Sparsity Theta: 0.000 (ARTM)\n",
            "Kernel contrast: 0.001 (ARTM)\n",
            "Kernel purity: 0.000 (ARTM)\n",
            "Perplexity: 5260.334 (ARTM)\n"
          ],
          "name": "stdout"
        },
        {
          "output_type": "display_data",
          "data": {
            "image/png": "[encoded data removed]",
            "text/plain": [
              "<matplotlib.figure.Figure at 0x7fa1c1da81d0>"
            ]
          },
          "metadata": {
            "tags": []
          }
        },
        {
          "output_type": "stream",
          "text": [
            "None\n"
          ],
          "name": "stdout"
        }
      ]
    },
    {
      "metadata": {
        "id": "gz6bV8n0Sz2M",
        "colab_type": "text"
      },
      "cell_type": "markdown",
      "source": [
        "Модели сошлись,  идем дальше"
      ]
    },
    {
      "metadata": {
        "id": "SUjTjwUiULDI",
        "colab_type": "code",
        "colab": {
          "base_uri": "https://localhost:8080/",
          "height": 1405
        },
        "outputId": "859f2ccd-ab00-468e-cdf0-f3634257c00c"
      },
      "cell_type": "code",
      "source": [
        "for index, model in enumerate(models):\n",
        "  models[index] = next_artm(model, 0.15, params[index], batch_vectorizer, 3)"
      ],
      "execution_count": 21,
      "outputs": [
        {
          "output_type": "stream",
          "text": [
            "Sparsity Phi: 0.476 ARTM)\n",
            "Sparsity Theta: 0.066 (ARTM)\n",
            "Kernel contrast: 0.262 (ARTM)\n",
            "Kernel purity: 0.477 (ARTM)\n",
            "Perplexity: 2125.623 (ARTM)\n"
          ],
          "name": "stdout"
        },
        {
          "output_type": "display_data",
          "data": {
            "image/png": "[encoded data removed]",
            "text/plain": [
              "<matplotlib.figure.Figure at 0x7fa1c3e16e80>"
            ]
          },
          "metadata": {
            "tags": []
          }
        },
        {
          "output_type": "stream",
          "text": [
            "Sparsity Phi: 0.626 ARTM)\n",
            "Sparsity Theta: 0.126 (ARTM)\n",
            "Kernel contrast: 0.294 (ARTM)\n",
            "Kernel purity: 0.512 (ARTM)\n",
            "Perplexity: 2104.023 (ARTM)\n"
          ],
          "name": "stdout"
        },
        {
          "output_type": "display_data",
          "data": {
            "image/png": "[encoded data removed]",
            "text/plain": [
              "<matplotlib.figure.Figure at 0x7fa1bccec400>"
            ]
          },
          "metadata": {
            "tags": []
          }
        },
        {
          "output_type": "stream",
          "text": [
            "Sparsity Phi: 0.947 ARTM)\n",
            "Sparsity Theta: 0.220 (ARTM)\n",
            "Kernel contrast: 0.374 (ARTM)\n",
            "Kernel purity: 0.565 (ARTM)\n",
            "Perplexity: 2106.607 (ARTM)\n"
          ],
          "name": "stdout"
        },
        {
          "output_type": "display_data",
          "data": {
            "image/png": "[encoded data removed]",
            "text/plain": [
              "<matplotlib.figure.Figure at 0x7fa1bbc7a198>"
            ]
          },
          "metadata": {
            "tags": []
          }
        },
        {
          "output_type": "stream",
          "text": [
            "Sparsity Phi: 0.947 ARTM)\n",
            "Sparsity Theta: 0.220 (ARTM)\n",
            "Kernel contrast: 0.374 (ARTM)\n",
            "Kernel purity: 0.565 (ARTM)\n",
            "Perplexity: 2106.607 (ARTM)\n"
          ],
          "name": "stdout"
        },
        {
          "output_type": "display_data",
          "data": {
            "image/png": "[encoded data removed]",
            "text/plain": [
              "<matplotlib.figure.Figure at 0x7fa1bbc16128>"
            ]
          },
          "metadata": {
            "tags": []
          }
        }
      ]
    },
    {
      "metadata": {
        "id": "kqlQMstbWIyf",
        "colab_type": "code",
        "colab": {
          "base_uri": "https://localhost:8080/",
          "height": 1649
        },
        "outputId": "17c98e26-3230-4170-af8b-efb9137a5c2a"
      },
      "cell_type": "code",
      "source": [
        "for index, model in enumerate(models):\n",
        "    print(topics(model))\n",
        "    print()"
      ],
      "execution_count": 22,
      "outputs": [
        {
          "output_type": "stream",
          "text": [
            "          topic_0       topic_1      topic_2          topic_3       topic_4  \\\n",
            "0         новость       ноутбук      человек            закон  производство   \n",
            "1       очередной        доллар        жизнь            право    транзистор   \n",
            "2         впрочем        стоить  чувствовать  государственный       образец   \n",
            "3            nmap       планшет      чувство       российский           чип   \n",
            "4           котик       сегодня        мысль             дело   современный   \n",
            "5        закрытый    устройство         дело    международный      кристалл   \n",
            "6     поздравлять     выпустить     ощущение              суд   разработать   \n",
            "7           добро       линейка          еда          принять      материал   \n",
            "8  судить_по_весь  жёсткий_диск     мышление              сша     способный   \n",
            "9       исполнять            гб         жена           власть      германия   \n",
            "\n",
            "       topic_5      topic_6       topic_7      topic_8     topic_9  \n",
            "0       датчик          дом      заказчик     участник      машина  \n",
            "1   устройство     цифровой      менеджер       доклад  автомобиль  \n",
            "2  аккумулятор       музыка          срок  конференция      дорога  \n",
            "3  регистратор        голос  руководитель  мероприятие    водитель  \n",
            "4      аппарат     домашний    разработка  презентация   велосипед  \n",
            "5      батарея   устройство        бизнес  выступление      колесо  \n",
            "6       корпус  современный         scrum   рассказать       улица  \n",
            "7    китайский    создатель       процесс      участие       ехать  \n",
            "8       модуль      создать  планирование         тема   транспорт  \n",
            "9         дрон         речь   исполнитель    александр    скорость  \n",
            "\n",
            "      topic_0       topic_1    topic_2          topic_3     topic_4  \\\n",
            "0       шутка       ноутбук      жизнь            право      причём   \n",
            "1       дверь         intel    человек          принять     разница   \n",
            "2        душа        доллар        мой            закон   поскольку   \n",
            "3       добро     выпустить       дело         открытый        хотя   \n",
            "4       герой  жёсткий_диск       офис         являться     считать   \n",
            "5      паника     компьютер       день  распространение   настолько   \n",
            "6     суровый        монета     неделя          условие   маленький   \n",
            "7       милый        lenovo       жена          обязать  сравнивать   \n",
            "8  магический        стоить  нравиться        свободный    сравнить   \n",
            "9   очередной       сегодня     любить             дело   оказаться   \n",
            "\n",
            "       topic_5   topic_6       topic_7      topic_8     topic_9  \n",
            "0       датчик      часы        задача     участник       книга  \n",
            "1   контроллер  стандарт       команда       доклад       автор  \n",
            "2   напряжение       дом      заказчик  конференция       глава  \n",
            "3  аккумулятор      речь  планирование  мероприятие     рассказ  \n",
            "4          ток        ни        проект  презентация   велосипед  \n",
            "5      питание     голос          срок   рассказать    развитие  \n",
            "6      батарея  домашний          план  выступление  визуальный  \n",
            "7        схема        ли    выполнение         тема    читатель  \n",
            "8        мотор      чаща    разработка      встреча   научиться  \n",
            "9        выход    именно         scrum       спикер        сила  \n",
            "\n",
            "              topic_0       topic_1        topic_2      topic_3     topic_4  \\\n",
            "0        конец_ноябрь     компьютер           курс    результат      память   \n",
            "1              кругом       ноутбук        студент        отчёт  инструкция   \n",
            "2     результат_опрос         intel         лекция  необходимый   процессор   \n",
            "3        раскладывать     процессор        человек        рамка        байт   \n",
            "4          шаг_вперёд            гб         вопрос     являться       битый   \n",
            "5               будни        память  собеседование       портал     регистр   \n",
            "6  компьютерный_вирус  жёсткий_диск        изучать       вопрос       адрес   \n",
            "7           воплощать            пк      научиться     практика    задержка   \n",
            "8           начинание        lenovo       мышление    следующий          мс   \n",
            "9              участь    накопитель        занятие       единый   результат   \n",
            "\n",
            "       topic_5        topic_6     topic_7      topic_8     topic_9  \n",
            "0       модуль          любой        база     участник       тогда  \n",
            "1       датчик     функционал    заказчик       доклад        идея  \n",
            "2        вывод  необходимость    нагрузка  конференция      почему  \n",
            "3      счётчик        правило  выполнение   рассказать          её  \n",
            "4       таймер    собственный    скорость  мероприятие        хотя  \n",
            "5    управлять           люба   приоритет  презентация  самый_дело  \n",
            "6     параметр       создание         пул  выступление     слишком  \n",
            "7        схема     трансляция      момент          про        ведь  \n",
            "8  стандартный        удобный     быстрый      встреча      именно  \n",
            "9   управление    полноценный  расписание         тема          уж  \n",
            "\n",
            "              topic_0       topic_1        topic_2      topic_3     topic_4  \\\n",
            "0        конец_ноябрь     компьютер           курс    результат      память   \n",
            "1              кругом       ноутбук        студент        отчёт  инструкция   \n",
            "2     результат_опрос         intel         лекция  необходимый   процессор   \n",
            "3        раскладывать     процессор        человек        рамка        байт   \n",
            "4          шаг_вперёд            гб         вопрос     являться       битый   \n",
            "5               будни        память  собеседование       портал     регистр   \n",
            "6  компьютерный_вирус  жёсткий_диск        изучать       вопрос       адрес   \n",
            "7           воплощать            пк      научиться     практика    задержка   \n",
            "8           начинание        lenovo       мышление    следующий          мс   \n",
            "9              участь    накопитель        занятие       единый   результат   \n",
            "\n",
            "       topic_5        topic_6     topic_7      topic_8     topic_9  \n",
            "0       модуль          любой        база     участник       тогда  \n",
            "1       датчик     функционал    заказчик       доклад        идея  \n",
            "2        вывод  необходимость    нагрузка  конференция      почему  \n",
            "3      счётчик        правило  выполнение   рассказать          её  \n",
            "4       таймер    собственный    скорость  мероприятие        хотя  \n",
            "5    управлять           люба   приоритет  презентация  самый_дело  \n",
            "6     параметр       создание         пул  выступление     слишком  \n",
            "7        схема     трансляция      момент          про        ведь  \n",
            "8  стандартный        удобный     быстрый      встреча      именно  \n",
            "9   управление    полноценный  расписание         тема          уж  \n",
            "\n"
          ],
          "name": "stdout"
        }
      ]
    },
    {
      "metadata": {
        "id": "HZYnDhUDkecx",
        "colab_type": "text"
      },
      "cell_type": "markdown",
      "source": [
        "По моему мнению лучшие темы получились при параметрах: 50, 0.25, 0.15. Например, topic_3, 5, 8, 9"
      ]
    },
    {
      "metadata": {
        "id": "6qoMIe7aWZBP",
        "colab_type": "code",
        "colab": {}
      },
      "cell_type": "code",
      "source": [
        ""
      ],
      "execution_count": 0,
      "outputs": []
    },
    {
      "metadata": {
        "id": "AlSomnaVWZJ8",
        "colab_type": "code",
        "colab": {}
      },
      "cell_type": "code",
      "source": [
        ""
      ],
      "execution_count": 0,
      "outputs": []
    },
    {
      "metadata": {
        "id": "S3XYs6qHR2El",
        "colab_type": "code",
        "colab": {
          "base_uri": "https://localhost:8080/",
          "height": 2303
        },
        "outputId": "7b587c2f-f796-4b55-a50c-97860e8be864"
      },
      "cell_type": "code",
      "source": [
        "models = []\n",
        "params = [(0.15, 0.25), (0.25, 0.15), (0.5, 0.15), (0.15, 0.5), (0.25, 0.5), (0.5, 0.25)]\n",
        "\n",
        "for i in params:\n",
        "  model = my_artm(50, i[0], i[1], batch_vectorizer)\n",
        "  models.append(model)"
      ],
      "execution_count": 29,
      "outputs": [
        {
          "output_type": "stream",
          "text": [
            "50 0.15 0.25\n",
            "Sparsity Phi: 0.000 ARTM)\n",
            "Sparsity Theta: 0.000 (ARTM)\n",
            "Kernel contrast: 0.002 (ARTM)\n",
            "Kernel purity: 0.000 (ARTM)\n",
            "Perplexity: 5055.970 (ARTM)\n"
          ],
          "name": "stdout"
        },
        {
          "output_type": "display_data",
          "data": {
            "image/png": "[encoded data removed]",
            "text/plain": [
              "<matplotlib.figure.Figure at 0x7fa209afe3c8>"
            ]
          },
          "metadata": {
            "tags": []
          }
        },
        {
          "output_type": "stream",
          "text": [
            "None\n",
            "50 0.25 0.15\n",
            "Sparsity Phi: 0.000 ARTM)\n",
            "Sparsity Theta: 0.000 (ARTM)\n",
            "Kernel contrast: 0.002 (ARTM)\n",
            "Kernel purity: 0.000 (ARTM)\n",
            "Perplexity: 5051.572 (ARTM)\n"
          ],
          "name": "stdout"
        },
        {
          "output_type": "display_data",
          "data": {
            "image/png": "[encoded data removed]",
            "text/plain": [
              "<matplotlib.figure.Figure at 0x7fa1bccc7a20>"
            ]
          },
          "metadata": {
            "tags": []
          }
        },
        {
          "output_type": "stream",
          "text": [
            "None\n",
            "50 0.5 0.15\n",
            "Sparsity Phi: 0.000 ARTM)\n",
            "Sparsity Theta: 0.000 (ARTM)\n",
            "Kernel contrast: 0.002 (ARTM)\n",
            "Kernel purity: 0.000 (ARTM)\n",
            "Perplexity: 5051.572 (ARTM)\n"
          ],
          "name": "stdout"
        },
        {
          "output_type": "display_data",
          "data": {
            "image/png": "[encoded data removed]",
            "text/plain": [
              "<matplotlib.figure.Figure at 0x7fa1bb833978>"
            ]
          },
          "metadata": {
            "tags": []
          }
        },
        {
          "output_type": "stream",
          "text": [
            "None\n",
            "50 0.15 0.5\n",
            "Sparsity Phi: 0.000 ARTM)\n",
            "Sparsity Theta: 0.000 (ARTM)\n",
            "Kernel contrast: 0.002 (ARTM)\n",
            "Kernel purity: 0.000 (ARTM)\n",
            "Perplexity: 5059.803 (ARTM)\n"
          ],
          "name": "stdout"
        },
        {
          "output_type": "display_data",
          "data": {
            "image/png": "[encoded data removed]",
            "text/plain": [
              "<matplotlib.figure.Figure at 0x7fa1bbb9fb70>"
            ]
          },
          "metadata": {
            "tags": []
          }
        },
        {
          "output_type": "stream",
          "text": [
            "None\n",
            "50 0.25 0.5\n",
            "Sparsity Phi: 0.000 ARTM)\n",
            "Sparsity Theta: 0.000 (ARTM)\n",
            "Kernel contrast: 0.002 (ARTM)\n",
            "Kernel purity: 0.000 (ARTM)\n",
            "Perplexity: 5059.803 (ARTM)\n"
          ],
          "name": "stdout"
        },
        {
          "output_type": "display_data",
          "data": {
            "image/png": "[encoded data removed]",
            "text/plain": [
              "<matplotlib.figure.Figure at 0x7fa1bb785320>"
            ]
          },
          "metadata": {
            "tags": []
          }
        },
        {
          "output_type": "stream",
          "text": [
            "None\n",
            "50 0.5 0.25\n",
            "Sparsity Phi: 0.000 ARTM)\n",
            "Sparsity Theta: 0.000 (ARTM)\n",
            "Kernel contrast: 0.002 (ARTM)\n",
            "Kernel purity: 0.000 (ARTM)\n",
            "Perplexity: 5055.970 (ARTM)\n"
          ],
          "name": "stdout"
        },
        {
          "output_type": "display_data",
          "data": {
            "image/png": "[encoded data removed]",
            "text/plain": [
              "<matplotlib.figure.Figure at 0x7fa1bbc64ac8>"
            ]
          },
          "metadata": {
            "tags": []
          }
        },
        {
          "output_type": "stream",
          "text": [
            "None\n"
          ],
          "name": "stdout"
        }
      ]
    },
    {
      "metadata": {
        "id": "VepeVKU6S8wV",
        "colab_type": "code",
        "colab": {
          "base_uri": "https://localhost:8080/",
          "height": 2099
        },
        "outputId": "bc71886f-db01-4219-db59-88a2c38e8709"
      },
      "cell_type": "code",
      "source": [
        "for index, model in enumerate(models):\n",
        "  models[index] = next_artm(model, params[index][1], 50, batch_vectorizer, 3)"
      ],
      "execution_count": 30,
      "outputs": [
        {
          "output_type": "stream",
          "text": [
            "Sparsity Phi: 0.470 ARTM)\n",
            "Sparsity Theta: 0.098 (ARTM)\n",
            "Kernel contrast: 0.273 (ARTM)\n",
            "Kernel purity: 0.480 (ARTM)\n",
            "Perplexity: 2136.086 (ARTM)\n"
          ],
          "name": "stdout"
        },
        {
          "output_type": "display_data",
          "data": {
            "image/png": "[encoded data removed]",
            "text/plain": [
              "<matplotlib.figure.Figure at 0x7fa1bbb81278>"
            ]
          },
          "metadata": {
            "tags": []
          }
        },
        {
          "output_type": "stream",
          "text": [
            "Sparsity Phi: 0.476 ARTM)\n",
            "Sparsity Theta: 0.066 (ARTM)\n",
            "Kernel contrast: 0.262 (ARTM)\n",
            "Kernel purity: 0.477 (ARTM)\n",
            "Perplexity: 2125.623 (ARTM)\n"
          ],
          "name": "stdout"
        },
        {
          "output_type": "display_data",
          "data": {
            "image/png": "[encoded data removed]",
            "text/plain": [
              "<matplotlib.figure.Figure at 0x7fa1bb2fb3c8>"
            ]
          },
          "metadata": {
            "tags": []
          }
        },
        {
          "output_type": "stream",
          "text": [
            "Sparsity Phi: 0.476 ARTM)\n",
            "Sparsity Theta: 0.066 (ARTM)\n",
            "Kernel contrast: 0.262 (ARTM)\n",
            "Kernel purity: 0.477 (ARTM)\n",
            "Perplexity: 2125.623 (ARTM)\n"
          ],
          "name": "stdout"
        },
        {
          "output_type": "display_data",
          "data": {
            "image/png": "[encoded data removed]",
            "text/plain": [
              "<matplotlib.figure.Figure at 0x7fa1bdd2e4a8>"
            ]
          },
          "metadata": {
            "tags": []
          }
        },
        {
          "output_type": "stream",
          "text": [
            "Sparsity Phi: 0.461 ARTM)\n",
            "Sparsity Theta: 0.149 (ARTM)\n",
            "Kernel contrast: 0.297 (ARTM)\n",
            "Kernel purity: 0.500 (ARTM)\n",
            "Perplexity: 2158.102 (ARTM)\n"
          ],
          "name": "stdout"
        },
        {
          "output_type": "display_data",
          "data": {
            "image/png": "[encoded data removed]",
            "text/plain": [
              "<matplotlib.figure.Figure at 0x7fa1bbc44c50>"
            ]
          },
          "metadata": {
            "tags": []
          }
        },
        {
          "output_type": "stream",
          "text": [
            "Sparsity Phi: 0.461 ARTM)\n",
            "Sparsity Theta: 0.149 (ARTM)\n",
            "Kernel contrast: 0.297 (ARTM)\n",
            "Kernel purity: 0.500 (ARTM)\n",
            "Perplexity: 2158.102 (ARTM)\n"
          ],
          "name": "stdout"
        },
        {
          "output_type": "display_data",
          "data": {
            "image/png": "[encoded data removed]",
            "text/plain": [
              "<matplotlib.figure.Figure at 0x7fa1c2642438>"
            ]
          },
          "metadata": {
            "tags": []
          }
        },
        {
          "output_type": "stream",
          "text": [
            "Sparsity Phi: 0.470 ARTM)\n",
            "Sparsity Theta: 0.098 (ARTM)\n",
            "Kernel contrast: 0.273 (ARTM)\n",
            "Kernel purity: 0.480 (ARTM)\n",
            "Perplexity: 2136.086 (ARTM)\n"
          ],
          "name": "stdout"
        },
        {
          "output_type": "display_data",
          "data": {
            "image/png": "[encoded data removed]",
            "text/plain": [
              "<matplotlib.figure.Figure at 0x7fa1c3df2630>"
            ]
          },
          "metadata": {
            "tags": []
          }
        }
      ]
    },
    {
      "metadata": {
        "id": "afuiJinfXB5l",
        "colab_type": "code",
        "colab": {
          "base_uri": "https://localhost:8080/",
          "height": 2465
        },
        "outputId": "761f399a-e3f0-4e84-a9d4-cc8cec40ed36"
      },
      "cell_type": "code",
      "source": [
        "for index, model in enumerate(models):\n",
        "    print(topics(model))\n",
        "    print()"
      ],
      "execution_count": 31,
      "outputs": [
        {
          "output_type": "stream",
          "text": [
            "         topic_0      topic_1  topic_2          topic_3       topic_4  \\\n",
            "0          глава      ноутбук    книга           страна       образец   \n",
            "1        новость       доллар    жизнь              сша    транзистор   \n",
            "2          котик       россия      дом            закон  производство   \n",
            "3    поздравлять    выпустить      мой  государственный      материал   \n",
            "4      исполнять      сегодня     дело     американский      кристалл   \n",
            "5     порадовать       стоить  чувство           россия          атом   \n",
            "6       репортёр    появиться  человек    международный   современный   \n",
            "7      телеканал        рубль    мысль      государство   электронный   \n",
            "8          robot  официальный     жена            право     способный   \n",
            "9  очень_опасный    китайский      еда          местный     поколение   \n",
            "\n",
            "       topic_5          topic_6       topic_7       topic_8     topic_9  \n",
            "0       датчик             звук      заказчик      участник      машина  \n",
            "1  аккумулятор          наушник      менеджер          курс  автомобиль  \n",
            "2  регистратор           музыка          срок      кандидат      дорога  \n",
            "3       корпус         цифровой  руководитель   мероприятие    водитель  \n",
            "4   устройство            голос        бизнес       студент    скорость  \n",
            "5      батарея       устройство         scrum       участие   велосипед  \n",
            "6      аппарат         микрофон      работник  соревнование      колесо  \n",
            "7  конструкция         звуковой   исполнитель        пройти       улица  \n",
            "8         дрон      музыкальный       процесс   участвовать   транспорт  \n",
            "9    китайский  воспроизведение            ит     проходить       ехать  \n",
            "\n",
            "          topic_0       topic_1      topic_2          topic_3       topic_4  \\\n",
            "0         новость       ноутбук      человек            закон  производство   \n",
            "1       очередной        доллар        жизнь            право    транзистор   \n",
            "2         впрочем        стоить  чувствовать  государственный       образец   \n",
            "3            nmap       планшет      чувство       российский           чип   \n",
            "4           котик       сегодня        мысль             дело   современный   \n",
            "5        закрытый    устройство         дело    международный      кристалл   \n",
            "6     поздравлять     выпустить     ощущение              суд   разработать   \n",
            "7           добро       линейка          еда          принять      материал   \n",
            "8  судить_по_весь  жёсткий_диск     мышление              сша     способный   \n",
            "9       исполнять            гб         жена           власть      германия   \n",
            "\n",
            "       topic_5      topic_6       topic_7      topic_8     topic_9  \n",
            "0       датчик          дом      заказчик     участник      машина  \n",
            "1   устройство     цифровой      менеджер       доклад  автомобиль  \n",
            "2  аккумулятор       музыка          срок  конференция      дорога  \n",
            "3  регистратор        голос  руководитель  мероприятие    водитель  \n",
            "4      аппарат     домашний    разработка  презентация   велосипед  \n",
            "5      батарея   устройство        бизнес  выступление      колесо  \n",
            "6       корпус  современный         scrum   рассказать       улица  \n",
            "7    китайский    создатель       процесс      участие       ехать  \n",
            "8       модуль      создать  планирование         тема   транспорт  \n",
            "9         дрон         речь   исполнитель    александр    скорость  \n",
            "\n",
            "          topic_0       topic_1      topic_2          topic_3       topic_4  \\\n",
            "0         новость       ноутбук      человек            закон  производство   \n",
            "1       очередной        доллар        жизнь            право    транзистор   \n",
            "2         впрочем        стоить  чувствовать  государственный       образец   \n",
            "3            nmap       планшет      чувство       российский           чип   \n",
            "4           котик       сегодня        мысль             дело   современный   \n",
            "5        закрытый    устройство         дело    международный      кристалл   \n",
            "6     поздравлять     выпустить     ощущение              суд   разработать   \n",
            "7           добро       линейка          еда          принять      материал   \n",
            "8  судить_по_весь  жёсткий_диск     мышление              сша     способный   \n",
            "9       исполнять            гб         жена           власть      германия   \n",
            "\n",
            "       topic_5      topic_6       topic_7      topic_8     topic_9  \n",
            "0       датчик          дом      заказчик     участник      машина  \n",
            "1   устройство     цифровой      менеджер       доклад  автомобиль  \n",
            "2  аккумулятор       музыка          срок  конференция      дорога  \n",
            "3  регистратор        голос  руководитель  мероприятие    водитель  \n",
            "4      аппарат     домашний    разработка  презентация   велосипед  \n",
            "5      батарея   устройство        бизнес  выступление      колесо  \n",
            "6       корпус  современный         scrum   рассказать       улица  \n",
            "7    китайский    создатель       процесс      участие       ехать  \n",
            "8       модуль      создать  планирование         тема   транспорт  \n",
            "9         дрон         речь   исполнитель    александр    скорость  \n",
            "\n",
            "                topic_0          topic_1 topic_2    topic_3         topic_4  \\\n",
            "0                 щётка       устройство     мой     теория         образец   \n",
            "1           королевский          ноутбук    день      закон      транзистор   \n",
            "2           невесомость           гаджет     дом    научный            атом   \n",
            "3  цветовой_температура           доллар   жизнь      наука        молекула   \n",
            "4                   вор           стоить  неделя      право  вычислительный   \n",
            "5            серебряный        компьютер  москва     учёный        кристалл   \n",
            "6                берлин          сегодня    жена   институт     электронный   \n",
            "7           дыхательный             часы    утро  результат     разработать   \n",
            "8        академия_наука               пк    жить       сила        германия   \n",
            "9                пейзаж  рабочий_станция   семья    принять            fpga   \n",
            "\n",
            "       topic_5      topic_6   topic_7           topic_8     topic_9  \n",
            "0       датчик         звук    деньга          кандидат      машина  \n",
            "1  аккумулятор      наушник     никто           студент  автомобиль  \n",
            "2           мм       музыка      дело      соревнование      дорога  \n",
            "3      батарея     звуковой      труд          директор    водитель  \n",
            "4       металл      колонка  говорить          интервью    скорость  \n",
            "5       станок     микрофон  контракт     собеседование      колесо  \n",
            "6  конструкция  музыкальный       кто         должность   велосипед  \n",
            "7         дрон    усилитель      твой        специалист       ехать  \n",
            "8     материал   аппаратура   уходить               имя       tesla  \n",
            "9        мотор     качество     мысль  профессиональный    грузовик  \n",
            "\n",
            "                topic_0          topic_1 topic_2    topic_3         topic_4  \\\n",
            "0                 щётка       устройство     мой     теория         образец   \n",
            "1           королевский          ноутбук    день      закон      транзистор   \n",
            "2           невесомость           гаджет     дом    научный            атом   \n",
            "3  цветовой_температура           доллар   жизнь      наука        молекула   \n",
            "4                   вор           стоить  неделя      право  вычислительный   \n",
            "5            серебряный        компьютер  москва     учёный        кристалл   \n",
            "6                берлин          сегодня    жена   институт     электронный   \n",
            "7           дыхательный             часы    утро  результат     разработать   \n",
            "8        академия_наука               пк    жить       сила        германия   \n",
            "9                пейзаж  рабочий_станция   семья    принять            fpga   \n",
            "\n",
            "       topic_5      topic_6   topic_7           topic_8     topic_9  \n",
            "0       датчик         звук    деньга          кандидат      машина  \n",
            "1  аккумулятор      наушник     никто           студент  автомобиль  \n",
            "2           мм       музыка      дело      соревнование      дорога  \n",
            "3      батарея     звуковой      труд          директор    водитель  \n",
            "4       металл      колонка  говорить          интервью    скорость  \n",
            "5       станок     микрофон  контракт     собеседование      колесо  \n",
            "6  конструкция  музыкальный       кто         должность   велосипед  \n",
            "7         дрон    усилитель      твой        специалист       ехать  \n",
            "8     материал   аппаратура   уходить               имя       tesla  \n",
            "9        мотор     качество     мысль  профессиональный    грузовик  \n",
            "\n",
            "         topic_0      topic_1  topic_2          topic_3       topic_4  \\\n",
            "0          глава      ноутбук    книга           страна       образец   \n",
            "1        новость       доллар    жизнь              сша    транзистор   \n",
            "2          котик       россия      дом            закон  производство   \n",
            "3    поздравлять    выпустить      мой  государственный      материал   \n",
            "4      исполнять      сегодня     дело     американский      кристалл   \n",
            "5     порадовать       стоить  чувство           россия          атом   \n",
            "6       репортёр    появиться  человек    международный   современный   \n",
            "7      телеканал        рубль    мысль      государство   электронный   \n",
            "8          robot  официальный     жена            право     способный   \n",
            "9  очень_опасный    китайский      еда          местный     поколение   \n",
            "\n",
            "       topic_5          topic_6       topic_7       topic_8     topic_9  \n",
            "0       датчик             звук      заказчик      участник      машина  \n",
            "1  аккумулятор          наушник      менеджер          курс  автомобиль  \n",
            "2  регистратор           музыка          срок      кандидат      дорога  \n",
            "3       корпус         цифровой  руководитель   мероприятие    водитель  \n",
            "4   устройство            голос        бизнес       студент    скорость  \n",
            "5      батарея       устройство         scrum       участие   велосипед  \n",
            "6      аппарат         микрофон      работник  соревнование      колесо  \n",
            "7  конструкция         звуковой   исполнитель        пройти       улица  \n",
            "8         дрон      музыкальный       процесс   участвовать   транспорт  \n",
            "9    китайский  воспроизведение            ит     проходить       ехать  \n",
            "\n"
          ],
          "name": "stdout"
        }
      ]
    },
    {
      "metadata": {
        "id": "Udu8YK0qyfmK",
        "colab_type": "text"
      },
      "cell_type": "markdown",
      "source": [
        "Кажется, что второй и последний результуты самые лучшие (если судить по словам). Хорошие темы 5, 6, 9\n",
        "\n"
      ]
    },
    {
      "metadata": {
        "id": "cvxvWBr0yote",
        "colab_type": "text"
      },
      "cell_type": "markdown",
      "source": [
        "**6) для самой хорошей модели в отдельной ячейке напечатайте 3 хороших (на ваш вкус) темы**\n",
        "\n",
        "**7) в другой ячейке нарисуйте график обучения этой модели**"
      ]
    },
    {
      "metadata": {
        "id": "z81rGm63qYEp",
        "colab_type": "code",
        "colab": {
          "base_uri": "https://localhost:8080/",
          "height": 745
        },
        "outputId": "af8ba510-c400-4514-c354-c3235f071b23"
      },
      "cell_type": "code",
      "source": [
        "model = my_artm(50, 0.25, 0.15, batch_vectorizer)\n",
        "model = next_artm(model, 0.15, 50, batch_vectorizer, 5)"
      ],
      "execution_count": 41,
      "outputs": [
        {
          "output_type": "stream",
          "text": [
            "50 0.25 0.15\n",
            "Sparsity Phi: 0.000 ARTM)\n",
            "Sparsity Theta: 0.000 (ARTM)\n",
            "Kernel contrast: 0.002 (ARTM)\n",
            "Kernel purity: 0.000 (ARTM)\n",
            "Perplexity: 5051.572 (ARTM)\n"
          ],
          "name": "stdout"
        },
        {
          "output_type": "display_data",
          "data": {
            "image/png": "[encoded data removed]",
            "text/plain": [
              "<matplotlib.figure.Figure at 0x7fa1bbbfab00>"
            ]
          },
          "metadata": {
            "tags": []
          }
        },
        {
          "output_type": "stream",
          "text": [
            "None\n",
            "Sparsity Phi: 0.701 ARTM)\n",
            "Sparsity Theta: 0.078 (ARTM)\n",
            "Kernel contrast: 0.289 (ARTM)\n",
            "Kernel purity: 0.651 (ARTM)\n",
            "Perplexity: 1979.008 (ARTM)\n"
          ],
          "name": "stdout"
        },
        {
          "output_type": "display_data",
          "data": {
            "image/png": "[encoded data removed]",
            "text/plain": [
              "<matplotlib.figure.Figure at 0x7fa1bdd2e6d8>"
            ]
          },
          "metadata": {
            "tags": []
          }
        }
      ]
    },
    {
      "metadata": {
        "id": "762Q95tQzGRH",
        "colab_type": "code",
        "colab": {
          "base_uri": "https://localhost:8080/",
          "height": 359
        },
        "outputId": "784ed89c-e373-4a2e-b4e6-648d882c1544"
      },
      "cell_type": "code",
      "source": [
        "topics(model)[['topic_3', 'topic_5', 'topic_9']]"
      ],
      "execution_count": 42,
      "outputs": [
        {
          "output_type": "execute_result",
          "data": {
            "text/html": [
              "<div>\n",
              "<style scoped>\n",
              "    .dataframe tbody tr th:only-of-type {\n",
              "        vertical-align: middle;\n",
              "    }\n",
              "\n",
              "    .dataframe tbody tr th {\n",
              "        vertical-align: top;\n",
              "    }\n",
              "\n",
              "    .dataframe thead th {\n",
              "        text-align: right;\n",
              "    }\n",
              "</style>\n",
              "<table border=\"1\" class=\"dataframe\">\n",
              "  <thead>\n",
              "    <tr style=\"text-align: right;\">\n",
              "      <th></th>\n",
              "      <th>topic_3</th>\n",
              "      <th>topic_5</th>\n",
              "      <th>topic_9</th>\n",
              "    </tr>\n",
              "  </thead>\n",
              "  <tbody>\n",
              "    <tr>\n",
              "      <th>0</th>\n",
              "      <td>закон</td>\n",
              "      <td>датчик</td>\n",
              "      <td>машина</td>\n",
              "    </tr>\n",
              "    <tr>\n",
              "      <th>1</th>\n",
              "      <td>российский</td>\n",
              "      <td>устройство</td>\n",
              "      <td>автомобиль</td>\n",
              "    </tr>\n",
              "    <tr>\n",
              "      <th>2</th>\n",
              "      <td>право</td>\n",
              "      <td>аккумулятор</td>\n",
              "      <td>дорога</td>\n",
              "    </tr>\n",
              "    <tr>\n",
              "      <th>3</th>\n",
              "      <td>государственный</td>\n",
              "      <td>регистратор</td>\n",
              "      <td>водитель</td>\n",
              "    </tr>\n",
              "    <tr>\n",
              "      <th>4</th>\n",
              "      <td>дело</td>\n",
              "      <td>корпус</td>\n",
              "      <td>велосипед</td>\n",
              "    </tr>\n",
              "    <tr>\n",
              "      <th>5</th>\n",
              "      <td>суд</td>\n",
              "      <td>батарея</td>\n",
              "      <td>улица</td>\n",
              "    </tr>\n",
              "    <tr>\n",
              "      <th>6</th>\n",
              "      <td>отечественный</td>\n",
              "      <td>аппарат</td>\n",
              "      <td>колесо</td>\n",
              "    </tr>\n",
              "    <tr>\n",
              "      <th>7</th>\n",
              "      <td>представитель</td>\n",
              "      <td>китайский</td>\n",
              "      <td>самолёт</td>\n",
              "    </tr>\n",
              "    <tr>\n",
              "      <th>8</th>\n",
              "      <td>принять</td>\n",
              "      <td>дрон</td>\n",
              "      <td>ехать</td>\n",
              "    </tr>\n",
              "    <tr>\n",
              "      <th>9</th>\n",
              "      <td>зарубежный</td>\n",
              "      <td>мотор</td>\n",
              "      <td>транспорт</td>\n",
              "    </tr>\n",
              "  </tbody>\n",
              "</table>\n",
              "</div>"
            ],
            "text/plain": [
              "           topic_3      topic_5     topic_9\n",
              "0            закон       датчик      машина\n",
              "1       российский   устройство  автомобиль\n",
              "2            право  аккумулятор      дорога\n",
              "3  государственный  регистратор    водитель\n",
              "4             дело       корпус   велосипед\n",
              "5              суд      батарея       улица\n",
              "6    отечественный      аппарат      колесо\n",
              "7    представитель    китайский     самолёт\n",
              "8          принять         дрон       ехать\n",
              "9       зарубежный        мотор   транспорт"
            ]
          },
          "metadata": {
            "tags": []
          },
          "execution_count": 42
        }
      ]
    },
    {
      "metadata": {
        "id": "7fKlAxjP2Hit",
        "colab_type": "text"
      },
      "cell_type": "markdown",
      "source": [
        "**8) в третьей ячейки опишите какие параметры (количество тем, регуляризаторы, их tau) вы использовали и как обучали (например, после скольки проходов добавили регуляризатор разрежнивания тем (Phi), добавляли ли разреженность документам (Theta) и когда, как повышали значения, сколько итерации модель продожала улучшаться (снижалась перплексия, росли другие метрики);**"
      ]
    },
    {
      "metadata": {
        "id": "eczuGY9_2hD3",
        "colab_type": "text"
      },
      "cell_type": "markdown",
      "source": [
        "Была изменена функция удаления тегов, расширен список стоп-слов английским списком, добавлены нграммы.\n",
        "\n",
        "Все модели обучались одинаковым способом. \n",
        "\n",
        "Параметры, которые перебирались: \n",
        "\n",
        "1) количество тем - 50, 100, 200, 300\n",
        "\n",
        "2)  tau (и для регуляризатор сглаживания и для регуляризатора декорреляции) - (0.15, 0.25), (0.25, 0.15), (0.5, 0.15), (0.15, 0.5), (0.25, 0.5), (0.5, 0.25)\n",
        "\n",
        "3) Кол-во  выдаваемых топиков - 10\n",
        "\n",
        "Затем 2 раза проходимся по документу и 3 по кол-ции. Если модель сходилась, переходили к добавлению регуляризаторов разреженности тем и документов. Параметры использовались такие же как и на предыдущем этапе. В итоге эксперемент показал, что маленькое число тем дает лучший результат, так как при переборе дефолтные параметры tau (0.25, 0.15) показали себя лучше всего, они и использовались в финальном тесте. Кол-во проходов было увеличено до 5 для достижения лучшей сводимости модели. Получившиеся топики хорошо отделимы друг от друга, действительно отражают определенные темы."
      ]
    }
  ]
}