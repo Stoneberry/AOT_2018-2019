{
 "cells": [
  {
   "cell_type": "markdown",
   "metadata": {},
   "source": [
    "Анастасия Костяницына \n",
    "\n",
    "Устинья Кошелева"
   ]
  },
  {
   "cell_type": "code",
   "execution_count": 1,
   "metadata": {
    "collapsed": true
   },
   "outputs": [],
   "source": [
    "import pandas as pd"
   ]
  },
  {
   "cell_type": "markdown",
   "metadata": {},
   "source": [
    "# Данные "
   ]
  },
  {
   "cell_type": "markdown",
   "metadata": {},
   "source": [
    "Посмотрим на данные "
   ]
  },
  {
   "cell_type": "code",
   "execution_count": 2,
   "metadata": {
    "collapsed": true
   },
   "outputs": [],
   "source": [
    "train = pd.read_csv('/Users/Stoneberry/Downloads/train.csv')\n",
    "test = pd.read_csv('/Users/Stoneberry/Downloads/test.csv')"
   ]
  },
  {
   "cell_type": "code",
   "execution_count": 3,
   "metadata": {},
   "outputs": [
    {
     "data": {
      "text/html": [
       "<div>\n",
       "<style scoped>\n",
       "    .dataframe tbody tr th:only-of-type {\n",
       "        vertical-align: middle;\n",
       "    }\n",
       "\n",
       "    .dataframe tbody tr th {\n",
       "        vertical-align: top;\n",
       "    }\n",
       "\n",
       "    .dataframe thead th {\n",
       "        text-align: right;\n",
       "    }\n",
       "</style>\n",
       "<table border=\"1\" class=\"dataframe\">\n",
       "  <thead>\n",
       "    <tr style=\"text-align: right;\">\n",
       "      <th></th>\n",
       "      <th>qid</th>\n",
       "      <th>question_text</th>\n",
       "      <th>target</th>\n",
       "    </tr>\n",
       "  </thead>\n",
       "  <tbody>\n",
       "    <tr>\n",
       "      <th>0</th>\n",
       "      <td>00002165364db923c7e6</td>\n",
       "      <td>How did Quebec nationalists see their province...</td>\n",
       "      <td>0</td>\n",
       "    </tr>\n",
       "    <tr>\n",
       "      <th>1</th>\n",
       "      <td>000032939017120e6e44</td>\n",
       "      <td>Do you have an adopted dog, how would you enco...</td>\n",
       "      <td>0</td>\n",
       "    </tr>\n",
       "    <tr>\n",
       "      <th>2</th>\n",
       "      <td>0000412ca6e4628ce2cf</td>\n",
       "      <td>Why does velocity affect time? Does velocity a...</td>\n",
       "      <td>0</td>\n",
       "    </tr>\n",
       "    <tr>\n",
       "      <th>3</th>\n",
       "      <td>000042bf85aa498cd78e</td>\n",
       "      <td>How did Otto von Guericke used the Magdeburg h...</td>\n",
       "      <td>0</td>\n",
       "    </tr>\n",
       "    <tr>\n",
       "      <th>4</th>\n",
       "      <td>0000455dfa3e01eae3af</td>\n",
       "      <td>Can I convert montra helicon D to a mountain b...</td>\n",
       "      <td>0</td>\n",
       "    </tr>\n",
       "  </tbody>\n",
       "</table>\n",
       "</div>"
      ],
      "text/plain": [
       "                    qid                                      question_text  \\\n",
       "0  00002165364db923c7e6  How did Quebec nationalists see their province...   \n",
       "1  000032939017120e6e44  Do you have an adopted dog, how would you enco...   \n",
       "2  0000412ca6e4628ce2cf  Why does velocity affect time? Does velocity a...   \n",
       "3  000042bf85aa498cd78e  How did Otto von Guericke used the Magdeburg h...   \n",
       "4  0000455dfa3e01eae3af  Can I convert montra helicon D to a mountain b...   \n",
       "\n",
       "   target  \n",
       "0       0  \n",
       "1       0  \n",
       "2       0  \n",
       "3       0  \n",
       "4       0  "
      ]
     },
     "execution_count": 3,
     "metadata": {},
     "output_type": "execute_result"
    }
   ],
   "source": [
    "train.head()"
   ]
  },
  {
   "cell_type": "code",
   "execution_count": 4,
   "metadata": {},
   "outputs": [
    {
     "data": {
      "text/html": [
       "<div>\n",
       "<style scoped>\n",
       "    .dataframe tbody tr th:only-of-type {\n",
       "        vertical-align: middle;\n",
       "    }\n",
       "\n",
       "    .dataframe tbody tr th {\n",
       "        vertical-align: top;\n",
       "    }\n",
       "\n",
       "    .dataframe thead th {\n",
       "        text-align: right;\n",
       "    }\n",
       "</style>\n",
       "<table border=\"1\" class=\"dataframe\">\n",
       "  <thead>\n",
       "    <tr style=\"text-align: right;\">\n",
       "      <th></th>\n",
       "      <th>qid</th>\n",
       "      <th>question_text</th>\n",
       "    </tr>\n",
       "  </thead>\n",
       "  <tbody>\n",
       "    <tr>\n",
       "      <th>0</th>\n",
       "      <td>00014894849d00ba98a9</td>\n",
       "      <td>My voice range is A2-C5. My chest voice goes u...</td>\n",
       "    </tr>\n",
       "    <tr>\n",
       "      <th>1</th>\n",
       "      <td>000156468431f09b3cae</td>\n",
       "      <td>How much does a tutor earn in Bangalore?</td>\n",
       "    </tr>\n",
       "    <tr>\n",
       "      <th>2</th>\n",
       "      <td>000227734433360e1aae</td>\n",
       "      <td>What are the best made pocket knives under $20...</td>\n",
       "    </tr>\n",
       "    <tr>\n",
       "      <th>3</th>\n",
       "      <td>0005e06fbe3045bd2a92</td>\n",
       "      <td>Why would they add a hypothetical scenario tha...</td>\n",
       "    </tr>\n",
       "    <tr>\n",
       "      <th>4</th>\n",
       "      <td>00068a0f7f41f50fc399</td>\n",
       "      <td>What is the dresscode for Techmahindra freshers?</td>\n",
       "    </tr>\n",
       "  </tbody>\n",
       "</table>\n",
       "</div>"
      ],
      "text/plain": [
       "                    qid                                      question_text\n",
       "0  00014894849d00ba98a9  My voice range is A2-C5. My chest voice goes u...\n",
       "1  000156468431f09b3cae           How much does a tutor earn in Bangalore?\n",
       "2  000227734433360e1aae  What are the best made pocket knives under $20...\n",
       "3  0005e06fbe3045bd2a92  Why would they add a hypothetical scenario tha...\n",
       "4  00068a0f7f41f50fc399   What is the dresscode for Techmahindra freshers?"
      ]
     },
     "execution_count": 4,
     "metadata": {},
     "output_type": "execute_result"
    }
   ],
   "source": [
    "test.head()"
   ]
  },
  {
   "cell_type": "code",
   "execution_count": 7,
   "metadata": {
    "collapsed": true
   },
   "outputs": [],
   "source": [
    "from matplotlib.pyplot import hist"
   ]
  },
  {
   "cell_type": "code",
   "execution_count": 8,
   "metadata": {},
   "outputs": [
    {
     "data": {
      "text/plain": [
       "(array([1225312.,       0.,       0.,       0.,       0.,       0.,\n",
       "              0.,       0.,       0.,   80810.]),\n",
       " array([0. , 0.1, 0.2, 0.3, 0.4, 0.5, 0.6, 0.7, 0.8, 0.9, 1. ]),\n",
       " <a list of 10 Patch objects>)"
      ]
     },
     "execution_count": 8,
     "metadata": {},
     "output_type": "execute_result"
    },
    {
     "data": {
      "image/png": "[encoded data removed]",
      "text/plain": [
       "<Figure size 432x288 with 1 Axes>"
      ]
     },
     "metadata": {
      "needs_background": "light"
     },
     "output_type": "display_data"
    }
   ],
   "source": [
    "hist(train.target)"
   ]
  },
  {
   "cell_type": "markdown",
   "metadata": {},
   "source": [
    "1 - insincere (toxic)"
   ]
  },
  {
   "cell_type": "markdown",
   "metadata": {},
   "source": [
    "Текстов, которые отностся к классу не токсичных, значительно больше. Выделим их в отдельную переменную."
   ]
  },
  {
   "cell_type": "code",
   "execution_count": 9,
   "metadata": {
    "collapsed": true
   },
   "outputs": [],
   "source": [
    "toxic = train.loc[train['target'] == 1]"
   ]
  },
  {
   "cell_type": "code",
   "execution_count": 12,
   "metadata": {},
   "outputs": [
    {
     "data": {
      "text/plain": [
       "(80810, 3)"
      ]
     },
     "execution_count": 12,
     "metadata": {},
     "output_type": "execute_result"
    }
   ],
   "source": [
    "toxic.shape"
   ]
  },
  {
   "cell_type": "markdown",
   "metadata": {},
   "source": [
    "# Сделаем равное кол-во строчек для каждого класса"
   ]
  },
  {
   "cell_type": "code",
   "execution_count": 13,
   "metadata": {
    "collapsed": true
   },
   "outputs": [],
   "source": [
    "from sklearn.feature_extraction.text import TfidfVectorizer\n",
    "import random "
   ]
  },
  {
   "cell_type": "code",
   "execution_count": 15,
   "metadata": {
    "collapsed": true
   },
   "outputs": [],
   "source": [
    "nottoxic = train.loc[train['target'] == 0]\n",
    "ids = random.sample(nottoxic.qid.tolist(), 80810)"
   ]
  },
  {
   "cell_type": "code",
   "execution_count": 22,
   "metadata": {
    "collapsed": true
   },
   "outputs": [],
   "source": [
    "array = ['yellow', 'green']\n",
    "X_train = train.loc[train['qid'].isin(ids)]"
   ]
  },
  {
   "cell_type": "code",
   "execution_count": 27,
   "metadata": {},
   "outputs": [
    {
     "data": {
      "text/html": [
       "<div>\n",
       "<style scoped>\n",
       "    .dataframe tbody tr th:only-of-type {\n",
       "        vertical-align: middle;\n",
       "    }\n",
       "\n",
       "    .dataframe tbody tr th {\n",
       "        vertical-align: top;\n",
       "    }\n",
       "\n",
       "    .dataframe thead th {\n",
       "        text-align: right;\n",
       "    }\n",
       "</style>\n",
       "<table border=\"1\" class=\"dataframe\">\n",
       "  <thead>\n",
       "    <tr style=\"text-align: right;\">\n",
       "      <th></th>\n",
       "      <th>qid</th>\n",
       "      <th>question_text</th>\n",
       "      <th>target</th>\n",
       "    </tr>\n",
       "  </thead>\n",
       "  <tbody>\n",
       "    <tr>\n",
       "      <th>32</th>\n",
       "      <td>00017146167b4072ae5f</td>\n",
       "      <td>If lightsabers are created by individual wield...</td>\n",
       "      <td>0</td>\n",
       "    </tr>\n",
       "    <tr>\n",
       "      <th>41</th>\n",
       "      <td>0001b70b617623c8ec11</td>\n",
       "      <td>What is the role of technology in using a reso...</td>\n",
       "      <td>0</td>\n",
       "    </tr>\n",
       "    <tr>\n",
       "      <th>43</th>\n",
       "      <td>0001d772cf3019016119</td>\n",
       "      <td>Where can I download Microsoft Word for Window...</td>\n",
       "      <td>0</td>\n",
       "    </tr>\n",
       "    <tr>\n",
       "      <th>49</th>\n",
       "      <td>00021a90cbe0ce61b32a</td>\n",
       "      <td>Why most of the computer science student buy f...</td>\n",
       "      <td>0</td>\n",
       "    </tr>\n",
       "    <tr>\n",
       "      <th>67</th>\n",
       "      <td>0002f70cd6c744df04fb</td>\n",
       "      <td>What are the biggest problems, questions, doub...</td>\n",
       "      <td>0</td>\n",
       "    </tr>\n",
       "  </tbody>\n",
       "</table>\n",
       "</div>"
      ],
      "text/plain": [
       "                     qid                                      question_text  \\\n",
       "32  00017146167b4072ae5f  If lightsabers are created by individual wield...   \n",
       "41  0001b70b617623c8ec11  What is the role of technology in using a reso...   \n",
       "43  0001d772cf3019016119  Where can I download Microsoft Word for Window...   \n",
       "49  00021a90cbe0ce61b32a  Why most of the computer science student buy f...   \n",
       "67  0002f70cd6c744df04fb  What are the biggest problems, questions, doub...   \n",
       "\n",
       "    target  \n",
       "32       0  \n",
       "41       0  \n",
       "43       0  \n",
       "49       0  \n",
       "67       0  "
      ]
     },
     "execution_count": 27,
     "metadata": {},
     "output_type": "execute_result"
    }
   ],
   "source": [
    "X_train.head()"
   ]
  },
  {
   "cell_type": "code",
   "execution_count": 29,
   "metadata": {
    "collapsed": true
   },
   "outputs": [],
   "source": [
    "X_train = pd.concat([X_train, toxic])"
   ]
  },
  {
   "cell_type": "code",
   "execution_count": 31,
   "metadata": {},
   "outputs": [
    {
     "data": {
      "text/plain": [
       "(161620, 3)"
      ]
     },
     "execution_count": 31,
     "metadata": {},
     "output_type": "execute_result"
    }
   ],
   "source": [
    "X_train.shape"
   ]
  },
  {
   "cell_type": "markdown",
   "metadata": {},
   "source": [
    "Tfidf"
   ]
  },
  {
   "cell_type": "code",
   "execution_count": 305,
   "metadata": {},
   "outputs": [],
   "source": [
    "vectorizer = TfidfVectorizer(max_features=1000)\n",
    "X = vectorizer.fit_transform(X_train.question_text)"
   ]
  },
  {
   "cell_type": "code",
   "execution_count": 36,
   "metadata": {},
   "outputs": [
    {
     "data": {
      "text/plain": [
       "(161620, 1000)"
      ]
     },
     "execution_count": 36,
     "metadata": {},
     "output_type": "execute_result"
    }
   ],
   "source": [
    "X.shape"
   ]
  },
  {
   "cell_type": "markdown",
   "metadata": {},
   "source": [
    "# Обучаем"
   ]
  },
  {
   "cell_type": "markdown",
   "metadata": {},
   "source": [
    "Это мы решили посмотреть как вообще классифицируются данные, чтобы понять, хотим ли мы этим заниматься. "
   ]
  },
  {
   "cell_type": "code",
   "execution_count": 319,
   "metadata": {},
   "outputs": [],
   "source": [
    "from sklearn.linear_model import LogisticRegression\n",
    "from sklearn.model_selection import train_test_split, GridSearchCV, cross_val_score\n",
    "import numpy as np\n",
    "from sklearn.metrics import accuracy_score"
   ]
  },
  {
   "cell_type": "code",
   "execution_count": 38,
   "metadata": {
    "collapsed": true
   },
   "outputs": [],
   "source": [
    "y = X_train.target"
   ]
  },
  {
   "cell_type": "code",
   "execution_count": 39,
   "metadata": {},
   "outputs": [
    {
     "data": {
      "text/plain": [
       "(161620,)"
      ]
     },
     "execution_count": 39,
     "metadata": {},
     "output_type": "execute_result"
    }
   ],
   "source": [
    "y.shape"
   ]
  },
  {
   "cell_type": "code",
   "execution_count": 43,
   "metadata": {},
   "outputs": [
    {
     "name": "stderr",
     "output_type": "stream",
     "text": [
      "/Library/Frameworks/Python.framework/Versions/3.6/lib/python3.6/site-packages/sklearn/linear_model/logistic.py:432: FutureWarning: Default solver will be changed to 'lbfgs' in 0.22. Specify a solver to silence this warning.\n",
      "  FutureWarning)\n"
     ]
    },
    {
     "data": {
      "text/plain": [
       "0.859658478435625"
      ]
     },
     "execution_count": 43,
     "metadata": {},
     "output_type": "execute_result"
    }
   ],
   "source": [
    "est = LogisticRegression(class_weight='balanced', random_state=42)\n",
    "np.mean(cross_val_score(est, X, y, cv=3))"
   ]
  },
  {
   "cell_type": "markdown",
   "metadata": {},
   "source": [
    "Подбор парам."
   ]
  },
  {
   "cell_type": "code",
   "execution_count": 46,
   "metadata": {
    "collapsed": true
   },
   "outputs": [],
   "source": [
    "train_X, valid_X, train_y, valid_y = train_test_split(X, y, random_state=1)"
   ]
  },
  {
   "cell_type": "code",
   "execution_count": 47,
   "metadata": {},
   "outputs": [
    {
     "name": "stderr",
     "output_type": "stream",
     "text": [
      "/Library/Frameworks/Python.framework/Versions/3.6/lib/python3.6/site-packages/sklearn/linear_model/logistic.py:432: FutureWarning: Default solver will be changed to 'lbfgs' in 0.22. Specify a solver to silence this warning.\n",
      "  FutureWarning)\n"
     ]
    },
    {
     "data": {
      "text/plain": [
       "{'C': 10}"
      ]
     },
     "execution_count": 47,
     "metadata": {},
     "output_type": "execute_result"
    }
   ],
   "source": [
    "params = {'C':[1, 10, 100, 100]}\n",
    "est = LogisticRegression(class_weight='balanced', random_state=42)\n",
    "clf = GridSearchCV(est, params, cv=3)\n",
    "clf.fit(train_X, train_y)\n",
    "clf.best_params_"
   ]
  },
  {
   "cell_type": "code",
   "execution_count": 50,
   "metadata": {},
   "outputs": [
    {
     "data": {
      "text/plain": [
       "LogisticRegression(C=10, class_weight='balanced', dual=False,\n",
       "          fit_intercept=True, intercept_scaling=1, max_iter=100,\n",
       "          multi_class='warn', n_jobs=None, penalty='l2', random_state=42,\n",
       "          solver='warn', tol=0.0001, verbose=0, warm_start=False)"
      ]
     },
     "execution_count": 50,
     "metadata": {},
     "output_type": "execute_result"
    }
   ],
   "source": [
    "est = LogisticRegression(class_weight='balanced', random_state=42, C=10)\n",
    "est.fit(train_X, train_y)"
   ]
  },
  {
   "cell_type": "code",
   "execution_count": 306,
   "metadata": {},
   "outputs": [],
   "source": [
    "pred = est.predict(valid_X)"
   ]
  },
  {
   "cell_type": "code",
   "execution_count": 55,
   "metadata": {},
   "outputs": [
    {
     "data": {
      "text/plain": [
       "0.8623932681598812"
      ]
     },
     "execution_count": 55,
     "metadata": {},
     "output_type": "execute_result"
    }
   ],
   "source": [
    "accuracy_score(valid_y, pred)"
   ]
  },
  {
   "cell_type": "markdown",
   "metadata": {},
   "source": [
    "# Тематический расизм"
   ]
  },
  {
   "cell_type": "markdown",
   "metadata": {},
   "source": [
    "Идея - определит топики по тем данным, которые относятся к классу \"токсичный\", посмотреть встречается ли тема расизма, например, в не токсичных данных, посмотреть на данные, есть ли что-то, что позволяется отнести токсиный документы к категории нетоксичных, или это ошибка разметки?"
   ]
  },
  {
   "cell_type": "code",
   "execution_count": 133,
   "metadata": {
    "collapsed": true
   },
   "outputs": [],
   "source": [
    "import gensim\n",
    "import json\n",
    "import re\n",
    "from nltk.tokenize import word_tokenize\n",
    "from nltk.corpus import stopwords\n",
    "import pyLDAvis.gensim\n",
    "import string\n",
    "from collections import Counter\n",
    "import warnings\n",
    "warnings.filterwarnings(\"ignore\")\n",
    "\n",
    "from nltk.stem.wordnet import WordNetLemmatizer\n",
    "lmtzr = WordNetLemmatizer()"
   ]
  },
  {
   "cell_type": "code",
   "execution_count": 134,
   "metadata": {
    "collapsed": true
   },
   "outputs": [],
   "source": [
    "stops = set(stopwords.words('english'))"
   ]
  },
  {
   "cell_type": "code",
   "execution_count": 110,
   "metadata": {
    "collapsed": true
   },
   "outputs": [],
   "source": [
    "def normalize(words):\n",
    "    norm_words = [lmtzr.lemmatize(word) for word in words if len(set(word)) > 1]\n",
    "    return norm_words\n",
    "\n",
    "def opt_normalize(texts, top=None):\n",
    "    uniq = Counter()\n",
    "    for text in texts:\n",
    "        uniq.update(text)\n",
    "    \n",
    "    norm_uniq = {word:lmtzr.lemmatize(word) for word, _ in uniq.most_common(top)}\n",
    "    \n",
    "    norm_texts = []\n",
    "    for text in texts:\n",
    "        \n",
    "        norm_words = [norm_uniq.get(word) for word in text]\n",
    "        norm_words = [word for word in norm_words if word and word not in stops]\n",
    "        norm_texts.append(norm_words)\n",
    "        \n",
    "    return norm_texts\n",
    "\n",
    "def tokenize(text):\n",
    "    words = [word.strip(string.punctuation) for word in text.split()]\n",
    "    words = [word for word in words if word]\n",
    "    \n",
    "    return words"
   ]
  },
  {
   "cell_type": "code",
   "execution_count": 77,
   "metadata": {
    "collapsed": true
   },
   "outputs": [],
   "source": [
    "string.punctuation += '/'"
   ]
  },
  {
   "cell_type": "code",
   "execution_count": 94,
   "metadata": {},
   "outputs": [
    {
     "data": {
      "text/plain": [
       "'Has the United States become the largest dictatorship in the world?'"
      ]
     },
     "execution_count": 94,
     "metadata": {},
     "output_type": "execute_result"
    }
   ],
   "source": [
    "toxic.question_text[22]"
   ]
  },
  {
   "cell_type": "markdown",
   "metadata": {},
   "source": [
    "#### Без н-грамм, без улучшенного словаря"
   ]
  },
  {
   "cell_type": "code",
   "execution_count": 274,
   "metadata": {},
   "outputs": [],
   "source": [
    "import pickle"
   ]
  },
  {
   "cell_type": "code",
   "execution_count": null,
   "metadata": {},
   "outputs": [],
   "source": [
    "with open('/Users/Stoneberry/Downloads/d.pickle', 'wb') as f:\n",
    "    pickle.dump(texts, f)"
   ]
  },
  {
   "cell_type": "code",
   "execution_count": 302,
   "metadata": {},
   "outputs": [],
   "source": [
    "with open('/Users/Stoneberry/Downloads/not_t.pickle', 'wb') as f:\n",
    "    pickle.dump(random.sample(nontox_lists, 80810), f)"
   ]
  },
  {
   "cell_type": "code",
   "execution_count": 135,
   "metadata": {
    "collapsed": true
   },
   "outputs": [],
   "source": [
    "texts = opt_normalize([tokenize(text.lower()) for text in toxic.question_text], 35000)"
   ]
  },
  {
   "cell_type": "code",
   "execution_count": 109,
   "metadata": {},
   "outputs": [
    {
     "data": {
      "text/plain": [
       "['ha', 'united', 'state', 'become', 'largest', 'dictatorship', 'world']"
      ]
     },
     "execution_count": 109,
     "metadata": {},
     "output_type": "execute_result"
    }
   ],
   "source": [
    "texts[0]"
   ]
  },
  {
   "cell_type": "markdown",
   "metadata": {},
   "source": [
    "## LDA модели"
   ]
  },
  {
   "cell_type": "code",
   "execution_count": 115,
   "metadata": {
    "collapsed": true
   },
   "outputs": [],
   "source": [
    "def my_lda(texts, num_topics=10, passes=10, eta='auto', tf=False):\n",
    "            \n",
    "    dictinary = gensim.corpora.Dictionary(texts)\n",
    "    dictinary.filter_extremes(no_above=0.3)\n",
    "    dictinary.compactify()\n",
    "    \n",
    "    corpus = [dictinary.doc2bow(text) for text in texts]\n",
    "    \n",
    "    if tf:\n",
    "        tfidf = gensim.models.TfidfModel(corpus, id2word=dictinary)\n",
    "        corpus = tfidf[corpus]\n",
    "\n",
    "    lda = gensim.models.LdaModel(corpus, id2word=dictinary, \n",
    "                                 passes=passes, num_topics=num_topics,\n",
    "                                 eta=eta, random_state=42)\n",
    "    return lda"
   ]
  },
  {
   "cell_type": "code",
   "execution_count": 116,
   "metadata": {
    "collapsed": true
   },
   "outputs": [],
   "source": [
    "import pandas as pd\n",
    "\n",
    "\n",
    "def words(lda):\n",
    "    d = {}\n",
    "\n",
    "    for index, line in enumerate(lda.print_topics()):\n",
    "        d[index] = re.findall('\"(.*?)\"', line[1])\n",
    "    \n",
    "    return pd.DataFrame(d)"
   ]
  },
  {
   "cell_type": "code",
   "execution_count": 136,
   "metadata": {
    "collapsed": true
   },
   "outputs": [],
   "source": [
    "lda = my_lda(texts)"
   ]
  },
  {
   "cell_type": "code",
   "execution_count": 137,
   "metadata": {
    "collapsed": true
   },
   "outputs": [],
   "source": [
    "table1 = words(lda)"
   ]
  },
  {
   "cell_type": "code",
   "execution_count": 138,
   "metadata": {},
   "outputs": [
    {
     "data": {
      "text/html": [
       "<div>\n",
       "<style scoped>\n",
       "    .dataframe tbody tr th:only-of-type {\n",
       "        vertical-align: middle;\n",
       "    }\n",
       "\n",
       "    .dataframe tbody tr th {\n",
       "        vertical-align: top;\n",
       "    }\n",
       "\n",
       "    .dataframe thead th {\n",
       "        text-align: right;\n",
       "    }\n",
       "</style>\n",
       "<table border=\"1\" class=\"dataframe\">\n",
       "  <thead>\n",
       "    <tr style=\"text-align: right;\">\n",
       "      <th></th>\n",
       "      <th>0</th>\n",
       "      <th>1</th>\n",
       "      <th>2</th>\n",
       "      <th>3</th>\n",
       "      <th>4</th>\n",
       "      <th>5</th>\n",
       "      <th>6</th>\n",
       "      <th>7</th>\n",
       "      <th>8</th>\n",
       "      <th>9</th>\n",
       "    </tr>\n",
       "  </thead>\n",
       "  <tbody>\n",
       "    <tr>\n",
       "      <th>0</th>\n",
       "      <td>child</td>\n",
       "      <td>trump</td>\n",
       "      <td>modi</td>\n",
       "      <td>woman</td>\n",
       "      <td>indian</td>\n",
       "      <td>people</td>\n",
       "      <td>country</td>\n",
       "      <td>wa</td>\n",
       "      <td>muslim</td>\n",
       "      <td>sex</td>\n",
       "    </tr>\n",
       "    <tr>\n",
       "      <th>1</th>\n",
       "      <td>would</td>\n",
       "      <td>quora</td>\n",
       "      <td>wa</td>\n",
       "      <td>men</td>\n",
       "      <td>girl</td>\n",
       "      <td>white</td>\n",
       "      <td>american</td>\n",
       "      <td>school</td>\n",
       "      <td>india</td>\n",
       "      <td>want</td>\n",
       "    </tr>\n",
       "    <tr>\n",
       "      <th>2</th>\n",
       "      <td>democrat</td>\n",
       "      <td>people</td>\n",
       "      <td>hitler</td>\n",
       "      <td>guy</td>\n",
       "      <td>year</td>\n",
       "      <td>black</td>\n",
       "      <td>world</td>\n",
       "      <td>kid</td>\n",
       "      <td>people</td>\n",
       "      <td>get</td>\n",
       "    </tr>\n",
       "    <tr>\n",
       "      <th>3</th>\n",
       "      <td>trump</td>\n",
       "      <td>liberal</td>\n",
       "      <td>force</td>\n",
       "      <td>like</td>\n",
       "      <td>north</td>\n",
       "      <td>chinese</td>\n",
       "      <td>u</td>\n",
       "      <td>earth</td>\n",
       "      <td>hindu</td>\n",
       "      <td>gay</td>\n",
       "    </tr>\n",
       "    <tr>\n",
       "      <th>4</th>\n",
       "      <td>obama</td>\n",
       "      <td>question</td>\n",
       "      <td>house</td>\n",
       "      <td>man</td>\n",
       "      <td>old</td>\n",
       "      <td>american</td>\n",
       "      <td>jew</td>\n",
       "      <td>fake</td>\n",
       "      <td>indian</td>\n",
       "      <td>would</td>\n",
       "    </tr>\n",
       "    <tr>\n",
       "      <th>5</th>\n",
       "      <td>wa</td>\n",
       "      <td>doe</td>\n",
       "      <td>destroy</td>\n",
       "      <td>girl</td>\n",
       "      <td>like</td>\n",
       "      <td>hate</td>\n",
       "      <td>america</td>\n",
       "      <td>student</td>\n",
       "      <td>islam</td>\n",
       "      <td>doe</td>\n",
       "    </tr>\n",
       "    <tr>\n",
       "      <th>6</th>\n",
       "      <td>liberal</td>\n",
       "      <td>donald</td>\n",
       "      <td>germany</td>\n",
       "      <td>male</td>\n",
       "      <td>india</td>\n",
       "      <td>like</td>\n",
       "      <td>state</td>\n",
       "      <td>news</td>\n",
       "      <td>christian</td>\n",
       "      <td>best</td>\n",
       "    </tr>\n",
       "    <tr>\n",
       "      <th>7</th>\n",
       "      <td>party</td>\n",
       "      <td>god</td>\n",
       "      <td>tax</td>\n",
       "      <td>rape</td>\n",
       "      <td>boy</td>\n",
       "      <td>racist</td>\n",
       "      <td>people</td>\n",
       "      <td>real</td>\n",
       "      <td>religion</td>\n",
       "      <td>dog</td>\n",
       "    </tr>\n",
       "    <tr>\n",
       "      <th>8</th>\n",
       "      <td>republican</td>\n",
       "      <td>many</td>\n",
       "      <td>trying</td>\n",
       "      <td>feminist</td>\n",
       "      <td>even</td>\n",
       "      <td>asian</td>\n",
       "      <td>usa</td>\n",
       "      <td>day</td>\n",
       "      <td>pakistan</td>\n",
       "      <td>sister</td>\n",
       "    </tr>\n",
       "    <tr>\n",
       "      <th>9</th>\n",
       "      <td>immigrant</td>\n",
       "      <td>think</td>\n",
       "      <td>created</td>\n",
       "      <td>female</td>\n",
       "      <td>stop</td>\n",
       "      <td>think</td>\n",
       "      <td>israel</td>\n",
       "      <td>time</td>\n",
       "      <td>country</td>\n",
       "      <td>make</td>\n",
       "    </tr>\n",
       "  </tbody>\n",
       "</table>\n",
       "</div>"
      ],
      "text/plain": [
       "            0         1        2         3       4         5         6  \\\n",
       "0       child     trump     modi     woman  indian    people   country   \n",
       "1       would     quora       wa       men    girl     white  american   \n",
       "2    democrat    people   hitler       guy    year     black     world   \n",
       "3       trump   liberal    force      like   north   chinese         u   \n",
       "4       obama  question    house       man     old  american       jew   \n",
       "5          wa       doe  destroy      girl    like      hate   america   \n",
       "6     liberal    donald  germany      male   india      like     state   \n",
       "7       party       god      tax      rape     boy    racist    people   \n",
       "8  republican      many   trying  feminist    even     asian       usa   \n",
       "9   immigrant     think  created    female    stop     think    israel   \n",
       "\n",
       "         7          8       9  \n",
       "0       wa     muslim     sex  \n",
       "1   school      india    want  \n",
       "2      kid     people     get  \n",
       "3    earth      hindu     gay  \n",
       "4     fake     indian   would  \n",
       "5  student      islam     doe  \n",
       "6     news  christian    best  \n",
       "7     real   religion     dog  \n",
       "8      day   pakistan  sister  \n",
       "9     time    country    make  "
      ]
     },
     "execution_count": 138,
     "metadata": {},
     "output_type": "execute_result"
    }
   ],
   "source": [
    "table1"
   ]
  },
  {
   "cell_type": "markdown",
   "metadata": {},
   "source": [
    "Кажется, что лучше всего выделилась тема 5 и 8 (расизм), посмотрим, как они соотносятся с non toxic texts. (Тему 5 мы решили не использовать, так как мы посмотрели по результам, слова like и hate добавляют много fp ответов)"
   ]
  },
  {
   "cell_type": "markdown",
   "metadata": {},
   "source": [
    "Построим все для конкретного примера"
   ]
  },
  {
   "cell_type": "code",
   "execution_count": 166,
   "metadata": {
    "collapsed": true
   },
   "outputs": [],
   "source": [
    "dictinary = gensim.corpora.Dictionary(texts)\n",
    "dictinary.filter_extremes(no_above=0.3)\n",
    "dictinary.compactify()\n",
    "corpus = [dictinary.doc2bow(text) for text in texts]\n",
    "lda = gensim.models.LdaModel(corpus, id2word=dictinary, \n",
    "                                 passes=10, num_topics=10,\n",
    "                                 eta='auto', random_state=42)"
   ]
  },
  {
   "cell_type": "markdown",
   "metadata": {},
   "source": [
    "Посмотрим к каким текстам применима 8 тема (расизм)"
   ]
  },
  {
   "cell_type": "code",
   "execution_count": 196,
   "metadata": {
    "collapsed": true
   },
   "outputs": [],
   "source": [
    "indx_text = {index:text for index, text in enumerate(nottoxic.question_text)}\n",
    "text_indx = {text:index for index, text in enumerate(nottoxic.question_text)}"
   ]
  },
  {
   "cell_type": "code",
   "execution_count": 167,
   "metadata": {
    "collapsed": true
   },
   "outputs": [],
   "source": [
    "nontox_lists = opt_normalize([tokenize(text.lower()) for text in nottoxic.question_text], 35000)"
   ]
  },
  {
   "cell_type": "code",
   "execution_count": 171,
   "metadata": {
    "collapsed": true
   },
   "outputs": [],
   "source": [
    "from tqdm import tqdm_notebook"
   ]
  },
  {
   "cell_type": "code",
   "execution_count": 172,
   "metadata": {},
   "outputs": [
    {
     "data": {
      "application/vnd.jupyter.widget-view+json": {
       "model_id": "ec20ae94cbc24d3a8afe4ca495596c31",
       "version_major": 2,
       "version_minor": 0
      },
      "text/plain": [
       "HBox(children=(IntProgress(value=0, description='doc', max=1225312), HTML(value='')))"
      ]
     },
     "metadata": {},
     "output_type": "display_data"
    },
    {
     "name": "stdout",
     "output_type": "stream",
     "text": [
      "\n"
     ]
    }
   ],
   "source": [
    "res = []\n",
    "\n",
    "t_par = tqdm_notebook(nontox_lists, desc='doc', leave=True)\n",
    "\n",
    "for d in t_par:\n",
    "    bow = dictinary.doc2bow(d)\n",
    "    t = lda.get_document_topics(bow)\n",
    "    res.append(t)"
   ]
  },
  {
   "cell_type": "code",
   "execution_count": 214,
   "metadata": {
    "collapsed": true
   },
   "outputs": [],
   "source": [
    "d = {'score':[], 'doc':[]}\n",
    "\n",
    "for index, item in enumerate(res):\n",
    "    a = [i for i in item if i[0] == 8 and i[1] >= 0.75]\n",
    "    if a != []:\n",
    "        d['score'].append(a[0][1])\n",
    "        d['doc'].append(indx_text[index])"
   ]
  },
  {
   "cell_type": "code",
   "execution_count": 215,
   "metadata": {
    "collapsed": true
   },
   "outputs": [],
   "source": [
    "df = pd.DataFrame(d)"
   ]
  },
  {
   "cell_type": "markdown",
   "metadata": {},
   "source": [
    "Сортируем по скору"
   ]
  },
  {
   "cell_type": "code",
   "execution_count": 217,
   "metadata": {},
   "outputs": [
    {
     "data": {
      "text/html": [
       "<div>\n",
       "<style scoped>\n",
       "    .dataframe tbody tr th:only-of-type {\n",
       "        vertical-align: middle;\n",
       "    }\n",
       "\n",
       "    .dataframe tbody tr th {\n",
       "        vertical-align: top;\n",
       "    }\n",
       "\n",
       "    .dataframe thead th {\n",
       "        text-align: right;\n",
       "    }\n",
       "</style>\n",
       "<table border=\"1\" class=\"dataframe\">\n",
       "  <thead>\n",
       "    <tr style=\"text-align: right;\">\n",
       "      <th></th>\n",
       "      <th>doc</th>\n",
       "      <th>score</th>\n",
       "    </tr>\n",
       "  </thead>\n",
       "  <tbody>\n",
       "    <tr>\n",
       "      <th>1110</th>\n",
       "      <td>Does every country speak a different type of E...</td>\n",
       "      <td>0.751753</td>\n",
       "    </tr>\n",
       "    <tr>\n",
       "      <th>1323</th>\n",
       "      <td>Dissolving the Article 370 can help stabilise ...</td>\n",
       "      <td>0.752080</td>\n",
       "    </tr>\n",
       "    <tr>\n",
       "      <th>1207</th>\n",
       "      <td>Apart from the Muslim clerics how many of the ...</td>\n",
       "      <td>0.752150</td>\n",
       "    </tr>\n",
       "    <tr>\n",
       "      <th>729</th>\n",
       "      <td>There are many people who have no inner peace....</td>\n",
       "      <td>0.752157</td>\n",
       "    </tr>\n",
       "    <tr>\n",
       "      <th>1650</th>\n",
       "      <td>Why don't Islamic terrorists attack Malaysia a...</td>\n",
       "      <td>0.753414</td>\n",
       "    </tr>\n",
       "    <tr>\n",
       "      <th>1782</th>\n",
       "      <td>When foreigners speak English with their accen...</td>\n",
       "      <td>0.753560</td>\n",
       "    </tr>\n",
       "    <tr>\n",
       "      <th>731</th>\n",
       "      <td>What should common Indian Muslim do to not cal...</td>\n",
       "      <td>0.754618</td>\n",
       "    </tr>\n",
       "    <tr>\n",
       "      <th>43</th>\n",
       "      <td>When will Hindus become minority and Muslims b...</td>\n",
       "      <td>0.755808</td>\n",
       "    </tr>\n",
       "    <tr>\n",
       "      <th>1250</th>\n",
       "      <td>What do people in neighborhing countries like ...</td>\n",
       "      <td>0.756003</td>\n",
       "    </tr>\n",
       "    <tr>\n",
       "      <th>513</th>\n",
       "      <td>As a Muslim, what do you want to say to people...</td>\n",
       "      <td>0.757133</td>\n",
       "    </tr>\n",
       "    <tr>\n",
       "      <th>178</th>\n",
       "      <td>Who will you trust more: a Muslim terrorist, a...</td>\n",
       "      <td>0.757358</td>\n",
       "    </tr>\n",
       "    <tr>\n",
       "      <th>783</th>\n",
       "      <td>How can I make use of English movies to speak ...</td>\n",
       "      <td>0.757792</td>\n",
       "    </tr>\n",
       "    <tr>\n",
       "      <th>1374</th>\n",
       "      <td>Do Pakistani people know khalistan include mor...</td>\n",
       "      <td>0.758091</td>\n",
       "    </tr>\n",
       "    <tr>\n",
       "      <th>572</th>\n",
       "      <td>Will Pakistan occupy West Bengal if it become ...</td>\n",
       "      <td>0.758201</td>\n",
       "    </tr>\n",
       "    <tr>\n",
       "      <th>1870</th>\n",
       "      <td>Does the 'Third Eye' has anything to do with t...</td>\n",
       "      <td>0.758394</td>\n",
       "    </tr>\n",
       "    <tr>\n",
       "      <th>570</th>\n",
       "      <td>Which are the best Indian movies even better t...</td>\n",
       "      <td>0.759932</td>\n",
       "    </tr>\n",
       "    <tr>\n",
       "      <th>738</th>\n",
       "      <td>Why do many Christians dislike Jesus Christ su...</td>\n",
       "      <td>0.760450</td>\n",
       "    </tr>\n",
       "    <tr>\n",
       "      <th>676</th>\n",
       "      <td>Should India give visas to Pakistani patients ...</td>\n",
       "      <td>0.760603</td>\n",
       "    </tr>\n",
       "    <tr>\n",
       "      <th>1133</th>\n",
       "      <td>What do you say about Muslim people which supp...</td>\n",
       "      <td>0.761969</td>\n",
       "    </tr>\n",
       "    <tr>\n",
       "      <th>679</th>\n",
       "      <td>When Islamic terrorists attack, does it bother...</td>\n",
       "      <td>0.762165</td>\n",
       "    </tr>\n",
       "    <tr>\n",
       "      <th>855</th>\n",
       "      <td>As an ex Muslim, what do you think about Chris...</td>\n",
       "      <td>0.762210</td>\n",
       "    </tr>\n",
       "    <tr>\n",
       "      <th>1710</th>\n",
       "      <td>What do Indian Muslims think about the Supreme...</td>\n",
       "      <td>0.762226</td>\n",
       "    </tr>\n",
       "    <tr>\n",
       "      <th>704</th>\n",
       "      <td>How many non Muslim believe Quran is just a jo...</td>\n",
       "      <td>0.762358</td>\n",
       "    </tr>\n",
       "    <tr>\n",
       "      <th>1033</th>\n",
       "      <td>What are the reasons that lead to Indians verb...</td>\n",
       "      <td>0.762435</td>\n",
       "    </tr>\n",
       "    <tr>\n",
       "      <th>870</th>\n",
       "      <td>Do you judge people who have social anxiety or...</td>\n",
       "      <td>0.762480</td>\n",
       "    </tr>\n",
       "    <tr>\n",
       "      <th>725</th>\n",
       "      <td>How large were the populations of the Gulf nat...</td>\n",
       "      <td>0.762493</td>\n",
       "    </tr>\n",
       "    <tr>\n",
       "      <th>1494</th>\n",
       "      <td>Why don't Muslim nations consider Iran to be p...</td>\n",
       "      <td>0.762493</td>\n",
       "    </tr>\n",
       "    <tr>\n",
       "      <th>277</th>\n",
       "      <td>According to non Indians which country is more...</td>\n",
       "      <td>0.762494</td>\n",
       "    </tr>\n",
       "    <tr>\n",
       "      <th>1225</th>\n",
       "      <td>Have Paul Ryan and Mitch McConnell sold out th...</td>\n",
       "      <td>0.762497</td>\n",
       "    </tr>\n",
       "    <tr>\n",
       "      <th>446</th>\n",
       "      <td>Why is dew present in Indian pitches whereas n...</td>\n",
       "      <td>0.762498</td>\n",
       "    </tr>\n",
       "    <tr>\n",
       "      <th>...</th>\n",
       "      <td>...</td>\n",
       "      <td>...</td>\n",
       "    </tr>\n",
       "    <tr>\n",
       "      <th>168</th>\n",
       "      <td>Why majority of the Muslim countries support I...</td>\n",
       "      <td>0.871424</td>\n",
       "    </tr>\n",
       "    <tr>\n",
       "      <th>1808</th>\n",
       "      <td>Why is Islam the religion which is involved th...</td>\n",
       "      <td>0.871424</td>\n",
       "    </tr>\n",
       "    <tr>\n",
       "      <th>187</th>\n",
       "      <td>Why do Indian Christians follow both religions...</td>\n",
       "      <td>0.871425</td>\n",
       "    </tr>\n",
       "    <tr>\n",
       "      <th>1749</th>\n",
       "      <td>Why do Muslims refer to Islam as the \"true rel...</td>\n",
       "      <td>0.871426</td>\n",
       "    </tr>\n",
       "    <tr>\n",
       "      <th>1035</th>\n",
       "      <td>Why did Hindus accepted the name of religion a...</td>\n",
       "      <td>0.871427</td>\n",
       "    </tr>\n",
       "    <tr>\n",
       "      <th>235</th>\n",
       "      <td>Are Muslims in India slowly converting their r...</td>\n",
       "      <td>0.871428</td>\n",
       "    </tr>\n",
       "    <tr>\n",
       "      <th>563</th>\n",
       "      <td>India is a rich country but the people are poo...</td>\n",
       "      <td>0.887448</td>\n",
       "    </tr>\n",
       "    <tr>\n",
       "      <th>1475</th>\n",
       "      <td>How much time will it take for India to become...</td>\n",
       "      <td>0.887465</td>\n",
       "    </tr>\n",
       "    <tr>\n",
       "      <th>412</th>\n",
       "      <td>What if every word in the English language has...</td>\n",
       "      <td>0.887468</td>\n",
       "    </tr>\n",
       "    <tr>\n",
       "      <th>1838</th>\n",
       "      <td>Religion is to organise people, is it possible...</td>\n",
       "      <td>0.887474</td>\n",
       "    </tr>\n",
       "    <tr>\n",
       "      <th>1580</th>\n",
       "      <td>How many Indian startups are well known outsid...</td>\n",
       "      <td>0.887476</td>\n",
       "    </tr>\n",
       "    <tr>\n",
       "      <th>941</th>\n",
       "      <td>Why do we need to support those poor people wh...</td>\n",
       "      <td>0.887481</td>\n",
       "    </tr>\n",
       "    <tr>\n",
       "      <th>554</th>\n",
       "      <td>Why did you become an engineer (instead of get...</td>\n",
       "      <td>0.887482</td>\n",
       "    </tr>\n",
       "    <tr>\n",
       "      <th>186</th>\n",
       "      <td>Why does Pakistan is such a bad country and al...</td>\n",
       "      <td>0.887485</td>\n",
       "    </tr>\n",
       "    <tr>\n",
       "      <th>223</th>\n",
       "      <td>Why don't India give freedom to Kashmir when t...</td>\n",
       "      <td>0.887486</td>\n",
       "    </tr>\n",
       "    <tr>\n",
       "      <th>1653</th>\n",
       "      <td>Why China help Pakistan is there is some need ...</td>\n",
       "      <td>0.887488</td>\n",
       "    </tr>\n",
       "    <tr>\n",
       "      <th>976</th>\n",
       "      <td>Is introversion comparable to lack of social s...</td>\n",
       "      <td>0.887488</td>\n",
       "    </tr>\n",
       "    <tr>\n",
       "      <th>1399</th>\n",
       "      <td>Why do Muslims believe the majority of non Mus...</td>\n",
       "      <td>0.887488</td>\n",
       "    </tr>\n",
       "    <tr>\n",
       "      <th>356</th>\n",
       "      <td>What do Hindus need to do to keep India a Hind...</td>\n",
       "      <td>0.887488</td>\n",
       "    </tr>\n",
       "    <tr>\n",
       "      <th>672</th>\n",
       "      <td>If there is fight between India and China then...</td>\n",
       "      <td>0.887490</td>\n",
       "    </tr>\n",
       "    <tr>\n",
       "      <th>177</th>\n",
       "      <td>What does Ali AlShamsi think about 'Rich Dad P...</td>\n",
       "      <td>0.887490</td>\n",
       "    </tr>\n",
       "    <tr>\n",
       "      <th>102</th>\n",
       "      <td>What can be done about people who are abusive ...</td>\n",
       "      <td>0.887492</td>\n",
       "    </tr>\n",
       "    <tr>\n",
       "      <th>1474</th>\n",
       "      <td>As a Muslim living in India, where do you thin...</td>\n",
       "      <td>0.887492</td>\n",
       "    </tr>\n",
       "    <tr>\n",
       "      <th>1025</th>\n",
       "      <td>Which rule can be called as cruelest rule in K...</td>\n",
       "      <td>0.887494</td>\n",
       "    </tr>\n",
       "    <tr>\n",
       "      <th>1904</th>\n",
       "      <td>Am I allowed to enter a mosque if I am of the ...</td>\n",
       "      <td>0.887494</td>\n",
       "    </tr>\n",
       "    <tr>\n",
       "      <th>815</th>\n",
       "      <td>How many Muslims in India want to make India a...</td>\n",
       "      <td>0.899987</td>\n",
       "    </tr>\n",
       "    <tr>\n",
       "      <th>63</th>\n",
       "      <td>Do Indians that hate Islam and Muslims hate th...</td>\n",
       "      <td>0.899991</td>\n",
       "    </tr>\n",
       "    <tr>\n",
       "      <th>1037</th>\n",
       "      <td>If you speak Tagalog, you think in Tagalog, if...</td>\n",
       "      <td>0.899992</td>\n",
       "    </tr>\n",
       "    <tr>\n",
       "      <th>1228</th>\n",
       "      <td>Why do I always give people advice that really...</td>\n",
       "      <td>0.909974</td>\n",
       "    </tr>\n",
       "    <tr>\n",
       "      <th>15</th>\n",
       "      <td>What advice do poor people from rich countries...</td>\n",
       "      <td>0.909994</td>\n",
       "    </tr>\n",
       "  </tbody>\n",
       "</table>\n",
       "<p>1989 rows × 2 columns</p>\n",
       "</div>"
      ],
      "text/plain": [
       "                                                    doc     score\n",
       "1110  Does every country speak a different type of E...  0.751753\n",
       "1323  Dissolving the Article 370 can help stabilise ...  0.752080\n",
       "1207  Apart from the Muslim clerics how many of the ...  0.752150\n",
       "729   There are many people who have no inner peace....  0.752157\n",
       "1650  Why don't Islamic terrorists attack Malaysia a...  0.753414\n",
       "1782  When foreigners speak English with their accen...  0.753560\n",
       "731   What should common Indian Muslim do to not cal...  0.754618\n",
       "43    When will Hindus become minority and Muslims b...  0.755808\n",
       "1250  What do people in neighborhing countries like ...  0.756003\n",
       "513   As a Muslim, what do you want to say to people...  0.757133\n",
       "178   Who will you trust more: a Muslim terrorist, a...  0.757358\n",
       "783   How can I make use of English movies to speak ...  0.757792\n",
       "1374  Do Pakistani people know khalistan include mor...  0.758091\n",
       "572   Will Pakistan occupy West Bengal if it become ...  0.758201\n",
       "1870  Does the 'Third Eye' has anything to do with t...  0.758394\n",
       "570   Which are the best Indian movies even better t...  0.759932\n",
       "738   Why do many Christians dislike Jesus Christ su...  0.760450\n",
       "676   Should India give visas to Pakistani patients ...  0.760603\n",
       "1133  What do you say about Muslim people which supp...  0.761969\n",
       "679   When Islamic terrorists attack, does it bother...  0.762165\n",
       "855   As an ex Muslim, what do you think about Chris...  0.762210\n",
       "1710  What do Indian Muslims think about the Supreme...  0.762226\n",
       "704   How many non Muslim believe Quran is just a jo...  0.762358\n",
       "1033  What are the reasons that lead to Indians verb...  0.762435\n",
       "870   Do you judge people who have social anxiety or...  0.762480\n",
       "725   How large were the populations of the Gulf nat...  0.762493\n",
       "1494  Why don't Muslim nations consider Iran to be p...  0.762493\n",
       "277   According to non Indians which country is more...  0.762494\n",
       "1225  Have Paul Ryan and Mitch McConnell sold out th...  0.762497\n",
       "446   Why is dew present in Indian pitches whereas n...  0.762498\n",
       "...                                                 ...       ...\n",
       "168   Why majority of the Muslim countries support I...  0.871424\n",
       "1808  Why is Islam the religion which is involved th...  0.871424\n",
       "187   Why do Indian Christians follow both religions...  0.871425\n",
       "1749  Why do Muslims refer to Islam as the \"true rel...  0.871426\n",
       "1035  Why did Hindus accepted the name of religion a...  0.871427\n",
       "235   Are Muslims in India slowly converting their r...  0.871428\n",
       "563   India is a rich country but the people are poo...  0.887448\n",
       "1475  How much time will it take for India to become...  0.887465\n",
       "412   What if every word in the English language has...  0.887468\n",
       "1838  Religion is to organise people, is it possible...  0.887474\n",
       "1580  How many Indian startups are well known outsid...  0.887476\n",
       "941   Why do we need to support those poor people wh...  0.887481\n",
       "554   Why did you become an engineer (instead of get...  0.887482\n",
       "186   Why does Pakistan is such a bad country and al...  0.887485\n",
       "223   Why don't India give freedom to Kashmir when t...  0.887486\n",
       "1653  Why China help Pakistan is there is some need ...  0.887488\n",
       "976   Is introversion comparable to lack of social s...  0.887488\n",
       "1399  Why do Muslims believe the majority of non Mus...  0.887488\n",
       "356   What do Hindus need to do to keep India a Hind...  0.887488\n",
       "672   If there is fight between India and China then...  0.887490\n",
       "177   What does Ali AlShamsi think about 'Rich Dad P...  0.887490\n",
       "102   What can be done about people who are abusive ...  0.887492\n",
       "1474  As a Muslim living in India, where do you thin...  0.887492\n",
       "1025  Which rule can be called as cruelest rule in K...  0.887494\n",
       "1904  Am I allowed to enter a mosque if I am of the ...  0.887494\n",
       "815   How many Muslims in India want to make India a...  0.899987\n",
       "63    Do Indians that hate Islam and Muslims hate th...  0.899991\n",
       "1037  If you speak Tagalog, you think in Tagalog, if...  0.899992\n",
       "1228  Why do I always give people advice that really...  0.909974\n",
       "15    What advice do poor people from rich countries...  0.909994\n",
       "\n",
       "[1989 rows x 2 columns]"
      ]
     },
     "execution_count": 217,
     "metadata": {},
     "output_type": "execute_result"
    }
   ],
   "source": [
    "df.sort_values(by=['score'])"
   ]
  },
  {
   "cell_type": "code",
   "execution_count": 207,
   "metadata": {},
   "outputs": [
    {
     "data": {
      "text/plain": [
       "'Is it true that only white people can be racist?'"
      ]
     },
     "execution_count": 207,
     "metadata": {},
     "output_type": "execute_result"
    }
   ],
   "source": [
    "df.loc[2695].doc"
   ]
  },
  {
   "cell_type": "code",
   "execution_count": 227,
   "metadata": {},
   "outputs": [
    {
     "data": {
      "text/plain": [
       "\"Why do Muslims believe the majority of non Muslims don't understand Islam?\""
      ]
     },
     "execution_count": 227,
     "metadata": {},
     "output_type": "execute_result"
    }
   ],
   "source": [
    "df.loc[1399].doc"
   ]
  },
  {
   "cell_type": "code",
   "execution_count": 249,
   "metadata": {},
   "outputs": [
    {
     "data": {
      "text/plain": [
       "'Do Indians that hate Islam and Muslims hate the faith and people because of Pakistan?'"
      ]
     },
     "execution_count": 249,
     "metadata": {},
     "output_type": "execute_result"
    }
   ],
   "source": [
    "df.loc[63].doc"
   ]
  },
  {
   "cell_type": "code",
   "execution_count": 250,
   "metadata": {},
   "outputs": [
    {
     "data": {
      "text/plain": [
       "'Why does Pakistan is such a bad country and also supports terrorist?'"
      ]
     },
     "execution_count": 250,
     "metadata": {},
     "output_type": "execute_result"
    }
   ],
   "source": [
    "df.loc[186].doc"
   ]
  },
  {
   "cell_type": "markdown",
   "metadata": {},
   "source": [
    "Как видно уже на этих примерах, к классу нетоксичных отнесены и сопвершенно противоположные документы. "
   ]
  },
  {
   "cell_type": "markdown",
   "metadata": {},
   "source": [
    "Проверим, есть ли нетоксичные документы в категории токсичных. "
   ]
  },
  {
   "cell_type": "markdown",
   "metadata": {},
   "source": [
    "### Для toxic"
   ]
  },
  {
   "cell_type": "code",
   "execution_count": 220,
   "metadata": {},
   "outputs": [
    {
     "data": {
      "application/vnd.jupyter.widget-view+json": {
       "model_id": "2c8bc65f5717414e903f29cd461e0806",
       "version_major": 2,
       "version_minor": 0
      },
      "text/plain": [
       "HBox(children=(IntProgress(value=0, description='doc', max=80810), HTML(value='')))"
      ]
     },
     "metadata": {},
     "output_type": "display_data"
    },
    {
     "name": "stdout",
     "output_type": "stream",
     "text": [
      "\n"
     ]
    }
   ],
   "source": [
    "res2 = []\n",
    "\n",
    "t_par = tqdm_notebook(texts, desc='doc', leave=True)\n",
    "\n",
    "for d in t_par:\n",
    "    bow = dictinary.doc2bow(d)\n",
    "    t = lda.get_document_topics(bow)\n",
    "    res2.append(t)"
   ]
  },
  {
   "cell_type": "code",
   "execution_count": 221,
   "metadata": {
    "collapsed": true
   },
   "outputs": [],
   "source": [
    "indx_text_tox = {index:text for index, text in enumerate(toxic.question_text)}"
   ]
  },
  {
   "cell_type": "code",
   "execution_count": 224,
   "metadata": {
    "collapsed": true
   },
   "outputs": [],
   "source": [
    "d2 = {'score':[], 'doc':[]}\n",
    "\n",
    "for index, item in enumerate(res2):\n",
    "    a = [i for i in item if i[0] == 8 and i[1] >= 0.75]\n",
    "    if a != []:\n",
    "        d2['score'].append(a[0][1])\n",
    "        d2['doc'].append(indx_text_tox[index])"
   ]
  },
  {
   "cell_type": "code",
   "execution_count": 228,
   "metadata": {
    "collapsed": true
   },
   "outputs": [],
   "source": [
    "df2 = pd.DataFrame(d2).sort_values(by=['score'])"
   ]
  },
  {
   "cell_type": "code",
   "execution_count": 231,
   "metadata": {},
   "outputs": [
    {
     "data": {
      "text/html": [
       "<div>\n",
       "<style scoped>\n",
       "    .dataframe tbody tr th:only-of-type {\n",
       "        vertical-align: middle;\n",
       "    }\n",
       "\n",
       "    .dataframe tbody tr th {\n",
       "        vertical-align: top;\n",
       "    }\n",
       "\n",
       "    .dataframe thead th {\n",
       "        text-align: right;\n",
       "    }\n",
       "</style>\n",
       "<table border=\"1\" class=\"dataframe\">\n",
       "  <thead>\n",
       "    <tr style=\"text-align: right;\">\n",
       "      <th></th>\n",
       "      <th>doc</th>\n",
       "      <th>score</th>\n",
       "    </tr>\n",
       "  </thead>\n",
       "  <tbody>\n",
       "    <tr>\n",
       "      <th>7</th>\n",
       "      <td>Why is there so any people who are in Toronto ...</td>\n",
       "      <td>0.750282</td>\n",
       "    </tr>\n",
       "    <tr>\n",
       "      <th>278</th>\n",
       "      <td>Are all Indian Muslims slaves of Saudi Arabia?...</td>\n",
       "      <td>0.751286</td>\n",
       "    </tr>\n",
       "    <tr>\n",
       "      <th>35</th>\n",
       "      <td>How many licks does it take to make Oprah expl...</td>\n",
       "      <td>0.751306</td>\n",
       "    </tr>\n",
       "    <tr>\n",
       "      <th>270</th>\n",
       "      <td>Why do many people consider the crusaders to h...</td>\n",
       "      <td>0.753594</td>\n",
       "    </tr>\n",
       "    <tr>\n",
       "      <th>171</th>\n",
       "      <td>If a nation becomes majority Muslim, does it b...</td>\n",
       "      <td>0.755231</td>\n",
       "    </tr>\n",
       "    <tr>\n",
       "      <th>302</th>\n",
       "      <td>As a Muslim who have good knowledge of Quran a...</td>\n",
       "      <td>0.756107</td>\n",
       "    </tr>\n",
       "    <tr>\n",
       "      <th>63</th>\n",
       "      <td>Do you think that Indian Muslims are intention...</td>\n",
       "      <td>0.756616</td>\n",
       "    </tr>\n",
       "    <tr>\n",
       "      <th>267</th>\n",
       "      <td>Will India become a developed nation if all In...</td>\n",
       "      <td>0.758197</td>\n",
       "    </tr>\n",
       "    <tr>\n",
       "      <th>122</th>\n",
       "      <td>Why Indian Hindus can't bear the presence of M...</td>\n",
       "      <td>0.758204</td>\n",
       "    </tr>\n",
       "    <tr>\n",
       "      <th>221</th>\n",
       "      <td>Why don't Muslims establish freedom in their o...</td>\n",
       "      <td>0.759388</td>\n",
       "    </tr>\n",
       "    <tr>\n",
       "      <th>317</th>\n",
       "      <td>Why does India call Pakistan a terrorist count...</td>\n",
       "      <td>0.760005</td>\n",
       "    </tr>\n",
       "    <tr>\n",
       "      <th>217</th>\n",
       "      <td>What will India do when the Muslim population ...</td>\n",
       "      <td>0.760069</td>\n",
       "    </tr>\n",
       "    <tr>\n",
       "      <th>237</th>\n",
       "      <td>Do you think Muslims should be thrown out of I...</td>\n",
       "      <td>0.761158</td>\n",
       "    </tr>\n",
       "    <tr>\n",
       "      <th>151</th>\n",
       "      <td>Is it true that Muslim people are focusing on ...</td>\n",
       "      <td>0.762335</td>\n",
       "    </tr>\n",
       "    <tr>\n",
       "      <th>247</th>\n",
       "      <td>Why do Nepalese people hate Indians and call t...</td>\n",
       "      <td>0.762426</td>\n",
       "    </tr>\n",
       "    <tr>\n",
       "      <th>14</th>\n",
       "      <td>Why are people from kasargod and kannur joinin...</td>\n",
       "      <td>0.762478</td>\n",
       "    </tr>\n",
       "    <tr>\n",
       "      <th>333</th>\n",
       "      <td>Why do some people deny that the majority of t...</td>\n",
       "      <td>0.762488</td>\n",
       "    </tr>\n",
       "    <tr>\n",
       "      <th>117</th>\n",
       "      <td>How can Indian Muslims take revenge for the ly...</td>\n",
       "      <td>0.762490</td>\n",
       "    </tr>\n",
       "    <tr>\n",
       "      <th>106</th>\n",
       "      <td>Do Indians born in Gulf Arab (Khaleeji) countr...</td>\n",
       "      <td>0.762490</td>\n",
       "    </tr>\n",
       "    <tr>\n",
       "      <th>234</th>\n",
       "      <td>When will Pakistanis understand that Dhaka is ...</td>\n",
       "      <td>0.762492</td>\n",
       "    </tr>\n",
       "    <tr>\n",
       "      <th>342</th>\n",
       "      <td>Do Pakistan soldiers suck Indian soldiers dick...</td>\n",
       "      <td>0.762498</td>\n",
       "    </tr>\n",
       "    <tr>\n",
       "      <th>158</th>\n",
       "      <td>Do you think Arab Muslims are biased towards n...</td>\n",
       "      <td>0.764410</td>\n",
       "    </tr>\n",
       "    <tr>\n",
       "      <th>95</th>\n",
       "      <td>Do Muslims who vowed to help sick and poor Mus...</td>\n",
       "      <td>0.765690</td>\n",
       "    </tr>\n",
       "    <tr>\n",
       "      <th>360</th>\n",
       "      <td>Why Arab Muslim avoid mixing with Pakistani, B...</td>\n",
       "      <td>0.766037</td>\n",
       "    </tr>\n",
       "    <tr>\n",
       "      <th>290</th>\n",
       "      <td>Why Muslims hate India yet insecure and wants ...</td>\n",
       "      <td>0.768356</td>\n",
       "    </tr>\n",
       "    <tr>\n",
       "      <th>125</th>\n",
       "      <td>Why did Neil Armstrong return back to Earth in...</td>\n",
       "      <td>0.768955</td>\n",
       "    </tr>\n",
       "    <tr>\n",
       "      <th>40</th>\n",
       "      <td>Why don't Hindus understand that Kalki avatar ...</td>\n",
       "      <td>0.772173</td>\n",
       "    </tr>\n",
       "    <tr>\n",
       "      <th>281</th>\n",
       "      <td>Did the Brits really “civilize” the Indians?</td>\n",
       "      <td>0.774893</td>\n",
       "    </tr>\n",
       "    <tr>\n",
       "      <th>345</th>\n",
       "      <td>Is India really down with Muslims?</td>\n",
       "      <td>0.774904</td>\n",
       "    </tr>\n",
       "    <tr>\n",
       "      <th>10</th>\n",
       "      <td>Who started the saying, “Grab her by the Trump”?</td>\n",
       "      <td>0.774934</td>\n",
       "    </tr>\n",
       "    <tr>\n",
       "      <th>...</th>\n",
       "      <td>...</td>\n",
       "      <td>...</td>\n",
       "    </tr>\n",
       "    <tr>\n",
       "      <th>92</th>\n",
       "      <td>Are most terrorists Muslims, and does that mea...</td>\n",
       "      <td>0.887453</td>\n",
       "    </tr>\n",
       "    <tr>\n",
       "      <th>206</th>\n",
       "      <td>If Islam means \"peace\" why are most of the ter...</td>\n",
       "      <td>0.887456</td>\n",
       "    </tr>\n",
       "    <tr>\n",
       "      <th>147</th>\n",
       "      <td>Why don't Australians think they took the coun...</td>\n",
       "      <td>0.887480</td>\n",
       "    </tr>\n",
       "    <tr>\n",
       "      <th>90</th>\n",
       "      <td>Why can't Muslims understand that as human bei...</td>\n",
       "      <td>0.887480</td>\n",
       "    </tr>\n",
       "    <tr>\n",
       "      <th>321</th>\n",
       "      <td>Why can't Indian Muslims move to Pakistan if t...</td>\n",
       "      <td>0.887482</td>\n",
       "    </tr>\n",
       "    <tr>\n",
       "      <th>195</th>\n",
       "      <td>Why does Xi Jinping want to be like genocidal ...</td>\n",
       "      <td>0.887482</td>\n",
       "    </tr>\n",
       "    <tr>\n",
       "      <th>211</th>\n",
       "      <td>Who do you think is worse for society: Logan P...</td>\n",
       "      <td>0.887485</td>\n",
       "    </tr>\n",
       "    <tr>\n",
       "      <th>325</th>\n",
       "      <td>Do Christians from India have anything good to...</td>\n",
       "      <td>0.887485</td>\n",
       "    </tr>\n",
       "    <tr>\n",
       "      <th>224</th>\n",
       "      <td>Why do many Indian Muslims love Pakistanis mor...</td>\n",
       "      <td>0.887486</td>\n",
       "    </tr>\n",
       "    <tr>\n",
       "      <th>329</th>\n",
       "      <td>I can understand that every Muslim is not terr...</td>\n",
       "      <td>0.887486</td>\n",
       "    </tr>\n",
       "    <tr>\n",
       "      <th>167</th>\n",
       "      <td>Why do people that like Jake Paul dislike Loga...</td>\n",
       "      <td>0.887487</td>\n",
       "    </tr>\n",
       "    <tr>\n",
       "      <th>363</th>\n",
       "      <td>Why do Muslims want to make India as Muslim ma...</td>\n",
       "      <td>0.887488</td>\n",
       "    </tr>\n",
       "    <tr>\n",
       "      <th>131</th>\n",
       "      <td>Why do Malaysia Muslim like to judge other Mus...</td>\n",
       "      <td>0.887488</td>\n",
       "    </tr>\n",
       "    <tr>\n",
       "      <th>203</th>\n",
       "      <td>Poor people are more likely to commit crimes, ...</td>\n",
       "      <td>0.887489</td>\n",
       "    </tr>\n",
       "    <tr>\n",
       "      <th>266</th>\n",
       "      <td>Why do Muslim people say non Muslim do not und...</td>\n",
       "      <td>0.887489</td>\n",
       "    </tr>\n",
       "    <tr>\n",
       "      <th>138</th>\n",
       "      <td>Does Xi Jinping want to follow murderer Mao?</td>\n",
       "      <td>0.887490</td>\n",
       "    </tr>\n",
       "    <tr>\n",
       "      <th>42</th>\n",
       "      <td>Is it true that Indians hate Pakistanis more t...</td>\n",
       "      <td>0.887490</td>\n",
       "    </tr>\n",
       "    <tr>\n",
       "      <th>103</th>\n",
       "      <td>Am I wrong if I say \"All Muslims are not terro...</td>\n",
       "      <td>0.887491</td>\n",
       "    </tr>\n",
       "    <tr>\n",
       "      <th>226</th>\n",
       "      <td>Why are Indian politicians pseudo-seculars and...</td>\n",
       "      <td>0.887493</td>\n",
       "    </tr>\n",
       "    <tr>\n",
       "      <th>76</th>\n",
       "      <td>Why do Indian Muslims say that they are Pakist...</td>\n",
       "      <td>0.887495</td>\n",
       "    </tr>\n",
       "    <tr>\n",
       "      <th>104</th>\n",
       "      <td>If Islam is a religion of peace, then why do M...</td>\n",
       "      <td>0.887495</td>\n",
       "    </tr>\n",
       "    <tr>\n",
       "      <th>36</th>\n",
       "      <td>Why does in India a terrorist have no religion...</td>\n",
       "      <td>0.887495</td>\n",
       "    </tr>\n",
       "    <tr>\n",
       "      <th>282</th>\n",
       "      <td>Why Indian Muslim consider Pakistanis as Musli...</td>\n",
       "      <td>0.887496</td>\n",
       "    </tr>\n",
       "    <tr>\n",
       "      <th>285</th>\n",
       "      <td>Why do Hindus hate Christians so much, yet the...</td>\n",
       "      <td>0.899992</td>\n",
       "    </tr>\n",
       "    <tr>\n",
       "      <th>420</th>\n",
       "      <td>Why do Hindus emigrate to the Christian west w...</td>\n",
       "      <td>0.899994</td>\n",
       "    </tr>\n",
       "    <tr>\n",
       "      <th>326</th>\n",
       "      <td>If Hindus hate Islam, why do so many Hindus mi...</td>\n",
       "      <td>0.899995</td>\n",
       "    </tr>\n",
       "    <tr>\n",
       "      <th>357</th>\n",
       "      <td>Should we ban Islam in non Islamic countries a...</td>\n",
       "      <td>0.899995</td>\n",
       "    </tr>\n",
       "    <tr>\n",
       "      <th>73</th>\n",
       "      <td>Why are Christians cruel to animals? Why don't...</td>\n",
       "      <td>0.909994</td>\n",
       "    </tr>\n",
       "    <tr>\n",
       "      <th>419</th>\n",
       "      <td>Why are Muslims unsecular? See how Muslims are...</td>\n",
       "      <td>0.918174</td>\n",
       "    </tr>\n",
       "    <tr>\n",
       "      <th>189</th>\n",
       "      <td>There are a lot of Hindus in India who support...</td>\n",
       "      <td>0.924994</td>\n",
       "    </tr>\n",
       "  </tbody>\n",
       "</table>\n",
       "<p>439 rows × 2 columns</p>\n",
       "</div>"
      ],
      "text/plain": [
       "                                                   doc     score\n",
       "7    Why is there so any people who are in Toronto ...  0.750282\n",
       "278  Are all Indian Muslims slaves of Saudi Arabia?...  0.751286\n",
       "35   How many licks does it take to make Oprah expl...  0.751306\n",
       "270  Why do many people consider the crusaders to h...  0.753594\n",
       "171  If a nation becomes majority Muslim, does it b...  0.755231\n",
       "302  As a Muslim who have good knowledge of Quran a...  0.756107\n",
       "63   Do you think that Indian Muslims are intention...  0.756616\n",
       "267  Will India become a developed nation if all In...  0.758197\n",
       "122  Why Indian Hindus can't bear the presence of M...  0.758204\n",
       "221  Why don't Muslims establish freedom in their o...  0.759388\n",
       "317  Why does India call Pakistan a terrorist count...  0.760005\n",
       "217  What will India do when the Muslim population ...  0.760069\n",
       "237  Do you think Muslims should be thrown out of I...  0.761158\n",
       "151  Is it true that Muslim people are focusing on ...  0.762335\n",
       "247  Why do Nepalese people hate Indians and call t...  0.762426\n",
       "14   Why are people from kasargod and kannur joinin...  0.762478\n",
       "333  Why do some people deny that the majority of t...  0.762488\n",
       "117  How can Indian Muslims take revenge for the ly...  0.762490\n",
       "106  Do Indians born in Gulf Arab (Khaleeji) countr...  0.762490\n",
       "234  When will Pakistanis understand that Dhaka is ...  0.762492\n",
       "342  Do Pakistan soldiers suck Indian soldiers dick...  0.762498\n",
       "158  Do you think Arab Muslims are biased towards n...  0.764410\n",
       "95   Do Muslims who vowed to help sick and poor Mus...  0.765690\n",
       "360  Why Arab Muslim avoid mixing with Pakistani, B...  0.766037\n",
       "290  Why Muslims hate India yet insecure and wants ...  0.768356\n",
       "125  Why did Neil Armstrong return back to Earth in...  0.768955\n",
       "40   Why don't Hindus understand that Kalki avatar ...  0.772173\n",
       "281       Did the Brits really “civilize” the Indians?  0.774893\n",
       "345                 Is India really down with Muslims?  0.774904\n",
       "10    Who started the saying, “Grab her by the Trump”?  0.774934\n",
       "..                                                 ...       ...\n",
       "92   Are most terrorists Muslims, and does that mea...  0.887453\n",
       "206  If Islam means \"peace\" why are most of the ter...  0.887456\n",
       "147  Why don't Australians think they took the coun...  0.887480\n",
       "90   Why can't Muslims understand that as human bei...  0.887480\n",
       "321  Why can't Indian Muslims move to Pakistan if t...  0.887482\n",
       "195  Why does Xi Jinping want to be like genocidal ...  0.887482\n",
       "211  Who do you think is worse for society: Logan P...  0.887485\n",
       "325  Do Christians from India have anything good to...  0.887485\n",
       "224  Why do many Indian Muslims love Pakistanis mor...  0.887486\n",
       "329  I can understand that every Muslim is not terr...  0.887486\n",
       "167  Why do people that like Jake Paul dislike Loga...  0.887487\n",
       "363  Why do Muslims want to make India as Muslim ma...  0.887488\n",
       "131  Why do Malaysia Muslim like to judge other Mus...  0.887488\n",
       "203  Poor people are more likely to commit crimes, ...  0.887489\n",
       "266  Why do Muslim people say non Muslim do not und...  0.887489\n",
       "138       Does Xi Jinping want to follow murderer Mao?  0.887490\n",
       "42   Is it true that Indians hate Pakistanis more t...  0.887490\n",
       "103  Am I wrong if I say \"All Muslims are not terro...  0.887491\n",
       "226  Why are Indian politicians pseudo-seculars and...  0.887493\n",
       "76   Why do Indian Muslims say that they are Pakist...  0.887495\n",
       "104  If Islam is a religion of peace, then why do M...  0.887495\n",
       "36   Why does in India a terrorist have no religion...  0.887495\n",
       "282  Why Indian Muslim consider Pakistanis as Musli...  0.887496\n",
       "285  Why do Hindus hate Christians so much, yet the...  0.899992\n",
       "420  Why do Hindus emigrate to the Christian west w...  0.899994\n",
       "326  If Hindus hate Islam, why do so many Hindus mi...  0.899995\n",
       "357  Should we ban Islam in non Islamic countries a...  0.899995\n",
       "73   Why are Christians cruel to animals? Why don't...  0.909994\n",
       "419  Why are Muslims unsecular? See how Muslims are...  0.918174\n",
       "189  There are a lot of Hindus in India who support...  0.924994\n",
       "\n",
       "[439 rows x 2 columns]"
      ]
     },
     "execution_count": 231,
     "metadata": {},
     "output_type": "execute_result"
    }
   ],
   "source": [
    "df2"
   ]
  },
  {
   "cell_type": "code",
   "execution_count": 255,
   "metadata": {},
   "outputs": [
    {
     "data": {
      "text/plain": [
       "'Why do people that like Jake Paul dislike Logan Paul?'"
      ]
     },
     "execution_count": 255,
     "metadata": {},
     "output_type": "execute_result"
    }
   ],
   "source": [
    "df2.loc[167].doc"
   ]
  },
  {
   "cell_type": "code",
   "execution_count": 256,
   "metadata": {},
   "outputs": [
    {
     "data": {
      "text/plain": [
       "'Who do you think is worse for society: Logan Paul or Jake Paul?'"
      ]
     },
     "execution_count": 256,
     "metadata": {},
     "output_type": "execute_result"
    }
   ],
   "source": [
    "df2.loc[211].doc"
   ]
  },
  {
   "cell_type": "code",
   "execution_count": 257,
   "metadata": {},
   "outputs": [
    {
     "data": {
      "text/plain": [
       "'Who started the saying, “Grab her by the Trump”?'"
      ]
     },
     "execution_count": 257,
     "metadata": {},
     "output_type": "execute_result"
    }
   ],
   "source": [
    "df2.loc[10].doc"
   ]
  },
  {
   "cell_type": "markdown",
   "metadata": {},
   "source": [
    "Why did Neil Armstrong return back to Earth instead of landing on the Moon?\n",
    "\n",
    "Is it possible to have syphilis and not have symptoms?\n",
    "\n",
    "Why are so many Indians poor? \n",
    "\n",
    "How does Luminary Cream function?\n",
    "\n",
    "Why can't I install AMD on an Intel processor?\n",
    "\n",
    "Is it possible to have syphilis and not have symptoms"
   ]
  },
  {
   "cell_type": "markdown",
   "metadata": {},
   "source": [
    "И тут есть документы, которые явно не принадлежат своему классу. Посмотрим, есть ли какие-то закономерности."
   ]
  },
  {
   "cell_type": "markdown",
   "metadata": {},
   "source": [
    "#### Частотные слова:"
   ]
  },
  {
   "cell_type": "code",
   "execution_count": null,
   "metadata": {
    "collapsed": true
   },
   "outputs": [],
   "source": [
    "from collections "
   ]
  },
  {
   "cell_type": "code",
   "execution_count": 234,
   "metadata": {
    "collapsed": true
   },
   "outputs": [],
   "source": [
    "count_nont = Counter()\n",
    "for d in nontox_lists:\n",
    "    count_nont.update(d)    "
   ]
  },
  {
   "cell_type": "code",
   "execution_count": 235,
   "metadata": {
    "collapsed": true
   },
   "outputs": [],
   "source": [
    "count_t = Counter()\n",
    "for d in texts:\n",
    "    count_t.update(d)    "
   ]
  },
  {
   "cell_type": "code",
   "execution_count": 245,
   "metadata": {},
   "outputs": [],
   "source": [
    "tox = {i[0] for i in count_t.most_common(20)} - set(table1[8])\n",
    "not_tox = {i[0] for i in count_nont.most_common(20)} - set(table1[8])"
   ]
  },
  {
   "cell_type": "code",
   "execution_count": 248,
   "metadata": {},
   "outputs": [
    {
     "data": {
      "text/plain": [
       "{'american',\n",
       " 'black',\n",
       " 'doe',\n",
       " 'get',\n",
       " 'girl',\n",
       " 'like',\n",
       " 'many',\n",
       " 'men',\n",
       " 'quora',\n",
       " 'think',\n",
       " 'trump',\n",
       " 'wa',\n",
       " 'white',\n",
       " 'woman',\n",
       " 'would'}"
      ]
     },
     "execution_count": 248,
     "metadata": {},
     "output_type": "execute_result"
    }
   ],
   "source": [
    "tox"
   ]
  },
  {
   "cell_type": "code",
   "execution_count": 247,
   "metadata": {},
   "outputs": [
    {
     "data": {
      "text/plain": [
       "{'best',\n",
       " 'doe',\n",
       " 'get',\n",
       " 'good',\n",
       " 'ha',\n",
       " 'life',\n",
       " 'like',\n",
       " 'make',\n",
       " 'many',\n",
       " 'much',\n",
       " 'one',\n",
       " 'someone',\n",
       " 'think',\n",
       " 'time',\n",
       " 'wa',\n",
       " 'way',\n",
       " 'would',\n",
       " 'year'}"
      ]
     },
     "execution_count": 247,
     "metadata": {},
     "output_type": "execute_result"
    }
   ],
   "source": [
    "not_tox"
   ]
  },
  {
   "cell_type": "markdown",
   "metadata": {},
   "source": [
    "Набор слов отличается, однако нужно учитывать то, что тексто для нетоксичного класса намного больше, и то, что вообще набор слов для токсик не является таким уж однозначно показательным. "
   ]
  },
  {
   "cell_type": "markdown",
   "metadata": {},
   "source": [
    "#### N-gramm"
   ]
  },
  {
   "cell_type": "code",
   "execution_count": 279,
   "metadata": {},
   "outputs": [],
   "source": [
    "ph = gensim.models.Phrases(texts, scoring='npmi', threshold=0.4) \n",
    "p = gensim.models.phrases.Phraser(ph)\n",
    "ngrammed_texts = p[texts]"
   ]
  },
  {
   "cell_type": "code",
   "execution_count": 284,
   "metadata": {},
   "outputs": [],
   "source": [
    "ph2 = gensim.models.Phrases(texts, scoring='npmi', threshold=0.4)\n",
    "p2 = gensim.models.phrases.Phraser(ph2)\n",
    "ngrammed_non = p2[nontox_lists]"
   ]
  },
  {
   "cell_type": "code",
   "execution_count": 298,
   "metadata": {},
   "outputs": [],
   "source": [
    "count_nont = Counter()\n",
    "for d in ngrammed_non:\n",
    "    for i in d:\n",
    "        if '_' in i:\n",
    "            count_nont[i]+= 1    \n",
    "\n",
    "count_t = Counter()\n",
    "for d in ngrammed_texts:\n",
    "    for i in d:\n",
    "        if '_' in i:\n",
    "            count_t[i] += 1"
   ]
  },
  {
   "cell_type": "code",
   "execution_count": 299,
   "metadata": {},
   "outputs": [],
   "source": [
    "tox = {i[0] for i in count_t.most_common(20)} \n",
    "not_tox = {i[0] for i in count_nont.most_common(20)}"
   ]
  },
  {
   "cell_type": "code",
   "execution_count": 317,
   "metadata": {},
   "outputs": [
    {
     "data": {
      "text/plain": [
       "{'doe_mean',\n",
       " 'donald_trump',\n",
       " 'even_though',\n",
       " 'look_like',\n",
       " 'north_korea',\n",
       " 'united_state',\n",
       " 'would_happen',\n",
       " 'year_old'}"
      ]
     },
     "execution_count": 317,
     "metadata": {},
     "output_type": "execute_result"
    }
   ],
   "source": [
    "tox & not_tox"
   ]
  },
  {
   "cell_type": "code",
   "execution_count": null,
   "metadata": {},
   "outputs": [],
   "source": [
    "Достаточно "
   ]
  },
  {
   "cell_type": "code",
   "execution_count": 300,
   "metadata": {},
   "outputs": [
    {
     "data": {
      "text/plain": [
       "{'act_like',\n",
       " 'african_american',\n",
       " 'doe_mean',\n",
       " 'donald_trump',\n",
       " 'even_though',\n",
       " 'gun_control',\n",
       " 'hillary_clinton',\n",
       " 'illegal_immigrant',\n",
       " 'look_like',\n",
       " 'middle_east',\n",
       " 'narendra_modi',\n",
       " 'native_american',\n",
       " 'north_indian',\n",
       " 'north_korea',\n",
       " 'president_trump',\n",
       " 'south_indian',\n",
       " 'trump_supporter',\n",
       " 'united_state',\n",
       " 'would_happen',\n",
       " 'year_old'}"
      ]
     },
     "execution_count": 300,
     "metadata": {},
     "output_type": "execute_result"
    }
   ],
   "source": [
    "tox"
   ]
  },
  {
   "cell_type": "code",
   "execution_count": 301,
   "metadata": {},
   "outputs": [
    {
     "data": {
      "text/plain": [
       "{'best_way',\n",
       " 'doe_mean',\n",
       " 'donald_trump',\n",
       " 'even_though',\n",
       " 'get_rid',\n",
       " 'good_idea',\n",
       " 'high_school',\n",
       " 'jee_main',\n",
       " 'look_like',\n",
       " 'new_york',\n",
       " 'north_korea',\n",
       " 'pro_con',\n",
       " 'real_estate',\n",
       " 'social_medium',\n",
       " 'tv_show',\n",
       " 'united_state',\n",
       " \"what's_best\",\n",
       " \"what's_difference\",\n",
       " 'would_happen',\n",
       " 'year_old'}"
      ]
     },
     "execution_count": 301,
     "metadata": {},
     "output_type": "execute_result"
    }
   ],
   "source": [
    "not_tox"
   ]
  },
  {
   "cell_type": "markdown",
   "metadata": {},
   "source": [
    "Би-граммы тоже не особо показательны"
   ]
  },
  {
   "cell_type": "markdown",
   "metadata": {},
   "source": [
    "### Порядок слов"
   ]
  },
  {
   "cell_type": "code",
   "execution_count": null,
   "metadata": {},
   "outputs": [],
   "source": [
    "import nltk\n",
    "from nltk import pos_tag"
   ]
  },
  {
   "cell_type": "code",
   "execution_count": 326,
   "metadata": {},
   "outputs": [
    {
     "ename": "NameError",
     "evalue": "name 'pos_tag' is not defined",
     "output_type": "error",
     "traceback": [
      "\u001b[0;31m---------------------------------------------------------------------------\u001b[0m",
      "\u001b[0;31mNameError\u001b[0m                                 Traceback (most recent call last)",
      "\u001b[0;32m<ipython-input-326-0e1d99b91a2a>\u001b[0m in \u001b[0;36m<module>\u001b[0;34m\u001b[0m\n\u001b[0;32m----> 1\u001b[0;31m \u001b[0mpos_tag\u001b[0m\u001b[0;34m(\u001b[0m\u001b[0mtox\u001b[0m\u001b[0;34m[\u001b[0m\u001b[0;36m0\u001b[0m\u001b[0;34m]\u001b[0m\u001b[0;34m)\u001b[0m\u001b[0;34m\u001b[0m\u001b[0m\n\u001b[0m",
      "\u001b[0;31mNameError\u001b[0m: name 'pos_tag' is not defined"
     ]
    }
   ],
   "source": [
    "pos_tag(tox[0])"
   ]
  },
  {
   "cell_type": "code",
   "execution_count": 325,
   "metadata": {},
   "outputs": [],
   "source": [
    "import pickle\n",
    "\n",
    "with open('/Users/Stoneberry/Downloads/tox_tagged.pickle', 'rb') as f:\n",
    "    tox = pickle.load(f)\n",
    "\n",
    "with open('/Users/Stoneberry/Downloads/nottox_tagged.pickle', 'rb') as f:\n",
    "    nottox = pickle.load(f)\n",
    "\n",
    "\n",
    "words = ['muslim', 'indian', 'christian', 'arab', 'hindu']\n",
    "words = words + [i + 's' for i in words]"
   ]
  },
  {
   "cell_type": "code",
   "execution_count": 336,
   "metadata": {},
   "outputs": [],
   "source": [
    "def count_w_verb(texts, tox):\n",
    "    count_wverb = 0\n",
    "    count_wother = 0\n",
    "\n",
    "    t_par = tqdm_notebook(texts, desc='doc', leave=True)\n",
    "\n",
    "    for index, text in enumerate(t_par):\n",
    "\n",
    "        tags = tox[index] #pos_tag(text)\n",
    "\n",
    "        for i, w in enumerate(tags):\n",
    "            if w[0] in words and i < len(tags) - 1 and tags[i + 1][1] == 'VBN':\n",
    "                count_wverb += 1\n",
    "            elif w[0] in words:\n",
    "                count_wother += 1\n",
    "    return count_wverb, count_wother\n"
   ]
  },
  {
   "cell_type": "markdown",
   "metadata": {},
   "source": [
    "Токсичные тексты:"
   ]
  },
  {
   "cell_type": "code",
   "execution_count": 337,
   "metadata": {},
   "outputs": [
    {
     "data": {
      "application/vnd.jupyter.widget-view+json": {
       "model_id": "f5ee9be2e7084f2cb77bf428beb500de",
       "version_major": 2,
       "version_minor": 0
      },
      "text/plain": [
       "HBox(children=(IntProgress(value=0, description='doc', max=80810), HTML(value='')))"
      ]
     },
     "metadata": {},
     "output_type": "display_data"
    },
    {
     "data": {
      "text/plain": [
       "(234, 14734)"
      ]
     },
     "execution_count": 337,
     "metadata": {},
     "output_type": "execute_result"
    }
   ],
   "source": [
    "count_w_verb(texts, tox)"
   ]
  },
  {
   "cell_type": "code",
   "execution_count": 338,
   "metadata": {},
   "outputs": [
    {
     "data": {
      "text/plain": [
       "0.015633351149118117"
      ]
     },
     "execution_count": 338,
     "metadata": {},
     "output_type": "execute_result"
    }
   ],
   "source": [
    "234/(14734 + 234)"
   ]
  },
  {
   "cell_type": "markdown",
   "metadata": {},
   "source": [
    "Нетоксичные тексты:"
   ]
  },
  {
   "cell_type": "code",
   "execution_count": 339,
   "metadata": {},
   "outputs": [
    {
     "data": {
      "application/vnd.jupyter.widget-view+json": {
       "model_id": "7936677120204fbba3ab17fb671a3783",
       "version_major": 2,
       "version_minor": 0
      },
      "text/plain": [
       "HBox(children=(IntProgress(value=0, description='doc', max=80810), HTML(value='')))"
      ]
     },
     "metadata": {},
     "output_type": "display_data"
    },
    {
     "data": {
      "text/plain": [
       "(14, 1263)"
      ]
     },
     "execution_count": 339,
     "metadata": {},
     "output_type": "execute_result"
    }
   ],
   "source": [
    "count_w_verb(texts, nottox)"
   ]
  },
  {
   "cell_type": "code",
   "execution_count": 340,
   "metadata": {},
   "outputs": [
    {
     "data": {
      "text/plain": [
       "0.01096319498825372"
      ]
     },
     "execution_count": 340,
     "metadata": {},
     "output_type": "execute_result"
    }
   ],
   "source": [
    "14/(14 + 1263)"
   ]
  },
  {
   "cell_type": "markdown",
   "metadata": {},
   "source": [
    "У нас было предположение, что в токсичных текстах скорее всего будет преобладать конструкции типа национальность + глагол. Но это не оправдалось. "
   ]
  },
  {
   "cell_type": "markdown",
   "metadata": {},
   "source": [
    "Скорее всего, то, что негативные примеры вошли в состав, является ошибкой разметчиков. Такой способо может быть полезным в поиске неправильно классифицированных текстов для очистки тренировочной выборки. Возможно, это может улучшить классификацию.  "
   ]
  },
  {
   "cell_type": "markdown",
   "metadata": {},
   "source": [
    "## Подбор \n",
    "Тут мы пытались подобрать параметры, чтобы получить хорошие темы, но первоначальные все таки были лучше."
   ]
  },
  {
   "cell_type": "markdown",
   "metadata": {},
   "source": [
    "#### Улучшим словарь:"
   ]
  },
  {
   "cell_type": "code",
   "execution_count": 119,
   "metadata": {
    "collapsed": true
   },
   "outputs": [],
   "source": [
    "all_t = Counter([])\n",
    "for lst in texts:\n",
    "    all_t += Counter(lst)"
   ]
  },
  {
   "cell_type": "code",
   "execution_count": 122,
   "metadata": {
    "collapsed": true
   },
   "outputs": [],
   "source": [
    "stops_t = {i[0] for i in all_t.most_common(50)}\n",
    "least_t = {i[0] for i in all_t.most_common()[:-100-1:-1]}\n",
    "stops = stops | stops_t | least_t"
   ]
  },
  {
   "cell_type": "code",
   "execution_count": 125,
   "metadata": {
    "collapsed": true
   },
   "outputs": [],
   "source": [
    "texts_new_stops = opt_normalize([tokenize(text.lower()) for text in toxic.question_text], 35000)"
   ]
  },
  {
   "cell_type": "code",
   "execution_count": 128,
   "metadata": {},
   "outputs": [
    {
     "data": {
      "text/html": [
       "<div>\n",
       "<style scoped>\n",
       "    .dataframe tbody tr th:only-of-type {\n",
       "        vertical-align: middle;\n",
       "    }\n",
       "\n",
       "    .dataframe tbody tr th {\n",
       "        vertical-align: top;\n",
       "    }\n",
       "\n",
       "    .dataframe thead th {\n",
       "        text-align: right;\n",
       "    }\n",
       "</style>\n",
       "<table border=\"1\" class=\"dataframe\">\n",
       "  <thead>\n",
       "    <tr style=\"text-align: right;\">\n",
       "      <th></th>\n",
       "      <th>0</th>\n",
       "      <th>1</th>\n",
       "      <th>2</th>\n",
       "      <th>3</th>\n",
       "      <th>4</th>\n",
       "      <th>5</th>\n",
       "      <th>6</th>\n",
       "      <th>7</th>\n",
       "      <th>8</th>\n",
       "      <th>9</th>\n",
       "    </tr>\n",
       "  </thead>\n",
       "  <tbody>\n",
       "    <tr>\n",
       "      <th>0</th>\n",
       "      <td>racist</td>\n",
       "      <td>modi</td>\n",
       "      <td>gun</td>\n",
       "      <td>obama</td>\n",
       "      <td>israel</td>\n",
       "      <td>guy</td>\n",
       "      <td>answer</td>\n",
       "      <td>male</td>\n",
       "      <td>religion</td>\n",
       "      <td>god</td>\n",
       "    </tr>\n",
       "    <tr>\n",
       "      <th>1</th>\n",
       "      <td>asian</td>\n",
       "      <td>hillary</td>\n",
       "      <td>day</td>\n",
       "      <td>terrorist</td>\n",
       "      <td>human</td>\n",
       "      <td>north</td>\n",
       "      <td>conservative</td>\n",
       "      <td>law</td>\n",
       "      <td>islam</td>\n",
       "      <td>atheist</td>\n",
       "    </tr>\n",
       "    <tr>\n",
       "      <th>2</th>\n",
       "      <td>usa</td>\n",
       "      <td>clinton</td>\n",
       "      <td>go</td>\n",
       "      <td>pakistani</td>\n",
       "      <td>dog</td>\n",
       "      <td>bad</td>\n",
       "      <td>culture</td>\n",
       "      <td>feminist</td>\n",
       "      <td>love</td>\n",
       "      <td>stupid</td>\n",
       "    </tr>\n",
       "    <tr>\n",
       "      <th>3</th>\n",
       "      <td>european</td>\n",
       "      <td>supporter</td>\n",
       "      <td>boy</td>\n",
       "      <td>attack</td>\n",
       "      <td>eat</td>\n",
       "      <td>party</td>\n",
       "      <td>look</td>\n",
       "      <td>female</td>\n",
       "      <td>wrong</td>\n",
       "      <td>iq</td>\n",
       "    </tr>\n",
       "    <tr>\n",
       "      <th>4</th>\n",
       "      <td>african</td>\n",
       "      <td>fake</td>\n",
       "      <td>old</td>\n",
       "      <td>nothing</td>\n",
       "      <td>pakistan</td>\n",
       "      <td>rape</td>\n",
       "      <td>money</td>\n",
       "      <td>poor</td>\n",
       "      <td>ever</td>\n",
       "      <td>earth</td>\n",
       "    </tr>\n",
       "    <tr>\n",
       "      <th>5</th>\n",
       "      <td>race</td>\n",
       "      <td>election</td>\n",
       "      <td>man</td>\n",
       "      <td>tamil</td>\n",
       "      <td>palestinian</td>\n",
       "      <td>big</td>\n",
       "      <td>sexual</td>\n",
       "      <td>take</td>\n",
       "      <td>sister</td>\n",
       "      <td>everyone</td>\n",
       "    </tr>\n",
       "    <tr>\n",
       "      <th>6</th>\n",
       "      <td>british</td>\n",
       "      <td>bjp</td>\n",
       "      <td>i'm</td>\n",
       "      <td>allow</td>\n",
       "      <td>animal</td>\n",
       "      <td>good</td>\n",
       "      <td>word</td>\n",
       "      <td>million</td>\n",
       "      <td>mother</td>\n",
       "      <td>ask</td>\n",
       "    </tr>\n",
       "    <tr>\n",
       "      <th>7</th>\n",
       "      <td>western</td>\n",
       "      <td>government</td>\n",
       "      <td>control</td>\n",
       "      <td>support</td>\n",
       "      <td>become</td>\n",
       "      <td>penis</td>\n",
       "      <td>find</td>\n",
       "      <td>long</td>\n",
       "      <td>kill</td>\n",
       "      <td>respect</td>\n",
       "    </tr>\n",
       "    <tr>\n",
       "      <th>8</th>\n",
       "      <td>china</td>\n",
       "      <td>leader</td>\n",
       "      <td>every</td>\n",
       "      <td>name</td>\n",
       "      <td>jesus</td>\n",
       "      <td>okay</td>\n",
       "      <td>seem</td>\n",
       "      <td>wear</td>\n",
       "      <td>parent</td>\n",
       "      <td>anyone</td>\n",
       "    </tr>\n",
       "    <tr>\n",
       "      <th>9</th>\n",
       "      <td>immigrant</td>\n",
       "      <td>vote</td>\n",
       "      <td>daughter</td>\n",
       "      <td>pakistan</td>\n",
       "      <td>baby</td>\n",
       "      <td>south</td>\n",
       "      <td>compared</td>\n",
       "      <td>care</td>\n",
       "      <td>tell</td>\n",
       "      <td>really</td>\n",
       "    </tr>\n",
       "  </tbody>\n",
       "</table>\n",
       "</div>"
      ],
      "text/plain": [
       "           0           1         2          3            4      5  \\\n",
       "0     racist        modi       gun      obama       israel    guy   \n",
       "1      asian     hillary       day  terrorist        human  north   \n",
       "2        usa     clinton        go  pakistani          dog    bad   \n",
       "3   european   supporter       boy     attack          eat  party   \n",
       "4    african        fake       old    nothing     pakistan   rape   \n",
       "5       race    election       man      tamil  palestinian    big   \n",
       "6    british         bjp       i'm      allow       animal   good   \n",
       "7    western  government   control    support       become  penis   \n",
       "8      china      leader     every       name        jesus   okay   \n",
       "9  immigrant        vote  daughter   pakistan         baby  south   \n",
       "\n",
       "              6         7         8         9  \n",
       "0        answer      male  religion       god  \n",
       "1  conservative       law     islam   atheist  \n",
       "2       culture  feminist      love    stupid  \n",
       "3          look    female     wrong        iq  \n",
       "4         money      poor      ever     earth  \n",
       "5        sexual      take    sister  everyone  \n",
       "6          word   million    mother       ask  \n",
       "7          find      long      kill   respect  \n",
       "8          seem      wear    parent    anyone  \n",
       "9      compared      care      tell    really  "
      ]
     },
     "execution_count": 128,
     "metadata": {},
     "output_type": "execute_result"
    }
   ],
   "source": [
    "lda = my_lda(texts_new_stops)\n",
    "words(lda)"
   ]
  },
  {
   "cell_type": "markdown",
   "metadata": {},
   "source": [
    "#### Разные параметры"
   ]
  },
  {
   "cell_type": "code",
   "execution_count": 320,
   "metadata": {},
   "outputs": [
    {
     "data": {
      "text/html": [
       "<div>\n",
       "<style scoped>\n",
       "    .dataframe tbody tr th:only-of-type {\n",
       "        vertical-align: middle;\n",
       "    }\n",
       "\n",
       "    .dataframe tbody tr th {\n",
       "        vertical-align: top;\n",
       "    }\n",
       "\n",
       "    .dataframe thead th {\n",
       "        text-align: right;\n",
       "    }\n",
       "</style>\n",
       "<table border=\"1\" class=\"dataframe\">\n",
       "  <thead>\n",
       "    <tr style=\"text-align: right;\">\n",
       "      <th></th>\n",
       "      <th>0</th>\n",
       "      <th>1</th>\n",
       "      <th>2</th>\n",
       "      <th>3</th>\n",
       "      <th>4</th>\n",
       "      <th>5</th>\n",
       "      <th>6</th>\n",
       "      <th>7</th>\n",
       "      <th>8</th>\n",
       "      <th>9</th>\n",
       "      <th>10</th>\n",
       "      <th>11</th>\n",
       "      <th>12</th>\n",
       "      <th>13</th>\n",
       "      <th>14</th>\n",
       "      <th>15</th>\n",
       "      <th>16</th>\n",
       "      <th>17</th>\n",
       "      <th>18</th>\n",
       "      <th>19</th>\n",
       "    </tr>\n",
       "  </thead>\n",
       "  <tbody>\n",
       "    <tr>\n",
       "      <th>0</th>\n",
       "      <td>say</td>\n",
       "      <td>gun</td>\n",
       "      <td>thing</td>\n",
       "      <td>life</td>\n",
       "      <td>african</td>\n",
       "      <td>white</td>\n",
       "      <td>feel</td>\n",
       "      <td>trump</td>\n",
       "      <td>hate</td>\n",
       "      <td>friend</td>\n",
       "      <td>liberal</td>\n",
       "      <td>chinese</td>\n",
       "      <td>mean</td>\n",
       "      <td>tell</td>\n",
       "      <td>year</td>\n",
       "      <td>considered</td>\n",
       "      <td>muslim</td>\n",
       "      <td>look</td>\n",
       "      <td>woman</td>\n",
       "      <td>become</td>\n",
       "    </tr>\n",
       "    <tr>\n",
       "      <th>1</th>\n",
       "      <td>call</td>\n",
       "      <td>use</td>\n",
       "      <td>israel</td>\n",
       "      <td>given</td>\n",
       "      <td>allowed</td>\n",
       "      <td>black</td>\n",
       "      <td>everyone</td>\n",
       "      <td>president</td>\n",
       "      <td>much</td>\n",
       "      <td>away</td>\n",
       "      <td>conservative</td>\n",
       "      <td>come</td>\n",
       "      <td>live</td>\n",
       "      <td>put</td>\n",
       "      <td>still</td>\n",
       "      <td>anything</td>\n",
       "      <td>india</td>\n",
       "      <td>stupid</td>\n",
       "      <td>men</td>\n",
       "      <td>understand</td>\n",
       "    </tr>\n",
       "    <tr>\n",
       "      <th>2</th>\n",
       "      <td>mother</td>\n",
       "      <td>control</td>\n",
       "      <td>realize</td>\n",
       "      <td>face</td>\n",
       "      <td>issue</td>\n",
       "      <td>people</td>\n",
       "      <td>lot</td>\n",
       "      <td>donald</td>\n",
       "      <td>jew</td>\n",
       "      <td>using</td>\n",
       "      <td>medium</td>\n",
       "      <td>people</td>\n",
       "      <td>doe</td>\n",
       "      <td>word</td>\n",
       "      <td>old</td>\n",
       "      <td>used</td>\n",
       "      <td>pakistan</td>\n",
       "      <td>like</td>\n",
       "      <td>man</td>\n",
       "      <td>start</td>\n",
       "    </tr>\n",
       "    <tr>\n",
       "      <th>3</th>\n",
       "      <td>people</td>\n",
       "      <td>two</td>\n",
       "      <td>rape</td>\n",
       "      <td>cat</td>\n",
       "      <td>age</td>\n",
       "      <td>racist</td>\n",
       "      <td>lie</td>\n",
       "      <td>obama</td>\n",
       "      <td>state</td>\n",
       "      <td>rich</td>\n",
       "      <td>anyone</td>\n",
       "      <td>today</td>\n",
       "      <td>based</td>\n",
       "      <td>fuck</td>\n",
       "      <td>hillary</td>\n",
       "      <td>got</td>\n",
       "      <td>left</td>\n",
       "      <td>new</td>\n",
       "      <td>like</td>\n",
       "      <td>sexual</td>\n",
       "    </tr>\n",
       "    <tr>\n",
       "      <th>4</th>\n",
       "      <td>baby</td>\n",
       "      <td>pay</td>\n",
       "      <td>reason</td>\n",
       "      <td>wish</td>\n",
       "      <td>created</td>\n",
       "      <td>give</td>\n",
       "      <td>living</td>\n",
       "      <td>ever</td>\n",
       "      <td>people</td>\n",
       "      <td>it’s</td>\n",
       "      <td>don’t</td>\n",
       "      <td>china</td>\n",
       "      <td>belief</td>\n",
       "      <td>well</td>\n",
       "      <td>actually</td>\n",
       "      <td>power</td>\n",
       "      <td>country</td>\n",
       "      <td>citizen</td>\n",
       "      <td>young</td>\n",
       "      <td>hard</td>\n",
       "    </tr>\n",
       "    <tr>\n",
       "      <th>5</th>\n",
       "      <td>know</td>\n",
       "      <td>long</td>\n",
       "      <td>okay</td>\n",
       "      <td>quorans</td>\n",
       "      <td>dick</td>\n",
       "      <td>race</td>\n",
       "      <td>doe</td>\n",
       "      <td>doe</td>\n",
       "      <td>united</td>\n",
       "      <td>troll</td>\n",
       "      <td>death</td>\n",
       "      <td>enjoy</td>\n",
       "      <td>cause</td>\n",
       "      <td>they're</td>\n",
       "      <td>clinton</td>\n",
       "      <td>evidence</td>\n",
       "      <td>majority</td>\n",
       "      <td>people</td>\n",
       "      <td>single</td>\n",
       "      <td>ugly</td>\n",
       "    </tr>\n",
       "    <tr>\n",
       "      <th>6</th>\n",
       "      <td>english</td>\n",
       "      <td>bible</td>\n",
       "      <td>around</td>\n",
       "      <td>meat</td>\n",
       "      <td>suck</td>\n",
       "      <td>arab</td>\n",
       "      <td>like</td>\n",
       "      <td>wa</td>\n",
       "      <td>west</td>\n",
       "      <td>number</td>\n",
       "      <td>u.s</td>\n",
       "      <td>behind</td>\n",
       "      <td>forced</td>\n",
       "      <td>germany</td>\n",
       "      <td>kid</td>\n",
       "      <td>action</td>\n",
       "      <td>allow</td>\n",
       "      <td>nazi</td>\n",
       "      <td>comment</td>\n",
       "      <td>would</td>\n",
       "    </tr>\n",
       "    <tr>\n",
       "      <th>7</th>\n",
       "      <td>speak</td>\n",
       "      <td>home</td>\n",
       "      <td>palestinian</td>\n",
       "      <td>drug</td>\n",
       "      <td>intelligent</td>\n",
       "      <td>american</td>\n",
       "      <td>site</td>\n",
       "      <td>ha</td>\n",
       "      <td>consider</td>\n",
       "      <td>canadian</td>\n",
       "      <td>view</td>\n",
       "      <td>many</td>\n",
       "      <td>ashamed</td>\n",
       "      <td>superior</td>\n",
       "      <td>rather</td>\n",
       "      <td>stand</td>\n",
       "      <td>islam</td>\n",
       "      <td>dumb</td>\n",
       "      <td>husband</td>\n",
       "      <td>matter</td>\n",
       "    </tr>\n",
       "    <tr>\n",
       "      <th>8</th>\n",
       "      <td>wife</td>\n",
       "      <td>buy</td>\n",
       "      <td>victim</td>\n",
       "      <td>please</td>\n",
       "      <td>american</td>\n",
       "      <td>especially</td>\n",
       "      <td>likely</td>\n",
       "      <td>slave</td>\n",
       "      <td>leader</td>\n",
       "      <td>hand</td>\n",
       "      <td>social</td>\n",
       "      <td>false</td>\n",
       "      <td>muhammad</td>\n",
       "      <td>holocaust</td>\n",
       "      <td>wa</td>\n",
       "      <td>virgin</td>\n",
       "      <td>keep</td>\n",
       "      <td>almost</td>\n",
       "      <td>get</td>\n",
       "      <td>castrated</td>\n",
       "    </tr>\n",
       "    <tr>\n",
       "      <th>9</th>\n",
       "      <td>mexican</td>\n",
       "      <td>simply</td>\n",
       "      <td>really</td>\n",
       "      <td>spend</td>\n",
       "      <td>standard</td>\n",
       "      <td>racism</td>\n",
       "      <td>city</td>\n",
       "      <td>making</td>\n",
       "      <td>korean</td>\n",
       "      <td>can’t</td>\n",
       "      <td>due</td>\n",
       "      <td>interested</td>\n",
       "      <td>water</td>\n",
       "      <td>calling</td>\n",
       "      <td>normal</td>\n",
       "      <td>dating</td>\n",
       "      <td>christian</td>\n",
       "      <td>stay</td>\n",
       "      <td>want</td>\n",
       "      <td>office</td>\n",
       "    </tr>\n",
       "  </tbody>\n",
       "</table>\n",
       "</div>"
      ],
      "text/plain": [
       "        0        1            2        3            4           5         6   \\\n",
       "0      say      gun        thing     life      african       white      feel   \n",
       "1     call      use       israel    given      allowed       black  everyone   \n",
       "2   mother  control      realize     face        issue      people       lot   \n",
       "3   people      two         rape      cat          age      racist       lie   \n",
       "4     baby      pay       reason     wish      created        give    living   \n",
       "5     know     long         okay  quorans         dick        race       doe   \n",
       "6  english    bible       around     meat         suck        arab      like   \n",
       "7    speak     home  palestinian     drug  intelligent    american      site   \n",
       "8     wife      buy       victim   please     american  especially    likely   \n",
       "9  mexican   simply       really    spend     standard      racism      city   \n",
       "\n",
       "          7         8         9             10          11        12  \\\n",
       "0      trump      hate    friend       liberal     chinese      mean   \n",
       "1  president      much      away  conservative        come      live   \n",
       "2     donald       jew     using        medium      people       doe   \n",
       "3      obama     state      rich        anyone       today     based   \n",
       "4       ever    people      it’s         don’t       china    belief   \n",
       "5        doe    united     troll         death       enjoy     cause   \n",
       "6         wa      west    number           u.s      behind    forced   \n",
       "7         ha  consider  canadian          view        many   ashamed   \n",
       "8      slave    leader      hand        social       false  muhammad   \n",
       "9     making    korean     can’t           due  interested     water   \n",
       "\n",
       "          13        14          15         16       17       18          19  \n",
       "0       tell      year  considered     muslim     look    woman      become  \n",
       "1        put     still    anything      india   stupid      men  understand  \n",
       "2       word       old        used   pakistan     like      man       start  \n",
       "3       fuck   hillary         got       left      new     like      sexual  \n",
       "4       well  actually       power    country  citizen    young        hard  \n",
       "5    they're   clinton    evidence   majority   people   single        ugly  \n",
       "6    germany       kid      action      allow     nazi  comment       would  \n",
       "7   superior    rather       stand      islam     dumb  husband      matter  \n",
       "8  holocaust        wa      virgin       keep   almost      get   castrated  \n",
       "9    calling    normal      dating  christian     stay     want      office  "
      ]
     },
     "execution_count": 320,
     "metadata": {},
     "output_type": "execute_result"
    }
   ],
   "source": [
    "lda2 = my_lda(texts, num_topics=50, passes=5)\n",
    "table2 = words(lda2)\n",
    "table2"
   ]
  },
  {
   "cell_type": "code",
   "execution_count": 323,
   "metadata": {},
   "outputs": [
    {
     "data": {
      "text/html": [
       "<div>\n",
       "<style scoped>\n",
       "    .dataframe tbody tr th:only-of-type {\n",
       "        vertical-align: middle;\n",
       "    }\n",
       "\n",
       "    .dataframe tbody tr th {\n",
       "        vertical-align: top;\n",
       "    }\n",
       "\n",
       "    .dataframe thead th {\n",
       "        text-align: right;\n",
       "    }\n",
       "</style>\n",
       "<table border=\"1\" class=\"dataframe\">\n",
       "  <thead>\n",
       "    <tr style=\"text-align: right;\">\n",
       "      <th></th>\n",
       "      <th>0</th>\n",
       "      <th>1</th>\n",
       "      <th>2</th>\n",
       "      <th>3</th>\n",
       "      <th>4</th>\n",
       "      <th>5</th>\n",
       "      <th>6</th>\n",
       "      <th>7</th>\n",
       "      <th>8</th>\n",
       "      <th>9</th>\n",
       "      <th>10</th>\n",
       "      <th>11</th>\n",
       "      <th>12</th>\n",
       "      <th>13</th>\n",
       "      <th>14</th>\n",
       "      <th>15</th>\n",
       "      <th>16</th>\n",
       "      <th>17</th>\n",
       "      <th>18</th>\n",
       "      <th>19</th>\n",
       "    </tr>\n",
       "  </thead>\n",
       "  <tbody>\n",
       "    <tr>\n",
       "      <th>0</th>\n",
       "      <td>thing</td>\n",
       "      <td>friend</td>\n",
       "      <td>answer</td>\n",
       "      <td>guy</td>\n",
       "      <td>muslim</td>\n",
       "      <td>big</td>\n",
       "      <td>trump</td>\n",
       "      <td>better</td>\n",
       "      <td>child</td>\n",
       "      <td>supporter</td>\n",
       "      <td>girl</td>\n",
       "      <td>stop</td>\n",
       "      <td>terrorist</td>\n",
       "      <td>war</td>\n",
       "      <td>white</td>\n",
       "      <td>become</td>\n",
       "      <td>tell</td>\n",
       "      <td>time</td>\n",
       "      <td>gun</td>\n",
       "      <td>life</td>\n",
       "    </tr>\n",
       "    <tr>\n",
       "      <th>1</th>\n",
       "      <td>israel</td>\n",
       "      <td>away</td>\n",
       "      <td>instead</td>\n",
       "      <td>love</td>\n",
       "      <td>india</td>\n",
       "      <td>jewish</td>\n",
       "      <td>president</td>\n",
       "      <td>someone</td>\n",
       "      <td>kill</td>\n",
       "      <td>show</td>\n",
       "      <td>boy</td>\n",
       "      <td>post</td>\n",
       "      <td>law</td>\n",
       "      <td>best</td>\n",
       "      <td>black</td>\n",
       "      <td>understand</td>\n",
       "      <td>put</td>\n",
       "      <td>every</td>\n",
       "      <td>use</td>\n",
       "      <td>given</td>\n",
       "    </tr>\n",
       "    <tr>\n",
       "      <th>2</th>\n",
       "      <td>rape</td>\n",
       "      <td>using</td>\n",
       "      <td>history</td>\n",
       "      <td>need</td>\n",
       "      <td>pakistan</td>\n",
       "      <td>group</td>\n",
       "      <td>donald</td>\n",
       "      <td>help</td>\n",
       "      <td>without</td>\n",
       "      <td>population</td>\n",
       "      <td>like</td>\n",
       "      <td>far</td>\n",
       "      <td>uk</td>\n",
       "      <td>going</td>\n",
       "      <td>people</td>\n",
       "      <td>start</td>\n",
       "      <td>word</td>\n",
       "      <td>money</td>\n",
       "      <td>control</td>\n",
       "      <td>face</td>\n",
       "    </tr>\n",
       "    <tr>\n",
       "      <th>3</th>\n",
       "      <td>realize</td>\n",
       "      <td>rich</td>\n",
       "      <td>change</td>\n",
       "      <td>real</td>\n",
       "      <td>left</td>\n",
       "      <td>killing</td>\n",
       "      <td>obama</td>\n",
       "      <td>trying</td>\n",
       "      <td>russia</td>\n",
       "      <td>vote</td>\n",
       "      <td>community</td>\n",
       "      <td>lose</td>\n",
       "      <td>attack</td>\n",
       "      <td>etc</td>\n",
       "      <td>racist</td>\n",
       "      <td>sexual</td>\n",
       "      <td>fuck</td>\n",
       "      <td>male</td>\n",
       "      <td>two</td>\n",
       "      <td>cat</td>\n",
       "    </tr>\n",
       "    <tr>\n",
       "      <th>4</th>\n",
       "      <td>reason</td>\n",
       "      <td>it’s</td>\n",
       "      <td>trump's</td>\n",
       "      <td>first</td>\n",
       "      <td>country</td>\n",
       "      <td>people</td>\n",
       "      <td>ever</td>\n",
       "      <td>said</td>\n",
       "      <td>eat</td>\n",
       "      <td>student</td>\n",
       "      <td>feeling</td>\n",
       "      <td>could</td>\n",
       "      <td>modern</td>\n",
       "      <td>poor</td>\n",
       "      <td>give</td>\n",
       "      <td>hard</td>\n",
       "      <td>well</td>\n",
       "      <td>day</td>\n",
       "      <td>pay</td>\n",
       "      <td>wish</td>\n",
       "    </tr>\n",
       "    <tr>\n",
       "      <th>5</th>\n",
       "      <td>okay</td>\n",
       "      <td>troll</td>\n",
       "      <td>free</td>\n",
       "      <td>another</td>\n",
       "      <td>majority</td>\n",
       "      <td>million</td>\n",
       "      <td>doe</td>\n",
       "      <td>ok</td>\n",
       "      <td>support</td>\n",
       "      <td>public</td>\n",
       "      <td>allah</td>\n",
       "      <td>pregnant</td>\n",
       "      <td>rule</td>\n",
       "      <td>order</td>\n",
       "      <td>race</td>\n",
       "      <td>ugly</td>\n",
       "      <td>they're</td>\n",
       "      <td>female</td>\n",
       "      <td>long</td>\n",
       "      <td>quorans</td>\n",
       "    </tr>\n",
       "    <tr>\n",
       "      <th>6</th>\n",
       "      <td>around</td>\n",
       "      <td>number</td>\n",
       "      <td>german</td>\n",
       "      <td>marry</td>\n",
       "      <td>allow</td>\n",
       "      <td>genocide</td>\n",
       "      <td>ha</td>\n",
       "      <td>else</td>\n",
       "      <td>let</td>\n",
       "      <td>jesus</td>\n",
       "      <td>join</td>\n",
       "      <td>wall</td>\n",
       "      <td>fight</td>\n",
       "      <td>seems</td>\n",
       "      <td>arab</td>\n",
       "      <td>would</td>\n",
       "      <td>germany</td>\n",
       "      <td>work</td>\n",
       "      <td>bible</td>\n",
       "      <td>meat</td>\n",
       "    </tr>\n",
       "    <tr>\n",
       "      <th>7</th>\n",
       "      <td>palestinian</td>\n",
       "      <td>canadian</td>\n",
       "      <td>prefer</td>\n",
       "      <td>military</td>\n",
       "      <td>islam</td>\n",
       "      <td>weapon</td>\n",
       "      <td>wa</td>\n",
       "      <td>people</td>\n",
       "      <td>done</td>\n",
       "      <td>body</td>\n",
       "      <td>hold</td>\n",
       "      <td>health</td>\n",
       "      <td>brain</td>\n",
       "      <td>food</td>\n",
       "      <td>american</td>\n",
       "      <td>matter</td>\n",
       "      <td>superior</td>\n",
       "      <td>immigrant</td>\n",
       "      <td>home</td>\n",
       "      <td>please</td>\n",
       "    </tr>\n",
       "    <tr>\n",
       "      <th>8</th>\n",
       "      <td>really</td>\n",
       "      <td>can’t</td>\n",
       "      <td>speech</td>\n",
       "      <td>abortion</td>\n",
       "      <td>keep</td>\n",
       "      <td>nuclear</td>\n",
       "      <td>slave</td>\n",
       "      <td>greek</td>\n",
       "      <td>police</td>\n",
       "      <td>foreign</td>\n",
       "      <td>theist</td>\n",
       "      <td>get</td>\n",
       "      <td>syria</td>\n",
       "      <td>save</td>\n",
       "      <td>especially</td>\n",
       "      <td>castrated</td>\n",
       "      <td>holocaust</td>\n",
       "      <td>illegal</td>\n",
       "      <td>buy</td>\n",
       "      <td>drug</td>\n",
       "    </tr>\n",
       "    <tr>\n",
       "      <th>9</th>\n",
       "      <td>victim</td>\n",
       "      <td>hand</td>\n",
       "      <td>dress</td>\n",
       "      <td>transgender</td>\n",
       "      <td>christian</td>\n",
       "      <td>crazy</td>\n",
       "      <td>making</td>\n",
       "      <td>would</td>\n",
       "      <td>would</td>\n",
       "      <td>skin</td>\n",
       "      <td>always</td>\n",
       "      <td>generation</td>\n",
       "      <td>feminism</td>\n",
       "      <td>like</td>\n",
       "      <td>racism</td>\n",
       "      <td>office</td>\n",
       "      <td>calling</td>\n",
       "      <td>place</td>\n",
       "      <td>simply</td>\n",
       "      <td>spend</td>\n",
       "    </tr>\n",
       "  </tbody>\n",
       "</table>\n",
       "</div>"
      ],
      "text/plain": [
       "            0         1        2            3          4         5   \\\n",
       "0        thing    friend   answer          guy     muslim       big   \n",
       "1       israel      away  instead         love      india    jewish   \n",
       "2         rape     using  history         need   pakistan     group   \n",
       "3      realize      rich   change         real       left   killing   \n",
       "4       reason      it’s  trump's        first    country    people   \n",
       "5         okay     troll     free      another   majority   million   \n",
       "6       around    number   german        marry      allow  genocide   \n",
       "7  palestinian  canadian   prefer     military      islam    weapon   \n",
       "8       really     can’t   speech     abortion       keep   nuclear   \n",
       "9       victim      hand    dress  transgender  christian     crazy   \n",
       "\n",
       "          6        7        8           9          10          11         12  \\\n",
       "0      trump   better    child   supporter       girl        stop  terrorist   \n",
       "1  president  someone     kill        show        boy        post        law   \n",
       "2     donald     help  without  population       like         far         uk   \n",
       "3      obama   trying   russia        vote  community        lose     attack   \n",
       "4       ever     said      eat     student    feeling       could     modern   \n",
       "5        doe       ok  support      public      allah    pregnant       rule   \n",
       "6         ha     else      let       jesus       join        wall      fight   \n",
       "7         wa   people     done        body       hold      health      brain   \n",
       "8      slave    greek   police     foreign     theist         get      syria   \n",
       "9     making    would    would        skin     always  generation   feminism   \n",
       "\n",
       "      13          14          15         16         17       18       19  \n",
       "0    war       white      become       tell       time      gun     life  \n",
       "1   best       black  understand        put      every      use    given  \n",
       "2  going      people       start       word      money  control     face  \n",
       "3    etc      racist      sexual       fuck       male      two      cat  \n",
       "4   poor        give        hard       well        day      pay     wish  \n",
       "5  order        race        ugly    they're     female     long  quorans  \n",
       "6  seems        arab       would    germany       work    bible     meat  \n",
       "7   food    american      matter   superior  immigrant     home   please  \n",
       "8   save  especially   castrated  holocaust    illegal      buy     drug  \n",
       "9   like      racism      office    calling      place   simply    spend  "
      ]
     },
     "execution_count": 323,
     "metadata": {},
     "output_type": "execute_result"
    }
   ],
   "source": [
    "lda2 = my_lda(texts, num_topics=50, passes=15)\n",
    "table2 = words(lda2)\n",
    "table2"
   ]
  },
  {
   "cell_type": "code",
   "execution_count": 324,
   "metadata": {},
   "outputs": [
    {
     "data": {
      "text/html": [
       "<div>\n",
       "<style scoped>\n",
       "    .dataframe tbody tr th:only-of-type {\n",
       "        vertical-align: middle;\n",
       "    }\n",
       "\n",
       "    .dataframe tbody tr th {\n",
       "        vertical-align: top;\n",
       "    }\n",
       "\n",
       "    .dataframe thead th {\n",
       "        text-align: right;\n",
       "    }\n",
       "</style>\n",
       "<table border=\"1\" class=\"dataframe\">\n",
       "  <thead>\n",
       "    <tr style=\"text-align: right;\">\n",
       "      <th></th>\n",
       "      <th>0</th>\n",
       "      <th>1</th>\n",
       "      <th>2</th>\n",
       "      <th>3</th>\n",
       "      <th>4</th>\n",
       "      <th>5</th>\n",
       "      <th>6</th>\n",
       "      <th>7</th>\n",
       "      <th>8</th>\n",
       "      <th>9</th>\n",
       "      <th>10</th>\n",
       "      <th>11</th>\n",
       "      <th>12</th>\n",
       "      <th>13</th>\n",
       "      <th>14</th>\n",
       "      <th>15</th>\n",
       "      <th>16</th>\n",
       "      <th>17</th>\n",
       "      <th>18</th>\n",
       "      <th>19</th>\n",
       "    </tr>\n",
       "  </thead>\n",
       "  <tbody>\n",
       "    <tr>\n",
       "      <th>0</th>\n",
       "      <td>medium</td>\n",
       "      <td>feel</td>\n",
       "      <td>bad</td>\n",
       "      <td>mean</td>\n",
       "      <td>look</td>\n",
       "      <td>try</td>\n",
       "      <td>way</td>\n",
       "      <td>make</td>\n",
       "      <td>give</td>\n",
       "      <td>new</td>\n",
       "      <td>republican</td>\n",
       "      <td>anything</td>\n",
       "      <td>year</td>\n",
       "      <td>jew</td>\n",
       "      <td>good</td>\n",
       "      <td>arab</td>\n",
       "      <td>country</td>\n",
       "      <td>many</td>\n",
       "      <td>fact</td>\n",
       "      <td>user</td>\n",
       "    </tr>\n",
       "    <tr>\n",
       "      <th>1</th>\n",
       "      <td>refugee</td>\n",
       "      <td>eat</td>\n",
       "      <td>happen</td>\n",
       "      <td>consider</td>\n",
       "      <td>call</td>\n",
       "      <td>young</td>\n",
       "      <td>best</td>\n",
       "      <td>since</td>\n",
       "      <td>got</td>\n",
       "      <td>relationship</td>\n",
       "      <td>party</td>\n",
       "      <td>west</td>\n",
       "      <td>china</td>\n",
       "      <td>live</td>\n",
       "      <td>man</td>\n",
       "      <td>islamic</td>\n",
       "      <td>european</td>\n",
       "      <td>find</td>\n",
       "      <td>lie</td>\n",
       "      <td>intelligence</td>\n",
       "    </tr>\n",
       "    <tr>\n",
       "      <th>2</th>\n",
       "      <td>lazy</td>\n",
       "      <td>seen</td>\n",
       "      <td>end</td>\n",
       "      <td>today</td>\n",
       "      <td>family</td>\n",
       "      <td>average</td>\n",
       "      <td>based</td>\n",
       "      <td>well</td>\n",
       "      <td>birth</td>\n",
       "      <td>able</td>\n",
       "      <td>called</td>\n",
       "      <td>said</td>\n",
       "      <td>old</td>\n",
       "      <td>part</td>\n",
       "      <td>friend</td>\n",
       "      <td>rule</td>\n",
       "      <td>western</td>\n",
       "      <td>people</td>\n",
       "      <td>penis</td>\n",
       "      <td>biased</td>\n",
       "    </tr>\n",
       "    <tr>\n",
       "      <th>3</th>\n",
       "      <td>prison</td>\n",
       "      <td>like</td>\n",
       "      <td>full</td>\n",
       "      <td>doe</td>\n",
       "      <td>around</td>\n",
       "      <td>raped</td>\n",
       "      <td>education</td>\n",
       "      <td>fat</td>\n",
       "      <td>deny</td>\n",
       "      <td>important</td>\n",
       "      <td>iq</td>\n",
       "      <td>intelligent</td>\n",
       "      <td>nation</td>\n",
       "      <td>palestinian</td>\n",
       "      <td>voted</td>\n",
       "      <td>sense</td>\n",
       "      <td>allow</td>\n",
       "      <td>american</td>\n",
       "      <td>wife</td>\n",
       "      <td>anymore</td>\n",
       "    </tr>\n",
       "    <tr>\n",
       "      <th>4</th>\n",
       "      <td>wanted</td>\n",
       "      <td>ashamed</td>\n",
       "      <td>looking</td>\n",
       "      <td>greek</td>\n",
       "      <td>like</td>\n",
       "      <td>leave</td>\n",
       "      <td>dress</td>\n",
       "      <td>people</td>\n",
       "      <td>voter</td>\n",
       "      <td>easily</td>\n",
       "      <td>high</td>\n",
       "      <td>already</td>\n",
       "      <td>history</td>\n",
       "      <td>israeli</td>\n",
       "      <td>expect</td>\n",
       "      <td>nuclear</td>\n",
       "      <td>american</td>\n",
       "      <td>considering</td>\n",
       "      <td>issue</td>\n",
       "      <td>gas</td>\n",
       "    </tr>\n",
       "    <tr>\n",
       "      <th>5</th>\n",
       "      <td>powerful</td>\n",
       "      <td>doe</td>\n",
       "      <td>would</td>\n",
       "      <td>action</td>\n",
       "      <td>term</td>\n",
       "      <td>abuse</td>\n",
       "      <td>forced</td>\n",
       "      <td>non</td>\n",
       "      <td>google</td>\n",
       "      <td>guilty</td>\n",
       "      <td>evidence</td>\n",
       "      <td>car</td>\n",
       "      <td>ok</td>\n",
       "      <td>german</td>\n",
       "      <td>admit</td>\n",
       "      <td>iranian</td>\n",
       "      <td>middle</td>\n",
       "      <td>weird</td>\n",
       "      <td>what's</td>\n",
       "      <td>farm</td>\n",
       "    </tr>\n",
       "    <tr>\n",
       "      <th>6</th>\n",
       "      <td>sent</td>\n",
       "      <td>hatred</td>\n",
       "      <td>politics</td>\n",
       "      <td>violent</td>\n",
       "      <td>national</td>\n",
       "      <td>past</td>\n",
       "      <td>demand</td>\n",
       "      <td>doe</td>\n",
       "      <td>zionist</td>\n",
       "      <td>university</td>\n",
       "      <td>standard</td>\n",
       "      <td>drink</td>\n",
       "      <td>age</td>\n",
       "      <td>cause</td>\n",
       "      <td>hit</td>\n",
       "      <td>dirty</td>\n",
       "      <td>like</td>\n",
       "      <td>self</td>\n",
       "      <td>post</td>\n",
       "      <td>compare</td>\n",
       "    </tr>\n",
       "    <tr>\n",
       "      <th>7</th>\n",
       "      <td>camp</td>\n",
       "      <td>boyfriend</td>\n",
       "      <td>bed</td>\n",
       "      <td>italian</td>\n",
       "      <td>meat</td>\n",
       "      <td>found</td>\n",
       "      <td>fighting</td>\n",
       "      <td>prevent</td>\n",
       "      <td>trade</td>\n",
       "      <td>trans</td>\n",
       "      <td>dark</td>\n",
       "      <td>cow</td>\n",
       "      <td>rest</td>\n",
       "      <td>israel</td>\n",
       "      <td>want</td>\n",
       "      <td>report</td>\n",
       "      <td>wish</td>\n",
       "      <td>offended</td>\n",
       "      <td>comment</td>\n",
       "      <td>illegals</td>\n",
       "    </tr>\n",
       "    <tr>\n",
       "      <th>8</th>\n",
       "      <td>trust</td>\n",
       "      <td>people</td>\n",
       "      <td>people</td>\n",
       "      <td>talking</td>\n",
       "      <td>doe</td>\n",
       "      <td>dead</td>\n",
       "      <td>8</td>\n",
       "      <td>global</td>\n",
       "      <td>related</td>\n",
       "      <td>aid</td>\n",
       "      <td>suffering</td>\n",
       "      <td>medicine</td>\n",
       "      <td>transgender</td>\n",
       "      <td>holocaust</td>\n",
       "      <td>writing</td>\n",
       "      <td>smarter</td>\n",
       "      <td>finally</td>\n",
       "      <td>constantly</td>\n",
       "      <td>game</td>\n",
       "      <td>giant</td>\n",
       "    </tr>\n",
       "    <tr>\n",
       "      <th>9</th>\n",
       "      <td>mainstream</td>\n",
       "      <td>he’s</td>\n",
       "      <td>royal</td>\n",
       "      <td>value</td>\n",
       "      <td>people</td>\n",
       "      <td>eye</td>\n",
       "      <td>main</td>\n",
       "      <td>moon</td>\n",
       "      <td>multiple</td>\n",
       "      <td>besides</td>\n",
       "      <td>following</td>\n",
       "      <td>exists</td>\n",
       "      <td>bring</td>\n",
       "      <td>buy</td>\n",
       "      <td>provide</td>\n",
       "      <td>regime</td>\n",
       "      <td>isn’t</td>\n",
       "      <td>collusion</td>\n",
       "      <td>book</td>\n",
       "      <td>oral</td>\n",
       "    </tr>\n",
       "  </tbody>\n",
       "</table>\n",
       "</div>"
      ],
      "text/plain": [
       "           0          1         2         3         4        5          6   \\\n",
       "0      medium       feel       bad      mean      look      try        way   \n",
       "1     refugee        eat    happen  consider      call    young       best   \n",
       "2        lazy       seen       end     today    family  average      based   \n",
       "3      prison       like      full       doe    around    raped  education   \n",
       "4      wanted    ashamed   looking     greek      like    leave      dress   \n",
       "5    powerful        doe     would    action      term    abuse     forced   \n",
       "6        sent     hatred  politics   violent  national     past     demand   \n",
       "7        camp  boyfriend       bed   italian      meat    found   fighting   \n",
       "8       trust     people    people   talking       doe     dead          8   \n",
       "9  mainstream       he’s     royal     value    people      eye       main   \n",
       "\n",
       "        7         8             9           10           11           12  \\\n",
       "0     make      give           new  republican     anything         year   \n",
       "1    since       got  relationship       party         west        china   \n",
       "2     well     birth          able      called         said          old   \n",
       "3      fat      deny     important          iq  intelligent       nation   \n",
       "4   people     voter        easily        high      already      history   \n",
       "5      non    google        guilty    evidence          car           ok   \n",
       "6      doe   zionist    university    standard        drink          age   \n",
       "7  prevent     trade         trans        dark          cow         rest   \n",
       "8   global   related           aid   suffering     medicine  transgender   \n",
       "9     moon  multiple       besides   following       exists        bring   \n",
       "\n",
       "            13       14       15        16           17       18            19  \n",
       "0          jew     good     arab   country         many     fact          user  \n",
       "1         live      man  islamic  european         find      lie  intelligence  \n",
       "2         part   friend     rule   western       people    penis        biased  \n",
       "3  palestinian    voted    sense     allow     american     wife       anymore  \n",
       "4      israeli   expect  nuclear  american  considering    issue           gas  \n",
       "5       german    admit  iranian    middle        weird   what's          farm  \n",
       "6        cause      hit    dirty      like         self     post       compare  \n",
       "7       israel     want   report      wish     offended  comment      illegals  \n",
       "8    holocaust  writing  smarter   finally   constantly     game         giant  \n",
       "9          buy  provide   regime     isn’t    collusion     book          oral  "
      ]
     },
     "execution_count": 324,
     "metadata": {},
     "output_type": "execute_result"
    }
   ],
   "source": [
    "lda2 = my_lda(texts, num_topics=100, passes=5)\n",
    "table2 = words(lda2)\n",
    "table2"
   ]
  },
  {
   "cell_type": "markdown",
   "metadata": {},
   "source": [
    "### C Tf"
   ]
  },
  {
   "cell_type": "code",
   "execution_count": 321,
   "metadata": {},
   "outputs": [],
   "source": [
    "lda3 = my_lda(texts, num_topics=50, passes=10, eta='auto', tf=True)\n",
    "table = words(lda3)"
   ]
  },
  {
   "cell_type": "code",
   "execution_count": 322,
   "metadata": {},
   "outputs": [
    {
     "data": {
      "text/html": [
       "<div>\n",
       "<style scoped>\n",
       "    .dataframe tbody tr th:only-of-type {\n",
       "        vertical-align: middle;\n",
       "    }\n",
       "\n",
       "    .dataframe tbody tr th {\n",
       "        vertical-align: top;\n",
       "    }\n",
       "\n",
       "    .dataframe thead th {\n",
       "        text-align: right;\n",
       "    }\n",
       "</style>\n",
       "<table border=\"1\" class=\"dataframe\">\n",
       "  <thead>\n",
       "    <tr style=\"text-align: right;\">\n",
       "      <th></th>\n",
       "      <th>0</th>\n",
       "      <th>1</th>\n",
       "      <th>2</th>\n",
       "      <th>3</th>\n",
       "      <th>4</th>\n",
       "      <th>5</th>\n",
       "      <th>6</th>\n",
       "      <th>7</th>\n",
       "      <th>8</th>\n",
       "      <th>9</th>\n",
       "      <th>10</th>\n",
       "      <th>11</th>\n",
       "      <th>12</th>\n",
       "      <th>13</th>\n",
       "      <th>14</th>\n",
       "      <th>15</th>\n",
       "      <th>16</th>\n",
       "      <th>17</th>\n",
       "      <th>18</th>\n",
       "      <th>19</th>\n",
       "    </tr>\n",
       "  </thead>\n",
       "  <tbody>\n",
       "    <tr>\n",
       "      <th>0</th>\n",
       "      <td>dog</td>\n",
       "      <td>penis</td>\n",
       "      <td>full</td>\n",
       "      <td>iq</td>\n",
       "      <td>obsessed</td>\n",
       "      <td>western</td>\n",
       "      <td>marry</td>\n",
       "      <td>parent</td>\n",
       "      <td>republican</td>\n",
       "      <td>baby</td>\n",
       "      <td>fuck</td>\n",
       "      <td>fake</td>\n",
       "      <td>society</td>\n",
       "      <td>suck</td>\n",
       "      <td>thought</td>\n",
       "      <td>ugly</td>\n",
       "      <td>beautiful</td>\n",
       "      <td>old</td>\n",
       "      <td>sex</td>\n",
       "      <td>asian</td>\n",
       "    </tr>\n",
       "    <tr>\n",
       "      <th>1</th>\n",
       "      <td>modi</td>\n",
       "      <td>small</td>\n",
       "      <td>idea</td>\n",
       "      <td>born</td>\n",
       "      <td>russian</td>\n",
       "      <td>culture</td>\n",
       "      <td>history</td>\n",
       "      <td>die</td>\n",
       "      <td>party</td>\n",
       "      <td>speak</td>\n",
       "      <td>superior</td>\n",
       "      <td>europe</td>\n",
       "      <td>getting</td>\n",
       "      <td>among</td>\n",
       "      <td>legal</td>\n",
       "      <td>money</td>\n",
       "      <td>allowed</td>\n",
       "      <td>date</td>\n",
       "      <td>sister</td>\n",
       "      <td>white</td>\n",
       "    </tr>\n",
       "    <tr>\n",
       "      <th>2</th>\n",
       "      <td>conservative</td>\n",
       "      <td>death</td>\n",
       "      <td>pussy</td>\n",
       "      <td>father</td>\n",
       "      <td>trump's</td>\n",
       "      <td>destroy</td>\n",
       "      <td>respect</td>\n",
       "      <td>exist</td>\n",
       "      <td>citizen</td>\n",
       "      <td>english</td>\n",
       "      <td>they're</td>\n",
       "      <td>news</td>\n",
       "      <td>filipino</td>\n",
       "      <td>move</td>\n",
       "      <td>porn</td>\n",
       "      <td>far</td>\n",
       "      <td>brother</td>\n",
       "      <td>leftist</td>\n",
       "      <td>mother</td>\n",
       "      <td>racist</td>\n",
       "    </tr>\n",
       "    <tr>\n",
       "      <th>3</th>\n",
       "      <td>especially</td>\n",
       "      <td>army</td>\n",
       "      <td>japan</td>\n",
       "      <td>low</td>\n",
       "      <td>answer</td>\n",
       "      <td>great</td>\n",
       "      <td>what's</td>\n",
       "      <td>australian</td>\n",
       "      <td>cousin</td>\n",
       "      <td>hindi</td>\n",
       "      <td>fucking</td>\n",
       "      <td>language</td>\n",
       "      <td>slavery</td>\n",
       "      <td>turk</td>\n",
       "      <td>put</td>\n",
       "      <td>pregnant</td>\n",
       "      <td>vote</td>\n",
       "      <td>consider</td>\n",
       "      <td>mom</td>\n",
       "      <td>african</td>\n",
       "    </tr>\n",
       "    <tr>\n",
       "      <th>4</th>\n",
       "      <td>muslim</td>\n",
       "      <td>2</td>\n",
       "      <td>military</td>\n",
       "      <td>long</td>\n",
       "      <td>jesus</td>\n",
       "      <td>bjp</td>\n",
       "      <td>though</td>\n",
       "      <td>paid</td>\n",
       "      <td>democrat</td>\n",
       "      <td>election</td>\n",
       "      <td>doctor</td>\n",
       "      <td>young</td>\n",
       "      <td>past</td>\n",
       "      <td>corrupt</td>\n",
       "      <td>feminism</td>\n",
       "      <td>picture</td>\n",
       "      <td>age</td>\n",
       "      <td>year</td>\n",
       "      <td>daughter</td>\n",
       "      <td>black</td>\n",
       "    </tr>\n",
       "    <tr>\n",
       "      <th>5</th>\n",
       "      <td>happen</td>\n",
       "      <td>found</td>\n",
       "      <td>next</td>\n",
       "      <td>average</td>\n",
       "      <td>russia</td>\n",
       "      <td>land</td>\n",
       "      <td>lie</td>\n",
       "      <td>color</td>\n",
       "      <td>run</td>\n",
       "      <td>problem</td>\n",
       "      <td>teacher</td>\n",
       "      <td>africa</td>\n",
       "      <td>false</td>\n",
       "      <td>send</td>\n",
       "      <td>faith</td>\n",
       "      <td>mostly</td>\n",
       "      <td>created</td>\n",
       "      <td>u.s</td>\n",
       "      <td>son</td>\n",
       "      <td>people</td>\n",
       "    </tr>\n",
       "    <tr>\n",
       "      <th>6</th>\n",
       "      <td>join</td>\n",
       "      <td>game</td>\n",
       "      <td>freedom</td>\n",
       "      <td>fight</td>\n",
       "      <td>west</td>\n",
       "      <td>act</td>\n",
       "      <td>bring</td>\n",
       "      <td>bigger</td>\n",
       "      <td>democratic</td>\n",
       "      <td>rather</td>\n",
       "      <td>calling</td>\n",
       "      <td>dress</td>\n",
       "      <td>choose</td>\n",
       "      <td>bed</td>\n",
       "      <td>street</td>\n",
       "      <td>home</td>\n",
       "      <td>issue</td>\n",
       "      <td>prove</td>\n",
       "      <td>raped</td>\n",
       "      <td>look</td>\n",
       "    </tr>\n",
       "    <tr>\n",
       "      <th>7</th>\n",
       "      <td>living</td>\n",
       "      <td>hit</td>\n",
       "      <td>class</td>\n",
       "      <td>around</td>\n",
       "      <td>quora</td>\n",
       "      <td>weird</td>\n",
       "      <td>human</td>\n",
       "      <td>difference</td>\n",
       "      <td>new</td>\n",
       "      <td>ban</td>\n",
       "      <td>easily</td>\n",
       "      <td>rude</td>\n",
       "      <td>educated</td>\n",
       "      <td>follower</td>\n",
       "      <td>talking</td>\n",
       "      <td>wall</td>\n",
       "      <td>convince</td>\n",
       "      <td>school</td>\n",
       "      <td>tell</td>\n",
       "      <td>woman</td>\n",
       "    </tr>\n",
       "    <tr>\n",
       "      <th>8</th>\n",
       "      <td>convert</td>\n",
       "      <td>caused</td>\n",
       "      <td>lost</td>\n",
       "      <td>learn</td>\n",
       "      <td>name</td>\n",
       "      <td>treat</td>\n",
       "      <td>virgin</td>\n",
       "      <td>autistic</td>\n",
       "      <td>left</td>\n",
       "      <td>important</td>\n",
       "      <td>threat</td>\n",
       "      <td>everyone</td>\n",
       "      <td>away</td>\n",
       "      <td>story</td>\n",
       "      <td>hold</td>\n",
       "      <td>3</td>\n",
       "      <td>smart</td>\n",
       "      <td>looking</td>\n",
       "      <td>truth</td>\n",
       "      <td>american</td>\n",
       "    </tr>\n",
       "    <tr>\n",
       "      <th>9</th>\n",
       "      <td>church</td>\n",
       "      <td>kerala</td>\n",
       "      <td>soldier</td>\n",
       "      <td>incest</td>\n",
       "      <td>last</td>\n",
       "      <td>argument</td>\n",
       "      <td>lose</td>\n",
       "      <td>fun</td>\n",
       "      <td>christianity</td>\n",
       "      <td>rest</td>\n",
       "      <td>murder</td>\n",
       "      <td>nation</td>\n",
       "      <td>protest</td>\n",
       "      <td>two</td>\n",
       "      <td>watch</td>\n",
       "      <td>officer</td>\n",
       "      <td>top</td>\n",
       "      <td>prostitute</td>\n",
       "      <td>want</td>\n",
       "      <td>race</td>\n",
       "    </tr>\n",
       "  </tbody>\n",
       "</table>\n",
       "</div>"
      ],
      "text/plain": [
       "             0       1         2        3         4         5        6   \\\n",
       "0           dog   penis      full       iq  obsessed   western    marry   \n",
       "1          modi   small      idea     born   russian   culture  history   \n",
       "2  conservative   death     pussy   father   trump's   destroy  respect   \n",
       "3    especially    army     japan      low    answer     great   what's   \n",
       "4        muslim       2  military     long     jesus       bjp   though   \n",
       "5        happen   found      next  average    russia      land      lie   \n",
       "6          join    game   freedom    fight      west       act    bring   \n",
       "7        living     hit     class   around     quora     weird    human   \n",
       "8       convert  caused      lost    learn      name     treat   virgin   \n",
       "9        church  kerala   soldier   incest      last  argument     lose   \n",
       "\n",
       "           7             8          9         10        11        12  \\\n",
       "0      parent    republican       baby      fuck      fake   society   \n",
       "1         die         party      speak  superior    europe   getting   \n",
       "2       exist       citizen    english   they're      news  filipino   \n",
       "3  australian        cousin      hindi   fucking  language   slavery   \n",
       "4        paid      democrat   election    doctor     young      past   \n",
       "5       color           run    problem   teacher    africa     false   \n",
       "6      bigger    democratic     rather   calling     dress    choose   \n",
       "7  difference           new        ban    easily      rude  educated   \n",
       "8    autistic          left  important    threat  everyone      away   \n",
       "9         fun  christianity       rest    murder    nation   protest   \n",
       "\n",
       "         13        14        15         16          17        18        19  \n",
       "0      suck   thought      ugly  beautiful         old       sex     asian  \n",
       "1     among     legal     money    allowed        date    sister     white  \n",
       "2      move      porn       far    brother     leftist    mother    racist  \n",
       "3      turk       put  pregnant       vote    consider       mom   african  \n",
       "4   corrupt  feminism   picture        age        year  daughter     black  \n",
       "5      send     faith    mostly    created         u.s       son    people  \n",
       "6       bed    street      home      issue       prove     raped      look  \n",
       "7  follower   talking      wall   convince      school      tell     woman  \n",
       "8     story      hold         3      smart     looking     truth  american  \n",
       "9       two     watch   officer        top  prostitute      want      race  "
      ]
     },
     "execution_count": 322,
     "metadata": {},
     "output_type": "execute_result"
    }
   ],
   "source": [
    "table "
   ]
  },
  {
   "cell_type": "code",
   "execution_count": null,
   "metadata": {},
   "outputs": [],
   "source": []
  }
 ],
 "metadata": {
  "kernelspec": {
   "display_name": "Python 3",
   "language": "python",
   "name": "python3"
  },
  "language_info": {
   "codemirror_mode": {
    "name": "ipython",
    "version": 3
   },
   "file_extension": ".py",
   "mimetype": "text/x-python",
   "name": "python",
   "nbconvert_exporter": "python",
   "pygments_lexer": "ipython3",
   "version": "3.6.5"
  }
 },
 "nbformat": 4,
 "nbformat_minor": 2
}
